{
  "cells": [
    {
      "cell_type": "markdown",
      "metadata": {
        "id": "view-in-github",
        "colab_type": "text"
      },
      "source": [
        "<a href=\"https://colab.research.google.com/github/AlexKressner/KI_Logistik_Python/blob/main/G2_Machine_Learning.ipynb\" target=\"_parent\"><img src=\"https://colab.research.google.com/assets/colab-badge.svg\" alt=\"Open In Colab\"/></a>"
      ]
    },
    {
      "cell_type": "markdown",
      "id": "64b0765e-bc90-46b8-8c66-0123b137bf19",
      "metadata": {
        "jp-MarkdownHeadingCollapsed": true,
        "tags": [],
        "id": "64b0765e-bc90-46b8-8c66-0123b137bf19"
      },
      "source": [
        "# Übersicht\n",
        "1. [Problem/ Business Understanding](#problem)\n",
        "1. [Data Understanding & Data Exploration](#data)\n",
        "  1. [Erster Überblick](#overview)\n",
        "  1. [Target](#target)\n",
        "  1. [Features](#feature)\n",
        "1. [Machine Learning für Regressionsprobleme](#regression)\n",
        "1. [Machine Learning für Klassifikationsprobleme](#klassifikation)"
      ]
    },
    {
      "cell_type": "markdown",
      "id": "4568c8d2-8df2-406b-9dd1-a3420d979671",
      "metadata": {
        "id": "4568c8d2-8df2-406b-9dd1-a3420d979671"
      },
      "source": [
        "# Übungsaufgaben\n",
        "- [Data Exploration - Track & Trace](#tt_eda)\n",
        "- [Machine Learning - Track & Trace](#tt_ml)\n",
        "- [Abschlussübung ML](#final)"
      ]
    },
    {
      "cell_type": "markdown",
      "source": [
        "## 1 Problem/ Business Understanding <a class=\"anchor\" id=\"problem\"></a>\n",
        "Sie kennen bereits die Daten zu den Fussballweltmeisterschaften von 1930 bis 2014. In diesen ist jedes einzelne Weltmeisterschaftsspiel dokumentiert - von der Zuschauerzahl bis zum Endergebnis. \n",
        "\n",
        "Wir werden nun versuchen, die Anzahl der in einem Spiel geschossenen Tore nach Abschluss der ersten Halbzeit vorherzusagen. Durch die Nutzung von maschinellen Lernverfahren versuchen wir aus den zur Halbzeit vorliegenden Daten Muster zu erkennen, die eine zuverlässige Vorhersage der geschossenen Tore erlaubt. \n",
        "\n",
        "Zunächst überlegen wir uns, welche Daten (Features) einen Einfluss auf die Anzahl der geschossenen Tore haben. Mit Sicherheit ist in diesem Zusammenhang die Anzahl der zur Halbzeit geschossenen Tore eine wichtige Information. Zusätzlich kann man sich aber auch die folgenden Fragen stellen:\n",
        "- Hat die Spielpaarung einen Einfluss auf die Anzahl der Tore?\n",
        "- Hat die Anzahl der Zuschauer einen Einfluss auf die Anzahl der geschossenen Tore?\n",
        "- Fallen mehr Tore in einem Vorrundenspiel im Vergleich zu einem Halbfinale?\n",
        "- ...\n",
        "\n",
        "Sicherlich finden wir auf jede einzelne Frage auch ohne maschinelle Lernverfahren durch eine tiefergehende Datenanalse erste Antworten. Die Bewertung der Einflüsse in ihrer Kombination ist aber schon äußerst schwierig.\n",
        "\n",
        "Maschinelle Lernverfahren helfen hier enorm. Wir müssen lediglich die Daten in geeigneter Weise aufbereiten, einen passenden Algorithmus auf diese anwenden und erhalten anschließend Prognosen zur interessierten Zielgröße oder Aussagen über die Bedeutung einzelner Features."
      ],
      "metadata": {
        "id": "MoVOHMi014E3"
      },
      "id": "MoVOHMi014E3"
    },
    {
      "cell_type": "markdown",
      "source": [
        "**Frage:** Welchem Teilgebiet des maschinellen Lernens ist die oben beschriebene Problemstellung zuzuordnen? Supervised oder Unsupervised Learning?"
      ],
      "metadata": {
        "id": "bKCLGPXZXjl2"
      },
      "id": "bKCLGPXZXjl2"
    },
    {
      "cell_type": "code",
      "source": [
        ""
      ],
      "metadata": {
        "id": "mYYdkl0dZSD5"
      },
      "id": "mYYdkl0dZSD5",
      "execution_count": 192,
      "outputs": []
    },
    {
      "cell_type": "markdown",
      "source": [
        "**Frage:** Handelt es sich um ein Regressions- oder Klassifikationsproblem?"
      ],
      "metadata": {
        "id": "jfqfGQAZZTbG"
      },
      "id": "jfqfGQAZZTbG"
    },
    {
      "cell_type": "code",
      "source": [
        ""
      ],
      "metadata": {
        "id": "L3PLvd_iZdQq"
      },
      "id": "L3PLvd_iZdQq",
      "execution_count": 192,
      "outputs": []
    },
    {
      "cell_type": "markdown",
      "source": [
        "## 2 Data Understanding & Exploration <a class=\"anchor\" id=\"data\"></a>\n",
        "In einem ersten Schritt ist es wichtig, dass Sie sich einen Überblick zu den vorhandenen Daten verschaffen, d.h.:\n",
        "- Wie groß ist der Datensatz (Zeilen/Spalten)\n",
        "- Was bedeuten die einzelnen Werte in den Spalten (Features)?\n",
        "- Wie sind die Werte der einzelnen Features verteilt?\n",
        "- Gibt es fehlende Werte, die Sie bereinigen müssen?\n",
        "- Wie sin die Zusammenhänge zwischen den Features?\n",
        "- ...\n",
        "\n",
        "Besonders hilfreich sind an dieser Stelle Visualisierung, die Ihnen einen Überblick zu den Daten geben und bereits etwaige Zusammenhänge zwischen Features und/oder Target aufzeigen!"
      ],
      "metadata": {
        "id": "mstNne1_1OrN"
      },
      "id": "mstNne1_1OrN"
    },
    {
      "cell_type": "code",
      "source": [
        "import pandas as pd # zur Datenanalyse\n",
        "import matplotlib.pyplot as plt # zur Datenvisualisierug\n",
        "import numpy as np"
      ],
      "metadata": {
        "id": "sUGf06iS1arF"
      },
      "id": "sUGf06iS1arF",
      "execution_count": 193,
      "outputs": []
    },
    {
      "cell_type": "code",
      "source": [
        "# Google-Drive einbinden\n",
        "from google.colab import drive\n",
        "drive.mount('/content/drive')"
      ],
      "metadata": {
        "id": "I-5QslQG1kr3",
        "colab": {
          "base_uri": "https://localhost:8080/"
        },
        "outputId": "8ea28338-9890-4e84-b8b3-f46f6c121384"
      },
      "id": "I-5QslQG1kr3",
      "execution_count": 194,
      "outputs": [
        {
          "output_type": "stream",
          "name": "stdout",
          "text": [
            "Drive already mounted at /content/drive; to attempt to forcibly remount, call drive.mount(\"/content/drive\", force_remount=True).\n"
          ]
        }
      ]
    },
    {
      "cell_type": "code",
      "source": [
        "# Daten laden\n",
        "data = pd.read_csv(\"/content/drive/MyDrive/WorldCupMatches.txt\")\n",
        "\n",
        "# Die folgende Datenaufbereitung ist für Sie nicht relevant!\n",
        "data = data.astype({\"Datetime\": \"M\", \"RoundID\": \"O\", \"MatchID\": \"O\"}, errors='raise') \n",
        "data.dropna(inplace=True)\n",
        "data.replace(' ', np.nan, inplace=True)\n",
        "data[\"Hour\"] = data[\"Datetime\"].dt.hour\n",
        "data[\"Weekday\"] = data[\"Datetime\"].dt.day_name()\n",
        "data.Stage.replace(r'Group(.*)', 'Group', regex=True, inplace=True)\n",
        "data.Stage.replace('First round', 'Group', inplace=True)\n",
        "data.Stage.replace('Preliminary round', 'Group', inplace=True)\n",
        "data.Stage.replace(r'.+third.+', 'Third place', regex=True, inplace=True)\n",
        "data.head()"
      ],
      "metadata": {
        "id": "9GLKqz311sMC",
        "colab": {
          "base_uri": "https://localhost:8080/",
          "height": 518
        },
        "outputId": "cc629e27-12f2-4e04-aca3-e662f11048da"
      },
      "id": "9GLKqz311sMC",
      "execution_count": 195,
      "outputs": [
        {
          "output_type": "execute_result",
          "data": {
            "text/plain": [
              "     Year            Datetime  Stage         Stadium         City  \\\n",
              "0  1930.0 1930-07-13 15:00:00  Group         Pocitos  Montevideo    \n",
              "1  1930.0 1930-07-13 15:00:00  Group  Parque Central  Montevideo    \n",
              "2  1930.0 1930-07-14 12:45:00  Group  Parque Central  Montevideo    \n",
              "3  1930.0 1930-07-14 14:50:00  Group         Pocitos  Montevideo    \n",
              "4  1930.0 1930-07-15 16:00:00  Group  Parque Central  Montevideo    \n",
              "\n",
              "  Home Team Name  Home Team Goals  Away Team Goals Away Team Name  \\\n",
              "0         France              4.0              1.0         Mexico   \n",
              "1            USA              3.0              0.0        Belgium   \n",
              "2     Yugoslavia              2.0              1.0         Brazil   \n",
              "3        Romania              3.0              1.0           Peru   \n",
              "4      Argentina              1.0              0.0         France   \n",
              "\n",
              "  Win conditions  ...  Half-time Away Goals                 Referee  \\\n",
              "0            NaN  ...                   0.0  LOMBARDI Domingo (URU)   \n",
              "1            NaN  ...                   0.0       MACIAS Jose (ARG)   \n",
              "2            NaN  ...                   0.0     TEJADA Anibal (URU)   \n",
              "3            NaN  ...                   0.0   WARNKEN Alberto (CHI)   \n",
              "4            NaN  ...                   0.0     REGO Gilberto (BRA)   \n",
              "\n",
              "                Assistant 1                 Assistant 2 RoundID MatchID  \\\n",
              "0     CRISTOPHE Henry (BEL)         REGO Gilberto (BRA)   201.0  1096.0   \n",
              "1  MATEUCCI Francisco (URU)       WARNKEN Alberto (CHI)   201.0  1090.0   \n",
              "2   VALLARINO Ricardo (URU)         BALWAY Thomas (FRA)   201.0  1093.0   \n",
              "3       LANGENUS Jean (BEL)    MATEUCCI Francisco (URU)   201.0  1098.0   \n",
              "4      SAUCEDO Ulises (BOL)  RADULESCU Constantin (ROU)   201.0  1085.0   \n",
              "\n",
              "   Home Team Initials  Away Team Initials Hour  Weekday  \n",
              "0                 FRA                 MEX   15   Sunday  \n",
              "1                 USA                 BEL   15   Sunday  \n",
              "2                 YUG                 BRA   12   Monday  \n",
              "3                 ROU                 PER   14   Monday  \n",
              "4                 ARG                 FRA   16  Tuesday  \n",
              "\n",
              "[5 rows x 22 columns]"
            ],
            "text/html": [
              "\n",
              "  <div id=\"df-c2b4bb34-b3c6-4f9b-8f55-46dbd375cd01\">\n",
              "    <div class=\"colab-df-container\">\n",
              "      <div>\n",
              "<style scoped>\n",
              "    .dataframe tbody tr th:only-of-type {\n",
              "        vertical-align: middle;\n",
              "    }\n",
              "\n",
              "    .dataframe tbody tr th {\n",
              "        vertical-align: top;\n",
              "    }\n",
              "\n",
              "    .dataframe thead th {\n",
              "        text-align: right;\n",
              "    }\n",
              "</style>\n",
              "<table border=\"1\" class=\"dataframe\">\n",
              "  <thead>\n",
              "    <tr style=\"text-align: right;\">\n",
              "      <th></th>\n",
              "      <th>Year</th>\n",
              "      <th>Datetime</th>\n",
              "      <th>Stage</th>\n",
              "      <th>Stadium</th>\n",
              "      <th>City</th>\n",
              "      <th>Home Team Name</th>\n",
              "      <th>Home Team Goals</th>\n",
              "      <th>Away Team Goals</th>\n",
              "      <th>Away Team Name</th>\n",
              "      <th>Win conditions</th>\n",
              "      <th>...</th>\n",
              "      <th>Half-time Away Goals</th>\n",
              "      <th>Referee</th>\n",
              "      <th>Assistant 1</th>\n",
              "      <th>Assistant 2</th>\n",
              "      <th>RoundID</th>\n",
              "      <th>MatchID</th>\n",
              "      <th>Home Team Initials</th>\n",
              "      <th>Away Team Initials</th>\n",
              "      <th>Hour</th>\n",
              "      <th>Weekday</th>\n",
              "    </tr>\n",
              "  </thead>\n",
              "  <tbody>\n",
              "    <tr>\n",
              "      <th>0</th>\n",
              "      <td>1930.0</td>\n",
              "      <td>1930-07-13 15:00:00</td>\n",
              "      <td>Group</td>\n",
              "      <td>Pocitos</td>\n",
              "      <td>Montevideo</td>\n",
              "      <td>France</td>\n",
              "      <td>4.0</td>\n",
              "      <td>1.0</td>\n",
              "      <td>Mexico</td>\n",
              "      <td>NaN</td>\n",
              "      <td>...</td>\n",
              "      <td>0.0</td>\n",
              "      <td>LOMBARDI Domingo (URU)</td>\n",
              "      <td>CRISTOPHE Henry (BEL)</td>\n",
              "      <td>REGO Gilberto (BRA)</td>\n",
              "      <td>201.0</td>\n",
              "      <td>1096.0</td>\n",
              "      <td>FRA</td>\n",
              "      <td>MEX</td>\n",
              "      <td>15</td>\n",
              "      <td>Sunday</td>\n",
              "    </tr>\n",
              "    <tr>\n",
              "      <th>1</th>\n",
              "      <td>1930.0</td>\n",
              "      <td>1930-07-13 15:00:00</td>\n",
              "      <td>Group</td>\n",
              "      <td>Parque Central</td>\n",
              "      <td>Montevideo</td>\n",
              "      <td>USA</td>\n",
              "      <td>3.0</td>\n",
              "      <td>0.0</td>\n",
              "      <td>Belgium</td>\n",
              "      <td>NaN</td>\n",
              "      <td>...</td>\n",
              "      <td>0.0</td>\n",
              "      <td>MACIAS Jose (ARG)</td>\n",
              "      <td>MATEUCCI Francisco (URU)</td>\n",
              "      <td>WARNKEN Alberto (CHI)</td>\n",
              "      <td>201.0</td>\n",
              "      <td>1090.0</td>\n",
              "      <td>USA</td>\n",
              "      <td>BEL</td>\n",
              "      <td>15</td>\n",
              "      <td>Sunday</td>\n",
              "    </tr>\n",
              "    <tr>\n",
              "      <th>2</th>\n",
              "      <td>1930.0</td>\n",
              "      <td>1930-07-14 12:45:00</td>\n",
              "      <td>Group</td>\n",
              "      <td>Parque Central</td>\n",
              "      <td>Montevideo</td>\n",
              "      <td>Yugoslavia</td>\n",
              "      <td>2.0</td>\n",
              "      <td>1.0</td>\n",
              "      <td>Brazil</td>\n",
              "      <td>NaN</td>\n",
              "      <td>...</td>\n",
              "      <td>0.0</td>\n",
              "      <td>TEJADA Anibal (URU)</td>\n",
              "      <td>VALLARINO Ricardo (URU)</td>\n",
              "      <td>BALWAY Thomas (FRA)</td>\n",
              "      <td>201.0</td>\n",
              "      <td>1093.0</td>\n",
              "      <td>YUG</td>\n",
              "      <td>BRA</td>\n",
              "      <td>12</td>\n",
              "      <td>Monday</td>\n",
              "    </tr>\n",
              "    <tr>\n",
              "      <th>3</th>\n",
              "      <td>1930.0</td>\n",
              "      <td>1930-07-14 14:50:00</td>\n",
              "      <td>Group</td>\n",
              "      <td>Pocitos</td>\n",
              "      <td>Montevideo</td>\n",
              "      <td>Romania</td>\n",
              "      <td>3.0</td>\n",
              "      <td>1.0</td>\n",
              "      <td>Peru</td>\n",
              "      <td>NaN</td>\n",
              "      <td>...</td>\n",
              "      <td>0.0</td>\n",
              "      <td>WARNKEN Alberto (CHI)</td>\n",
              "      <td>LANGENUS Jean (BEL)</td>\n",
              "      <td>MATEUCCI Francisco (URU)</td>\n",
              "      <td>201.0</td>\n",
              "      <td>1098.0</td>\n",
              "      <td>ROU</td>\n",
              "      <td>PER</td>\n",
              "      <td>14</td>\n",
              "      <td>Monday</td>\n",
              "    </tr>\n",
              "    <tr>\n",
              "      <th>4</th>\n",
              "      <td>1930.0</td>\n",
              "      <td>1930-07-15 16:00:00</td>\n",
              "      <td>Group</td>\n",
              "      <td>Parque Central</td>\n",
              "      <td>Montevideo</td>\n",
              "      <td>Argentina</td>\n",
              "      <td>1.0</td>\n",
              "      <td>0.0</td>\n",
              "      <td>France</td>\n",
              "      <td>NaN</td>\n",
              "      <td>...</td>\n",
              "      <td>0.0</td>\n",
              "      <td>REGO Gilberto (BRA)</td>\n",
              "      <td>SAUCEDO Ulises (BOL)</td>\n",
              "      <td>RADULESCU Constantin (ROU)</td>\n",
              "      <td>201.0</td>\n",
              "      <td>1085.0</td>\n",
              "      <td>ARG</td>\n",
              "      <td>FRA</td>\n",
              "      <td>16</td>\n",
              "      <td>Tuesday</td>\n",
              "    </tr>\n",
              "  </tbody>\n",
              "</table>\n",
              "<p>5 rows × 22 columns</p>\n",
              "</div>\n",
              "      <button class=\"colab-df-convert\" onclick=\"convertToInteractive('df-c2b4bb34-b3c6-4f9b-8f55-46dbd375cd01')\"\n",
              "              title=\"Convert this dataframe to an interactive table.\"\n",
              "              style=\"display:none;\">\n",
              "        \n",
              "  <svg xmlns=\"http://www.w3.org/2000/svg\" height=\"24px\"viewBox=\"0 0 24 24\"\n",
              "       width=\"24px\">\n",
              "    <path d=\"M0 0h24v24H0V0z\" fill=\"none\"/>\n",
              "    <path d=\"M18.56 5.44l.94 2.06.94-2.06 2.06-.94-2.06-.94-.94-2.06-.94 2.06-2.06.94zm-11 1L8.5 8.5l.94-2.06 2.06-.94-2.06-.94L8.5 2.5l-.94 2.06-2.06.94zm10 10l.94 2.06.94-2.06 2.06-.94-2.06-.94-.94-2.06-.94 2.06-2.06.94z\"/><path d=\"M17.41 7.96l-1.37-1.37c-.4-.4-.92-.59-1.43-.59-.52 0-1.04.2-1.43.59L10.3 9.45l-7.72 7.72c-.78.78-.78 2.05 0 2.83L4 21.41c.39.39.9.59 1.41.59.51 0 1.02-.2 1.41-.59l7.78-7.78 2.81-2.81c.8-.78.8-2.07 0-2.86zM5.41 20L4 18.59l7.72-7.72 1.47 1.35L5.41 20z\"/>\n",
              "  </svg>\n",
              "      </button>\n",
              "      \n",
              "  <style>\n",
              "    .colab-df-container {\n",
              "      display:flex;\n",
              "      flex-wrap:wrap;\n",
              "      gap: 12px;\n",
              "    }\n",
              "\n",
              "    .colab-df-convert {\n",
              "      background-color: #E8F0FE;\n",
              "      border: none;\n",
              "      border-radius: 50%;\n",
              "      cursor: pointer;\n",
              "      display: none;\n",
              "      fill: #1967D2;\n",
              "      height: 32px;\n",
              "      padding: 0 0 0 0;\n",
              "      width: 32px;\n",
              "    }\n",
              "\n",
              "    .colab-df-convert:hover {\n",
              "      background-color: #E2EBFA;\n",
              "      box-shadow: 0px 1px 2px rgba(60, 64, 67, 0.3), 0px 1px 3px 1px rgba(60, 64, 67, 0.15);\n",
              "      fill: #174EA6;\n",
              "    }\n",
              "\n",
              "    [theme=dark] .colab-df-convert {\n",
              "      background-color: #3B4455;\n",
              "      fill: #D2E3FC;\n",
              "    }\n",
              "\n",
              "    [theme=dark] .colab-df-convert:hover {\n",
              "      background-color: #434B5C;\n",
              "      box-shadow: 0px 1px 3px 1px rgba(0, 0, 0, 0.15);\n",
              "      filter: drop-shadow(0px 1px 2px rgba(0, 0, 0, 0.3));\n",
              "      fill: #FFFFFF;\n",
              "    }\n",
              "  </style>\n",
              "\n",
              "      <script>\n",
              "        const buttonEl =\n",
              "          document.querySelector('#df-c2b4bb34-b3c6-4f9b-8f55-46dbd375cd01 button.colab-df-convert');\n",
              "        buttonEl.style.display =\n",
              "          google.colab.kernel.accessAllowed ? 'block' : 'none';\n",
              "\n",
              "        async function convertToInteractive(key) {\n",
              "          const element = document.querySelector('#df-c2b4bb34-b3c6-4f9b-8f55-46dbd375cd01');\n",
              "          const dataTable =\n",
              "            await google.colab.kernel.invokeFunction('convertToInteractive',\n",
              "                                                     [key], {});\n",
              "          if (!dataTable) return;\n",
              "\n",
              "          const docLinkHtml = 'Like what you see? Visit the ' +\n",
              "            '<a target=\"_blank\" href=https://colab.research.google.com/notebooks/data_table.ipynb>data table notebook</a>'\n",
              "            + ' to learn more about interactive tables.';\n",
              "          element.innerHTML = '';\n",
              "          dataTable['output_type'] = 'display_data';\n",
              "          await google.colab.output.renderOutput(dataTable, element);\n",
              "          const docLink = document.createElement('div');\n",
              "          docLink.innerHTML = docLinkHtml;\n",
              "          element.appendChild(docLink);\n",
              "        }\n",
              "      </script>\n",
              "    </div>\n",
              "  </div>\n",
              "  "
            ]
          },
          "metadata": {},
          "execution_count": 195
        }
      ]
    },
    {
      "cell_type": "markdown",
      "source": [
        "### 2.1 Erster Überblick zum Datensatz <a class=\"anchor\" id=\"overview\"></a>"
      ],
      "metadata": {
        "id": "KkHlMAifQF9l"
      },
      "id": "KkHlMAifQF9l"
    },
    {
      "cell_type": "code",
      "source": [
        "# Größe des Datensatzes\n",
        "data.shape"
      ],
      "metadata": {
        "id": "qofiApAiQEuA",
        "colab": {
          "base_uri": "https://localhost:8080/"
        },
        "outputId": "1d7ceef0-b6ba-4a1f-b5c1-9d49fed0159b"
      },
      "id": "qofiApAiQEuA",
      "execution_count": 196,
      "outputs": [
        {
          "output_type": "execute_result",
          "data": {
            "text/plain": [
              "(850, 22)"
            ]
          },
          "metadata": {},
          "execution_count": 196
        }
      ]
    },
    {
      "cell_type": "code",
      "source": [
        "# Fehlende Werte\n",
        "data.isna().any()"
      ],
      "metadata": {
        "id": "aaMFljHmQSY7",
        "colab": {
          "base_uri": "https://localhost:8080/"
        },
        "outputId": "f9f2b673-8529-4d75-cae0-972d8b095350"
      },
      "id": "aaMFljHmQSY7",
      "execution_count": 197,
      "outputs": [
        {
          "output_type": "execute_result",
          "data": {
            "text/plain": [
              "Year                    False\n",
              "Datetime                False\n",
              "Stage                   False\n",
              "Stadium                 False\n",
              "City                    False\n",
              "Home Team Name          False\n",
              "Home Team Goals         False\n",
              "Away Team Goals         False\n",
              "Away Team Name          False\n",
              "Win conditions           True\n",
              "Attendance              False\n",
              "Half-time Home Goals    False\n",
              "Half-time Away Goals    False\n",
              "Referee                 False\n",
              "Assistant 1             False\n",
              "Assistant 2             False\n",
              "RoundID                 False\n",
              "MatchID                 False\n",
              "Home Team Initials      False\n",
              "Away Team Initials      False\n",
              "Hour                    False\n",
              "Weekday                 False\n",
              "dtype: bool"
            ]
          },
          "metadata": {},
          "execution_count": 197
        }
      ]
    },
    {
      "cell_type": "markdown",
      "source": [
        "### 2.2 Target <a class=\"anchor\" id=\"target\"></a>\n",
        "Bei dem Target handelt es sich um die Zielgröße, welche wir prognostizieren wollen. In diesem Fall die Anzahl der geschossenen Tore in der regulären Spielzeit plus etwaiger Verlängerung!"
      ],
      "metadata": {
        "id": "gHe7yez1cvd0"
      },
      "id": "gHe7yez1cvd0"
    },
    {
      "cell_type": "code",
      "source": [
        "# Berechnung neue Spalte\n",
        "data[\"Total Goals\"] = data[\"Home Team Goals\"] + data[\"Away Team Goals\"]"
      ],
      "metadata": {
        "id": "dsgH-wDDcy3P"
      },
      "id": "dsgH-wDDcy3P",
      "execution_count": 198,
      "outputs": []
    },
    {
      "cell_type": "code",
      "source": [
        "data[\"Total Goals\"].plot(\n",
        "    kind=\"hist\", \n",
        "    title= \"Histogramm Total Goals\",\n",
        "    figsize=(8,4),\n",
        "    color=\"c\",\n",
        "    edgecolor='k',\n",
        "    density=True,\n",
        "    alpha=0.8\n",
        "    )\n",
        "plt.plot()"
      ],
      "metadata": {
        "id": "dDX0eDzSEJE1",
        "colab": {
          "base_uri": "https://localhost:8080/",
          "height": 298
        },
        "outputId": "c88186b2-12f9-46b0-9941-1417be8a572d"
      },
      "id": "dDX0eDzSEJE1",
      "execution_count": 199,
      "outputs": [
        {
          "output_type": "execute_result",
          "data": {
            "text/plain": [
              "[]"
            ]
          },
          "metadata": {},
          "execution_count": 199
        },
        {
          "output_type": "display_data",
          "data": {
            "text/plain": [
              "<Figure size 576x288 with 1 Axes>"
            ],
            "image/png": "[encoded data removed]"
          },
          "metadata": {
            "needs_background": "light"
          }
        }
      ]
    },
    {
      "cell_type": "markdown",
      "source": [
        "**Frage:** Warum ist es unabdingbar die folgenden Spalten zu löschen?"
      ],
      "metadata": {
        "id": "n8spg3_3V4jg"
      },
      "id": "n8spg3_3V4jg"
    },
    {
      "cell_type": "code",
      "source": [
        "data.drop(columns=[\"Home Team Goals\", \"Away Team Goals\"], inplace=True)"
      ],
      "metadata": {
        "id": "_A1fb49Dzfj7"
      },
      "id": "_A1fb49Dzfj7",
      "execution_count": 200,
      "outputs": []
    },
    {
      "cell_type": "markdown",
      "source": [
        "### 2.3 Features <a class=\"feature\" id=\"overview\"></a>\n",
        "Bei den Features handelt es sich um die Variablen, die zur Vorhersage des Targets verwendet werden - in diesem Fall die Anzahl der geschossenen Tore. \n",
        "\n",
        "Zum einen müssen Sie zunächst überlegen, welche der ursprünglichen Features einen Beitrag zur Erklärung des Target leisten können und ob diese noch anzupassen sind. \n",
        "\n",
        "Zum anderen leitet man regelmäßig aus den ursprünglichen Features weitere Features ab - in der Annahme, dass diese einen Beitrag zur Vorhersage des Target leisten."
      ],
      "metadata": {
        "id": "615_jEIAckP6"
      },
      "id": "615_jEIAckP6"
    },
    {
      "cell_type": "markdown",
      "source": [
        "**Relevante Features**"
      ],
      "metadata": {
        "id": "_QJIYMHSYNO-"
      },
      "id": "_QJIYMHSYNO-"
    },
    {
      "cell_type": "code",
      "source": [
        "data.head()"
      ],
      "metadata": {
        "id": "BpzwpJM_0iUK",
        "colab": {
          "base_uri": "https://localhost:8080/",
          "height": 518
        },
        "outputId": "a0345714-fd41-4e3e-ca57-6a6c3e88ffb9"
      },
      "id": "BpzwpJM_0iUK",
      "execution_count": 201,
      "outputs": [
        {
          "output_type": "execute_result",
          "data": {
            "text/plain": [
              "     Year            Datetime  Stage         Stadium         City  \\\n",
              "0  1930.0 1930-07-13 15:00:00  Group         Pocitos  Montevideo    \n",
              "1  1930.0 1930-07-13 15:00:00  Group  Parque Central  Montevideo    \n",
              "2  1930.0 1930-07-14 12:45:00  Group  Parque Central  Montevideo    \n",
              "3  1930.0 1930-07-14 14:50:00  Group         Pocitos  Montevideo    \n",
              "4  1930.0 1930-07-15 16:00:00  Group  Parque Central  Montevideo    \n",
              "\n",
              "  Home Team Name Away Team Name Win conditions  Attendance  \\\n",
              "0         France         Mexico            NaN      4444.0   \n",
              "1            USA        Belgium            NaN     18346.0   \n",
              "2     Yugoslavia         Brazil            NaN     24059.0   \n",
              "3        Romania           Peru            NaN      2549.0   \n",
              "4      Argentina         France            NaN     23409.0   \n",
              "\n",
              "   Half-time Home Goals  ...                 Referee  \\\n",
              "0                   3.0  ...  LOMBARDI Domingo (URU)   \n",
              "1                   2.0  ...       MACIAS Jose (ARG)   \n",
              "2                   2.0  ...     TEJADA Anibal (URU)   \n",
              "3                   1.0  ...   WARNKEN Alberto (CHI)   \n",
              "4                   0.0  ...     REGO Gilberto (BRA)   \n",
              "\n",
              "                Assistant 1                 Assistant 2 RoundID  MatchID  \\\n",
              "0     CRISTOPHE Henry (BEL)         REGO Gilberto (BRA)   201.0   1096.0   \n",
              "1  MATEUCCI Francisco (URU)       WARNKEN Alberto (CHI)   201.0   1090.0   \n",
              "2   VALLARINO Ricardo (URU)         BALWAY Thomas (FRA)   201.0   1093.0   \n",
              "3       LANGENUS Jean (BEL)    MATEUCCI Francisco (URU)   201.0   1098.0   \n",
              "4      SAUCEDO Ulises (BOL)  RADULESCU Constantin (ROU)   201.0   1085.0   \n",
              "\n",
              "   Home Team Initials Away Team Initials Hour  Weekday Total Goals  \n",
              "0                 FRA                MEX   15   Sunday         5.0  \n",
              "1                 USA                BEL   15   Sunday         3.0  \n",
              "2                 YUG                BRA   12   Monday         3.0  \n",
              "3                 ROU                PER   14   Monday         4.0  \n",
              "4                 ARG                FRA   16  Tuesday         1.0  \n",
              "\n",
              "[5 rows x 21 columns]"
            ],
            "text/html": [
              "\n",
              "  <div id=\"df-df98994b-679e-485d-b7e6-db085d97759f\">\n",
              "    <div class=\"colab-df-container\">\n",
              "      <div>\n",
              "<style scoped>\n",
              "    .dataframe tbody tr th:only-of-type {\n",
              "        vertical-align: middle;\n",
              "    }\n",
              "\n",
              "    .dataframe tbody tr th {\n",
              "        vertical-align: top;\n",
              "    }\n",
              "\n",
              "    .dataframe thead th {\n",
              "        text-align: right;\n",
              "    }\n",
              "</style>\n",
              "<table border=\"1\" class=\"dataframe\">\n",
              "  <thead>\n",
              "    <tr style=\"text-align: right;\">\n",
              "      <th></th>\n",
              "      <th>Year</th>\n",
              "      <th>Datetime</th>\n",
              "      <th>Stage</th>\n",
              "      <th>Stadium</th>\n",
              "      <th>City</th>\n",
              "      <th>Home Team Name</th>\n",
              "      <th>Away Team Name</th>\n",
              "      <th>Win conditions</th>\n",
              "      <th>Attendance</th>\n",
              "      <th>Half-time Home Goals</th>\n",
              "      <th>...</th>\n",
              "      <th>Referee</th>\n",
              "      <th>Assistant 1</th>\n",
              "      <th>Assistant 2</th>\n",
              "      <th>RoundID</th>\n",
              "      <th>MatchID</th>\n",
              "      <th>Home Team Initials</th>\n",
              "      <th>Away Team Initials</th>\n",
              "      <th>Hour</th>\n",
              "      <th>Weekday</th>\n",
              "      <th>Total Goals</th>\n",
              "    </tr>\n",
              "  </thead>\n",
              "  <tbody>\n",
              "    <tr>\n",
              "      <th>0</th>\n",
              "      <td>1930.0</td>\n",
              "      <td>1930-07-13 15:00:00</td>\n",
              "      <td>Group</td>\n",
              "      <td>Pocitos</td>\n",
              "      <td>Montevideo</td>\n",
              "      <td>France</td>\n",
              "      <td>Mexico</td>\n",
              "      <td>NaN</td>\n",
              "      <td>4444.0</td>\n",
              "      <td>3.0</td>\n",
              "      <td>...</td>\n",
              "      <td>LOMBARDI Domingo (URU)</td>\n",
              "      <td>CRISTOPHE Henry (BEL)</td>\n",
              "      <td>REGO Gilberto (BRA)</td>\n",
              "      <td>201.0</td>\n",
              "      <td>1096.0</td>\n",
              "      <td>FRA</td>\n",
              "      <td>MEX</td>\n",
              "      <td>15</td>\n",
              "      <td>Sunday</td>\n",
              "      <td>5.0</td>\n",
              "    </tr>\n",
              "    <tr>\n",
              "      <th>1</th>\n",
              "      <td>1930.0</td>\n",
              "      <td>1930-07-13 15:00:00</td>\n",
              "      <td>Group</td>\n",
              "      <td>Parque Central</td>\n",
              "      <td>Montevideo</td>\n",
              "      <td>USA</td>\n",
              "      <td>Belgium</td>\n",
              "      <td>NaN</td>\n",
              "      <td>18346.0</td>\n",
              "      <td>2.0</td>\n",
              "      <td>...</td>\n",
              "      <td>MACIAS Jose (ARG)</td>\n",
              "      <td>MATEUCCI Francisco (URU)</td>\n",
              "      <td>WARNKEN Alberto (CHI)</td>\n",
              "      <td>201.0</td>\n",
              "      <td>1090.0</td>\n",
              "      <td>USA</td>\n",
              "      <td>BEL</td>\n",
              "      <td>15</td>\n",
              "      <td>Sunday</td>\n",
              "      <td>3.0</td>\n",
              "    </tr>\n",
              "    <tr>\n",
              "      <th>2</th>\n",
              "      <td>1930.0</td>\n",
              "      <td>1930-07-14 12:45:00</td>\n",
              "      <td>Group</td>\n",
              "      <td>Parque Central</td>\n",
              "      <td>Montevideo</td>\n",
              "      <td>Yugoslavia</td>\n",
              "      <td>Brazil</td>\n",
              "      <td>NaN</td>\n",
              "      <td>24059.0</td>\n",
              "      <td>2.0</td>\n",
              "      <td>...</td>\n",
              "      <td>TEJADA Anibal (URU)</td>\n",
              "      <td>VALLARINO Ricardo (URU)</td>\n",
              "      <td>BALWAY Thomas (FRA)</td>\n",
              "      <td>201.0</td>\n",
              "      <td>1093.0</td>\n",
              "      <td>YUG</td>\n",
              "      <td>BRA</td>\n",
              "      <td>12</td>\n",
              "      <td>Monday</td>\n",
              "      <td>3.0</td>\n",
              "    </tr>\n",
              "    <tr>\n",
              "      <th>3</th>\n",
              "      <td>1930.0</td>\n",
              "      <td>1930-07-14 14:50:00</td>\n",
              "      <td>Group</td>\n",
              "      <td>Pocitos</td>\n",
              "      <td>Montevideo</td>\n",
              "      <td>Romania</td>\n",
              "      <td>Peru</td>\n",
              "      <td>NaN</td>\n",
              "      <td>2549.0</td>\n",
              "      <td>1.0</td>\n",
              "      <td>...</td>\n",
              "      <td>WARNKEN Alberto (CHI)</td>\n",
              "      <td>LANGENUS Jean (BEL)</td>\n",
              "      <td>MATEUCCI Francisco (URU)</td>\n",
              "      <td>201.0</td>\n",
              "      <td>1098.0</td>\n",
              "      <td>ROU</td>\n",
              "      <td>PER</td>\n",
              "      <td>14</td>\n",
              "      <td>Monday</td>\n",
              "      <td>4.0</td>\n",
              "    </tr>\n",
              "    <tr>\n",
              "      <th>4</th>\n",
              "      <td>1930.0</td>\n",
              "      <td>1930-07-15 16:00:00</td>\n",
              "      <td>Group</td>\n",
              "      <td>Parque Central</td>\n",
              "      <td>Montevideo</td>\n",
              "      <td>Argentina</td>\n",
              "      <td>France</td>\n",
              "      <td>NaN</td>\n",
              "      <td>23409.0</td>\n",
              "      <td>0.0</td>\n",
              "      <td>...</td>\n",
              "      <td>REGO Gilberto (BRA)</td>\n",
              "      <td>SAUCEDO Ulises (BOL)</td>\n",
              "      <td>RADULESCU Constantin (ROU)</td>\n",
              "      <td>201.0</td>\n",
              "      <td>1085.0</td>\n",
              "      <td>ARG</td>\n",
              "      <td>FRA</td>\n",
              "      <td>16</td>\n",
              "      <td>Tuesday</td>\n",
              "      <td>1.0</td>\n",
              "    </tr>\n",
              "  </tbody>\n",
              "</table>\n",
              "<p>5 rows × 21 columns</p>\n",
              "</div>\n",
              "      <button class=\"colab-df-convert\" onclick=\"convertToInteractive('df-df98994b-679e-485d-b7e6-db085d97759f')\"\n",
              "              title=\"Convert this dataframe to an interactive table.\"\n",
              "              style=\"display:none;\">\n",
              "        \n",
              "  <svg xmlns=\"http://www.w3.org/2000/svg\" height=\"24px\"viewBox=\"0 0 24 24\"\n",
              "       width=\"24px\">\n",
              "    <path d=\"M0 0h24v24H0V0z\" fill=\"none\"/>\n",
              "    <path d=\"M18.56 5.44l.94 2.06.94-2.06 2.06-.94-2.06-.94-.94-2.06-.94 2.06-2.06.94zm-11 1L8.5 8.5l.94-2.06 2.06-.94-2.06-.94L8.5 2.5l-.94 2.06-2.06.94zm10 10l.94 2.06.94-2.06 2.06-.94-2.06-.94-.94-2.06-.94 2.06-2.06.94z\"/><path d=\"M17.41 7.96l-1.37-1.37c-.4-.4-.92-.59-1.43-.59-.52 0-1.04.2-1.43.59L10.3 9.45l-7.72 7.72c-.78.78-.78 2.05 0 2.83L4 21.41c.39.39.9.59 1.41.59.51 0 1.02-.2 1.41-.59l7.78-7.78 2.81-2.81c.8-.78.8-2.07 0-2.86zM5.41 20L4 18.59l7.72-7.72 1.47 1.35L5.41 20z\"/>\n",
              "  </svg>\n",
              "      </button>\n",
              "      \n",
              "  <style>\n",
              "    .colab-df-container {\n",
              "      display:flex;\n",
              "      flex-wrap:wrap;\n",
              "      gap: 12px;\n",
              "    }\n",
              "\n",
              "    .colab-df-convert {\n",
              "      background-color: #E8F0FE;\n",
              "      border: none;\n",
              "      border-radius: 50%;\n",
              "      cursor: pointer;\n",
              "      display: none;\n",
              "      fill: #1967D2;\n",
              "      height: 32px;\n",
              "      padding: 0 0 0 0;\n",
              "      width: 32px;\n",
              "    }\n",
              "\n",
              "    .colab-df-convert:hover {\n",
              "      background-color: #E2EBFA;\n",
              "      box-shadow: 0px 1px 2px rgba(60, 64, 67, 0.3), 0px 1px 3px 1px rgba(60, 64, 67, 0.15);\n",
              "      fill: #174EA6;\n",
              "    }\n",
              "\n",
              "    [theme=dark] .colab-df-convert {\n",
              "      background-color: #3B4455;\n",
              "      fill: #D2E3FC;\n",
              "    }\n",
              "\n",
              "    [theme=dark] .colab-df-convert:hover {\n",
              "      background-color: #434B5C;\n",
              "      box-shadow: 0px 1px 3px 1px rgba(0, 0, 0, 0.15);\n",
              "      filter: drop-shadow(0px 1px 2px rgba(0, 0, 0, 0.3));\n",
              "      fill: #FFFFFF;\n",
              "    }\n",
              "  </style>\n",
              "\n",
              "      <script>\n",
              "        const buttonEl =\n",
              "          document.querySelector('#df-df98994b-679e-485d-b7e6-db085d97759f button.colab-df-convert');\n",
              "        buttonEl.style.display =\n",
              "          google.colab.kernel.accessAllowed ? 'block' : 'none';\n",
              "\n",
              "        async function convertToInteractive(key) {\n",
              "          const element = document.querySelector('#df-df98994b-679e-485d-b7e6-db085d97759f');\n",
              "          const dataTable =\n",
              "            await google.colab.kernel.invokeFunction('convertToInteractive',\n",
              "                                                     [key], {});\n",
              "          if (!dataTable) return;\n",
              "\n",
              "          const docLinkHtml = 'Like what you see? Visit the ' +\n",
              "            '<a target=\"_blank\" href=https://colab.research.google.com/notebooks/data_table.ipynb>data table notebook</a>'\n",
              "            + ' to learn more about interactive tables.';\n",
              "          element.innerHTML = '';\n",
              "          dataTable['output_type'] = 'display_data';\n",
              "          await google.colab.output.renderOutput(dataTable, element);\n",
              "          const docLink = document.createElement('div');\n",
              "          docLink.innerHTML = docLinkHtml;\n",
              "          element.appendChild(docLink);\n",
              "        }\n",
              "      </script>\n",
              "    </div>\n",
              "  </div>\n",
              "  "
            ]
          },
          "metadata": {},
          "execution_count": 201
        }
      ]
    },
    {
      "cell_type": "code",
      "source": [
        "data.columns"
      ],
      "metadata": {
        "id": "t5AFWLcF1f1X",
        "colab": {
          "base_uri": "https://localhost:8080/"
        },
        "outputId": "22bc3522-db0b-42ec-a279-c46b2583ba89"
      },
      "id": "t5AFWLcF1f1X",
      "execution_count": 202,
      "outputs": [
        {
          "output_type": "execute_result",
          "data": {
            "text/plain": [
              "Index(['Year', 'Datetime', 'Stage', 'Stadium', 'City', 'Home Team Name',\n",
              "       'Away Team Name', 'Win conditions', 'Attendance',\n",
              "       'Half-time Home Goals', 'Half-time Away Goals', 'Referee',\n",
              "       'Assistant 1', 'Assistant 2', 'RoundID', 'MatchID',\n",
              "       'Home Team Initials', 'Away Team Initials', 'Hour', 'Weekday',\n",
              "       'Total Goals'],\n",
              "      dtype='object')"
            ]
          },
          "metadata": {},
          "execution_count": 202
        }
      ]
    },
    {
      "cell_type": "code",
      "source": [
        "irrelevant = [\"Year\", \"City\", \"Win conditions\", 'Referee', 'Stadium',\n",
        "              'Assistant 1', 'Assistant 2', 'RoundID', 'MatchID',\n",
        "              \"Home Team Initials\", \"Away Team Initials\", \"Datetime\"\n",
        "              ]"
      ],
      "metadata": {
        "id": "N-Soo-VLjben"
      },
      "id": "N-Soo-VLjben",
      "execution_count": 203,
      "outputs": []
    },
    {
      "cell_type": "code",
      "source": [
        "# Durch inplace=True müssen Sie nicht schreiben: data = data.drop(...)\n",
        "data.drop(columns=irrelevant, inplace=True)\n",
        "data.head()"
      ],
      "metadata": {
        "id": "tuJugYtYkFxu",
        "colab": {
          "base_uri": "https://localhost:8080/",
          "height": 265
        },
        "outputId": "c7b81fd9-116c-46e7-849c-16ddebf102b8"
      },
      "id": "tuJugYtYkFxu",
      "execution_count": 204,
      "outputs": [
        {
          "output_type": "execute_result",
          "data": {
            "text/plain": [
              "   Stage Home Team Name Away Team Name  Attendance  Half-time Home Goals  \\\n",
              "0  Group         France         Mexico      4444.0                   3.0   \n",
              "1  Group            USA        Belgium     18346.0                   2.0   \n",
              "2  Group     Yugoslavia         Brazil     24059.0                   2.0   \n",
              "3  Group        Romania           Peru      2549.0                   1.0   \n",
              "4  Group      Argentina         France     23409.0                   0.0   \n",
              "\n",
              "   Half-time Away Goals  Hour  Weekday  Total Goals  \n",
              "0                   0.0    15   Sunday          5.0  \n",
              "1                   0.0    15   Sunday          3.0  \n",
              "2                   0.0    12   Monday          3.0  \n",
              "3                   0.0    14   Monday          4.0  \n",
              "4                   0.0    16  Tuesday          1.0  "
            ],
            "text/html": [
              "\n",
              "  <div id=\"df-4a2f687c-bce0-433b-bb6c-76bf619abff7\">\n",
              "    <div class=\"colab-df-container\">\n",
              "      <div>\n",
              "<style scoped>\n",
              "    .dataframe tbody tr th:only-of-type {\n",
              "        vertical-align: middle;\n",
              "    }\n",
              "\n",
              "    .dataframe tbody tr th {\n",
              "        vertical-align: top;\n",
              "    }\n",
              "\n",
              "    .dataframe thead th {\n",
              "        text-align: right;\n",
              "    }\n",
              "</style>\n",
              "<table border=\"1\" class=\"dataframe\">\n",
              "  <thead>\n",
              "    <tr style=\"text-align: right;\">\n",
              "      <th></th>\n",
              "      <th>Stage</th>\n",
              "      <th>Home Team Name</th>\n",
              "      <th>Away Team Name</th>\n",
              "      <th>Attendance</th>\n",
              "      <th>Half-time Home Goals</th>\n",
              "      <th>Half-time Away Goals</th>\n",
              "      <th>Hour</th>\n",
              "      <th>Weekday</th>\n",
              "      <th>Total Goals</th>\n",
              "    </tr>\n",
              "  </thead>\n",
              "  <tbody>\n",
              "    <tr>\n",
              "      <th>0</th>\n",
              "      <td>Group</td>\n",
              "      <td>France</td>\n",
              "      <td>Mexico</td>\n",
              "      <td>4444.0</td>\n",
              "      <td>3.0</td>\n",
              "      <td>0.0</td>\n",
              "      <td>15</td>\n",
              "      <td>Sunday</td>\n",
              "      <td>5.0</td>\n",
              "    </tr>\n",
              "    <tr>\n",
              "      <th>1</th>\n",
              "      <td>Group</td>\n",
              "      <td>USA</td>\n",
              "      <td>Belgium</td>\n",
              "      <td>18346.0</td>\n",
              "      <td>2.0</td>\n",
              "      <td>0.0</td>\n",
              "      <td>15</td>\n",
              "      <td>Sunday</td>\n",
              "      <td>3.0</td>\n",
              "    </tr>\n",
              "    <tr>\n",
              "      <th>2</th>\n",
              "      <td>Group</td>\n",
              "      <td>Yugoslavia</td>\n",
              "      <td>Brazil</td>\n",
              "      <td>24059.0</td>\n",
              "      <td>2.0</td>\n",
              "      <td>0.0</td>\n",
              "      <td>12</td>\n",
              "      <td>Monday</td>\n",
              "      <td>3.0</td>\n",
              "    </tr>\n",
              "    <tr>\n",
              "      <th>3</th>\n",
              "      <td>Group</td>\n",
              "      <td>Romania</td>\n",
              "      <td>Peru</td>\n",
              "      <td>2549.0</td>\n",
              "      <td>1.0</td>\n",
              "      <td>0.0</td>\n",
              "      <td>14</td>\n",
              "      <td>Monday</td>\n",
              "      <td>4.0</td>\n",
              "    </tr>\n",
              "    <tr>\n",
              "      <th>4</th>\n",
              "      <td>Group</td>\n",
              "      <td>Argentina</td>\n",
              "      <td>France</td>\n",
              "      <td>23409.0</td>\n",
              "      <td>0.0</td>\n",
              "      <td>0.0</td>\n",
              "      <td>16</td>\n",
              "      <td>Tuesday</td>\n",
              "      <td>1.0</td>\n",
              "    </tr>\n",
              "  </tbody>\n",
              "</table>\n",
              "</div>\n",
              "      <button class=\"colab-df-convert\" onclick=\"convertToInteractive('df-4a2f687c-bce0-433b-bb6c-76bf619abff7')\"\n",
              "              title=\"Convert this dataframe to an interactive table.\"\n",
              "              style=\"display:none;\">\n",
              "        \n",
              "  <svg xmlns=\"http://www.w3.org/2000/svg\" height=\"24px\"viewBox=\"0 0 24 24\"\n",
              "       width=\"24px\">\n",
              "    <path d=\"M0 0h24v24H0V0z\" fill=\"none\"/>\n",
              "    <path d=\"M18.56 5.44l.94 2.06.94-2.06 2.06-.94-2.06-.94-.94-2.06-.94 2.06-2.06.94zm-11 1L8.5 8.5l.94-2.06 2.06-.94-2.06-.94L8.5 2.5l-.94 2.06-2.06.94zm10 10l.94 2.06.94-2.06 2.06-.94-2.06-.94-.94-2.06-.94 2.06-2.06.94z\"/><path d=\"M17.41 7.96l-1.37-1.37c-.4-.4-.92-.59-1.43-.59-.52 0-1.04.2-1.43.59L10.3 9.45l-7.72 7.72c-.78.78-.78 2.05 0 2.83L4 21.41c.39.39.9.59 1.41.59.51 0 1.02-.2 1.41-.59l7.78-7.78 2.81-2.81c.8-.78.8-2.07 0-2.86zM5.41 20L4 18.59l7.72-7.72 1.47 1.35L5.41 20z\"/>\n",
              "  </svg>\n",
              "      </button>\n",
              "      \n",
              "  <style>\n",
              "    .colab-df-container {\n",
              "      display:flex;\n",
              "      flex-wrap:wrap;\n",
              "      gap: 12px;\n",
              "    }\n",
              "\n",
              "    .colab-df-convert {\n",
              "      background-color: #E8F0FE;\n",
              "      border: none;\n",
              "      border-radius: 50%;\n",
              "      cursor: pointer;\n",
              "      display: none;\n",
              "      fill: #1967D2;\n",
              "      height: 32px;\n",
              "      padding: 0 0 0 0;\n",
              "      width: 32px;\n",
              "    }\n",
              "\n",
              "    .colab-df-convert:hover {\n",
              "      background-color: #E2EBFA;\n",
              "      box-shadow: 0px 1px 2px rgba(60, 64, 67, 0.3), 0px 1px 3px 1px rgba(60, 64, 67, 0.15);\n",
              "      fill: #174EA6;\n",
              "    }\n",
              "\n",
              "    [theme=dark] .colab-df-convert {\n",
              "      background-color: #3B4455;\n",
              "      fill: #D2E3FC;\n",
              "    }\n",
              "\n",
              "    [theme=dark] .colab-df-convert:hover {\n",
              "      background-color: #434B5C;\n",
              "      box-shadow: 0px 1px 3px 1px rgba(0, 0, 0, 0.15);\n",
              "      filter: drop-shadow(0px 1px 2px rgba(0, 0, 0, 0.3));\n",
              "      fill: #FFFFFF;\n",
              "    }\n",
              "  </style>\n",
              "\n",
              "      <script>\n",
              "        const buttonEl =\n",
              "          document.querySelector('#df-4a2f687c-bce0-433b-bb6c-76bf619abff7 button.colab-df-convert');\n",
              "        buttonEl.style.display =\n",
              "          google.colab.kernel.accessAllowed ? 'block' : 'none';\n",
              "\n",
              "        async function convertToInteractive(key) {\n",
              "          const element = document.querySelector('#df-4a2f687c-bce0-433b-bb6c-76bf619abff7');\n",
              "          const dataTable =\n",
              "            await google.colab.kernel.invokeFunction('convertToInteractive',\n",
              "                                                     [key], {});\n",
              "          if (!dataTable) return;\n",
              "\n",
              "          const docLinkHtml = 'Like what you see? Visit the ' +\n",
              "            '<a target=\"_blank\" href=https://colab.research.google.com/notebooks/data_table.ipynb>data table notebook</a>'\n",
              "            + ' to learn more about interactive tables.';\n",
              "          element.innerHTML = '';\n",
              "          dataTable['output_type'] = 'display_data';\n",
              "          await google.colab.output.renderOutput(dataTable, element);\n",
              "          const docLink = document.createElement('div');\n",
              "          docLink.innerHTML = docLinkHtml;\n",
              "          element.appendChild(docLink);\n",
              "        }\n",
              "      </script>\n",
              "    </div>\n",
              "  </div>\n",
              "  "
            ]
          },
          "metadata": {},
          "execution_count": 204
        }
      ]
    },
    {
      "cell_type": "markdown",
      "source": [
        "**Features zu den zur Halbzeit geschossenen Toren**"
      ],
      "metadata": {
        "id": "azZiBAnmYWQ7"
      },
      "id": "azZiBAnmYWQ7"
    },
    {
      "cell_type": "code",
      "source": [
        "data[\"Half-time Goals\"] = data[\"Half-time Home Goals\"] + data[\"Half-time Away Goals\"]\n",
        "data[\"Half-time Goals Difference\"] = abs(data[\"Half-time Home Goals\"] - data[\"Half-time Away Goals\"])"
      ],
      "metadata": {
        "id": "2EcKxGXSa6kB"
      },
      "id": "2EcKxGXSa6kB",
      "execution_count": 205,
      "outputs": []
    },
    {
      "cell_type": "code",
      "source": [
        "data[\"Half-time Goals Difference\"].unique()"
      ],
      "metadata": {
        "id": "m0rHvOSWgNn-",
        "colab": {
          "base_uri": "https://localhost:8080/"
        },
        "outputId": "3f6f5c45-925e-46bf-ca11-939551db1c10"
      },
      "id": "m0rHvOSWgNn-",
      "execution_count": 206,
      "outputs": [
        {
          "output_type": "execute_result",
          "data": {
            "text/plain": [
              "array([3., 2., 1., 0., 4., 6., 5.])"
            ]
          },
          "metadata": {},
          "execution_count": 206
        }
      ]
    },
    {
      "cell_type": "code",
      "source": [
        "data[\"Half-time Goals Difference\"].value_counts(normalize=True)"
      ],
      "metadata": {
        "id": "POwMS5lJWpdI",
        "colab": {
          "base_uri": "https://localhost:8080/"
        },
        "outputId": "7c72a478-46c2-49c7-b39b-75a95f939da2"
      },
      "id": "POwMS5lJWpdI",
      "execution_count": 207,
      "outputs": [
        {
          "output_type": "execute_result",
          "data": {
            "text/plain": [
              "0.0    0.456471\n",
              "1.0    0.394118\n",
              "2.0    0.103529\n",
              "3.0    0.027059\n",
              "4.0    0.014118\n",
              "5.0    0.003529\n",
              "6.0    0.001176\n",
              "Name: Half-time Goals Difference, dtype: float64"
            ]
          },
          "metadata": {},
          "execution_count": 207
        }
      ]
    },
    {
      "cell_type": "markdown",
      "source": [
        "Nach den vorausgegangenen Datenmanipulationen erhalten wir nun den folgenden Dataframe (Target + Features), mit dem wir bei der Anwendung maschineller Lernverfahren weiterarbeiten werden."
      ],
      "metadata": {
        "id": "MLTSw41JkZQP"
      },
      "id": "MLTSw41JkZQP"
    },
    {
      "cell_type": "code",
      "source": [
        "data.head()"
      ],
      "metadata": {
        "id": "A0mRlGDvliHt",
        "colab": {
          "base_uri": "https://localhost:8080/",
          "height": 282
        },
        "outputId": "aa9546a4-7d69-48cc-eae3-c4f8c6730c36"
      },
      "id": "A0mRlGDvliHt",
      "execution_count": 208,
      "outputs": [
        {
          "output_type": "execute_result",
          "data": {
            "text/plain": [
              "   Stage Home Team Name Away Team Name  Attendance  Half-time Home Goals  \\\n",
              "0  Group         France         Mexico      4444.0                   3.0   \n",
              "1  Group            USA        Belgium     18346.0                   2.0   \n",
              "2  Group     Yugoslavia         Brazil     24059.0                   2.0   \n",
              "3  Group        Romania           Peru      2549.0                   1.0   \n",
              "4  Group      Argentina         France     23409.0                   0.0   \n",
              "\n",
              "   Half-time Away Goals  Hour  Weekday  Total Goals  Half-time Goals  \\\n",
              "0                   0.0    15   Sunday          5.0              3.0   \n",
              "1                   0.0    15   Sunday          3.0              2.0   \n",
              "2                   0.0    12   Monday          3.0              2.0   \n",
              "3                   0.0    14   Monday          4.0              1.0   \n",
              "4                   0.0    16  Tuesday          1.0              0.0   \n",
              "\n",
              "   Half-time Goals Difference  \n",
              "0                         3.0  \n",
              "1                         2.0  \n",
              "2                         2.0  \n",
              "3                         1.0  \n",
              "4                         0.0  "
            ],
            "text/html": [
              "\n",
              "  <div id=\"df-3d38c3b0-9c44-4c44-92ac-6848fd1bdc00\">\n",
              "    <div class=\"colab-df-container\">\n",
              "      <div>\n",
              "<style scoped>\n",
              "    .dataframe tbody tr th:only-of-type {\n",
              "        vertical-align: middle;\n",
              "    }\n",
              "\n",
              "    .dataframe tbody tr th {\n",
              "        vertical-align: top;\n",
              "    }\n",
              "\n",
              "    .dataframe thead th {\n",
              "        text-align: right;\n",
              "    }\n",
              "</style>\n",
              "<table border=\"1\" class=\"dataframe\">\n",
              "  <thead>\n",
              "    <tr style=\"text-align: right;\">\n",
              "      <th></th>\n",
              "      <th>Stage</th>\n",
              "      <th>Home Team Name</th>\n",
              "      <th>Away Team Name</th>\n",
              "      <th>Attendance</th>\n",
              "      <th>Half-time Home Goals</th>\n",
              "      <th>Half-time Away Goals</th>\n",
              "      <th>Hour</th>\n",
              "      <th>Weekday</th>\n",
              "      <th>Total Goals</th>\n",
              "      <th>Half-time Goals</th>\n",
              "      <th>Half-time Goals Difference</th>\n",
              "    </tr>\n",
              "  </thead>\n",
              "  <tbody>\n",
              "    <tr>\n",
              "      <th>0</th>\n",
              "      <td>Group</td>\n",
              "      <td>France</td>\n",
              "      <td>Mexico</td>\n",
              "      <td>4444.0</td>\n",
              "      <td>3.0</td>\n",
              "      <td>0.0</td>\n",
              "      <td>15</td>\n",
              "      <td>Sunday</td>\n",
              "      <td>5.0</td>\n",
              "      <td>3.0</td>\n",
              "      <td>3.0</td>\n",
              "    </tr>\n",
              "    <tr>\n",
              "      <th>1</th>\n",
              "      <td>Group</td>\n",
              "      <td>USA</td>\n",
              "      <td>Belgium</td>\n",
              "      <td>18346.0</td>\n",
              "      <td>2.0</td>\n",
              "      <td>0.0</td>\n",
              "      <td>15</td>\n",
              "      <td>Sunday</td>\n",
              "      <td>3.0</td>\n",
              "      <td>2.0</td>\n",
              "      <td>2.0</td>\n",
              "    </tr>\n",
              "    <tr>\n",
              "      <th>2</th>\n",
              "      <td>Group</td>\n",
              "      <td>Yugoslavia</td>\n",
              "      <td>Brazil</td>\n",
              "      <td>24059.0</td>\n",
              "      <td>2.0</td>\n",
              "      <td>0.0</td>\n",
              "      <td>12</td>\n",
              "      <td>Monday</td>\n",
              "      <td>3.0</td>\n",
              "      <td>2.0</td>\n",
              "      <td>2.0</td>\n",
              "    </tr>\n",
              "    <tr>\n",
              "      <th>3</th>\n",
              "      <td>Group</td>\n",
              "      <td>Romania</td>\n",
              "      <td>Peru</td>\n",
              "      <td>2549.0</td>\n",
              "      <td>1.0</td>\n",
              "      <td>0.0</td>\n",
              "      <td>14</td>\n",
              "      <td>Monday</td>\n",
              "      <td>4.0</td>\n",
              "      <td>1.0</td>\n",
              "      <td>1.0</td>\n",
              "    </tr>\n",
              "    <tr>\n",
              "      <th>4</th>\n",
              "      <td>Group</td>\n",
              "      <td>Argentina</td>\n",
              "      <td>France</td>\n",
              "      <td>23409.0</td>\n",
              "      <td>0.0</td>\n",
              "      <td>0.0</td>\n",
              "      <td>16</td>\n",
              "      <td>Tuesday</td>\n",
              "      <td>1.0</td>\n",
              "      <td>0.0</td>\n",
              "      <td>0.0</td>\n",
              "    </tr>\n",
              "  </tbody>\n",
              "</table>\n",
              "</div>\n",
              "      <button class=\"colab-df-convert\" onclick=\"convertToInteractive('df-3d38c3b0-9c44-4c44-92ac-6848fd1bdc00')\"\n",
              "              title=\"Convert this dataframe to an interactive table.\"\n",
              "              style=\"display:none;\">\n",
              "        \n",
              "  <svg xmlns=\"http://www.w3.org/2000/svg\" height=\"24px\"viewBox=\"0 0 24 24\"\n",
              "       width=\"24px\">\n",
              "    <path d=\"M0 0h24v24H0V0z\" fill=\"none\"/>\n",
              "    <path d=\"M18.56 5.44l.94 2.06.94-2.06 2.06-.94-2.06-.94-.94-2.06-.94 2.06-2.06.94zm-11 1L8.5 8.5l.94-2.06 2.06-.94-2.06-.94L8.5 2.5l-.94 2.06-2.06.94zm10 10l.94 2.06.94-2.06 2.06-.94-2.06-.94-.94-2.06-.94 2.06-2.06.94z\"/><path d=\"M17.41 7.96l-1.37-1.37c-.4-.4-.92-.59-1.43-.59-.52 0-1.04.2-1.43.59L10.3 9.45l-7.72 7.72c-.78.78-.78 2.05 0 2.83L4 21.41c.39.39.9.59 1.41.59.51 0 1.02-.2 1.41-.59l7.78-7.78 2.81-2.81c.8-.78.8-2.07 0-2.86zM5.41 20L4 18.59l7.72-7.72 1.47 1.35L5.41 20z\"/>\n",
              "  </svg>\n",
              "      </button>\n",
              "      \n",
              "  <style>\n",
              "    .colab-df-container {\n",
              "      display:flex;\n",
              "      flex-wrap:wrap;\n",
              "      gap: 12px;\n",
              "    }\n",
              "\n",
              "    .colab-df-convert {\n",
              "      background-color: #E8F0FE;\n",
              "      border: none;\n",
              "      border-radius: 50%;\n",
              "      cursor: pointer;\n",
              "      display: none;\n",
              "      fill: #1967D2;\n",
              "      height: 32px;\n",
              "      padding: 0 0 0 0;\n",
              "      width: 32px;\n",
              "    }\n",
              "\n",
              "    .colab-df-convert:hover {\n",
              "      background-color: #E2EBFA;\n",
              "      box-shadow: 0px 1px 2px rgba(60, 64, 67, 0.3), 0px 1px 3px 1px rgba(60, 64, 67, 0.15);\n",
              "      fill: #174EA6;\n",
              "    }\n",
              "\n",
              "    [theme=dark] .colab-df-convert {\n",
              "      background-color: #3B4455;\n",
              "      fill: #D2E3FC;\n",
              "    }\n",
              "\n",
              "    [theme=dark] .colab-df-convert:hover {\n",
              "      background-color: #434B5C;\n",
              "      box-shadow: 0px 1px 3px 1px rgba(0, 0, 0, 0.15);\n",
              "      filter: drop-shadow(0px 1px 2px rgba(0, 0, 0, 0.3));\n",
              "      fill: #FFFFFF;\n",
              "    }\n",
              "  </style>\n",
              "\n",
              "      <script>\n",
              "        const buttonEl =\n",
              "          document.querySelector('#df-3d38c3b0-9c44-4c44-92ac-6848fd1bdc00 button.colab-df-convert');\n",
              "        buttonEl.style.display =\n",
              "          google.colab.kernel.accessAllowed ? 'block' : 'none';\n",
              "\n",
              "        async function convertToInteractive(key) {\n",
              "          const element = document.querySelector('#df-3d38c3b0-9c44-4c44-92ac-6848fd1bdc00');\n",
              "          const dataTable =\n",
              "            await google.colab.kernel.invokeFunction('convertToInteractive',\n",
              "                                                     [key], {});\n",
              "          if (!dataTable) return;\n",
              "\n",
              "          const docLinkHtml = 'Like what you see? Visit the ' +\n",
              "            '<a target=\"_blank\" href=https://colab.research.google.com/notebooks/data_table.ipynb>data table notebook</a>'\n",
              "            + ' to learn more about interactive tables.';\n",
              "          element.innerHTML = '';\n",
              "          dataTable['output_type'] = 'display_data';\n",
              "          await google.colab.output.renderOutput(dataTable, element);\n",
              "          const docLink = document.createElement('div');\n",
              "          docLink.innerHTML = docLinkHtml;\n",
              "          element.appendChild(docLink);\n",
              "        }\n",
              "      </script>\n",
              "    </div>\n",
              "  </div>\n",
              "  "
            ]
          },
          "metadata": {},
          "execution_count": 208
        }
      ]
    },
    {
      "cell_type": "markdown",
      "source": [
        "### 2.4 Korrelationen <a class=\"feature\" id=\"corr\"></a>\n",
        "Sie erhalten einen ersten sehr guten Eindruck von Zusammenhängen zwischen Features und/ oder Target, wenn Sie Korrelationskoeffizienten berechnen. Mithilfe von `pandas` gelingt dies mühelos.\n"
      ],
      "metadata": {
        "id": "HreQTaeJaI34"
      },
      "id": "HreQTaeJaI34"
    },
    {
      "cell_type": "code",
      "source": [
        "correlation_matrix = data.corr()"
      ],
      "metadata": {
        "id": "Mq2rVXYgl0tq"
      },
      "id": "Mq2rVXYgl0tq",
      "execution_count": 209,
      "outputs": []
    },
    {
      "cell_type": "markdown",
      "source": [
        "**Korrelationskoeffizient**\n",
        "\n",
        "Mit der `pandas`-Funktion `.corr()` berechnen Sie den [Korrelationskoeffizienten nach Pearson](https://de.wikipedia.org/wiki/Korrelationskoeffizient). Dieser misst den \"linearen\" Zusammenhang zwischen zwei stetigen Merkmalen. Der Koeffizient reicht von 1 bis -1. Für den Fall, dass er nahe 1 liegt, bedeutet dies, dass eine starke positive Korrelation besteht, d.h. \"wenn Werte des Merkmals `x` steigen, steigen auch solche des Merkmals `y`\"! Der umgekehrte Fall gilt für Koeffizienten, die nahe -1 liegen. Bitte behalten Sie in Erinnerung, dass der Korrelationskoeffizient nach Pearson nur lineare Zusammenhänge erfasst. Regelmäßig finden Sie aber auch nicht-lineare Korrelationen, die dann nicht erfasst werden ([Beispiel](https://de.wikipedia.org/wiki/Korrelationskoeffizient#/media/Datei:Correlation_examples.png))."
      ],
      "metadata": {
        "id": "z7_h_k2ba1Hz"
      },
      "id": "z7_h_k2ba1Hz"
    },
    {
      "cell_type": "code",
      "source": [
        "correlation_matrix[\"Total Goals\"].sort_values(ascending=False)"
      ],
      "metadata": {
        "id": "pjRo2lnnazcD",
        "colab": {
          "base_uri": "https://localhost:8080/"
        },
        "outputId": "cd0d02c9-8203-4705-d8f0-82ad937e9a35"
      },
      "id": "pjRo2lnnazcD",
      "execution_count": 210,
      "outputs": [
        {
          "output_type": "execute_result",
          "data": {
            "text/plain": [
              "Total Goals                   1.000000\n",
              "Half-time Goals               0.699043\n",
              "Half-time Home Goals          0.598146\n",
              "Half-time Goals Difference    0.510889\n",
              "Half-time Away Goals          0.378531\n",
              "Hour                          0.004866\n",
              "Attendance                   -0.113603\n",
              "Name: Total Goals, dtype: float64"
            ]
          },
          "metadata": {},
          "execution_count": 210
        }
      ]
    },
    {
      "cell_type": "markdown",
      "source": [
        "**Kreuztabellen und Heatmaps**"
      ],
      "metadata": {
        "id": "nKl9Rbn5mozr"
      },
      "id": "nKl9Rbn5mozr"
    },
    {
      "cell_type": "code",
      "source": [
        "data.groupby(\"Weekday\")[\"Total Goals\"].mean().sort_values(ascending=False)"
      ],
      "metadata": {
        "id": "RgjTkcdftuaI",
        "colab": {
          "base_uri": "https://localhost:8080/"
        },
        "outputId": "f156b773-a989-41bc-d161-6661351231e9"
      },
      "id": "RgjTkcdftuaI",
      "execution_count": 211,
      "outputs": [
        {
          "output_type": "execute_result",
          "data": {
            "text/plain": [
              "Weekday\n",
              "Sunday       3.421053\n",
              "Wednesday    2.836879\n",
              "Tuesday      2.776786\n",
              "Saturday     2.724138\n",
              "Thursday     2.640777\n",
              "Monday       2.493151\n",
              "Friday       2.302326\n",
              "Name: Total Goals, dtype: float64"
            ]
          },
          "metadata": {},
          "execution_count": 211
        }
      ]
    },
    {
      "cell_type": "code",
      "source": [
        "pd.crosstab(index=data[\"Weekday\"], columns=data[\"Total Goals\"])"
      ],
      "metadata": {
        "id": "sjTGgSe0hB1S",
        "colab": {
          "base_uri": "https://localhost:8080/",
          "height": 297
        },
        "outputId": "8e0249d2-03c1-4124-f85f-dcf6f19187d3"
      },
      "id": "sjTGgSe0hB1S",
      "execution_count": 212,
      "outputs": [
        {
          "output_type": "execute_result",
          "data": {
            "text/plain": [
              "Total Goals  0.0   1.0   2.0   3.0   4.0   5.0   6.0   7.0   8.0   9.0   10.0  \\\n",
              "Weekday                                                                         \n",
              "Friday         10    24    15    19     9     4     4     1     0     0     0   \n",
              "Monday          7    10    23    15    12     4     1     1     0     0     0   \n",
              "Saturday       16    29    26    33    18    13     3     2     2     2     0   \n",
              "Sunday          7    37    26    34    34    23    11    10     5     0     1   \n",
              "Thursday       10    20    24    22    11     9     3     2     1     1     0   \n",
              "Tuesday        10    17    29    29    11     6     3     3     2     1     0   \n",
              "Wednesday      12    24    30    27    23    14     6     4     0     1     0   \n",
              "\n",
              "Total Goals  11.0  12.0  \n",
              "Weekday                  \n",
              "Friday          0     0  \n",
              "Monday          0     0  \n",
              "Saturday        0     1  \n",
              "Sunday          2     0  \n",
              "Thursday        0     0  \n",
              "Tuesday         1     0  \n",
              "Wednesday       0     0  "
            ],
            "text/html": [
              "\n",
              "  <div id=\"df-a27a5a35-ff9e-4f79-bc3c-b3b9c020595d\">\n",
              "    <div class=\"colab-df-container\">\n",
              "      <div>\n",
              "<style scoped>\n",
              "    .dataframe tbody tr th:only-of-type {\n",
              "        vertical-align: middle;\n",
              "    }\n",
              "\n",
              "    .dataframe tbody tr th {\n",
              "        vertical-align: top;\n",
              "    }\n",
              "\n",
              "    .dataframe thead th {\n",
              "        text-align: right;\n",
              "    }\n",
              "</style>\n",
              "<table border=\"1\" class=\"dataframe\">\n",
              "  <thead>\n",
              "    <tr style=\"text-align: right;\">\n",
              "      <th>Total Goals</th>\n",
              "      <th>0.0</th>\n",
              "      <th>1.0</th>\n",
              "      <th>2.0</th>\n",
              "      <th>3.0</th>\n",
              "      <th>4.0</th>\n",
              "      <th>5.0</th>\n",
              "      <th>6.0</th>\n",
              "      <th>7.0</th>\n",
              "      <th>8.0</th>\n",
              "      <th>9.0</th>\n",
              "      <th>10.0</th>\n",
              "      <th>11.0</th>\n",
              "      <th>12.0</th>\n",
              "    </tr>\n",
              "    <tr>\n",
              "      <th>Weekday</th>\n",
              "      <th></th>\n",
              "      <th></th>\n",
              "      <th></th>\n",
              "      <th></th>\n",
              "      <th></th>\n",
              "      <th></th>\n",
              "      <th></th>\n",
              "      <th></th>\n",
              "      <th></th>\n",
              "      <th></th>\n",
              "      <th></th>\n",
              "      <th></th>\n",
              "      <th></th>\n",
              "    </tr>\n",
              "  </thead>\n",
              "  <tbody>\n",
              "    <tr>\n",
              "      <th>Friday</th>\n",
              "      <td>10</td>\n",
              "      <td>24</td>\n",
              "      <td>15</td>\n",
              "      <td>19</td>\n",
              "      <td>9</td>\n",
              "      <td>4</td>\n",
              "      <td>4</td>\n",
              "      <td>1</td>\n",
              "      <td>0</td>\n",
              "      <td>0</td>\n",
              "      <td>0</td>\n",
              "      <td>0</td>\n",
              "      <td>0</td>\n",
              "    </tr>\n",
              "    <tr>\n",
              "      <th>Monday</th>\n",
              "      <td>7</td>\n",
              "      <td>10</td>\n",
              "      <td>23</td>\n",
              "      <td>15</td>\n",
              "      <td>12</td>\n",
              "      <td>4</td>\n",
              "      <td>1</td>\n",
              "      <td>1</td>\n",
              "      <td>0</td>\n",
              "      <td>0</td>\n",
              "      <td>0</td>\n",
              "      <td>0</td>\n",
              "      <td>0</td>\n",
              "    </tr>\n",
              "    <tr>\n",
              "      <th>Saturday</th>\n",
              "      <td>16</td>\n",
              "      <td>29</td>\n",
              "      <td>26</td>\n",
              "      <td>33</td>\n",
              "      <td>18</td>\n",
              "      <td>13</td>\n",
              "      <td>3</td>\n",
              "      <td>2</td>\n",
              "      <td>2</td>\n",
              "      <td>2</td>\n",
              "      <td>0</td>\n",
              "      <td>0</td>\n",
              "      <td>1</td>\n",
              "    </tr>\n",
              "    <tr>\n",
              "      <th>Sunday</th>\n",
              "      <td>7</td>\n",
              "      <td>37</td>\n",
              "      <td>26</td>\n",
              "      <td>34</td>\n",
              "      <td>34</td>\n",
              "      <td>23</td>\n",
              "      <td>11</td>\n",
              "      <td>10</td>\n",
              "      <td>5</td>\n",
              "      <td>0</td>\n",
              "      <td>1</td>\n",
              "      <td>2</td>\n",
              "      <td>0</td>\n",
              "    </tr>\n",
              "    <tr>\n",
              "      <th>Thursday</th>\n",
              "      <td>10</td>\n",
              "      <td>20</td>\n",
              "      <td>24</td>\n",
              "      <td>22</td>\n",
              "      <td>11</td>\n",
              "      <td>9</td>\n",
              "      <td>3</td>\n",
              "      <td>2</td>\n",
              "      <td>1</td>\n",
              "      <td>1</td>\n",
              "      <td>0</td>\n",
              "      <td>0</td>\n",
              "      <td>0</td>\n",
              "    </tr>\n",
              "    <tr>\n",
              "      <th>Tuesday</th>\n",
              "      <td>10</td>\n",
              "      <td>17</td>\n",
              "      <td>29</td>\n",
              "      <td>29</td>\n",
              "      <td>11</td>\n",
              "      <td>6</td>\n",
              "      <td>3</td>\n",
              "      <td>3</td>\n",
              "      <td>2</td>\n",
              "      <td>1</td>\n",
              "      <td>0</td>\n",
              "      <td>1</td>\n",
              "      <td>0</td>\n",
              "    </tr>\n",
              "    <tr>\n",
              "      <th>Wednesday</th>\n",
              "      <td>12</td>\n",
              "      <td>24</td>\n",
              "      <td>30</td>\n",
              "      <td>27</td>\n",
              "      <td>23</td>\n",
              "      <td>14</td>\n",
              "      <td>6</td>\n",
              "      <td>4</td>\n",
              "      <td>0</td>\n",
              "      <td>1</td>\n",
              "      <td>0</td>\n",
              "      <td>0</td>\n",
              "      <td>0</td>\n",
              "    </tr>\n",
              "  </tbody>\n",
              "</table>\n",
              "</div>\n",
              "      <button class=\"colab-df-convert\" onclick=\"convertToInteractive('df-a27a5a35-ff9e-4f79-bc3c-b3b9c020595d')\"\n",
              "              title=\"Convert this dataframe to an interactive table.\"\n",
              "              style=\"display:none;\">\n",
              "        \n",
              "  <svg xmlns=\"http://www.w3.org/2000/svg\" height=\"24px\"viewBox=\"0 0 24 24\"\n",
              "       width=\"24px\">\n",
              "    <path d=\"M0 0h24v24H0V0z\" fill=\"none\"/>\n",
              "    <path d=\"M18.56 5.44l.94 2.06.94-2.06 2.06-.94-2.06-.94-.94-2.06-.94 2.06-2.06.94zm-11 1L8.5 8.5l.94-2.06 2.06-.94-2.06-.94L8.5 2.5l-.94 2.06-2.06.94zm10 10l.94 2.06.94-2.06 2.06-.94-2.06-.94-.94-2.06-.94 2.06-2.06.94z\"/><path d=\"M17.41 7.96l-1.37-1.37c-.4-.4-.92-.59-1.43-.59-.52 0-1.04.2-1.43.59L10.3 9.45l-7.72 7.72c-.78.78-.78 2.05 0 2.83L4 21.41c.39.39.9.59 1.41.59.51 0 1.02-.2 1.41-.59l7.78-7.78 2.81-2.81c.8-.78.8-2.07 0-2.86zM5.41 20L4 18.59l7.72-7.72 1.47 1.35L5.41 20z\"/>\n",
              "  </svg>\n",
              "      </button>\n",
              "      \n",
              "  <style>\n",
              "    .colab-df-container {\n",
              "      display:flex;\n",
              "      flex-wrap:wrap;\n",
              "      gap: 12px;\n",
              "    }\n",
              "\n",
              "    .colab-df-convert {\n",
              "      background-color: #E8F0FE;\n",
              "      border: none;\n",
              "      border-radius: 50%;\n",
              "      cursor: pointer;\n",
              "      display: none;\n",
              "      fill: #1967D2;\n",
              "      height: 32px;\n",
              "      padding: 0 0 0 0;\n",
              "      width: 32px;\n",
              "    }\n",
              "\n",
              "    .colab-df-convert:hover {\n",
              "      background-color: #E2EBFA;\n",
              "      box-shadow: 0px 1px 2px rgba(60, 64, 67, 0.3), 0px 1px 3px 1px rgba(60, 64, 67, 0.15);\n",
              "      fill: #174EA6;\n",
              "    }\n",
              "\n",
              "    [theme=dark] .colab-df-convert {\n",
              "      background-color: #3B4455;\n",
              "      fill: #D2E3FC;\n",
              "    }\n",
              "\n",
              "    [theme=dark] .colab-df-convert:hover {\n",
              "      background-color: #434B5C;\n",
              "      box-shadow: 0px 1px 3px 1px rgba(0, 0, 0, 0.15);\n",
              "      filter: drop-shadow(0px 1px 2px rgba(0, 0, 0, 0.3));\n",
              "      fill: #FFFFFF;\n",
              "    }\n",
              "  </style>\n",
              "\n",
              "      <script>\n",
              "        const buttonEl =\n",
              "          document.querySelector('#df-a27a5a35-ff9e-4f79-bc3c-b3b9c020595d button.colab-df-convert');\n",
              "        buttonEl.style.display =\n",
              "          google.colab.kernel.accessAllowed ? 'block' : 'none';\n",
              "\n",
              "        async function convertToInteractive(key) {\n",
              "          const element = document.querySelector('#df-a27a5a35-ff9e-4f79-bc3c-b3b9c020595d');\n",
              "          const dataTable =\n",
              "            await google.colab.kernel.invokeFunction('convertToInteractive',\n",
              "                                                     [key], {});\n",
              "          if (!dataTable) return;\n",
              "\n",
              "          const docLinkHtml = 'Like what you see? Visit the ' +\n",
              "            '<a target=\"_blank\" href=https://colab.research.google.com/notebooks/data_table.ipynb>data table notebook</a>'\n",
              "            + ' to learn more about interactive tables.';\n",
              "          element.innerHTML = '';\n",
              "          dataTable['output_type'] = 'display_data';\n",
              "          await google.colab.output.renderOutput(dataTable, element);\n",
              "          const docLink = document.createElement('div');\n",
              "          docLink.innerHTML = docLinkHtml;\n",
              "          element.appendChild(docLink);\n",
              "        }\n",
              "      </script>\n",
              "    </div>\n",
              "  </div>\n",
              "  "
            ]
          },
          "metadata": {},
          "execution_count": 212
        }
      ]
    },
    {
      "cell_type": "markdown",
      "source": [
        "Das Package `seaborn` ist eine Erweiterung der Standardfunktionalitäten von `matplotlib`, welches wir bisher verwendet haben. Mit `seaborn` lassen sich optisch sehr ansprechende Visualisierung auf recht einfache Art und Weise erstellen. Immer wieder gerne genutzt wird die Visualisierungsform einer **Heatmap**, die sehr intuituve den Zusammenhang zwischen Variablen wiedergibt. Detaillierte Hinweise zur Erstellung von Heatmaps finden Sie [hier](https://seaborn.pydata.org/generated/seaborn.heatmap.html)."
      ],
      "metadata": {
        "id": "9Fo7GwtqnVEy"
      },
      "id": "9Fo7GwtqnVEy"
    },
    {
      "cell_type": "code",
      "source": [
        "import seaborn as sns"
      ],
      "metadata": {
        "id": "LLej052_ioTL"
      },
      "id": "LLej052_ioTL",
      "execution_count": 213,
      "outputs": []
    },
    {
      "cell_type": "code",
      "source": [
        "# über normalize=True werden Prozentwerte berechnet, z.B. bei wie viel Prozent der Spiele an einem \n",
        "# Sonntag sind 4 Tore gefallen!\n",
        "crosstab = pd.crosstab(index=data[\"Weekday\"], columns=data[\"Total Goals\"], normalize=True)"
      ],
      "metadata": {
        "id": "KnA19jiclAFR"
      },
      "id": "KnA19jiclAFR",
      "execution_count": 214,
      "outputs": []
    },
    {
      "cell_type": "code",
      "source": [
        "ax = sns.heatmap(crosstab, linewidths=.5, cmap=\"bwr\")"
      ],
      "metadata": {
        "id": "KhvMAZjpisD-",
        "colab": {
          "base_uri": "https://localhost:8080/",
          "height": 292
        },
        "outputId": "0d08b3f7-1d92-4917-a8e6-a27b11aa407e"
      },
      "id": "KhvMAZjpisD-",
      "execution_count": 215,
      "outputs": [
        {
          "output_type": "display_data",
          "data": {
            "text/plain": [
              "<Figure size 432x288 with 2 Axes>"
            ],
            "image/png": "[encoded data removed]"
          },
          "metadata": {
            "needs_background": "light"
          }
        }
      ]
    },
    {
      "cell_type": "markdown",
      "source": [
        "Über das Argument `cmap` steuern Sie die farbliche Darstellung der Heatmap. Sämtliche Farbpaletten finden Sie [hier](https://matplotlib.org/stable/tutorials/colors/colormaps.html)."
      ],
      "metadata": {
        "id": "NoRXjq7xojZd"
      },
      "id": "NoRXjq7xojZd"
    },
    {
      "cell_type": "markdown",
      "source": [
        "### Übung Datenexploration mit Track & Trace Daten <a class=\"anchor\" id=\"tt_eda\"></a>\n",
        "**Einführung**\n",
        "\n",
        "Ein Automobilhersteller hat weltweit verteilte Produktionsstandorte, u.a. auch ein Werk in den USA. Dieses Werk wird mit diversen Bauteilen zur Herstellung von Fahrzeugen aus Europa beliefert. \n",
        "\n",
        "Zur Erhöhung der Transparenz in der Supply Chain wurde vor kurzer Zeit Track und Trace System aufgebaut, welches Daten für einzelne Sendungen an definierten Standorten in der Lieferkette aufnimmt. Die Daten finden Sie nachfolgend:"
      ],
      "metadata": {
        "id": "GcDczFUf0bWf"
      },
      "id": "GcDczFUf0bWf"
    },
    {
      "cell_type": "code",
      "source": [
        "df = pd.read_csv(\"/content/drive/MyDrive/KI_LOG_mit_PYTHON/track_trace.txt\")\n",
        "df.head(10)"
      ],
      "metadata": {
        "id": "RK6PYPMK0TfF",
        "colab": {
          "base_uri": "https://localhost:8080/",
          "height": 661
        },
        "outputId": "9c991599-006d-46c7-f2a8-a0b9d97b0b38"
      },
      "id": "RK6PYPMK0TfF",
      "execution_count": 216,
      "outputs": [
        {
          "output_type": "execute_result",
          "data": {
            "text/plain": [
              "  ContainerNumber  ShipmentNumber           EventName            EventTime  \\\n",
              "0     HLXU8170197         4868820        Loading Ship  2018-07-04 13:58:00   \n",
              "1     HLXU8170197         4868820      Departure Ship  2018-07-04 19:05:00   \n",
              "2     HLXU8170197         4868820      Unloading Ship  2018-04-21 06:19:00   \n",
              "3     HLXU8170197         4868820     Departure Truck  2018-04-21 11:42:00   \n",
              "4     HLXU8170197         4868820       Arrival Truck  2018-08-05 18:12:00   \n",
              "5     HLXU8170197         4868820       Loading Truck  2018-07-16 14:15:00   \n",
              "6     HLXU8170197         4868820       Arrival Truck  2018-07-24 02:03:00   \n",
              "7     HLXU8170197         4868820        Arrival Ship  2018-02-08 21:54:00   \n",
              "8     HLXU8170197         4868820   Registration Yard  2018-10-08 16:18:00   \n",
              "9     HLXU8170197         4868820  Goods Receipt Dock  2018-10-08 20:50:00   \n",
              "\n",
              "                 EventLocation   VesselName  Time2Arrival  \\\n",
              "0              Hafen Rotterdam  NYK ROMULUS           125   \n",
              "1              Hafen Rotterdam  NYK ROMULUS           125   \n",
              "2             Hafen Charleston  NYK ROMULUS           111   \n",
              "3             Hafen Charleston  NYK ROMULUS           111   \n",
              "4             Hafen Charleston  NYK ROMULUS            94   \n",
              "5  Consolidation Center Speyer  NYK ROMULUS            25   \n",
              "6              Hafen Antwerpen  NYK ROMULUS            17   \n",
              "7        Bahnterminal Savannah  NYK ROMULUS             7   \n",
              "8              Werk Tuscaloosa  NYK ROMULUS             0   \n",
              "9              Werk Tuscaloosa  NYK ROMULUS             0   \n",
              "\n",
              "                                EventCombined EventTimeMonth EventTimeDay  \n",
              "0               Loading Ship, Hafen Rotterdam           July    Wednesday  \n",
              "1             Departure Ship, Hafen Rotterdam           July    Wednesday  \n",
              "2            Unloading Ship, Hafen Charleston          April     Saturday  \n",
              "3           Departure Truck, Hafen Charleston          April     Saturday  \n",
              "4             Arrival Truck, Hafen Charleston         August       Sunday  \n",
              "5  Loading Truck, Consolidation Center Speyer           July       Monday  \n",
              "6              Arrival Truck, Hafen Antwerpen           July      Tuesday  \n",
              "7         Arrival Ship, Bahnterminal Savannah       February     Thursday  \n",
              "8          Registration Yard, Werk Tuscaloosa        October       Monday  \n",
              "9         Goods Receipt Dock, Werk Tuscaloosa        October       Monday  "
            ],
            "text/html": [
              "\n",
              "  <div id=\"df-59191ecb-8ec2-4834-9e72-755eed735d92\">\n",
              "    <div class=\"colab-df-container\">\n",
              "      <div>\n",
              "<style scoped>\n",
              "    .dataframe tbody tr th:only-of-type {\n",
              "        vertical-align: middle;\n",
              "    }\n",
              "\n",
              "    .dataframe tbody tr th {\n",
              "        vertical-align: top;\n",
              "    }\n",
              "\n",
              "    .dataframe thead th {\n",
              "        text-align: right;\n",
              "    }\n",
              "</style>\n",
              "<table border=\"1\" class=\"dataframe\">\n",
              "  <thead>\n",
              "    <tr style=\"text-align: right;\">\n",
              "      <th></th>\n",
              "      <th>ContainerNumber</th>\n",
              "      <th>ShipmentNumber</th>\n",
              "      <th>EventName</th>\n",
              "      <th>EventTime</th>\n",
              "      <th>EventLocation</th>\n",
              "      <th>VesselName</th>\n",
              "      <th>Time2Arrival</th>\n",
              "      <th>EventCombined</th>\n",
              "      <th>EventTimeMonth</th>\n",
              "      <th>EventTimeDay</th>\n",
              "    </tr>\n",
              "  </thead>\n",
              "  <tbody>\n",
              "    <tr>\n",
              "      <th>0</th>\n",
              "      <td>HLXU8170197</td>\n",
              "      <td>4868820</td>\n",
              "      <td>Loading Ship</td>\n",
              "      <td>2018-07-04 13:58:00</td>\n",
              "      <td>Hafen Rotterdam</td>\n",
              "      <td>NYK ROMULUS</td>\n",
              "      <td>125</td>\n",
              "      <td>Loading Ship, Hafen Rotterdam</td>\n",
              "      <td>July</td>\n",
              "      <td>Wednesday</td>\n",
              "    </tr>\n",
              "    <tr>\n",
              "      <th>1</th>\n",
              "      <td>HLXU8170197</td>\n",
              "      <td>4868820</td>\n",
              "      <td>Departure Ship</td>\n",
              "      <td>2018-07-04 19:05:00</td>\n",
              "      <td>Hafen Rotterdam</td>\n",
              "      <td>NYK ROMULUS</td>\n",
              "      <td>125</td>\n",
              "      <td>Departure Ship, Hafen Rotterdam</td>\n",
              "      <td>July</td>\n",
              "      <td>Wednesday</td>\n",
              "    </tr>\n",
              "    <tr>\n",
              "      <th>2</th>\n",
              "      <td>HLXU8170197</td>\n",
              "      <td>4868820</td>\n",
              "      <td>Unloading Ship</td>\n",
              "      <td>2018-04-21 06:19:00</td>\n",
              "      <td>Hafen Charleston</td>\n",
              "      <td>NYK ROMULUS</td>\n",
              "      <td>111</td>\n",
              "      <td>Unloading Ship, Hafen Charleston</td>\n",
              "      <td>April</td>\n",
              "      <td>Saturday</td>\n",
              "    </tr>\n",
              "    <tr>\n",
              "      <th>3</th>\n",
              "      <td>HLXU8170197</td>\n",
              "      <td>4868820</td>\n",
              "      <td>Departure Truck</td>\n",
              "      <td>2018-04-21 11:42:00</td>\n",
              "      <td>Hafen Charleston</td>\n",
              "      <td>NYK ROMULUS</td>\n",
              "      <td>111</td>\n",
              "      <td>Departure Truck, Hafen Charleston</td>\n",
              "      <td>April</td>\n",
              "      <td>Saturday</td>\n",
              "    </tr>\n",
              "    <tr>\n",
              "      <th>4</th>\n",
              "      <td>HLXU8170197</td>\n",
              "      <td>4868820</td>\n",
              "      <td>Arrival Truck</td>\n",
              "      <td>2018-08-05 18:12:00</td>\n",
              "      <td>Hafen Charleston</td>\n",
              "      <td>NYK ROMULUS</td>\n",
              "      <td>94</td>\n",
              "      <td>Arrival Truck, Hafen Charleston</td>\n",
              "      <td>August</td>\n",
              "      <td>Sunday</td>\n",
              "    </tr>\n",
              "    <tr>\n",
              "      <th>5</th>\n",
              "      <td>HLXU8170197</td>\n",
              "      <td>4868820</td>\n",
              "      <td>Loading Truck</td>\n",
              "      <td>2018-07-16 14:15:00</td>\n",
              "      <td>Consolidation Center Speyer</td>\n",
              "      <td>NYK ROMULUS</td>\n",
              "      <td>25</td>\n",
              "      <td>Loading Truck, Consolidation Center Speyer</td>\n",
              "      <td>July</td>\n",
              "      <td>Monday</td>\n",
              "    </tr>\n",
              "    <tr>\n",
              "      <th>6</th>\n",
              "      <td>HLXU8170197</td>\n",
              "      <td>4868820</td>\n",
              "      <td>Arrival Truck</td>\n",
              "      <td>2018-07-24 02:03:00</td>\n",
              "      <td>Hafen Antwerpen</td>\n",
              "      <td>NYK ROMULUS</td>\n",
              "      <td>17</td>\n",
              "      <td>Arrival Truck, Hafen Antwerpen</td>\n",
              "      <td>July</td>\n",
              "      <td>Tuesday</td>\n",
              "    </tr>\n",
              "    <tr>\n",
              "      <th>7</th>\n",
              "      <td>HLXU8170197</td>\n",
              "      <td>4868820</td>\n",
              "      <td>Arrival Ship</td>\n",
              "      <td>2018-02-08 21:54:00</td>\n",
              "      <td>Bahnterminal Savannah</td>\n",
              "      <td>NYK ROMULUS</td>\n",
              "      <td>7</td>\n",
              "      <td>Arrival Ship, Bahnterminal Savannah</td>\n",
              "      <td>February</td>\n",
              "      <td>Thursday</td>\n",
              "    </tr>\n",
              "    <tr>\n",
              "      <th>8</th>\n",
              "      <td>HLXU8170197</td>\n",
              "      <td>4868820</td>\n",
              "      <td>Registration Yard</td>\n",
              "      <td>2018-10-08 16:18:00</td>\n",
              "      <td>Werk Tuscaloosa</td>\n",
              "      <td>NYK ROMULUS</td>\n",
              "      <td>0</td>\n",
              "      <td>Registration Yard, Werk Tuscaloosa</td>\n",
              "      <td>October</td>\n",
              "      <td>Monday</td>\n",
              "    </tr>\n",
              "    <tr>\n",
              "      <th>9</th>\n",
              "      <td>HLXU8170197</td>\n",
              "      <td>4868820</td>\n",
              "      <td>Goods Receipt Dock</td>\n",
              "      <td>2018-10-08 20:50:00</td>\n",
              "      <td>Werk Tuscaloosa</td>\n",
              "      <td>NYK ROMULUS</td>\n",
              "      <td>0</td>\n",
              "      <td>Goods Receipt Dock, Werk Tuscaloosa</td>\n",
              "      <td>October</td>\n",
              "      <td>Monday</td>\n",
              "    </tr>\n",
              "  </tbody>\n",
              "</table>\n",
              "</div>\n",
              "      <button class=\"colab-df-convert\" onclick=\"convertToInteractive('df-59191ecb-8ec2-4834-9e72-755eed735d92')\"\n",
              "              title=\"Convert this dataframe to an interactive table.\"\n",
              "              style=\"display:none;\">\n",
              "        \n",
              "  <svg xmlns=\"http://www.w3.org/2000/svg\" height=\"24px\"viewBox=\"0 0 24 24\"\n",
              "       width=\"24px\">\n",
              "    <path d=\"M0 0h24v24H0V0z\" fill=\"none\"/>\n",
              "    <path d=\"M18.56 5.44l.94 2.06.94-2.06 2.06-.94-2.06-.94-.94-2.06-.94 2.06-2.06.94zm-11 1L8.5 8.5l.94-2.06 2.06-.94-2.06-.94L8.5 2.5l-.94 2.06-2.06.94zm10 10l.94 2.06.94-2.06 2.06-.94-2.06-.94-.94-2.06-.94 2.06-2.06.94z\"/><path d=\"M17.41 7.96l-1.37-1.37c-.4-.4-.92-.59-1.43-.59-.52 0-1.04.2-1.43.59L10.3 9.45l-7.72 7.72c-.78.78-.78 2.05 0 2.83L4 21.41c.39.39.9.59 1.41.59.51 0 1.02-.2 1.41-.59l7.78-7.78 2.81-2.81c.8-.78.8-2.07 0-2.86zM5.41 20L4 18.59l7.72-7.72 1.47 1.35L5.41 20z\"/>\n",
              "  </svg>\n",
              "      </button>\n",
              "      \n",
              "  <style>\n",
              "    .colab-df-container {\n",
              "      display:flex;\n",
              "      flex-wrap:wrap;\n",
              "      gap: 12px;\n",
              "    }\n",
              "\n",
              "    .colab-df-convert {\n",
              "      background-color: #E8F0FE;\n",
              "      border: none;\n",
              "      border-radius: 50%;\n",
              "      cursor: pointer;\n",
              "      display: none;\n",
              "      fill: #1967D2;\n",
              "      height: 32px;\n",
              "      padding: 0 0 0 0;\n",
              "      width: 32px;\n",
              "    }\n",
              "\n",
              "    .colab-df-convert:hover {\n",
              "      background-color: #E2EBFA;\n",
              "      box-shadow: 0px 1px 2px rgba(60, 64, 67, 0.3), 0px 1px 3px 1px rgba(60, 64, 67, 0.15);\n",
              "      fill: #174EA6;\n",
              "    }\n",
              "\n",
              "    [theme=dark] .colab-df-convert {\n",
              "      background-color: #3B4455;\n",
              "      fill: #D2E3FC;\n",
              "    }\n",
              "\n",
              "    [theme=dark] .colab-df-convert:hover {\n",
              "      background-color: #434B5C;\n",
              "      box-shadow: 0px 1px 3px 1px rgba(0, 0, 0, 0.15);\n",
              "      filter: drop-shadow(0px 1px 2px rgba(0, 0, 0, 0.3));\n",
              "      fill: #FFFFFF;\n",
              "    }\n",
              "  </style>\n",
              "\n",
              "      <script>\n",
              "        const buttonEl =\n",
              "          document.querySelector('#df-59191ecb-8ec2-4834-9e72-755eed735d92 button.colab-df-convert');\n",
              "        buttonEl.style.display =\n",
              "          google.colab.kernel.accessAllowed ? 'block' : 'none';\n",
              "\n",
              "        async function convertToInteractive(key) {\n",
              "          const element = document.querySelector('#df-59191ecb-8ec2-4834-9e72-755eed735d92');\n",
              "          const dataTable =\n",
              "            await google.colab.kernel.invokeFunction('convertToInteractive',\n",
              "                                                     [key], {});\n",
              "          if (!dataTable) return;\n",
              "\n",
              "          const docLinkHtml = 'Like what you see? Visit the ' +\n",
              "            '<a target=\"_blank\" href=https://colab.research.google.com/notebooks/data_table.ipynb>data table notebook</a>'\n",
              "            + ' to learn more about interactive tables.';\n",
              "          element.innerHTML = '';\n",
              "          dataTable['output_type'] = 'display_data';\n",
              "          await google.colab.output.renderOutput(dataTable, element);\n",
              "          const docLink = document.createElement('div');\n",
              "          docLink.innerHTML = docLinkHtml;\n",
              "          element.appendChild(docLink);\n",
              "        }\n",
              "      </script>\n",
              "    </div>\n",
              "  </div>\n",
              "  "
            ]
          },
          "metadata": {},
          "execution_count": 216
        }
      ]
    },
    {
      "cell_type": "code",
      "source": [
        "df[\"EventName\"].unique()"
      ],
      "metadata": {
        "id": "o6Rjr9_okOGY",
        "colab": {
          "base_uri": "https://localhost:8080/"
        },
        "outputId": "233252f0-af00-4a50-9f38-4959bb1d0c9a"
      },
      "id": "o6Rjr9_okOGY",
      "execution_count": 217,
      "outputs": [
        {
          "output_type": "execute_result",
          "data": {
            "text/plain": [
              "array(['Loading Ship', 'Departure Ship', 'Unloading Ship',\n",
              "       'Departure Truck', 'Arrival Truck', 'Loading Truck',\n",
              "       'Arrival Ship', 'Registration Yard', 'Goods Receipt Dock',\n",
              "       'New Scheduling', 'Container Closed'], dtype=object)"
            ]
          },
          "metadata": {},
          "execution_count": 217
        }
      ]
    },
    {
      "cell_type": "markdown",
      "source": [
        "Jeder einzelne Container (`ContainerNumber`) ist einer Sendung zugeordnet, wobei jede Sendung eine eindeutige Kennzeichnung (`Shipment Number`) aufweist. Zu jeder Sendung werden definierte Events aufgenommen. Diese beinhalten den Namen des Events (`EventName`), die Zeit des Events (`EventTim`) sowie die Lokation des Events (`EventLocation`). Weiterhin ist jeder Sendung ein Schiff (`VesselName`) zugeordnet. In der letzten Spalten finden Sie die Ankunftszeit in **Tagen** (`Time2Arrival`). Diese stellt die Zeit zwischen dem jeweiligen Event und dem Zielevent dar. Der Zielevent ist die Vereinnahmung der Ware (`EventName = Goods Receipt Dock`) im Werk in den USA. Der Datensatz wird um weitere abgeleitete Informationen ergänzt (`EventNameCombined`, `EventTimeMonth`, `EventTimeDay`).\n",
        "\n",
        "\n",
        "**Aufgabenstellung**\n",
        "\n",
        "Die Supply Chain Abteilung des Automobilherstellers verfolgt das Ziel, die Daten aus dem Track und Trace System für die Steuerung von Transporten und Beständen zu nutzen. Da es sich um ein neues Projekt zur intelligenten Datenanalyse handelt, wurden Sie gebeten in einem ersten Schritt die zur Verfügung gestellten Daten in Form einer explorativen Datenanalyse aufzubereiten und zu analysieren.\n",
        "\n",
        "**Konkrete Fragestellungen/ Aufgaben**\n",
        "\n",
        "\n",
        "1. Wie viele Events finden sich in dem vorliegenden Datensatz?\n",
        "1. Von welchen deutschen Häfen wird das Werk in Tuscaloosa beliefert? Filtern Sie dazu zunächst auf das Event mit dem Namen `Loading Ship`. Anschließend betrachten Sie die Werte in der Spalte `EventLocation`.\n",
        "1. Wie ist die mittlere Transportzeit (`Time2Arrival`) von jedem dieser deutschen Häfen zum Werk in den USA? Filtern Sie dazu die `EventLocation` zunächst auf die deutschen Häfen (am besten mithilfe von `isin()`) und speichern Sie die Daten in einer neuen Variablen. Anschließend müssen Sie die Daten nach Häfen gruppieren (`groupby()`) und den Mittelwert der `Time2Arrival` bilden (`mean()`).\n",
        "1. Erstellen Sie anschließend jeweils ein Histogramm zur `Time2Arrival` für jeden deutschen Hafen. Welcher Hafen hat aus Ihrer Sicht eine bessere Performance?"
      ],
      "metadata": {
        "id": "GIgxOfLYjYUs"
      },
      "id": "GIgxOfLYjYUs"
    },
    {
      "cell_type": "code",
      "source": [
        "# Aufgabe 1\n",
        "f\"Insgesamt gibt es im Datensatz {df.shape[0]} Events!\""
      ],
      "metadata": {
        "id": "VVNm_m9pjfws",
        "colab": {
          "base_uri": "https://localhost:8080/",
          "height": 37
        },
        "outputId": "121aa260-558f-4adc-a37c-bb903bf85c9b"
      },
      "id": "VVNm_m9pjfws",
      "execution_count": 218,
      "outputs": [
        {
          "output_type": "execute_result",
          "data": {
            "text/plain": [
              "'Insgesamt gibt es im Datensatz 18632 Events!'"
            ],
            "application/vnd.google.colaboratory.intrinsic+json": {
              "type": "string"
            }
          },
          "metadata": {},
          "execution_count": 218
        }
      ]
    },
    {
      "cell_type": "code",
      "source": [
        "# Aufgabe 2\n",
        "\n",
        "# Variante 1\n",
        "df[df[\"EventName\"]==\"Loading Ship\"][\"EventLocation\"].unique()\n",
        "\n",
        "# Variante 2\n",
        "pd.unique(df[\"EventLocation\"][(df[\"EventName\"]==\"Loading Ship\")])"
      ],
      "metadata": {
        "colab": {
          "base_uri": "https://localhost:8080/"
        },
        "id": "t_2T0mTtDfon",
        "outputId": "1fe51cca-446f-45ce-bdf9-32a88d785ce6"
      },
      "id": "t_2T0mTtDfon",
      "execution_count": 219,
      "outputs": [
        {
          "output_type": "execute_result",
          "data": {
            "text/plain": [
              "array(['Hafen Rotterdam', 'Hafen Bremerhaven', 'Hafen Antwerpen',\n",
              "       'Hafen Hamburg'], dtype=object)"
            ]
          },
          "metadata": {},
          "execution_count": 219
        }
      ]
    },
    {
      "cell_type": "code",
      "source": [
        "# Aufgabe 3\n",
        "# 1.Schritt: Filterung der Daten\n",
        "hafen_de = df[df[\"EventLocation\"].isin([\"Hafen Bremerhaven\", \"Hafen Hamburg\"])]\n",
        "hafen_de = hafen_de[hafen_de[\"EventName\"]==\"Loading Ship\"]\n",
        "hafen_de.head()\n",
        "\n",
        "# 2.Schritt: Gruppieren nach Hafen und mittlere Time2Arrival berechen\n",
        "hafen_de.groupby(\"EventLocation\")[\"Time2Arrival\"].mean()"
      ],
      "metadata": {
        "colab": {
          "base_uri": "https://localhost:8080/"
        },
        "id": "Z0Ot9F7yE5MN",
        "outputId": "1754a993-3132-45f2-eb6a-69dff1ff9791"
      },
      "id": "Z0Ot9F7yE5MN",
      "execution_count": 220,
      "outputs": [
        {
          "output_type": "execute_result",
          "data": {
            "text/plain": [
              "EventLocation\n",
              "Hafen Bremerhaven    41.558273\n",
              "Hafen Hamburg        28.616279\n",
              "Name: Time2Arrival, dtype: float64"
            ]
          },
          "metadata": {},
          "execution_count": 220
        }
      ]
    },
    {
      "cell_type": "code",
      "source": [
        "# Aufgabe 4\n",
        "# Grafik für Hafen Bremerhaven\n",
        "hafen_de[hafen_de[\"EventLocation\"]==\"Hafen Bremerhaven\"][\"Time2Arrival\"].plot(\n",
        "    kind=\"hist\", \n",
        "    title= \"Histogramm Time2Arrival\",\n",
        "    figsize=(8,4),\n",
        "    color=\"c\",\n",
        "    edgecolor='k',\n",
        "    density=True,\n",
        "    alpha=0.8\n",
        "    )\n",
        "plt.plot()"
      ],
      "metadata": {
        "colab": {
          "base_uri": "https://localhost:8080/",
          "height": 298
        },
        "id": "6BGi-8EeGmNm",
        "outputId": "84a11fe0-dc84-49e1-9f8f-4fa94a2353df"
      },
      "id": "6BGi-8EeGmNm",
      "execution_count": 221,
      "outputs": [
        {
          "output_type": "execute_result",
          "data": {
            "text/plain": [
              "[]"
            ]
          },
          "metadata": {},
          "execution_count": 221
        },
        {
          "output_type": "display_data",
          "data": {
            "text/plain": [
              "<Figure size 576x288 with 1 Axes>"
            ],
            "image/png": "[encoded data removed]"
          },
          "metadata": {
            "needs_background": "light"
          }
        }
      ]
    },
    {
      "cell_type": "code",
      "source": [
        "# Aufgabe 4\n",
        "# Grafik für Hafen Hamburg\n",
        "hafen_de[hafen_de[\"EventLocation\"]==\"Hafen Hamburg\"][\"Time2Arrival\"].plot(\n",
        "    kind=\"hist\", \n",
        "    title= \"Histogramm Time2Arrival\",\n",
        "    figsize=(8,4),\n",
        "    color=\"r\",\n",
        "    edgecolor='k',\n",
        "    density=True,\n",
        "    alpha=0.8\n",
        "    )\n",
        "plt.plot()"
      ],
      "metadata": {
        "colab": {
          "base_uri": "https://localhost:8080/",
          "height": 298
        },
        "id": "vemm9AbKHcyM",
        "outputId": "8439d5c3-0ce9-4da2-d9be-e78b4f20b0e3"
      },
      "id": "vemm9AbKHcyM",
      "execution_count": 222,
      "outputs": [
        {
          "output_type": "execute_result",
          "data": {
            "text/plain": [
              "[]"
            ]
          },
          "metadata": {},
          "execution_count": 222
        },
        {
          "output_type": "display_data",
          "data": {
            "text/plain": [
              "<Figure size 576x288 with 1 Axes>"
            ],
            "image/png": "[encoded data removed]"
          },
          "metadata": {
            "needs_background": "light"
          }
        }
      ]
    },
    {
      "cell_type": "markdown",
      "source": [
        "## 3 Machine Learning für Regressionprobleme <a class=\"anchor\" id=\"regression\"></a>\n",
        "Wir betrachten nun wieder den Fifa World Cup Datensatz und werden nun wie eingangs beschrieben ein ML-Verfahren verwenden, um die Anzahl der am Ende der regulären Spielzeit (ggf. plus Verlängerung) geschossenen Tore vorherzusagen. Wir nutzen zu diesem Zweck alle Informationen, die uns zur Halbzeit eines Spiels vorliegen."
      ],
      "metadata": {
        "id": "3VPZsopCh7_m"
      },
      "id": "3VPZsopCh7_m"
    },
    {
      "cell_type": "markdown",
      "source": [
        "### 3.1 Datensatz in Features und Target teilen\n",
        "Zunächst einmal müssen wir unterscheiden, was vorhergesagt werden soll (**Target**) und welche Merkmale dazu genutzt werden sollen (**Features**)."
      ],
      "metadata": {
        "id": "F6l0bN2Di_at"
      },
      "id": "F6l0bN2Di_at"
    },
    {
      "cell_type": "code",
      "source": [
        "# Features, d.h. womit lässt sich die Anzahl der Tore prognostizeren!\n",
        "X = data.drop(columns=\"Total Goals\")\n",
        "X.head()"
      ],
      "metadata": {
        "id": "jw9nsecciIA0",
        "colab": {
          "base_uri": "https://localhost:8080/",
          "height": 265
        },
        "outputId": "9663b458-f0e4-43d2-9ac7-9c71e5172f8e"
      },
      "id": "jw9nsecciIA0",
      "execution_count": 223,
      "outputs": [
        {
          "output_type": "execute_result",
          "data": {
            "text/plain": [
              "   Stage Home Team Name Away Team Name  Attendance  Half-time Home Goals  \\\n",
              "0  Group         France         Mexico      4444.0                   3.0   \n",
              "1  Group            USA        Belgium     18346.0                   2.0   \n",
              "2  Group     Yugoslavia         Brazil     24059.0                   2.0   \n",
              "3  Group        Romania           Peru      2549.0                   1.0   \n",
              "4  Group      Argentina         France     23409.0                   0.0   \n",
              "\n",
              "   Half-time Away Goals  Hour  Weekday  Half-time Goals  \\\n",
              "0                   0.0    15   Sunday              3.0   \n",
              "1                   0.0    15   Sunday              2.0   \n",
              "2                   0.0    12   Monday              2.0   \n",
              "3                   0.0    14   Monday              1.0   \n",
              "4                   0.0    16  Tuesday              0.0   \n",
              "\n",
              "   Half-time Goals Difference  \n",
              "0                         3.0  \n",
              "1                         2.0  \n",
              "2                         2.0  \n",
              "3                         1.0  \n",
              "4                         0.0  "
            ],
            "text/html": [
              "\n",
              "  <div id=\"df-b1fba688-7e86-45f8-83bb-7f88a7098a48\">\n",
              "    <div class=\"colab-df-container\">\n",
              "      <div>\n",
              "<style scoped>\n",
              "    .dataframe tbody tr th:only-of-type {\n",
              "        vertical-align: middle;\n",
              "    }\n",
              "\n",
              "    .dataframe tbody tr th {\n",
              "        vertical-align: top;\n",
              "    }\n",
              "\n",
              "    .dataframe thead th {\n",
              "        text-align: right;\n",
              "    }\n",
              "</style>\n",
              "<table border=\"1\" class=\"dataframe\">\n",
              "  <thead>\n",
              "    <tr style=\"text-align: right;\">\n",
              "      <th></th>\n",
              "      <th>Stage</th>\n",
              "      <th>Home Team Name</th>\n",
              "      <th>Away Team Name</th>\n",
              "      <th>Attendance</th>\n",
              "      <th>Half-time Home Goals</th>\n",
              "      <th>Half-time Away Goals</th>\n",
              "      <th>Hour</th>\n",
              "      <th>Weekday</th>\n",
              "      <th>Half-time Goals</th>\n",
              "      <th>Half-time Goals Difference</th>\n",
              "    </tr>\n",
              "  </thead>\n",
              "  <tbody>\n",
              "    <tr>\n",
              "      <th>0</th>\n",
              "      <td>Group</td>\n",
              "      <td>France</td>\n",
              "      <td>Mexico</td>\n",
              "      <td>4444.0</td>\n",
              "      <td>3.0</td>\n",
              "      <td>0.0</td>\n",
              "      <td>15</td>\n",
              "      <td>Sunday</td>\n",
              "      <td>3.0</td>\n",
              "      <td>3.0</td>\n",
              "    </tr>\n",
              "    <tr>\n",
              "      <th>1</th>\n",
              "      <td>Group</td>\n",
              "      <td>USA</td>\n",
              "      <td>Belgium</td>\n",
              "      <td>18346.0</td>\n",
              "      <td>2.0</td>\n",
              "      <td>0.0</td>\n",
              "      <td>15</td>\n",
              "      <td>Sunday</td>\n",
              "      <td>2.0</td>\n",
              "      <td>2.0</td>\n",
              "    </tr>\n",
              "    <tr>\n",
              "      <th>2</th>\n",
              "      <td>Group</td>\n",
              "      <td>Yugoslavia</td>\n",
              "      <td>Brazil</td>\n",
              "      <td>24059.0</td>\n",
              "      <td>2.0</td>\n",
              "      <td>0.0</td>\n",
              "      <td>12</td>\n",
              "      <td>Monday</td>\n",
              "      <td>2.0</td>\n",
              "      <td>2.0</td>\n",
              "    </tr>\n",
              "    <tr>\n",
              "      <th>3</th>\n",
              "      <td>Group</td>\n",
              "      <td>Romania</td>\n",
              "      <td>Peru</td>\n",
              "      <td>2549.0</td>\n",
              "      <td>1.0</td>\n",
              "      <td>0.0</td>\n",
              "      <td>14</td>\n",
              "      <td>Monday</td>\n",
              "      <td>1.0</td>\n",
              "      <td>1.0</td>\n",
              "    </tr>\n",
              "    <tr>\n",
              "      <th>4</th>\n",
              "      <td>Group</td>\n",
              "      <td>Argentina</td>\n",
              "      <td>France</td>\n",
              "      <td>23409.0</td>\n",
              "      <td>0.0</td>\n",
              "      <td>0.0</td>\n",
              "      <td>16</td>\n",
              "      <td>Tuesday</td>\n",
              "      <td>0.0</td>\n",
              "      <td>0.0</td>\n",
              "    </tr>\n",
              "  </tbody>\n",
              "</table>\n",
              "</div>\n",
              "      <button class=\"colab-df-convert\" onclick=\"convertToInteractive('df-b1fba688-7e86-45f8-83bb-7f88a7098a48')\"\n",
              "              title=\"Convert this dataframe to an interactive table.\"\n",
              "              style=\"display:none;\">\n",
              "        \n",
              "  <svg xmlns=\"http://www.w3.org/2000/svg\" height=\"24px\"viewBox=\"0 0 24 24\"\n",
              "       width=\"24px\">\n",
              "    <path d=\"M0 0h24v24H0V0z\" fill=\"none\"/>\n",
              "    <path d=\"M18.56 5.44l.94 2.06.94-2.06 2.06-.94-2.06-.94-.94-2.06-.94 2.06-2.06.94zm-11 1L8.5 8.5l.94-2.06 2.06-.94-2.06-.94L8.5 2.5l-.94 2.06-2.06.94zm10 10l.94 2.06.94-2.06 2.06-.94-2.06-.94-.94-2.06-.94 2.06-2.06.94z\"/><path d=\"M17.41 7.96l-1.37-1.37c-.4-.4-.92-.59-1.43-.59-.52 0-1.04.2-1.43.59L10.3 9.45l-7.72 7.72c-.78.78-.78 2.05 0 2.83L4 21.41c.39.39.9.59 1.41.59.51 0 1.02-.2 1.41-.59l7.78-7.78 2.81-2.81c.8-.78.8-2.07 0-2.86zM5.41 20L4 18.59l7.72-7.72 1.47 1.35L5.41 20z\"/>\n",
              "  </svg>\n",
              "      </button>\n",
              "      \n",
              "  <style>\n",
              "    .colab-df-container {\n",
              "      display:flex;\n",
              "      flex-wrap:wrap;\n",
              "      gap: 12px;\n",
              "    }\n",
              "\n",
              "    .colab-df-convert {\n",
              "      background-color: #E8F0FE;\n",
              "      border: none;\n",
              "      border-radius: 50%;\n",
              "      cursor: pointer;\n",
              "      display: none;\n",
              "      fill: #1967D2;\n",
              "      height: 32px;\n",
              "      padding: 0 0 0 0;\n",
              "      width: 32px;\n",
              "    }\n",
              "\n",
              "    .colab-df-convert:hover {\n",
              "      background-color: #E2EBFA;\n",
              "      box-shadow: 0px 1px 2px rgba(60, 64, 67, 0.3), 0px 1px 3px 1px rgba(60, 64, 67, 0.15);\n",
              "      fill: #174EA6;\n",
              "    }\n",
              "\n",
              "    [theme=dark] .colab-df-convert {\n",
              "      background-color: #3B4455;\n",
              "      fill: #D2E3FC;\n",
              "    }\n",
              "\n",
              "    [theme=dark] .colab-df-convert:hover {\n",
              "      background-color: #434B5C;\n",
              "      box-shadow: 0px 1px 3px 1px rgba(0, 0, 0, 0.15);\n",
              "      filter: drop-shadow(0px 1px 2px rgba(0, 0, 0, 0.3));\n",
              "      fill: #FFFFFF;\n",
              "    }\n",
              "  </style>\n",
              "\n",
              "      <script>\n",
              "        const buttonEl =\n",
              "          document.querySelector('#df-b1fba688-7e86-45f8-83bb-7f88a7098a48 button.colab-df-convert');\n",
              "        buttonEl.style.display =\n",
              "          google.colab.kernel.accessAllowed ? 'block' : 'none';\n",
              "\n",
              "        async function convertToInteractive(key) {\n",
              "          const element = document.querySelector('#df-b1fba688-7e86-45f8-83bb-7f88a7098a48');\n",
              "          const dataTable =\n",
              "            await google.colab.kernel.invokeFunction('convertToInteractive',\n",
              "                                                     [key], {});\n",
              "          if (!dataTable) return;\n",
              "\n",
              "          const docLinkHtml = 'Like what you see? Visit the ' +\n",
              "            '<a target=\"_blank\" href=https://colab.research.google.com/notebooks/data_table.ipynb>data table notebook</a>'\n",
              "            + ' to learn more about interactive tables.';\n",
              "          element.innerHTML = '';\n",
              "          dataTable['output_type'] = 'display_data';\n",
              "          await google.colab.output.renderOutput(dataTable, element);\n",
              "          const docLink = document.createElement('div');\n",
              "          docLink.innerHTML = docLinkHtml;\n",
              "          element.appendChild(docLink);\n",
              "        }\n",
              "      </script>\n",
              "    </div>\n",
              "  </div>\n",
              "  "
            ]
          },
          "metadata": {},
          "execution_count": 223
        }
      ]
    },
    {
      "cell_type": "code",
      "source": [
        "# Target, d.h. was soll prognostiziert werden!\n",
        "y = data[\"Total Goals\"]\n",
        "y.head()"
      ],
      "metadata": {
        "id": "-R0p_tMFjN-f",
        "colab": {
          "base_uri": "https://localhost:8080/"
        },
        "outputId": "13301e85-3d9d-417d-d27b-46e5f5fdcad1"
      },
      "id": "-R0p_tMFjN-f",
      "execution_count": 224,
      "outputs": [
        {
          "output_type": "execute_result",
          "data": {
            "text/plain": [
              "0    5.0\n",
              "1    3.0\n",
              "2    3.0\n",
              "3    4.0\n",
              "4    1.0\n",
              "Name: Total Goals, dtype: float64"
            ]
          },
          "metadata": {},
          "execution_count": 224
        }
      ]
    },
    {
      "cell_type": "code",
      "source": [
        "X.shape, y.shape"
      ],
      "metadata": {
        "id": "NVJdxAwwjVCf",
        "colab": {
          "base_uri": "https://localhost:8080/"
        },
        "outputId": "78cf0540-cafd-42f7-ffca-f3d6b72c0116"
      },
      "id": "NVJdxAwwjVCf",
      "execution_count": 225,
      "outputs": [
        {
          "output_type": "execute_result",
          "data": {
            "text/plain": [
              "((850, 10), (850,))"
            ]
          },
          "metadata": {},
          "execution_count": 225
        }
      ]
    },
    {
      "cell_type": "markdown",
      "source": [
        "### 3.2 Datensatz in Trainings- und Testmenge aufteilen"
      ],
      "metadata": {
        "id": "ZdIT3Aqbjc3B"
      },
      "id": "ZdIT3Aqbjc3B"
    },
    {
      "cell_type": "markdown",
      "source": [
        "Bevor wir gleich zu der Aufteilung in Trainings- & Testdaten zum Training des ML-Verfahrens kommen, müssen die nicht-numerischen Daten passend aufbereitet werden. Das Vorgehen ist dabei immer gleich. Zur Illustration nutzen wir die Fifa World Cup Daten und dabei die ersten 5 Eintragungen in der Spalte `Home Team Name`."
      ],
      "metadata": {
        "id": "ik3zan-J1vtt"
      },
      "id": "ik3zan-J1vtt"
    },
    {
      "cell_type": "code",
      "source": [
        "example = data[\"Home Team Name\"].head()\n",
        "example"
      ],
      "metadata": {
        "id": "fclb8_jk06iF",
        "colab": {
          "base_uri": "https://localhost:8080/"
        },
        "outputId": "9ebde2d0-bbbc-4a84-8c10-cb9c784338eb"
      },
      "id": "fclb8_jk06iF",
      "execution_count": 226,
      "outputs": [
        {
          "output_type": "execute_result",
          "data": {
            "text/plain": [
              "0        France\n",
              "1           USA\n",
              "2    Yugoslavia\n",
              "3       Romania\n",
              "4     Argentina\n",
              "Name: Home Team Name, dtype: object"
            ]
          },
          "metadata": {},
          "execution_count": 226
        }
      ]
    },
    {
      "cell_type": "markdown",
      "source": [
        "Wie Ihnen bekannt, enthält die Spalte die jeweilige Heimmannschaft eines Spiels. Wenn wir mit dem Package `sklearn` und den darin verfügbaren ML-Algorithmen arbeiten, müssen wir die Datenstrutkur umwandeln. Dazu nutzen wir die Funktion `get_dummies` wie in der unteren Codezeile dargestellt."
      ],
      "metadata": {
        "id": "Hhb2asCU2TTJ"
      },
      "id": "Hhb2asCU2TTJ"
    },
    {
      "cell_type": "code",
      "source": [
        "pd.get_dummies(example)"
      ],
      "metadata": {
        "id": "fzFH4-tN1YkF",
        "colab": {
          "base_uri": "https://localhost:8080/",
          "height": 204
        },
        "outputId": "5324fe15-b8bd-44d8-b3c9-74331d583976"
      },
      "id": "fzFH4-tN1YkF",
      "execution_count": 227,
      "outputs": [
        {
          "output_type": "execute_result",
          "data": {
            "text/plain": [
              "   Argentina  France  Romania  USA  Yugoslavia\n",
              "0          0       1        0    0           0\n",
              "1          0       0        0    1           0\n",
              "2          0       0        0    0           1\n",
              "3          0       0        1    0           0\n",
              "4          1       0        0    0           0"
            ],
            "text/html": [
              "\n",
              "  <div id=\"df-6aa1e379-f876-4a37-ada6-5b02d15d54ee\">\n",
              "    <div class=\"colab-df-container\">\n",
              "      <div>\n",
              "<style scoped>\n",
              "    .dataframe tbody tr th:only-of-type {\n",
              "        vertical-align: middle;\n",
              "    }\n",
              "\n",
              "    .dataframe tbody tr th {\n",
              "        vertical-align: top;\n",
              "    }\n",
              "\n",
              "    .dataframe thead th {\n",
              "        text-align: right;\n",
              "    }\n",
              "</style>\n",
              "<table border=\"1\" class=\"dataframe\">\n",
              "  <thead>\n",
              "    <tr style=\"text-align: right;\">\n",
              "      <th></th>\n",
              "      <th>Argentina</th>\n",
              "      <th>France</th>\n",
              "      <th>Romania</th>\n",
              "      <th>USA</th>\n",
              "      <th>Yugoslavia</th>\n",
              "    </tr>\n",
              "  </thead>\n",
              "  <tbody>\n",
              "    <tr>\n",
              "      <th>0</th>\n",
              "      <td>0</td>\n",
              "      <td>1</td>\n",
              "      <td>0</td>\n",
              "      <td>0</td>\n",
              "      <td>0</td>\n",
              "    </tr>\n",
              "    <tr>\n",
              "      <th>1</th>\n",
              "      <td>0</td>\n",
              "      <td>0</td>\n",
              "      <td>0</td>\n",
              "      <td>1</td>\n",
              "      <td>0</td>\n",
              "    </tr>\n",
              "    <tr>\n",
              "      <th>2</th>\n",
              "      <td>0</td>\n",
              "      <td>0</td>\n",
              "      <td>0</td>\n",
              "      <td>0</td>\n",
              "      <td>1</td>\n",
              "    </tr>\n",
              "    <tr>\n",
              "      <th>3</th>\n",
              "      <td>0</td>\n",
              "      <td>0</td>\n",
              "      <td>1</td>\n",
              "      <td>0</td>\n",
              "      <td>0</td>\n",
              "    </tr>\n",
              "    <tr>\n",
              "      <th>4</th>\n",
              "      <td>1</td>\n",
              "      <td>0</td>\n",
              "      <td>0</td>\n",
              "      <td>0</td>\n",
              "      <td>0</td>\n",
              "    </tr>\n",
              "  </tbody>\n",
              "</table>\n",
              "</div>\n",
              "      <button class=\"colab-df-convert\" onclick=\"convertToInteractive('df-6aa1e379-f876-4a37-ada6-5b02d15d54ee')\"\n",
              "              title=\"Convert this dataframe to an interactive table.\"\n",
              "              style=\"display:none;\">\n",
              "        \n",
              "  <svg xmlns=\"http://www.w3.org/2000/svg\" height=\"24px\"viewBox=\"0 0 24 24\"\n",
              "       width=\"24px\">\n",
              "    <path d=\"M0 0h24v24H0V0z\" fill=\"none\"/>\n",
              "    <path d=\"M18.56 5.44l.94 2.06.94-2.06 2.06-.94-2.06-.94-.94-2.06-.94 2.06-2.06.94zm-11 1L8.5 8.5l.94-2.06 2.06-.94-2.06-.94L8.5 2.5l-.94 2.06-2.06.94zm10 10l.94 2.06.94-2.06 2.06-.94-2.06-.94-.94-2.06-.94 2.06-2.06.94z\"/><path d=\"M17.41 7.96l-1.37-1.37c-.4-.4-.92-.59-1.43-.59-.52 0-1.04.2-1.43.59L10.3 9.45l-7.72 7.72c-.78.78-.78 2.05 0 2.83L4 21.41c.39.39.9.59 1.41.59.51 0 1.02-.2 1.41-.59l7.78-7.78 2.81-2.81c.8-.78.8-2.07 0-2.86zM5.41 20L4 18.59l7.72-7.72 1.47 1.35L5.41 20z\"/>\n",
              "  </svg>\n",
              "      </button>\n",
              "      \n",
              "  <style>\n",
              "    .colab-df-container {\n",
              "      display:flex;\n",
              "      flex-wrap:wrap;\n",
              "      gap: 12px;\n",
              "    }\n",
              "\n",
              "    .colab-df-convert {\n",
              "      background-color: #E8F0FE;\n",
              "      border: none;\n",
              "      border-radius: 50%;\n",
              "      cursor: pointer;\n",
              "      display: none;\n",
              "      fill: #1967D2;\n",
              "      height: 32px;\n",
              "      padding: 0 0 0 0;\n",
              "      width: 32px;\n",
              "    }\n",
              "\n",
              "    .colab-df-convert:hover {\n",
              "      background-color: #E2EBFA;\n",
              "      box-shadow: 0px 1px 2px rgba(60, 64, 67, 0.3), 0px 1px 3px 1px rgba(60, 64, 67, 0.15);\n",
              "      fill: #174EA6;\n",
              "    }\n",
              "\n",
              "    [theme=dark] .colab-df-convert {\n",
              "      background-color: #3B4455;\n",
              "      fill: #D2E3FC;\n",
              "    }\n",
              "\n",
              "    [theme=dark] .colab-df-convert:hover {\n",
              "      background-color: #434B5C;\n",
              "      box-shadow: 0px 1px 3px 1px rgba(0, 0, 0, 0.15);\n",
              "      filter: drop-shadow(0px 1px 2px rgba(0, 0, 0, 0.3));\n",
              "      fill: #FFFFFF;\n",
              "    }\n",
              "  </style>\n",
              "\n",
              "      <script>\n",
              "        const buttonEl =\n",
              "          document.querySelector('#df-6aa1e379-f876-4a37-ada6-5b02d15d54ee button.colab-df-convert');\n",
              "        buttonEl.style.display =\n",
              "          google.colab.kernel.accessAllowed ? 'block' : 'none';\n",
              "\n",
              "        async function convertToInteractive(key) {\n",
              "          const element = document.querySelector('#df-6aa1e379-f876-4a37-ada6-5b02d15d54ee');\n",
              "          const dataTable =\n",
              "            await google.colab.kernel.invokeFunction('convertToInteractive',\n",
              "                                                     [key], {});\n",
              "          if (!dataTable) return;\n",
              "\n",
              "          const docLinkHtml = 'Like what you see? Visit the ' +\n",
              "            '<a target=\"_blank\" href=https://colab.research.google.com/notebooks/data_table.ipynb>data table notebook</a>'\n",
              "            + ' to learn more about interactive tables.';\n",
              "          element.innerHTML = '';\n",
              "          dataTable['output_type'] = 'display_data';\n",
              "          await google.colab.output.renderOutput(dataTable, element);\n",
              "          const docLink = document.createElement('div');\n",
              "          docLink.innerHTML = docLinkHtml;\n",
              "          element.appendChild(docLink);\n",
              "        }\n",
              "      </script>\n",
              "    </div>\n",
              "  </div>\n",
              "  "
            ]
          },
          "metadata": {},
          "execution_count": 227
        }
      ]
    },
    {
      "cell_type": "markdown",
      "source": [
        "Wir können die Funktion `get_dummies` auf den gesamten Datensatz anwenden und Pandas sucht sich selbst die umzuwandelnden Spalten.\n",
        "\n"
      ],
      "metadata": {
        "id": "FfpwR9Zd22G0"
      },
      "id": "FfpwR9Zd22G0"
    },
    {
      "cell_type": "code",
      "source": [
        "X = pd.get_dummies(X)\n",
        "X.head()"
      ],
      "metadata": {
        "id": "faK9AhsNldxt",
        "colab": {
          "base_uri": "https://localhost:8080/",
          "height": 348
        },
        "outputId": "ac50cd4a-a425-438e-cffb-393e15fa2513"
      },
      "id": "faK9AhsNldxt",
      "execution_count": 228,
      "outputs": [
        {
          "output_type": "execute_result",
          "data": {
            "text/plain": [
              "   Attendance  Half-time Home Goals  Half-time Away Goals  Hour  \\\n",
              "0      4444.0                   3.0                   0.0    15   \n",
              "1     18346.0                   2.0                   0.0    15   \n",
              "2     24059.0                   2.0                   0.0    12   \n",
              "3      2549.0                   1.0                   0.0    14   \n",
              "4     23409.0                   0.0                   0.0    16   \n",
              "\n",
              "   Half-time Goals  Half-time Goals Difference  Stage_Final  Stage_Group  \\\n",
              "0              3.0                         3.0            0            1   \n",
              "1              2.0                         2.0            0            1   \n",
              "2              2.0                         2.0            0            1   \n",
              "3              1.0                         1.0            0            1   \n",
              "4              0.0                         0.0            0            1   \n",
              "\n",
              "   Stage_Quarter-finals  Stage_Round of 16  ...  \\\n",
              "0                     0                  0  ...   \n",
              "1                     0                  0  ...   \n",
              "2                     0                  0  ...   \n",
              "3                     0                  0  ...   \n",
              "4                     0                  0  ...   \n",
              "\n",
              "   Away Team Name_rn\">Serbia and Montenegro  \\\n",
              "0                                         0   \n",
              "1                                         0   \n",
              "2                                         0   \n",
              "3                                         0   \n",
              "4                                         0   \n",
              "\n",
              "   Away Team Name_rn\">Trinidad and Tobago  \\\n",
              "0                                       0   \n",
              "1                                       0   \n",
              "2                                       0   \n",
              "3                                       0   \n",
              "4                                       0   \n",
              "\n",
              "   Away Team Name_rn\">United Arab Emirates  Weekday_Friday  Weekday_Monday  \\\n",
              "0                                        0               0               0   \n",
              "1                                        0               0               0   \n",
              "2                                        0               0               1   \n",
              "3                                        0               0               1   \n",
              "4                                        0               0               0   \n",
              "\n",
              "   Weekday_Saturday  Weekday_Sunday  Weekday_Thursday  Weekday_Tuesday  \\\n",
              "0                 0               1                 0                0   \n",
              "1                 0               1                 0                0   \n",
              "2                 0               0                 0                0   \n",
              "3                 0               0                 0                0   \n",
              "4                 0               0                 0                1   \n",
              "\n",
              "   Weekday_Wednesday  \n",
              "0                  0  \n",
              "1                  0  \n",
              "2                  0  \n",
              "3                  0  \n",
              "4                  0  \n",
              "\n",
              "[5 rows x 180 columns]"
            ],
            "text/html": [
              "\n",
              "  <div id=\"df-34b5a438-e634-484a-98bb-b9f3bdd30038\">\n",
              "    <div class=\"colab-df-container\">\n",
              "      <div>\n",
              "<style scoped>\n",
              "    .dataframe tbody tr th:only-of-type {\n",
              "        vertical-align: middle;\n",
              "    }\n",
              "\n",
              "    .dataframe tbody tr th {\n",
              "        vertical-align: top;\n",
              "    }\n",
              "\n",
              "    .dataframe thead th {\n",
              "        text-align: right;\n",
              "    }\n",
              "</style>\n",
              "<table border=\"1\" class=\"dataframe\">\n",
              "  <thead>\n",
              "    <tr style=\"text-align: right;\">\n",
              "      <th></th>\n",
              "      <th>Attendance</th>\n",
              "      <th>Half-time Home Goals</th>\n",
              "      <th>Half-time Away Goals</th>\n",
              "      <th>Hour</th>\n",
              "      <th>Half-time Goals</th>\n",
              "      <th>Half-time Goals Difference</th>\n",
              "      <th>Stage_Final</th>\n",
              "      <th>Stage_Group</th>\n",
              "      <th>Stage_Quarter-finals</th>\n",
              "      <th>Stage_Round of 16</th>\n",
              "      <th>...</th>\n",
              "      <th>Away Team Name_rn\"&gt;Serbia and Montenegro</th>\n",
              "      <th>Away Team Name_rn\"&gt;Trinidad and Tobago</th>\n",
              "      <th>Away Team Name_rn\"&gt;United Arab Emirates</th>\n",
              "      <th>Weekday_Friday</th>\n",
              "      <th>Weekday_Monday</th>\n",
              "      <th>Weekday_Saturday</th>\n",
              "      <th>Weekday_Sunday</th>\n",
              "      <th>Weekday_Thursday</th>\n",
              "      <th>Weekday_Tuesday</th>\n",
              "      <th>Weekday_Wednesday</th>\n",
              "    </tr>\n",
              "  </thead>\n",
              "  <tbody>\n",
              "    <tr>\n",
              "      <th>0</th>\n",
              "      <td>4444.0</td>\n",
              "      <td>3.0</td>\n",
              "      <td>0.0</td>\n",
              "      <td>15</td>\n",
              "      <td>3.0</td>\n",
              "      <td>3.0</td>\n",
              "      <td>0</td>\n",
              "      <td>1</td>\n",
              "      <td>0</td>\n",
              "      <td>0</td>\n",
              "      <td>...</td>\n",
              "      <td>0</td>\n",
              "      <td>0</td>\n",
              "      <td>0</td>\n",
              "      <td>0</td>\n",
              "      <td>0</td>\n",
              "      <td>0</td>\n",
              "      <td>1</td>\n",
              "      <td>0</td>\n",
              "      <td>0</td>\n",
              "      <td>0</td>\n",
              "    </tr>\n",
              "    <tr>\n",
              "      <th>1</th>\n",
              "      <td>18346.0</td>\n",
              "      <td>2.0</td>\n",
              "      <td>0.0</td>\n",
              "      <td>15</td>\n",
              "      <td>2.0</td>\n",
              "      <td>2.0</td>\n",
              "      <td>0</td>\n",
              "      <td>1</td>\n",
              "      <td>0</td>\n",
              "      <td>0</td>\n",
              "      <td>...</td>\n",
              "      <td>0</td>\n",
              "      <td>0</td>\n",
              "      <td>0</td>\n",
              "      <td>0</td>\n",
              "      <td>0</td>\n",
              "      <td>0</td>\n",
              "      <td>1</td>\n",
              "      <td>0</td>\n",
              "      <td>0</td>\n",
              "      <td>0</td>\n",
              "    </tr>\n",
              "    <tr>\n",
              "      <th>2</th>\n",
              "      <td>24059.0</td>\n",
              "      <td>2.0</td>\n",
              "      <td>0.0</td>\n",
              "      <td>12</td>\n",
              "      <td>2.0</td>\n",
              "      <td>2.0</td>\n",
              "      <td>0</td>\n",
              "      <td>1</td>\n",
              "      <td>0</td>\n",
              "      <td>0</td>\n",
              "      <td>...</td>\n",
              "      <td>0</td>\n",
              "      <td>0</td>\n",
              "      <td>0</td>\n",
              "      <td>0</td>\n",
              "      <td>1</td>\n",
              "      <td>0</td>\n",
              "      <td>0</td>\n",
              "      <td>0</td>\n",
              "      <td>0</td>\n",
              "      <td>0</td>\n",
              "    </tr>\n",
              "    <tr>\n",
              "      <th>3</th>\n",
              "      <td>2549.0</td>\n",
              "      <td>1.0</td>\n",
              "      <td>0.0</td>\n",
              "      <td>14</td>\n",
              "      <td>1.0</td>\n",
              "      <td>1.0</td>\n",
              "      <td>0</td>\n",
              "      <td>1</td>\n",
              "      <td>0</td>\n",
              "      <td>0</td>\n",
              "      <td>...</td>\n",
              "      <td>0</td>\n",
              "      <td>0</td>\n",
              "      <td>0</td>\n",
              "      <td>0</td>\n",
              "      <td>1</td>\n",
              "      <td>0</td>\n",
              "      <td>0</td>\n",
              "      <td>0</td>\n",
              "      <td>0</td>\n",
              "      <td>0</td>\n",
              "    </tr>\n",
              "    <tr>\n",
              "      <th>4</th>\n",
              "      <td>23409.0</td>\n",
              "      <td>0.0</td>\n",
              "      <td>0.0</td>\n",
              "      <td>16</td>\n",
              "      <td>0.0</td>\n",
              "      <td>0.0</td>\n",
              "      <td>0</td>\n",
              "      <td>1</td>\n",
              "      <td>0</td>\n",
              "      <td>0</td>\n",
              "      <td>...</td>\n",
              "      <td>0</td>\n",
              "      <td>0</td>\n",
              "      <td>0</td>\n",
              "      <td>0</td>\n",
              "      <td>0</td>\n",
              "      <td>0</td>\n",
              "      <td>0</td>\n",
              "      <td>0</td>\n",
              "      <td>1</td>\n",
              "      <td>0</td>\n",
              "    </tr>\n",
              "  </tbody>\n",
              "</table>\n",
              "<p>5 rows × 180 columns</p>\n",
              "</div>\n",
              "      <button class=\"colab-df-convert\" onclick=\"convertToInteractive('df-34b5a438-e634-484a-98bb-b9f3bdd30038')\"\n",
              "              title=\"Convert this dataframe to an interactive table.\"\n",
              "              style=\"display:none;\">\n",
              "        \n",
              "  <svg xmlns=\"http://www.w3.org/2000/svg\" height=\"24px\"viewBox=\"0 0 24 24\"\n",
              "       width=\"24px\">\n",
              "    <path d=\"M0 0h24v24H0V0z\" fill=\"none\"/>\n",
              "    <path d=\"M18.56 5.44l.94 2.06.94-2.06 2.06-.94-2.06-.94-.94-2.06-.94 2.06-2.06.94zm-11 1L8.5 8.5l.94-2.06 2.06-.94-2.06-.94L8.5 2.5l-.94 2.06-2.06.94zm10 10l.94 2.06.94-2.06 2.06-.94-2.06-.94-.94-2.06-.94 2.06-2.06.94z\"/><path d=\"M17.41 7.96l-1.37-1.37c-.4-.4-.92-.59-1.43-.59-.52 0-1.04.2-1.43.59L10.3 9.45l-7.72 7.72c-.78.78-.78 2.05 0 2.83L4 21.41c.39.39.9.59 1.41.59.51 0 1.02-.2 1.41-.59l7.78-7.78 2.81-2.81c.8-.78.8-2.07 0-2.86zM5.41 20L4 18.59l7.72-7.72 1.47 1.35L5.41 20z\"/>\n",
              "  </svg>\n",
              "      </button>\n",
              "      \n",
              "  <style>\n",
              "    .colab-df-container {\n",
              "      display:flex;\n",
              "      flex-wrap:wrap;\n",
              "      gap: 12px;\n",
              "    }\n",
              "\n",
              "    .colab-df-convert {\n",
              "      background-color: #E8F0FE;\n",
              "      border: none;\n",
              "      border-radius: 50%;\n",
              "      cursor: pointer;\n",
              "      display: none;\n",
              "      fill: #1967D2;\n",
              "      height: 32px;\n",
              "      padding: 0 0 0 0;\n",
              "      width: 32px;\n",
              "    }\n",
              "\n",
              "    .colab-df-convert:hover {\n",
              "      background-color: #E2EBFA;\n",
              "      box-shadow: 0px 1px 2px rgba(60, 64, 67, 0.3), 0px 1px 3px 1px rgba(60, 64, 67, 0.15);\n",
              "      fill: #174EA6;\n",
              "    }\n",
              "\n",
              "    [theme=dark] .colab-df-convert {\n",
              "      background-color: #3B4455;\n",
              "      fill: #D2E3FC;\n",
              "    }\n",
              "\n",
              "    [theme=dark] .colab-df-convert:hover {\n",
              "      background-color: #434B5C;\n",
              "      box-shadow: 0px 1px 3px 1px rgba(0, 0, 0, 0.15);\n",
              "      filter: drop-shadow(0px 1px 2px rgba(0, 0, 0, 0.3));\n",
              "      fill: #FFFFFF;\n",
              "    }\n",
              "  </style>\n",
              "\n",
              "      <script>\n",
              "        const buttonEl =\n",
              "          document.querySelector('#df-34b5a438-e634-484a-98bb-b9f3bdd30038 button.colab-df-convert');\n",
              "        buttonEl.style.display =\n",
              "          google.colab.kernel.accessAllowed ? 'block' : 'none';\n",
              "\n",
              "        async function convertToInteractive(key) {\n",
              "          const element = document.querySelector('#df-34b5a438-e634-484a-98bb-b9f3bdd30038');\n",
              "          const dataTable =\n",
              "            await google.colab.kernel.invokeFunction('convertToInteractive',\n",
              "                                                     [key], {});\n",
              "          if (!dataTable) return;\n",
              "\n",
              "          const docLinkHtml = 'Like what you see? Visit the ' +\n",
              "            '<a target=\"_blank\" href=https://colab.research.google.com/notebooks/data_table.ipynb>data table notebook</a>'\n",
              "            + ' to learn more about interactive tables.';\n",
              "          element.innerHTML = '';\n",
              "          dataTable['output_type'] = 'display_data';\n",
              "          await google.colab.output.renderOutput(dataTable, element);\n",
              "          const docLink = document.createElement('div');\n",
              "          docLink.innerHTML = docLinkHtml;\n",
              "          element.appendChild(docLink);\n",
              "        }\n",
              "      </script>\n",
              "    </div>\n",
              "  </div>\n",
              "  "
            ]
          },
          "metadata": {},
          "execution_count": 228
        }
      ]
    },
    {
      "cell_type": "markdown",
      "source": [
        "Bei der Aufteilung der Daten in Test- und Trainingsmenge hilft die Funktion `train_test_split`."
      ],
      "metadata": {
        "id": "iXcdkwur3HZI"
      },
      "id": "iXcdkwur3HZI"
    },
    {
      "cell_type": "code",
      "source": [
        "from sklearn.model_selection import train_test_split"
      ],
      "metadata": {
        "id": "khyiUcYRjdYA"
      },
      "id": "khyiUcYRjdYA",
      "execution_count": 229,
      "outputs": []
    },
    {
      "cell_type": "code",
      "source": [
        "# Training Algorithmus: X_train (Features), y_train (Target)\n",
        "# Test des Algorithmus (Bewertung): X_test, y_test\n",
        "#     1) Algorithmus bekommt Daten (X_test), die er noch nicht kennt & macht Prognose\n",
        "#     2) Vergleich Prognose mit tatsächlichen Werte (y_test) --> Bewertung\n",
        "X_train, X_test, y_train, y_test = train_test_split(X, y, test_size=0.2, random_state=3)"
      ],
      "metadata": {
        "id": "wRR4swbcjkRI"
      },
      "id": "wRR4swbcjkRI",
      "execution_count": 230,
      "outputs": []
    },
    {
      "cell_type": "markdown",
      "source": [
        "**Trainingsdaten:** Das jeweilige ML-Verfahren kennt `y_train` (Target, d.h. Anzahl geschossener Tore) und `X_train` (Features, d.h. die zugehörigen Merkmale des jeweiligen Spiels wie Tore zur Halbzeit etc., die das Target erklären) und versucht einen Zusammenhang zwischen diesen zu lernen!"
      ],
      "metadata": {
        "id": "P7I97YGg3cnt"
      },
      "id": "P7I97YGg3cnt"
    },
    {
      "cell_type": "code",
      "source": [
        "y_train.head()"
      ],
      "metadata": {
        "id": "Wz3QX5_R4tiZ",
        "colab": {
          "base_uri": "https://localhost:8080/"
        },
        "outputId": "9f0c728b-9650-4e4b-9143-109c0523555b"
      },
      "id": "Wz3QX5_R4tiZ",
      "execution_count": 231,
      "outputs": [
        {
          "output_type": "execute_result",
          "data": {
            "text/plain": [
              "523    5.0\n",
              "112    5.0\n",
              "661    3.0\n",
              "132    4.0\n",
              "95     2.0\n",
              "Name: Total Goals, dtype: float64"
            ]
          },
          "metadata": {},
          "execution_count": 231
        }
      ]
    },
    {
      "cell_type": "code",
      "source": [
        "X_train.head()"
      ],
      "metadata": {
        "id": "YklfaWPmjm5X",
        "colab": {
          "base_uri": "https://localhost:8080/",
          "height": 348
        },
        "outputId": "a99f7584-8be7-4381-8243-3601a77bd965"
      },
      "id": "YklfaWPmjm5X",
      "execution_count": 232,
      "outputs": [
        {
          "output_type": "execute_result",
          "data": {
            "text/plain": [
              "     Attendance  Half-time Home Goals  Half-time Away Goals  Hour  \\\n",
              "523     35500.0                   1.0                   1.0    14   \n",
              "112     12217.0                   1.0                   1.0    19   \n",
              "661     50000.0                   1.0                   0.0    15   \n",
              "132     49471.0                   1.0                   1.0    19   \n",
              "95      17000.0                   1.0                   0.0    17   \n",
              "\n",
              "     Half-time Goals  Half-time Goals Difference  Stage_Final  Stage_Group  \\\n",
              "523              2.0                         0.0            0            1   \n",
              "112              2.0                         0.0            0            1   \n",
              "661              1.0                         1.0            0            1   \n",
              "132              2.0                         0.0            0            0   \n",
              "95               1.0                         1.0            0            0   \n",
              "\n",
              "     Stage_Quarter-finals  Stage_Round of 16  ...  \\\n",
              "523                     0                  0  ...   \n",
              "112                     0                  0  ...   \n",
              "661                     0                  0  ...   \n",
              "132                     0                  0  ...   \n",
              "95                      1                  0  ...   \n",
              "\n",
              "     Away Team Name_rn\">Serbia and Montenegro  \\\n",
              "523                                         0   \n",
              "112                                         0   \n",
              "661                                         0   \n",
              "132                                         0   \n",
              "95                                          0   \n",
              "\n",
              "     Away Team Name_rn\">Trinidad and Tobago  \\\n",
              "523                                       0   \n",
              "112                                       0   \n",
              "661                                       0   \n",
              "132                                       0   \n",
              "95                                        0   \n",
              "\n",
              "     Away Team Name_rn\">United Arab Emirates  Weekday_Friday  Weekday_Monday  \\\n",
              "523                                        0               0               0   \n",
              "112                                        0               0               0   \n",
              "661                                        0               0               0   \n",
              "132                                        0               0               0   \n",
              "95                                         0               0               0   \n",
              "\n",
              "     Weekday_Saturday  Weekday_Sunday  Weekday_Thursday  Weekday_Tuesday  \\\n",
              "523                 1               0                 0                0   \n",
              "112                 0               0                 0                0   \n",
              "661                 0               0                 1                0   \n",
              "132                 0               0                 0                1   \n",
              "95                  0               1                 0                0   \n",
              "\n",
              "     Weekday_Wednesday  \n",
              "523                  0  \n",
              "112                  1  \n",
              "661                  0  \n",
              "132                  0  \n",
              "95                   0  \n",
              "\n",
              "[5 rows x 180 columns]"
            ],
            "text/html": [
              "\n",
              "  <div id=\"df-02aed2af-177a-477b-9c21-650b4601b11e\">\n",
              "    <div class=\"colab-df-container\">\n",
              "      <div>\n",
              "<style scoped>\n",
              "    .dataframe tbody tr th:only-of-type {\n",
              "        vertical-align: middle;\n",
              "    }\n",
              "\n",
              "    .dataframe tbody tr th {\n",
              "        vertical-align: top;\n",
              "    }\n",
              "\n",
              "    .dataframe thead th {\n",
              "        text-align: right;\n",
              "    }\n",
              "</style>\n",
              "<table border=\"1\" class=\"dataframe\">\n",
              "  <thead>\n",
              "    <tr style=\"text-align: right;\">\n",
              "      <th></th>\n",
              "      <th>Attendance</th>\n",
              "      <th>Half-time Home Goals</th>\n",
              "      <th>Half-time Away Goals</th>\n",
              "      <th>Hour</th>\n",
              "      <th>Half-time Goals</th>\n",
              "      <th>Half-time Goals Difference</th>\n",
              "      <th>Stage_Final</th>\n",
              "      <th>Stage_Group</th>\n",
              "      <th>Stage_Quarter-finals</th>\n",
              "      <th>Stage_Round of 16</th>\n",
              "      <th>...</th>\n",
              "      <th>Away Team Name_rn\"&gt;Serbia and Montenegro</th>\n",
              "      <th>Away Team Name_rn\"&gt;Trinidad and Tobago</th>\n",
              "      <th>Away Team Name_rn\"&gt;United Arab Emirates</th>\n",
              "      <th>Weekday_Friday</th>\n",
              "      <th>Weekday_Monday</th>\n",
              "      <th>Weekday_Saturday</th>\n",
              "      <th>Weekday_Sunday</th>\n",
              "      <th>Weekday_Thursday</th>\n",
              "      <th>Weekday_Tuesday</th>\n",
              "      <th>Weekday_Wednesday</th>\n",
              "    </tr>\n",
              "  </thead>\n",
              "  <tbody>\n",
              "    <tr>\n",
              "      <th>523</th>\n",
              "      <td>35500.0</td>\n",
              "      <td>1.0</td>\n",
              "      <td>1.0</td>\n",
              "      <td>14</td>\n",
              "      <td>2.0</td>\n",
              "      <td>0.0</td>\n",
              "      <td>0</td>\n",
              "      <td>1</td>\n",
              "      <td>0</td>\n",
              "      <td>0</td>\n",
              "      <td>...</td>\n",
              "      <td>0</td>\n",
              "      <td>0</td>\n",
              "      <td>0</td>\n",
              "      <td>0</td>\n",
              "      <td>0</td>\n",
              "      <td>1</td>\n",
              "      <td>0</td>\n",
              "      <td>0</td>\n",
              "      <td>0</td>\n",
              "      <td>0</td>\n",
              "    </tr>\n",
              "    <tr>\n",
              "      <th>112</th>\n",
              "      <td>12217.0</td>\n",
              "      <td>1.0</td>\n",
              "      <td>1.0</td>\n",
              "      <td>19</td>\n",
              "      <td>2.0</td>\n",
              "      <td>0.0</td>\n",
              "      <td>0</td>\n",
              "      <td>1</td>\n",
              "      <td>0</td>\n",
              "      <td>0</td>\n",
              "      <td>...</td>\n",
              "      <td>0</td>\n",
              "      <td>0</td>\n",
              "      <td>0</td>\n",
              "      <td>0</td>\n",
              "      <td>0</td>\n",
              "      <td>0</td>\n",
              "      <td>0</td>\n",
              "      <td>0</td>\n",
              "      <td>0</td>\n",
              "      <td>1</td>\n",
              "    </tr>\n",
              "    <tr>\n",
              "      <th>661</th>\n",
              "      <td>50000.0</td>\n",
              "      <td>1.0</td>\n",
              "      <td>0.0</td>\n",
              "      <td>15</td>\n",
              "      <td>1.0</td>\n",
              "      <td>1.0</td>\n",
              "      <td>0</td>\n",
              "      <td>1</td>\n",
              "      <td>0</td>\n",
              "      <td>0</td>\n",
              "      <td>...</td>\n",
              "      <td>0</td>\n",
              "      <td>0</td>\n",
              "      <td>0</td>\n",
              "      <td>0</td>\n",
              "      <td>0</td>\n",
              "      <td>0</td>\n",
              "      <td>0</td>\n",
              "      <td>1</td>\n",
              "      <td>0</td>\n",
              "      <td>0</td>\n",
              "    </tr>\n",
              "    <tr>\n",
              "      <th>132</th>\n",
              "      <td>49471.0</td>\n",
              "      <td>1.0</td>\n",
              "      <td>1.0</td>\n",
              "      <td>19</td>\n",
              "      <td>2.0</td>\n",
              "      <td>0.0</td>\n",
              "      <td>0</td>\n",
              "      <td>0</td>\n",
              "      <td>0</td>\n",
              "      <td>0</td>\n",
              "      <td>...</td>\n",
              "      <td>0</td>\n",
              "      <td>0</td>\n",
              "      <td>0</td>\n",
              "      <td>0</td>\n",
              "      <td>0</td>\n",
              "      <td>0</td>\n",
              "      <td>0</td>\n",
              "      <td>0</td>\n",
              "      <td>1</td>\n",
              "      <td>0</td>\n",
              "    </tr>\n",
              "    <tr>\n",
              "      <th>95</th>\n",
              "      <td>17000.0</td>\n",
              "      <td>1.0</td>\n",
              "      <td>0.0</td>\n",
              "      <td>17</td>\n",
              "      <td>1.0</td>\n",
              "      <td>1.0</td>\n",
              "      <td>0</td>\n",
              "      <td>0</td>\n",
              "      <td>1</td>\n",
              "      <td>0</td>\n",
              "      <td>...</td>\n",
              "      <td>0</td>\n",
              "      <td>0</td>\n",
              "      <td>0</td>\n",
              "      <td>0</td>\n",
              "      <td>0</td>\n",
              "      <td>0</td>\n",
              "      <td>1</td>\n",
              "      <td>0</td>\n",
              "      <td>0</td>\n",
              "      <td>0</td>\n",
              "    </tr>\n",
              "  </tbody>\n",
              "</table>\n",
              "<p>5 rows × 180 columns</p>\n",
              "</div>\n",
              "      <button class=\"colab-df-convert\" onclick=\"convertToInteractive('df-02aed2af-177a-477b-9c21-650b4601b11e')\"\n",
              "              title=\"Convert this dataframe to an interactive table.\"\n",
              "              style=\"display:none;\">\n",
              "        \n",
              "  <svg xmlns=\"http://www.w3.org/2000/svg\" height=\"24px\"viewBox=\"0 0 24 24\"\n",
              "       width=\"24px\">\n",
              "    <path d=\"M0 0h24v24H0V0z\" fill=\"none\"/>\n",
              "    <path d=\"M18.56 5.44l.94 2.06.94-2.06 2.06-.94-2.06-.94-.94-2.06-.94 2.06-2.06.94zm-11 1L8.5 8.5l.94-2.06 2.06-.94-2.06-.94L8.5 2.5l-.94 2.06-2.06.94zm10 10l.94 2.06.94-2.06 2.06-.94-2.06-.94-.94-2.06-.94 2.06-2.06.94z\"/><path d=\"M17.41 7.96l-1.37-1.37c-.4-.4-.92-.59-1.43-.59-.52 0-1.04.2-1.43.59L10.3 9.45l-7.72 7.72c-.78.78-.78 2.05 0 2.83L4 21.41c.39.39.9.59 1.41.59.51 0 1.02-.2 1.41-.59l7.78-7.78 2.81-2.81c.8-.78.8-2.07 0-2.86zM5.41 20L4 18.59l7.72-7.72 1.47 1.35L5.41 20z\"/>\n",
              "  </svg>\n",
              "      </button>\n",
              "      \n",
              "  <style>\n",
              "    .colab-df-container {\n",
              "      display:flex;\n",
              "      flex-wrap:wrap;\n",
              "      gap: 12px;\n",
              "    }\n",
              "\n",
              "    .colab-df-convert {\n",
              "      background-color: #E8F0FE;\n",
              "      border: none;\n",
              "      border-radius: 50%;\n",
              "      cursor: pointer;\n",
              "      display: none;\n",
              "      fill: #1967D2;\n",
              "      height: 32px;\n",
              "      padding: 0 0 0 0;\n",
              "      width: 32px;\n",
              "    }\n",
              "\n",
              "    .colab-df-convert:hover {\n",
              "      background-color: #E2EBFA;\n",
              "      box-shadow: 0px 1px 2px rgba(60, 64, 67, 0.3), 0px 1px 3px 1px rgba(60, 64, 67, 0.15);\n",
              "      fill: #174EA6;\n",
              "    }\n",
              "\n",
              "    [theme=dark] .colab-df-convert {\n",
              "      background-color: #3B4455;\n",
              "      fill: #D2E3FC;\n",
              "    }\n",
              "\n",
              "    [theme=dark] .colab-df-convert:hover {\n",
              "      background-color: #434B5C;\n",
              "      box-shadow: 0px 1px 3px 1px rgba(0, 0, 0, 0.15);\n",
              "      filter: drop-shadow(0px 1px 2px rgba(0, 0, 0, 0.3));\n",
              "      fill: #FFFFFF;\n",
              "    }\n",
              "  </style>\n",
              "\n",
              "      <script>\n",
              "        const buttonEl =\n",
              "          document.querySelector('#df-02aed2af-177a-477b-9c21-650b4601b11e button.colab-df-convert');\n",
              "        buttonEl.style.display =\n",
              "          google.colab.kernel.accessAllowed ? 'block' : 'none';\n",
              "\n",
              "        async function convertToInteractive(key) {\n",
              "          const element = document.querySelector('#df-02aed2af-177a-477b-9c21-650b4601b11e');\n",
              "          const dataTable =\n",
              "            await google.colab.kernel.invokeFunction('convertToInteractive',\n",
              "                                                     [key], {});\n",
              "          if (!dataTable) return;\n",
              "\n",
              "          const docLinkHtml = 'Like what you see? Visit the ' +\n",
              "            '<a target=\"_blank\" href=https://colab.research.google.com/notebooks/data_table.ipynb>data table notebook</a>'\n",
              "            + ' to learn more about interactive tables.';\n",
              "          element.innerHTML = '';\n",
              "          dataTable['output_type'] = 'display_data';\n",
              "          await google.colab.output.renderOutput(dataTable, element);\n",
              "          const docLink = document.createElement('div');\n",
              "          docLink.innerHTML = docLinkHtml;\n",
              "          element.appendChild(docLink);\n",
              "        }\n",
              "      </script>\n",
              "    </div>\n",
              "  </div>\n",
              "  "
            ]
          },
          "metadata": {},
          "execution_count": 232
        }
      ]
    },
    {
      "cell_type": "markdown",
      "source": [
        "### 3.3 Modell auswählen\n",
        "\n",
        "Für Regressions- und Klassifikationsprobleme gibt es eine Unmenge an ML-Verfahren. Eine Übersicht finden Sie [hier](https://scikit-learn.org/stable/). Wir werden das Verfahren `Random Forest` verwenden. Es gehört zu den besten und robustestens Verfahren im Bereich Machine Learning und wird aus diesem Grund häufig in der Praxis eingesetzt."
      ],
      "metadata": {
        "id": "qKXsT51djvLY"
      },
      "id": "qKXsT51djvLY"
    },
    {
      "cell_type": "code",
      "source": [
        "from sklearn.ensemble import RandomForestRegressor"
      ],
      "metadata": {
        "id": "x_31iuj8jvyc"
      },
      "id": "x_31iuj8jvyc",
      "execution_count": 233,
      "outputs": []
    },
    {
      "cell_type": "code",
      "source": [
        "model = RandomForestRegressor()"
      ],
      "metadata": {
        "id": "1GKdd-yxj73L"
      },
      "id": "1GKdd-yxj73L",
      "execution_count": 234,
      "outputs": []
    },
    {
      "cell_type": "markdown",
      "source": [
        "### 3.4 Modell trainieren\n",
        "\n",
        "Das Random Forest Verfahren versucht nun einen Zusammenhang zwischen den Features und dem Target zu lernen und minimiert dabei ein Fehlermaß. In der Grundeinstellung wird die Summe der quadrierten Fehler minimiert, d.h. $∑(y_i - \\hat{y}_i)^2$ mit $y=$Anzahl geschossene Tore Spiel $i$ und $\\hat{y}=$Prognose Anzahl geschossene Tore Spiel $i$."
      ],
      "metadata": {
        "id": "fgPlh3stkFTt"
      },
      "id": "fgPlh3stkFTt"
    },
    {
      "cell_type": "code",
      "source": [
        "model.fit(X_train, y_train)"
      ],
      "metadata": {
        "id": "GjXcrqj0kBqg",
        "colab": {
          "base_uri": "https://localhost:8080/"
        },
        "outputId": "099f6515-1332-465d-e06e-0e5bcc385c5b"
      },
      "id": "GjXcrqj0kBqg",
      "execution_count": 235,
      "outputs": [
        {
          "output_type": "execute_result",
          "data": {
            "text/plain": [
              "RandomForestRegressor()"
            ]
          },
          "metadata": {},
          "execution_count": 235
        }
      ]
    },
    {
      "cell_type": "markdown",
      "source": [
        "### 3.5 Modell anwenden\n",
        "\n",
        "Zu diesem Zweck nutzen wir nun die **Testdaten**. Das ML-Verfahren erhält die Daten `X_test`, d.h. die Merkmale eines Spiels und wendet die gelernten Zusammenhänge zur Prognose des Targets an, d.h. die Anzahl der geschossenen Tore!"
      ],
      "metadata": {
        "id": "7E0hE8ZGni3Z"
      },
      "id": "7E0hE8ZGni3Z"
    },
    {
      "cell_type": "code",
      "source": [
        "X_test.head()"
      ],
      "metadata": {
        "id": "yAtrJKMVnkT0",
        "colab": {
          "base_uri": "https://localhost:8080/",
          "height": 348
        },
        "outputId": "ad1de764-8b18-4ac8-dc19-510b2c6b5fe3"
      },
      "id": "yAtrJKMVnkT0",
      "execution_count": 236,
      "outputs": [
        {
          "output_type": "execute_result",
          "data": {
            "text/plain": [
              "     Attendance  Half-time Home Goals  Half-time Away Goals  Hour  \\\n",
              "108     10647.0                   1.0                   0.0    19   \n",
              "458     73347.0                   1.0                   0.0    17   \n",
              "201     20654.0                   1.0                   0.0    16   \n",
              "146      9794.0                   2.0                   0.0    15   \n",
              "562     77000.0                   0.0                   1.0    21   \n",
              "\n",
              "     Half-time Goals  Half-time Goals Difference  Stage_Final  Stage_Group  \\\n",
              "108              1.0                         1.0            0            1   \n",
              "458              1.0                         1.0            0            0   \n",
              "201              1.0                         1.0            0            1   \n",
              "146              2.0                         2.0            0            1   \n",
              "562              1.0                         1.0            0            1   \n",
              "\n",
              "     Stage_Quarter-finals  Stage_Round of 16  ...  \\\n",
              "108                     0                  0  ...   \n",
              "458                     1                  0  ...   \n",
              "201                     0                  0  ...   \n",
              "146                     0                  0  ...   \n",
              "562                     0                  0  ...   \n",
              "\n",
              "     Away Team Name_rn\">Serbia and Montenegro  \\\n",
              "108                                         0   \n",
              "458                                         0   \n",
              "201                                         0   \n",
              "146                                         0   \n",
              "562                                         0   \n",
              "\n",
              "     Away Team Name_rn\">Trinidad and Tobago  \\\n",
              "108                                       0   \n",
              "458                                       0   \n",
              "201                                       0   \n",
              "146                                       0   \n",
              "562                                       0   \n",
              "\n",
              "     Away Team Name_rn\">United Arab Emirates  Weekday_Friday  Weekday_Monday  \\\n",
              "108                                        0               0               0   \n",
              "458                                        0               0               0   \n",
              "201                                        0               0               0   \n",
              "146                                        0               0               0   \n",
              "562                                        0               1               0   \n",
              "\n",
              "     Weekday_Saturday  Weekday_Sunday  Weekday_Thursday  Weekday_Tuesday  \\\n",
              "108                 0               1                 0                0   \n",
              "458                 0               1                 0                0   \n",
              "201                 0               0                 0                1   \n",
              "146                 1               0                 0                0   \n",
              "562                 0               0                 0                0   \n",
              "\n",
              "     Weekday_Wednesday  \n",
              "108                  0  \n",
              "458                  0  \n",
              "201                  0  \n",
              "146                  0  \n",
              "562                  0  \n",
              "\n",
              "[5 rows x 180 columns]"
            ],
            "text/html": [
              "\n",
              "  <div id=\"df-d5e6b3a4-51f3-43fd-b77c-e948267f3f7c\">\n",
              "    <div class=\"colab-df-container\">\n",
              "      <div>\n",
              "<style scoped>\n",
              "    .dataframe tbody tr th:only-of-type {\n",
              "        vertical-align: middle;\n",
              "    }\n",
              "\n",
              "    .dataframe tbody tr th {\n",
              "        vertical-align: top;\n",
              "    }\n",
              "\n",
              "    .dataframe thead th {\n",
              "        text-align: right;\n",
              "    }\n",
              "</style>\n",
              "<table border=\"1\" class=\"dataframe\">\n",
              "  <thead>\n",
              "    <tr style=\"text-align: right;\">\n",
              "      <th></th>\n",
              "      <th>Attendance</th>\n",
              "      <th>Half-time Home Goals</th>\n",
              "      <th>Half-time Away Goals</th>\n",
              "      <th>Hour</th>\n",
              "      <th>Half-time Goals</th>\n",
              "      <th>Half-time Goals Difference</th>\n",
              "      <th>Stage_Final</th>\n",
              "      <th>Stage_Group</th>\n",
              "      <th>Stage_Quarter-finals</th>\n",
              "      <th>Stage_Round of 16</th>\n",
              "      <th>...</th>\n",
              "      <th>Away Team Name_rn\"&gt;Serbia and Montenegro</th>\n",
              "      <th>Away Team Name_rn\"&gt;Trinidad and Tobago</th>\n",
              "      <th>Away Team Name_rn\"&gt;United Arab Emirates</th>\n",
              "      <th>Weekday_Friday</th>\n",
              "      <th>Weekday_Monday</th>\n",
              "      <th>Weekday_Saturday</th>\n",
              "      <th>Weekday_Sunday</th>\n",
              "      <th>Weekday_Thursday</th>\n",
              "      <th>Weekday_Tuesday</th>\n",
              "      <th>Weekday_Wednesday</th>\n",
              "    </tr>\n",
              "  </thead>\n",
              "  <tbody>\n",
              "    <tr>\n",
              "      <th>108</th>\n",
              "      <td>10647.0</td>\n",
              "      <td>1.0</td>\n",
              "      <td>0.0</td>\n",
              "      <td>19</td>\n",
              "      <td>1.0</td>\n",
              "      <td>1.0</td>\n",
              "      <td>0</td>\n",
              "      <td>1</td>\n",
              "      <td>0</td>\n",
              "      <td>0</td>\n",
              "      <td>...</td>\n",
              "      <td>0</td>\n",
              "      <td>0</td>\n",
              "      <td>0</td>\n",
              "      <td>0</td>\n",
              "      <td>0</td>\n",
              "      <td>0</td>\n",
              "      <td>1</td>\n",
              "      <td>0</td>\n",
              "      <td>0</td>\n",
              "      <td>0</td>\n",
              "    </tr>\n",
              "    <tr>\n",
              "      <th>458</th>\n",
              "      <td>73347.0</td>\n",
              "      <td>1.0</td>\n",
              "      <td>0.0</td>\n",
              "      <td>17</td>\n",
              "      <td>1.0</td>\n",
              "      <td>1.0</td>\n",
              "      <td>0</td>\n",
              "      <td>0</td>\n",
              "      <td>1</td>\n",
              "      <td>0</td>\n",
              "      <td>...</td>\n",
              "      <td>0</td>\n",
              "      <td>0</td>\n",
              "      <td>0</td>\n",
              "      <td>0</td>\n",
              "      <td>0</td>\n",
              "      <td>0</td>\n",
              "      <td>1</td>\n",
              "      <td>0</td>\n",
              "      <td>0</td>\n",
              "      <td>0</td>\n",
              "    </tr>\n",
              "    <tr>\n",
              "      <th>201</th>\n",
              "      <td>20654.0</td>\n",
              "      <td>1.0</td>\n",
              "      <td>0.0</td>\n",
              "      <td>16</td>\n",
              "      <td>1.0</td>\n",
              "      <td>1.0</td>\n",
              "      <td>0</td>\n",
              "      <td>1</td>\n",
              "      <td>0</td>\n",
              "      <td>0</td>\n",
              "      <td>...</td>\n",
              "      <td>0</td>\n",
              "      <td>0</td>\n",
              "      <td>0</td>\n",
              "      <td>0</td>\n",
              "      <td>0</td>\n",
              "      <td>0</td>\n",
              "      <td>0</td>\n",
              "      <td>0</td>\n",
              "      <td>1</td>\n",
              "      <td>0</td>\n",
              "    </tr>\n",
              "    <tr>\n",
              "      <th>146</th>\n",
              "      <td>9794.0</td>\n",
              "      <td>2.0</td>\n",
              "      <td>0.0</td>\n",
              "      <td>15</td>\n",
              "      <td>2.0</td>\n",
              "      <td>2.0</td>\n",
              "      <td>0</td>\n",
              "      <td>1</td>\n",
              "      <td>0</td>\n",
              "      <td>0</td>\n",
              "      <td>...</td>\n",
              "      <td>0</td>\n",
              "      <td>0</td>\n",
              "      <td>0</td>\n",
              "      <td>0</td>\n",
              "      <td>0</td>\n",
              "      <td>1</td>\n",
              "      <td>0</td>\n",
              "      <td>0</td>\n",
              "      <td>0</td>\n",
              "      <td>0</td>\n",
              "    </tr>\n",
              "    <tr>\n",
              "      <th>562</th>\n",
              "      <td>77000.0</td>\n",
              "      <td>0.0</td>\n",
              "      <td>1.0</td>\n",
              "      <td>21</td>\n",
              "      <td>1.0</td>\n",
              "      <td>1.0</td>\n",
              "      <td>0</td>\n",
              "      <td>1</td>\n",
              "      <td>0</td>\n",
              "      <td>0</td>\n",
              "      <td>...</td>\n",
              "      <td>0</td>\n",
              "      <td>0</td>\n",
              "      <td>0</td>\n",
              "      <td>1</td>\n",
              "      <td>0</td>\n",
              "      <td>0</td>\n",
              "      <td>0</td>\n",
              "      <td>0</td>\n",
              "      <td>0</td>\n",
              "      <td>0</td>\n",
              "    </tr>\n",
              "  </tbody>\n",
              "</table>\n",
              "<p>5 rows × 180 columns</p>\n",
              "</div>\n",
              "      <button class=\"colab-df-convert\" onclick=\"convertToInteractive('df-d5e6b3a4-51f3-43fd-b77c-e948267f3f7c')\"\n",
              "              title=\"Convert this dataframe to an interactive table.\"\n",
              "              style=\"display:none;\">\n",
              "        \n",
              "  <svg xmlns=\"http://www.w3.org/2000/svg\" height=\"24px\"viewBox=\"0 0 24 24\"\n",
              "       width=\"24px\">\n",
              "    <path d=\"M0 0h24v24H0V0z\" fill=\"none\"/>\n",
              "    <path d=\"M18.56 5.44l.94 2.06.94-2.06 2.06-.94-2.06-.94-.94-2.06-.94 2.06-2.06.94zm-11 1L8.5 8.5l.94-2.06 2.06-.94-2.06-.94L8.5 2.5l-.94 2.06-2.06.94zm10 10l.94 2.06.94-2.06 2.06-.94-2.06-.94-.94-2.06-.94 2.06-2.06.94z\"/><path d=\"M17.41 7.96l-1.37-1.37c-.4-.4-.92-.59-1.43-.59-.52 0-1.04.2-1.43.59L10.3 9.45l-7.72 7.72c-.78.78-.78 2.05 0 2.83L4 21.41c.39.39.9.59 1.41.59.51 0 1.02-.2 1.41-.59l7.78-7.78 2.81-2.81c.8-.78.8-2.07 0-2.86zM5.41 20L4 18.59l7.72-7.72 1.47 1.35L5.41 20z\"/>\n",
              "  </svg>\n",
              "      </button>\n",
              "      \n",
              "  <style>\n",
              "    .colab-df-container {\n",
              "      display:flex;\n",
              "      flex-wrap:wrap;\n",
              "      gap: 12px;\n",
              "    }\n",
              "\n",
              "    .colab-df-convert {\n",
              "      background-color: #E8F0FE;\n",
              "      border: none;\n",
              "      border-radius: 50%;\n",
              "      cursor: pointer;\n",
              "      display: none;\n",
              "      fill: #1967D2;\n",
              "      height: 32px;\n",
              "      padding: 0 0 0 0;\n",
              "      width: 32px;\n",
              "    }\n",
              "\n",
              "    .colab-df-convert:hover {\n",
              "      background-color: #E2EBFA;\n",
              "      box-shadow: 0px 1px 2px rgba(60, 64, 67, 0.3), 0px 1px 3px 1px rgba(60, 64, 67, 0.15);\n",
              "      fill: #174EA6;\n",
              "    }\n",
              "\n",
              "    [theme=dark] .colab-df-convert {\n",
              "      background-color: #3B4455;\n",
              "      fill: #D2E3FC;\n",
              "    }\n",
              "\n",
              "    [theme=dark] .colab-df-convert:hover {\n",
              "      background-color: #434B5C;\n",
              "      box-shadow: 0px 1px 3px 1px rgba(0, 0, 0, 0.15);\n",
              "      filter: drop-shadow(0px 1px 2px rgba(0, 0, 0, 0.3));\n",
              "      fill: #FFFFFF;\n",
              "    }\n",
              "  </style>\n",
              "\n",
              "      <script>\n",
              "        const buttonEl =\n",
              "          document.querySelector('#df-d5e6b3a4-51f3-43fd-b77c-e948267f3f7c button.colab-df-convert');\n",
              "        buttonEl.style.display =\n",
              "          google.colab.kernel.accessAllowed ? 'block' : 'none';\n",
              "\n",
              "        async function convertToInteractive(key) {\n",
              "          const element = document.querySelector('#df-d5e6b3a4-51f3-43fd-b77c-e948267f3f7c');\n",
              "          const dataTable =\n",
              "            await google.colab.kernel.invokeFunction('convertToInteractive',\n",
              "                                                     [key], {});\n",
              "          if (!dataTable) return;\n",
              "\n",
              "          const docLinkHtml = 'Like what you see? Visit the ' +\n",
              "            '<a target=\"_blank\" href=https://colab.research.google.com/notebooks/data_table.ipynb>data table notebook</a>'\n",
              "            + ' to learn more about interactive tables.';\n",
              "          element.innerHTML = '';\n",
              "          dataTable['output_type'] = 'display_data';\n",
              "          await google.colab.output.renderOutput(dataTable, element);\n",
              "          const docLink = document.createElement('div');\n",
              "          docLink.innerHTML = docLinkHtml;\n",
              "          element.appendChild(docLink);\n",
              "        }\n",
              "      </script>\n",
              "    </div>\n",
              "  </div>\n",
              "  "
            ]
          },
          "metadata": {},
          "execution_count": 236
        }
      ]
    },
    {
      "cell_type": "code",
      "source": [
        "y_pred = model.predict(X_test)\n",
        "y_pred"
      ],
      "metadata": {
        "id": "B3ORn3munk4C",
        "colab": {
          "base_uri": "https://localhost:8080/"
        },
        "outputId": "177d70e4-57ba-41ea-fcbd-8b13b419dbc0"
      },
      "id": "B3ORn3munk4C",
      "execution_count": 237,
      "outputs": [
        {
          "output_type": "execute_result",
          "data": {
            "text/plain": [
              "array([2.53, 2.56, 1.96, 4.4 , 1.72, 3.12, 3.88, 5.49, 2.35, 3.79, 1.73,\n",
              "       3.25, 3.96, 4.67, 5.36, 1.28, 3.74, 1.  , 3.22, 2.57, 1.81, 1.3 ,\n",
              "       1.62, 1.23, 2.72, 2.36, 2.57, 1.24, 0.51, 2.5 , 6.83, 1.65, 2.52,\n",
              "       2.62, 1.6 , 5.63, 1.24, 2.14, 3.75, 2.32, 1.21, 0.81, 5.52, 1.5 ,\n",
              "       1.18, 1.51, 6.32, 4.73, 5.73, 2.05, 1.29, 2.1 , 2.5 , 3.69, 2.94,\n",
              "       3.09, 2.12, 2.24, 2.47, 3.2 , 5.84, 2.49, 1.15, 1.64, 2.39, 1.73,\n",
              "       1.48, 1.01, 2.1 , 5.77, 3.82, 1.98, 6.62, 1.94, 2.78, 5.51, 1.9 ,\n",
              "       1.64, 1.11, 1.22, 3.43, 0.79, 2.4 , 1.64, 7.56, 2.93, 2.7 , 3.76,\n",
              "       2.94, 0.86, 3.6 , 1.88, 3.9 , 5.92, 5.45, 1.43, 1.91, 2.48, 1.27,\n",
              "       4.  , 4.54, 3.28, 1.65, 3.79, 2.31, 1.54, 3.58, 1.91, 4.17, 3.96,\n",
              "       1.12, 4.88, 5.26, 1.37, 3.3 , 2.45, 1.85, 2.14, 3.32, 1.18, 5.74,\n",
              "       2.55, 4.46, 6.73, 0.98, 1.21, 4.73, 2.23, 2.02, 3.2 , 2.32, 1.02,\n",
              "       5.83, 5.21, 2.01, 3.52, 1.64, 2.94, 3.01, 5.13, 7.34, 2.  , 7.5 ,\n",
              "       1.17, 3.11, 0.96, 1.96, 0.99, 1.99, 1.13, 2.52, 1.13, 1.5 , 2.01,\n",
              "       2.08, 1.12, 2.38, 2.4 , 1.97, 2.61, 2.42, 1.69, 0.83, 1.63, 0.96,\n",
              "       3.09, 1.16, 2.91, 1.43, 0.85])"
            ]
          },
          "metadata": {},
          "execution_count": 237
        }
      ]
    },
    {
      "cell_type": "markdown",
      "source": [
        "### 3.6 Modell evaluieren\n",
        "\n",
        "Nachdem nun Prognosewerte durch das angelernte Verfahren berechnet wurden, können wir diese mit den tatsächlichen Werten des Target, also der tatsächlichen Anzahl der geschossenen Tore vergleichen (`y_test`). Daraus können wir dann die Güte eines Verfahrens ableiten!"
      ],
      "metadata": {
        "id": "NpGLXSFInywW"
      },
      "id": "NpGLXSFInywW"
    },
    {
      "cell_type": "code",
      "source": [
        "import sklearn.metrics"
      ],
      "metadata": {
        "id": "oDUAdVbAnp-n"
      },
      "id": "oDUAdVbAnp-n",
      "execution_count": 238,
      "outputs": []
    },
    {
      "cell_type": "code",
      "source": [
        "# Genauigkeit des Modells auf der Testmenge \n",
        "sklearn.metrics.mean_absolute_error(y_test, y_pred)"
      ],
      "metadata": {
        "id": "8qwInLdwn1mF",
        "colab": {
          "base_uri": "https://localhost:8080/"
        },
        "outputId": "58ca833e-5437-4e03-b190-a28260164b18"
      },
      "id": "8qwInLdwn1mF",
      "execution_count": 239,
      "outputs": [
        {
          "output_type": "execute_result",
          "data": {
            "text/plain": [
              "1.1984117647058825"
            ]
          },
          "metadata": {},
          "execution_count": 239
        }
      ]
    },
    {
      "cell_type": "code",
      "source": [
        "(y_test - y_pred).plot(\n",
        "    kind=\"hist\",\n",
        "    title= \"Histogramm Prognosefehler\",\n",
        "    figsize=(8,4),\n",
        "    color=\"c\",\n",
        "    edgecolor='k',\n",
        "    density=True,\n",
        "    alpha=0.8    \n",
        "    )\n",
        "plt.show()"
      ],
      "metadata": {
        "id": "ZdlgU01hoYfI",
        "colab": {
          "base_uri": "https://localhost:8080/",
          "height": 281
        },
        "outputId": "91290616-d60b-49fc-afb8-73e28ef4339d"
      },
      "id": "ZdlgU01hoYfI",
      "execution_count": 240,
      "outputs": [
        {
          "output_type": "display_data",
          "data": {
            "text/plain": [
              "<Figure size 576x288 with 1 Axes>"
            ],
            "image/png": "[encoded data removed]"
          },
          "metadata": {
            "needs_background": "light"
          }
        }
      ]
    },
    {
      "cell_type": "markdown",
      "source": [
        "### Übung Machine Learning Modell mit Track & Trace Daten <a class=\"anchor\" id=\"tt_ml\"></a>\n",
        "\n",
        "Sie haben nun erfolgreich eine erste Analyse der Track & Trace Daten gemacht. Sie sollen nun versuchen, die Transportzeit von den europäischen Häfen zum Werk in den USA mithilfe von ML-Verfahren zu prognostizieren. Sollte dies gut gelingen, ist das die Grundlage um die Versorgungssicherheit zu erhöhen und Bestände im Werk zu reduzieren.\n",
        "\n",
        "Nachfolgend finden Sie die relevanten Daten mit entsprechender Filterung. Gehen Sie nun die Schritte `1-6` aus dem Kapitel \"Training eines ML-Verfahrens\" durch und wenden Sie es analog auf die Track & Trace Daten an."
      ],
      "metadata": {
        "id": "c9J_T7VPMQna"
      },
      "id": "c9J_T7VPMQna"
    },
    {
      "cell_type": "code",
      "source": [
        "df = df[df[\"EventName\"]==\"Loading Ship\"]\n",
        "df.head()"
      ],
      "metadata": {
        "id": "Rv500VACMP2_",
        "colab": {
          "base_uri": "https://localhost:8080/",
          "height": 421
        },
        "outputId": "288301f1-1fdf-4814-a9ca-9395cfc04851"
      },
      "id": "Rv500VACMP2_",
      "execution_count": 241,
      "outputs": [
        {
          "output_type": "execute_result",
          "data": {
            "text/plain": [
              "   ContainerNumber  ShipmentNumber     EventName            EventTime  \\\n",
              "0      HLXU8170197         4868820  Loading Ship  2018-07-04 13:58:00   \n",
              "10     TCNU9520816         4875096  Loading Ship  2018-07-04 07:40:00   \n",
              "20     FCIU7037104         4875783  Loading Ship  2018-07-04 07:36:00   \n",
              "26     TCKU9338469         4876281  Loading Ship  2018-07-04 07:46:00   \n",
              "33     UACU5380472         4878162  Loading Ship  2018-09-04 21:20:00   \n",
              "\n",
              "        EventLocation          VesselName  Time2Arrival  \\\n",
              "0     Hafen Rotterdam         NYK ROMULUS           125   \n",
              "10  Hafen Bremerhaven  CHARLESTON EXPRESS           129   \n",
              "20  Hafen Bremerhaven  CHARLESTON EXPRESS            66   \n",
              "26  Hafen Bremerhaven  CHARLESTON EXPRESS            53   \n",
              "33  Hafen Bremerhaven    YORKTOWN EXPRESS            53   \n",
              "\n",
              "                      EventCombined EventTimeMonth EventTimeDay  \n",
              "0     Loading Ship, Hafen Rotterdam           July    Wednesday  \n",
              "10  Loading Ship, Hafen Bremerhaven           July    Wednesday  \n",
              "20  Loading Ship, Hafen Bremerhaven           July    Wednesday  \n",
              "26  Loading Ship, Hafen Bremerhaven           July    Wednesday  \n",
              "33  Loading Ship, Hafen Bremerhaven      September      Tuesday  "
            ],
            "text/html": [
              "\n",
              "  <div id=\"df-91ccb39e-e46c-4c8f-bc52-08aaf3462db4\">\n",
              "    <div class=\"colab-df-container\">\n",
              "      <div>\n",
              "<style scoped>\n",
              "    .dataframe tbody tr th:only-of-type {\n",
              "        vertical-align: middle;\n",
              "    }\n",
              "\n",
              "    .dataframe tbody tr th {\n",
              "        vertical-align: top;\n",
              "    }\n",
              "\n",
              "    .dataframe thead th {\n",
              "        text-align: right;\n",
              "    }\n",
              "</style>\n",
              "<table border=\"1\" class=\"dataframe\">\n",
              "  <thead>\n",
              "    <tr style=\"text-align: right;\">\n",
              "      <th></th>\n",
              "      <th>ContainerNumber</th>\n",
              "      <th>ShipmentNumber</th>\n",
              "      <th>EventName</th>\n",
              "      <th>EventTime</th>\n",
              "      <th>EventLocation</th>\n",
              "      <th>VesselName</th>\n",
              "      <th>Time2Arrival</th>\n",
              "      <th>EventCombined</th>\n",
              "      <th>EventTimeMonth</th>\n",
              "      <th>EventTimeDay</th>\n",
              "    </tr>\n",
              "  </thead>\n",
              "  <tbody>\n",
              "    <tr>\n",
              "      <th>0</th>\n",
              "      <td>HLXU8170197</td>\n",
              "      <td>4868820</td>\n",
              "      <td>Loading Ship</td>\n",
              "      <td>2018-07-04 13:58:00</td>\n",
              "      <td>Hafen Rotterdam</td>\n",
              "      <td>NYK ROMULUS</td>\n",
              "      <td>125</td>\n",
              "      <td>Loading Ship, Hafen Rotterdam</td>\n",
              "      <td>July</td>\n",
              "      <td>Wednesday</td>\n",
              "    </tr>\n",
              "    <tr>\n",
              "      <th>10</th>\n",
              "      <td>TCNU9520816</td>\n",
              "      <td>4875096</td>\n",
              "      <td>Loading Ship</td>\n",
              "      <td>2018-07-04 07:40:00</td>\n",
              "      <td>Hafen Bremerhaven</td>\n",
              "      <td>CHARLESTON EXPRESS</td>\n",
              "      <td>129</td>\n",
              "      <td>Loading Ship, Hafen Bremerhaven</td>\n",
              "      <td>July</td>\n",
              "      <td>Wednesday</td>\n",
              "    </tr>\n",
              "    <tr>\n",
              "      <th>20</th>\n",
              "      <td>FCIU7037104</td>\n",
              "      <td>4875783</td>\n",
              "      <td>Loading Ship</td>\n",
              "      <td>2018-07-04 07:36:00</td>\n",
              "      <td>Hafen Bremerhaven</td>\n",
              "      <td>CHARLESTON EXPRESS</td>\n",
              "      <td>66</td>\n",
              "      <td>Loading Ship, Hafen Bremerhaven</td>\n",
              "      <td>July</td>\n",
              "      <td>Wednesday</td>\n",
              "    </tr>\n",
              "    <tr>\n",
              "      <th>26</th>\n",
              "      <td>TCKU9338469</td>\n",
              "      <td>4876281</td>\n",
              "      <td>Loading Ship</td>\n",
              "      <td>2018-07-04 07:46:00</td>\n",
              "      <td>Hafen Bremerhaven</td>\n",
              "      <td>CHARLESTON EXPRESS</td>\n",
              "      <td>53</td>\n",
              "      <td>Loading Ship, Hafen Bremerhaven</td>\n",
              "      <td>July</td>\n",
              "      <td>Wednesday</td>\n",
              "    </tr>\n",
              "    <tr>\n",
              "      <th>33</th>\n",
              "      <td>UACU5380472</td>\n",
              "      <td>4878162</td>\n",
              "      <td>Loading Ship</td>\n",
              "      <td>2018-09-04 21:20:00</td>\n",
              "      <td>Hafen Bremerhaven</td>\n",
              "      <td>YORKTOWN EXPRESS</td>\n",
              "      <td>53</td>\n",
              "      <td>Loading Ship, Hafen Bremerhaven</td>\n",
              "      <td>September</td>\n",
              "      <td>Tuesday</td>\n",
              "    </tr>\n",
              "  </tbody>\n",
              "</table>\n",
              "</div>\n",
              "      <button class=\"colab-df-convert\" onclick=\"convertToInteractive('df-91ccb39e-e46c-4c8f-bc52-08aaf3462db4')\"\n",
              "              title=\"Convert this dataframe to an interactive table.\"\n",
              "              style=\"display:none;\">\n",
              "        \n",
              "  <svg xmlns=\"http://www.w3.org/2000/svg\" height=\"24px\"viewBox=\"0 0 24 24\"\n",
              "       width=\"24px\">\n",
              "    <path d=\"M0 0h24v24H0V0z\" fill=\"none\"/>\n",
              "    <path d=\"M18.56 5.44l.94 2.06.94-2.06 2.06-.94-2.06-.94-.94-2.06-.94 2.06-2.06.94zm-11 1L8.5 8.5l.94-2.06 2.06-.94-2.06-.94L8.5 2.5l-.94 2.06-2.06.94zm10 10l.94 2.06.94-2.06 2.06-.94-2.06-.94-.94-2.06-.94 2.06-2.06.94z\"/><path d=\"M17.41 7.96l-1.37-1.37c-.4-.4-.92-.59-1.43-.59-.52 0-1.04.2-1.43.59L10.3 9.45l-7.72 7.72c-.78.78-.78 2.05 0 2.83L4 21.41c.39.39.9.59 1.41.59.51 0 1.02-.2 1.41-.59l7.78-7.78 2.81-2.81c.8-.78.8-2.07 0-2.86zM5.41 20L4 18.59l7.72-7.72 1.47 1.35L5.41 20z\"/>\n",
              "  </svg>\n",
              "      </button>\n",
              "      \n",
              "  <style>\n",
              "    .colab-df-container {\n",
              "      display:flex;\n",
              "      flex-wrap:wrap;\n",
              "      gap: 12px;\n",
              "    }\n",
              "\n",
              "    .colab-df-convert {\n",
              "      background-color: #E8F0FE;\n",
              "      border: none;\n",
              "      border-radius: 50%;\n",
              "      cursor: pointer;\n",
              "      display: none;\n",
              "      fill: #1967D2;\n",
              "      height: 32px;\n",
              "      padding: 0 0 0 0;\n",
              "      width: 32px;\n",
              "    }\n",
              "\n",
              "    .colab-df-convert:hover {\n",
              "      background-color: #E2EBFA;\n",
              "      box-shadow: 0px 1px 2px rgba(60, 64, 67, 0.3), 0px 1px 3px 1px rgba(60, 64, 67, 0.15);\n",
              "      fill: #174EA6;\n",
              "    }\n",
              "\n",
              "    [theme=dark] .colab-df-convert {\n",
              "      background-color: #3B4455;\n",
              "      fill: #D2E3FC;\n",
              "    }\n",
              "\n",
              "    [theme=dark] .colab-df-convert:hover {\n",
              "      background-color: #434B5C;\n",
              "      box-shadow: 0px 1px 3px 1px rgba(0, 0, 0, 0.15);\n",
              "      filter: drop-shadow(0px 1px 2px rgba(0, 0, 0, 0.3));\n",
              "      fill: #FFFFFF;\n",
              "    }\n",
              "  </style>\n",
              "\n",
              "      <script>\n",
              "        const buttonEl =\n",
              "          document.querySelector('#df-91ccb39e-e46c-4c8f-bc52-08aaf3462db4 button.colab-df-convert');\n",
              "        buttonEl.style.display =\n",
              "          google.colab.kernel.accessAllowed ? 'block' : 'none';\n",
              "\n",
              "        async function convertToInteractive(key) {\n",
              "          const element = document.querySelector('#df-91ccb39e-e46c-4c8f-bc52-08aaf3462db4');\n",
              "          const dataTable =\n",
              "            await google.colab.kernel.invokeFunction('convertToInteractive',\n",
              "                                                     [key], {});\n",
              "          if (!dataTable) return;\n",
              "\n",
              "          const docLinkHtml = 'Like what you see? Visit the ' +\n",
              "            '<a target=\"_blank\" href=https://colab.research.google.com/notebooks/data_table.ipynb>data table notebook</a>'\n",
              "            + ' to learn more about interactive tables.';\n",
              "          element.innerHTML = '';\n",
              "          dataTable['output_type'] = 'display_data';\n",
              "          await google.colab.output.renderOutput(dataTable, element);\n",
              "          const docLink = document.createElement('div');\n",
              "          docLink.innerHTML = docLinkHtml;\n",
              "          element.appendChild(docLink);\n",
              "        }\n",
              "      </script>\n",
              "    </div>\n",
              "  </div>\n",
              "  "
            ]
          },
          "metadata": {},
          "execution_count": 241
        }
      ]
    },
    {
      "cell_type": "code",
      "source": [
        "irrelevant = [\"ContainerNumber\",\"ShipmentNumber\", \"EventTime\", \"EventCombined\"]\n",
        "df.drop(columns=irrelevant, inplace=True)"
      ],
      "metadata": {
        "id": "nw5WAc82BHJ9",
        "colab": {
          "base_uri": "https://localhost:8080/"
        },
        "outputId": "63039b90-fe0c-4d39-f337-6cdc41494dfa"
      },
      "id": "nw5WAc82BHJ9",
      "execution_count": 242,
      "outputs": [
        {
          "output_type": "stream",
          "name": "stderr",
          "text": [
            "/usr/local/lib/python3.7/dist-packages/pandas/core/frame.py:4913: SettingWithCopyWarning: \n",
            "A value is trying to be set on a copy of a slice from a DataFrame\n",
            "\n",
            "See the caveats in the documentation: https://pandas.pydata.org/pandas-docs/stable/user_guide/indexing.html#returning-a-view-versus-a-copy\n",
            "  errors=errors,\n"
          ]
        }
      ]
    },
    {
      "cell_type": "code",
      "source": [
        "df.head()"
      ],
      "metadata": {
        "id": "kbnOs-Sep99J",
        "colab": {
          "base_uri": "https://localhost:8080/",
          "height": 204
        },
        "outputId": "adb64e0e-454c-4a29-eb4f-527817f7ae2a"
      },
      "id": "kbnOs-Sep99J",
      "execution_count": 243,
      "outputs": [
        {
          "output_type": "execute_result",
          "data": {
            "text/plain": [
              "       EventName      EventLocation          VesselName  Time2Arrival  \\\n",
              "0   Loading Ship    Hafen Rotterdam         NYK ROMULUS           125   \n",
              "10  Loading Ship  Hafen Bremerhaven  CHARLESTON EXPRESS           129   \n",
              "20  Loading Ship  Hafen Bremerhaven  CHARLESTON EXPRESS            66   \n",
              "26  Loading Ship  Hafen Bremerhaven  CHARLESTON EXPRESS            53   \n",
              "33  Loading Ship  Hafen Bremerhaven    YORKTOWN EXPRESS            53   \n",
              "\n",
              "   EventTimeMonth EventTimeDay  \n",
              "0            July    Wednesday  \n",
              "10           July    Wednesday  \n",
              "20           July    Wednesday  \n",
              "26           July    Wednesday  \n",
              "33      September      Tuesday  "
            ],
            "text/html": [
              "\n",
              "  <div id=\"df-747a0b7c-aa3c-4a70-b5d2-21c163e8013d\">\n",
              "    <div class=\"colab-df-container\">\n",
              "      <div>\n",
              "<style scoped>\n",
              "    .dataframe tbody tr th:only-of-type {\n",
              "        vertical-align: middle;\n",
              "    }\n",
              "\n",
              "    .dataframe tbody tr th {\n",
              "        vertical-align: top;\n",
              "    }\n",
              "\n",
              "    .dataframe thead th {\n",
              "        text-align: right;\n",
              "    }\n",
              "</style>\n",
              "<table border=\"1\" class=\"dataframe\">\n",
              "  <thead>\n",
              "    <tr style=\"text-align: right;\">\n",
              "      <th></th>\n",
              "      <th>EventName</th>\n",
              "      <th>EventLocation</th>\n",
              "      <th>VesselName</th>\n",
              "      <th>Time2Arrival</th>\n",
              "      <th>EventTimeMonth</th>\n",
              "      <th>EventTimeDay</th>\n",
              "    </tr>\n",
              "  </thead>\n",
              "  <tbody>\n",
              "    <tr>\n",
              "      <th>0</th>\n",
              "      <td>Loading Ship</td>\n",
              "      <td>Hafen Rotterdam</td>\n",
              "      <td>NYK ROMULUS</td>\n",
              "      <td>125</td>\n",
              "      <td>July</td>\n",
              "      <td>Wednesday</td>\n",
              "    </tr>\n",
              "    <tr>\n",
              "      <th>10</th>\n",
              "      <td>Loading Ship</td>\n",
              "      <td>Hafen Bremerhaven</td>\n",
              "      <td>CHARLESTON EXPRESS</td>\n",
              "      <td>129</td>\n",
              "      <td>July</td>\n",
              "      <td>Wednesday</td>\n",
              "    </tr>\n",
              "    <tr>\n",
              "      <th>20</th>\n",
              "      <td>Loading Ship</td>\n",
              "      <td>Hafen Bremerhaven</td>\n",
              "      <td>CHARLESTON EXPRESS</td>\n",
              "      <td>66</td>\n",
              "      <td>July</td>\n",
              "      <td>Wednesday</td>\n",
              "    </tr>\n",
              "    <tr>\n",
              "      <th>26</th>\n",
              "      <td>Loading Ship</td>\n",
              "      <td>Hafen Bremerhaven</td>\n",
              "      <td>CHARLESTON EXPRESS</td>\n",
              "      <td>53</td>\n",
              "      <td>July</td>\n",
              "      <td>Wednesday</td>\n",
              "    </tr>\n",
              "    <tr>\n",
              "      <th>33</th>\n",
              "      <td>Loading Ship</td>\n",
              "      <td>Hafen Bremerhaven</td>\n",
              "      <td>YORKTOWN EXPRESS</td>\n",
              "      <td>53</td>\n",
              "      <td>September</td>\n",
              "      <td>Tuesday</td>\n",
              "    </tr>\n",
              "  </tbody>\n",
              "</table>\n",
              "</div>\n",
              "      <button class=\"colab-df-convert\" onclick=\"convertToInteractive('df-747a0b7c-aa3c-4a70-b5d2-21c163e8013d')\"\n",
              "              title=\"Convert this dataframe to an interactive table.\"\n",
              "              style=\"display:none;\">\n",
              "        \n",
              "  <svg xmlns=\"http://www.w3.org/2000/svg\" height=\"24px\"viewBox=\"0 0 24 24\"\n",
              "       width=\"24px\">\n",
              "    <path d=\"M0 0h24v24H0V0z\" fill=\"none\"/>\n",
              "    <path d=\"M18.56 5.44l.94 2.06.94-2.06 2.06-.94-2.06-.94-.94-2.06-.94 2.06-2.06.94zm-11 1L8.5 8.5l.94-2.06 2.06-.94-2.06-.94L8.5 2.5l-.94 2.06-2.06.94zm10 10l.94 2.06.94-2.06 2.06-.94-2.06-.94-.94-2.06-.94 2.06-2.06.94z\"/><path d=\"M17.41 7.96l-1.37-1.37c-.4-.4-.92-.59-1.43-.59-.52 0-1.04.2-1.43.59L10.3 9.45l-7.72 7.72c-.78.78-.78 2.05 0 2.83L4 21.41c.39.39.9.59 1.41.59.51 0 1.02-.2 1.41-.59l7.78-7.78 2.81-2.81c.8-.78.8-2.07 0-2.86zM5.41 20L4 18.59l7.72-7.72 1.47 1.35L5.41 20z\"/>\n",
              "  </svg>\n",
              "      </button>\n",
              "      \n",
              "  <style>\n",
              "    .colab-df-container {\n",
              "      display:flex;\n",
              "      flex-wrap:wrap;\n",
              "      gap: 12px;\n",
              "    }\n",
              "\n",
              "    .colab-df-convert {\n",
              "      background-color: #E8F0FE;\n",
              "      border: none;\n",
              "      border-radius: 50%;\n",
              "      cursor: pointer;\n",
              "      display: none;\n",
              "      fill: #1967D2;\n",
              "      height: 32px;\n",
              "      padding: 0 0 0 0;\n",
              "      width: 32px;\n",
              "    }\n",
              "\n",
              "    .colab-df-convert:hover {\n",
              "      background-color: #E2EBFA;\n",
              "      box-shadow: 0px 1px 2px rgba(60, 64, 67, 0.3), 0px 1px 3px 1px rgba(60, 64, 67, 0.15);\n",
              "      fill: #174EA6;\n",
              "    }\n",
              "\n",
              "    [theme=dark] .colab-df-convert {\n",
              "      background-color: #3B4455;\n",
              "      fill: #D2E3FC;\n",
              "    }\n",
              "\n",
              "    [theme=dark] .colab-df-convert:hover {\n",
              "      background-color: #434B5C;\n",
              "      box-shadow: 0px 1px 3px 1px rgba(0, 0, 0, 0.15);\n",
              "      filter: drop-shadow(0px 1px 2px rgba(0, 0, 0, 0.3));\n",
              "      fill: #FFFFFF;\n",
              "    }\n",
              "  </style>\n",
              "\n",
              "      <script>\n",
              "        const buttonEl =\n",
              "          document.querySelector('#df-747a0b7c-aa3c-4a70-b5d2-21c163e8013d button.colab-df-convert');\n",
              "        buttonEl.style.display =\n",
              "          google.colab.kernel.accessAllowed ? 'block' : 'none';\n",
              "\n",
              "        async function convertToInteractive(key) {\n",
              "          const element = document.querySelector('#df-747a0b7c-aa3c-4a70-b5d2-21c163e8013d');\n",
              "          const dataTable =\n",
              "            await google.colab.kernel.invokeFunction('convertToInteractive',\n",
              "                                                     [key], {});\n",
              "          if (!dataTable) return;\n",
              "\n",
              "          const docLinkHtml = 'Like what you see? Visit the ' +\n",
              "            '<a target=\"_blank\" href=https://colab.research.google.com/notebooks/data_table.ipynb>data table notebook</a>'\n",
              "            + ' to learn more about interactive tables.';\n",
              "          element.innerHTML = '';\n",
              "          dataTable['output_type'] = 'display_data';\n",
              "          await google.colab.output.renderOutput(dataTable, element);\n",
              "          const docLink = document.createElement('div');\n",
              "          docLink.innerHTML = docLinkHtml;\n",
              "          element.appendChild(docLink);\n",
              "        }\n",
              "      </script>\n",
              "    </div>\n",
              "  </div>\n",
              "  "
            ]
          },
          "metadata": {},
          "execution_count": 243
        }
      ]
    },
    {
      "cell_type": "markdown",
      "source": [
        "**1) Daten in Features und Target aufteilen**"
      ],
      "metadata": {
        "id": "0GFF7htPBkLz"
      },
      "id": "0GFF7htPBkLz"
    },
    {
      "cell_type": "code",
      "source": [
        ""
      ],
      "metadata": {
        "id": "fB6VmneNBb9c"
      },
      "id": "fB6VmneNBb9c",
      "execution_count": 243,
      "outputs": []
    },
    {
      "cell_type": "markdown",
      "source": [
        "**2) Datensatz in Trainings- und Testmenge aufteilen**"
      ],
      "metadata": {
        "id": "7zLsMVT1ByuH"
      },
      "id": "7zLsMVT1ByuH"
    },
    {
      "cell_type": "code",
      "source": [
        ""
      ],
      "metadata": {
        "id": "6fznY_asB4Gy"
      },
      "id": "6fznY_asB4Gy",
      "execution_count": 243,
      "outputs": []
    },
    {
      "cell_type": "markdown",
      "source": [
        "**3) Modell auswählen**"
      ],
      "metadata": {
        "id": "JP9QUnxyB4zo"
      },
      "id": "JP9QUnxyB4zo"
    },
    {
      "cell_type": "code",
      "source": [
        ""
      ],
      "metadata": {
        "id": "535P2Qp1B8ZB"
      },
      "id": "535P2Qp1B8ZB",
      "execution_count": 243,
      "outputs": []
    },
    {
      "cell_type": "markdown",
      "source": [
        "**4) Modell trainieren**"
      ],
      "metadata": {
        "id": "rw4NuM6fB9Ae"
      },
      "id": "rw4NuM6fB9Ae"
    },
    {
      "cell_type": "code",
      "source": [
        ""
      ],
      "metadata": {
        "id": "mKKmcutjB_R8"
      },
      "id": "mKKmcutjB_R8",
      "execution_count": 243,
      "outputs": []
    },
    {
      "cell_type": "markdown",
      "source": [
        "**5) Modell anwenden**"
      ],
      "metadata": {
        "id": "Z2Rzxy0_B_qY"
      },
      "id": "Z2Rzxy0_B_qY"
    },
    {
      "cell_type": "code",
      "source": [
        ""
      ],
      "metadata": {
        "id": "rWQShWzzCBs2"
      },
      "id": "rWQShWzzCBs2",
      "execution_count": 243,
      "outputs": []
    },
    {
      "cell_type": "markdown",
      "source": [
        "**6) Modell evaluieren**"
      ],
      "metadata": {
        "id": "1dKRr9cfCCO8"
      },
      "id": "1dKRr9cfCCO8"
    },
    {
      "cell_type": "code",
      "source": [
        ""
      ],
      "metadata": {
        "id": "DpG7Na7DCEdy"
      },
      "id": "DpG7Na7DCEdy",
      "execution_count": 243,
      "outputs": []
    },
    {
      "cell_type": "markdown",
      "source": [
        "**7) Vorhersage machen**"
      ],
      "metadata": {
        "id": "nx-aSbpJXnWd"
      },
      "id": "nx-aSbpJXnWd"
    },
    {
      "cell_type": "markdown",
      "source": [
        "**Frage:** Welche weiteren Features könnten helfen, um die Prognose der Ankunftszeit zu verbessern?"
      ],
      "metadata": {
        "id": "Iag8V-iAD_qn"
      },
      "id": "Iag8V-iAD_qn"
    },
    {
      "cell_type": "code",
      "source": [
        ""
      ],
      "metadata": {
        "id": "JcgMaM85DUuv"
      },
      "id": "JcgMaM85DUuv",
      "execution_count": 243,
      "outputs": []
    },
    {
      "cell_type": "markdown",
      "source": [
        "## 4 Machine Learning für Klassifikationsprobleme <a class=\"anchor\" id=\"klassifikation\"></a>\n",
        "Im nachfolgenden Beispiel werden wir ein ML-Verfahren einsetzen, um anhand von Untersuchungsergebnissen vorherzusagen, ob ein Patient Diabetes hat. Es handelt sich dabei um eine Klassifikationsproblem (Diabetes/ keine Diabetes). Wir verwenden einen Datensatz mit folgenden Informationen:\n",
        "1. Anzahl Schwangerschaften\n",
        "1. Glukosekonzentration nach Glukosetoleranztest\n",
        "1. Blutdruck (mm Hg)\n",
        "1. Dicke der Trizepshautfalte (mm)\n",
        "1. Insulinwert (mu U/ml)\n",
        "1. Body mass index \n",
        "1. Diabetesvorbelastungsfunktion\n",
        "1. Alter (Jahre)\n",
        "1. Diabetes (0/1)\n",
        "\n",
        "Die relevanten Daten haben die folgende Form:"
      ],
      "metadata": {
        "id": "IcxdXVt-a4Ck"
      },
      "id": "IcxdXVt-a4Ck"
    },
    {
      "cell_type": "code",
      "source": [
        "data = pd.read_csv(\"/content/drive/MyDrive/KI_LOG_mit_PYTHON/diabetes_clean.txt\")\n",
        "data.head()"
      ],
      "metadata": {
        "id": "U_Xap0iDa8Xg",
        "colab": {
          "base_uri": "https://localhost:8080/",
          "height": 268
        },
        "outputId": "33c04644-8f4e-4d27-8779-c6db2d97afac"
      },
      "id": "U_Xap0iDa8Xg",
      "execution_count": 244,
      "outputs": [
        {
          "output_type": "execute_result",
          "data": {
            "text/plain": [
              "   schwangerschaften  glukose_konzentration  blutdruck  \\\n",
              "0                  6                    148         72   \n",
              "1                  1                     85         66   \n",
              "2                  8                    183         64   \n",
              "3                  1                     89         66   \n",
              "4                  0                    137         40   \n",
              "\n",
              "   dicke_trizepshautfalte  insulin_wert   bmi  diabetes_vorbelastung  alter  \\\n",
              "0                      35             0  33.6                  0.627     50   \n",
              "1                      29             0  26.6                  0.351     31   \n",
              "2                       0             0  23.3                  0.672     32   \n",
              "3                      23            94  28.1                  0.167     21   \n",
              "4                      35           168  43.1                  2.288     33   \n",
              "\n",
              "   diabetes  \n",
              "0         1  \n",
              "1         0  \n",
              "2         1  \n",
              "3         0  \n",
              "4         1  "
            ],
            "text/html": [
              "\n",
              "  <div id=\"df-e55777fb-6357-47d8-ad24-b5ae266edd77\">\n",
              "    <div class=\"colab-df-container\">\n",
              "      <div>\n",
              "<style scoped>\n",
              "    .dataframe tbody tr th:only-of-type {\n",
              "        vertical-align: middle;\n",
              "    }\n",
              "\n",
              "    .dataframe tbody tr th {\n",
              "        vertical-align: top;\n",
              "    }\n",
              "\n",
              "    .dataframe thead th {\n",
              "        text-align: right;\n",
              "    }\n",
              "</style>\n",
              "<table border=\"1\" class=\"dataframe\">\n",
              "  <thead>\n",
              "    <tr style=\"text-align: right;\">\n",
              "      <th></th>\n",
              "      <th>schwangerschaften</th>\n",
              "      <th>glukose_konzentration</th>\n",
              "      <th>blutdruck</th>\n",
              "      <th>dicke_trizepshautfalte</th>\n",
              "      <th>insulin_wert</th>\n",
              "      <th>bmi</th>\n",
              "      <th>diabetes_vorbelastung</th>\n",
              "      <th>alter</th>\n",
              "      <th>diabetes</th>\n",
              "    </tr>\n",
              "  </thead>\n",
              "  <tbody>\n",
              "    <tr>\n",
              "      <th>0</th>\n",
              "      <td>6</td>\n",
              "      <td>148</td>\n",
              "      <td>72</td>\n",
              "      <td>35</td>\n",
              "      <td>0</td>\n",
              "      <td>33.6</td>\n",
              "      <td>0.627</td>\n",
              "      <td>50</td>\n",
              "      <td>1</td>\n",
              "    </tr>\n",
              "    <tr>\n",
              "      <th>1</th>\n",
              "      <td>1</td>\n",
              "      <td>85</td>\n",
              "      <td>66</td>\n",
              "      <td>29</td>\n",
              "      <td>0</td>\n",
              "      <td>26.6</td>\n",
              "      <td>0.351</td>\n",
              "      <td>31</td>\n",
              "      <td>0</td>\n",
              "    </tr>\n",
              "    <tr>\n",
              "      <th>2</th>\n",
              "      <td>8</td>\n",
              "      <td>183</td>\n",
              "      <td>64</td>\n",
              "      <td>0</td>\n",
              "      <td>0</td>\n",
              "      <td>23.3</td>\n",
              "      <td>0.672</td>\n",
              "      <td>32</td>\n",
              "      <td>1</td>\n",
              "    </tr>\n",
              "    <tr>\n",
              "      <th>3</th>\n",
              "      <td>1</td>\n",
              "      <td>89</td>\n",
              "      <td>66</td>\n",
              "      <td>23</td>\n",
              "      <td>94</td>\n",
              "      <td>28.1</td>\n",
              "      <td>0.167</td>\n",
              "      <td>21</td>\n",
              "      <td>0</td>\n",
              "    </tr>\n",
              "    <tr>\n",
              "      <th>4</th>\n",
              "      <td>0</td>\n",
              "      <td>137</td>\n",
              "      <td>40</td>\n",
              "      <td>35</td>\n",
              "      <td>168</td>\n",
              "      <td>43.1</td>\n",
              "      <td>2.288</td>\n",
              "      <td>33</td>\n",
              "      <td>1</td>\n",
              "    </tr>\n",
              "  </tbody>\n",
              "</table>\n",
              "</div>\n",
              "      <button class=\"colab-df-convert\" onclick=\"convertToInteractive('df-e55777fb-6357-47d8-ad24-b5ae266edd77')\"\n",
              "              title=\"Convert this dataframe to an interactive table.\"\n",
              "              style=\"display:none;\">\n",
              "        \n",
              "  <svg xmlns=\"http://www.w3.org/2000/svg\" height=\"24px\"viewBox=\"0 0 24 24\"\n",
              "       width=\"24px\">\n",
              "    <path d=\"M0 0h24v24H0V0z\" fill=\"none\"/>\n",
              "    <path d=\"M18.56 5.44l.94 2.06.94-2.06 2.06-.94-2.06-.94-.94-2.06-.94 2.06-2.06.94zm-11 1L8.5 8.5l.94-2.06 2.06-.94-2.06-.94L8.5 2.5l-.94 2.06-2.06.94zm10 10l.94 2.06.94-2.06 2.06-.94-2.06-.94-.94-2.06-.94 2.06-2.06.94z\"/><path d=\"M17.41 7.96l-1.37-1.37c-.4-.4-.92-.59-1.43-.59-.52 0-1.04.2-1.43.59L10.3 9.45l-7.72 7.72c-.78.78-.78 2.05 0 2.83L4 21.41c.39.39.9.59 1.41.59.51 0 1.02-.2 1.41-.59l7.78-7.78 2.81-2.81c.8-.78.8-2.07 0-2.86zM5.41 20L4 18.59l7.72-7.72 1.47 1.35L5.41 20z\"/>\n",
              "  </svg>\n",
              "      </button>\n",
              "      \n",
              "  <style>\n",
              "    .colab-df-container {\n",
              "      display:flex;\n",
              "      flex-wrap:wrap;\n",
              "      gap: 12px;\n",
              "    }\n",
              "\n",
              "    .colab-df-convert {\n",
              "      background-color: #E8F0FE;\n",
              "      border: none;\n",
              "      border-radius: 50%;\n",
              "      cursor: pointer;\n",
              "      display: none;\n",
              "      fill: #1967D2;\n",
              "      height: 32px;\n",
              "      padding: 0 0 0 0;\n",
              "      width: 32px;\n",
              "    }\n",
              "\n",
              "    .colab-df-convert:hover {\n",
              "      background-color: #E2EBFA;\n",
              "      box-shadow: 0px 1px 2px rgba(60, 64, 67, 0.3), 0px 1px 3px 1px rgba(60, 64, 67, 0.15);\n",
              "      fill: #174EA6;\n",
              "    }\n",
              "\n",
              "    [theme=dark] .colab-df-convert {\n",
              "      background-color: #3B4455;\n",
              "      fill: #D2E3FC;\n",
              "    }\n",
              "\n",
              "    [theme=dark] .colab-df-convert:hover {\n",
              "      background-color: #434B5C;\n",
              "      box-shadow: 0px 1px 3px 1px rgba(0, 0, 0, 0.15);\n",
              "      filter: drop-shadow(0px 1px 2px rgba(0, 0, 0, 0.3));\n",
              "      fill: #FFFFFF;\n",
              "    }\n",
              "  </style>\n",
              "\n",
              "      <script>\n",
              "        const buttonEl =\n",
              "          document.querySelector('#df-e55777fb-6357-47d8-ad24-b5ae266edd77 button.colab-df-convert');\n",
              "        buttonEl.style.display =\n",
              "          google.colab.kernel.accessAllowed ? 'block' : 'none';\n",
              "\n",
              "        async function convertToInteractive(key) {\n",
              "          const element = document.querySelector('#df-e55777fb-6357-47d8-ad24-b5ae266edd77');\n",
              "          const dataTable =\n",
              "            await google.colab.kernel.invokeFunction('convertToInteractive',\n",
              "                                                     [key], {});\n",
              "          if (!dataTable) return;\n",
              "\n",
              "          const docLinkHtml = 'Like what you see? Visit the ' +\n",
              "            '<a target=\"_blank\" href=https://colab.research.google.com/notebooks/data_table.ipynb>data table notebook</a>'\n",
              "            + ' to learn more about interactive tables.';\n",
              "          element.innerHTML = '';\n",
              "          dataTable['output_type'] = 'display_data';\n",
              "          await google.colab.output.renderOutput(dataTable, element);\n",
              "          const docLink = document.createElement('div');\n",
              "          docLink.innerHTML = docLinkHtml;\n",
              "          element.appendChild(docLink);\n",
              "        }\n",
              "      </script>\n",
              "    </div>\n",
              "  </div>\n",
              "  "
            ]
          },
          "metadata": {},
          "execution_count": 244
        }
      ]
    },
    {
      "cell_type": "markdown",
      "source": [
        "### 4.1 Datensatz in Features und Target teilen\n",
        "\n",
        "Wie bereits zuvor müssen wir unterscheiden, was vorhergesagt werden soll (**Target**) und welche Merkmale dazu genutzt werden sollen (**Features**)."
      ],
      "metadata": {
        "id": "HsigSaVPCMeT"
      },
      "id": "HsigSaVPCMeT"
    },
    {
      "cell_type": "code",
      "source": [
        "# Features, d.h. womit lässt sich Diabetes prognostizeren!\n",
        "X = data.drop(columns=\"diabetes\")\n",
        "X.head()"
      ],
      "metadata": {
        "id": "z-uyIdD-d-eB",
        "colab": {
          "base_uri": "https://localhost:8080/",
          "height": 268
        },
        "outputId": "6a674d92-89c7-4ec7-d862-7d1bdf3fc931"
      },
      "id": "z-uyIdD-d-eB",
      "execution_count": 245,
      "outputs": [
        {
          "output_type": "execute_result",
          "data": {
            "text/plain": [
              "   schwangerschaften  glukose_konzentration  blutdruck  \\\n",
              "0                  6                    148         72   \n",
              "1                  1                     85         66   \n",
              "2                  8                    183         64   \n",
              "3                  1                     89         66   \n",
              "4                  0                    137         40   \n",
              "\n",
              "   dicke_trizepshautfalte  insulin_wert   bmi  diabetes_vorbelastung  alter  \n",
              "0                      35             0  33.6                  0.627     50  \n",
              "1                      29             0  26.6                  0.351     31  \n",
              "2                       0             0  23.3                  0.672     32  \n",
              "3                      23            94  28.1                  0.167     21  \n",
              "4                      35           168  43.1                  2.288     33  "
            ],
            "text/html": [
              "\n",
              "  <div id=\"df-97adc9b0-cd4d-4318-b70a-203f6e064dd3\">\n",
              "    <div class=\"colab-df-container\">\n",
              "      <div>\n",
              "<style scoped>\n",
              "    .dataframe tbody tr th:only-of-type {\n",
              "        vertical-align: middle;\n",
              "    }\n",
              "\n",
              "    .dataframe tbody tr th {\n",
              "        vertical-align: top;\n",
              "    }\n",
              "\n",
              "    .dataframe thead th {\n",
              "        text-align: right;\n",
              "    }\n",
              "</style>\n",
              "<table border=\"1\" class=\"dataframe\">\n",
              "  <thead>\n",
              "    <tr style=\"text-align: right;\">\n",
              "      <th></th>\n",
              "      <th>schwangerschaften</th>\n",
              "      <th>glukose_konzentration</th>\n",
              "      <th>blutdruck</th>\n",
              "      <th>dicke_trizepshautfalte</th>\n",
              "      <th>insulin_wert</th>\n",
              "      <th>bmi</th>\n",
              "      <th>diabetes_vorbelastung</th>\n",
              "      <th>alter</th>\n",
              "    </tr>\n",
              "  </thead>\n",
              "  <tbody>\n",
              "    <tr>\n",
              "      <th>0</th>\n",
              "      <td>6</td>\n",
              "      <td>148</td>\n",
              "      <td>72</td>\n",
              "      <td>35</td>\n",
              "      <td>0</td>\n",
              "      <td>33.6</td>\n",
              "      <td>0.627</td>\n",
              "      <td>50</td>\n",
              "    </tr>\n",
              "    <tr>\n",
              "      <th>1</th>\n",
              "      <td>1</td>\n",
              "      <td>85</td>\n",
              "      <td>66</td>\n",
              "      <td>29</td>\n",
              "      <td>0</td>\n",
              "      <td>26.6</td>\n",
              "      <td>0.351</td>\n",
              "      <td>31</td>\n",
              "    </tr>\n",
              "    <tr>\n",
              "      <th>2</th>\n",
              "      <td>8</td>\n",
              "      <td>183</td>\n",
              "      <td>64</td>\n",
              "      <td>0</td>\n",
              "      <td>0</td>\n",
              "      <td>23.3</td>\n",
              "      <td>0.672</td>\n",
              "      <td>32</td>\n",
              "    </tr>\n",
              "    <tr>\n",
              "      <th>3</th>\n",
              "      <td>1</td>\n",
              "      <td>89</td>\n",
              "      <td>66</td>\n",
              "      <td>23</td>\n",
              "      <td>94</td>\n",
              "      <td>28.1</td>\n",
              "      <td>0.167</td>\n",
              "      <td>21</td>\n",
              "    </tr>\n",
              "    <tr>\n",
              "      <th>4</th>\n",
              "      <td>0</td>\n",
              "      <td>137</td>\n",
              "      <td>40</td>\n",
              "      <td>35</td>\n",
              "      <td>168</td>\n",
              "      <td>43.1</td>\n",
              "      <td>2.288</td>\n",
              "      <td>33</td>\n",
              "    </tr>\n",
              "  </tbody>\n",
              "</table>\n",
              "</div>\n",
              "      <button class=\"colab-df-convert\" onclick=\"convertToInteractive('df-97adc9b0-cd4d-4318-b70a-203f6e064dd3')\"\n",
              "              title=\"Convert this dataframe to an interactive table.\"\n",
              "              style=\"display:none;\">\n",
              "        \n",
              "  <svg xmlns=\"http://www.w3.org/2000/svg\" height=\"24px\"viewBox=\"0 0 24 24\"\n",
              "       width=\"24px\">\n",
              "    <path d=\"M0 0h24v24H0V0z\" fill=\"none\"/>\n",
              "    <path d=\"M18.56 5.44l.94 2.06.94-2.06 2.06-.94-2.06-.94-.94-2.06-.94 2.06-2.06.94zm-11 1L8.5 8.5l.94-2.06 2.06-.94-2.06-.94L8.5 2.5l-.94 2.06-2.06.94zm10 10l.94 2.06.94-2.06 2.06-.94-2.06-.94-.94-2.06-.94 2.06-2.06.94z\"/><path d=\"M17.41 7.96l-1.37-1.37c-.4-.4-.92-.59-1.43-.59-.52 0-1.04.2-1.43.59L10.3 9.45l-7.72 7.72c-.78.78-.78 2.05 0 2.83L4 21.41c.39.39.9.59 1.41.59.51 0 1.02-.2 1.41-.59l7.78-7.78 2.81-2.81c.8-.78.8-2.07 0-2.86zM5.41 20L4 18.59l7.72-7.72 1.47 1.35L5.41 20z\"/>\n",
              "  </svg>\n",
              "      </button>\n",
              "      \n",
              "  <style>\n",
              "    .colab-df-container {\n",
              "      display:flex;\n",
              "      flex-wrap:wrap;\n",
              "      gap: 12px;\n",
              "    }\n",
              "\n",
              "    .colab-df-convert {\n",
              "      background-color: #E8F0FE;\n",
              "      border: none;\n",
              "      border-radius: 50%;\n",
              "      cursor: pointer;\n",
              "      display: none;\n",
              "      fill: #1967D2;\n",
              "      height: 32px;\n",
              "      padding: 0 0 0 0;\n",
              "      width: 32px;\n",
              "    }\n",
              "\n",
              "    .colab-df-convert:hover {\n",
              "      background-color: #E2EBFA;\n",
              "      box-shadow: 0px 1px 2px rgba(60, 64, 67, 0.3), 0px 1px 3px 1px rgba(60, 64, 67, 0.15);\n",
              "      fill: #174EA6;\n",
              "    }\n",
              "\n",
              "    [theme=dark] .colab-df-convert {\n",
              "      background-color: #3B4455;\n",
              "      fill: #D2E3FC;\n",
              "    }\n",
              "\n",
              "    [theme=dark] .colab-df-convert:hover {\n",
              "      background-color: #434B5C;\n",
              "      box-shadow: 0px 1px 3px 1px rgba(0, 0, 0, 0.15);\n",
              "      filter: drop-shadow(0px 1px 2px rgba(0, 0, 0, 0.3));\n",
              "      fill: #FFFFFF;\n",
              "    }\n",
              "  </style>\n",
              "\n",
              "      <script>\n",
              "        const buttonEl =\n",
              "          document.querySelector('#df-97adc9b0-cd4d-4318-b70a-203f6e064dd3 button.colab-df-convert');\n",
              "        buttonEl.style.display =\n",
              "          google.colab.kernel.accessAllowed ? 'block' : 'none';\n",
              "\n",
              "        async function convertToInteractive(key) {\n",
              "          const element = document.querySelector('#df-97adc9b0-cd4d-4318-b70a-203f6e064dd3');\n",
              "          const dataTable =\n",
              "            await google.colab.kernel.invokeFunction('convertToInteractive',\n",
              "                                                     [key], {});\n",
              "          if (!dataTable) return;\n",
              "\n",
              "          const docLinkHtml = 'Like what you see? Visit the ' +\n",
              "            '<a target=\"_blank\" href=https://colab.research.google.com/notebooks/data_table.ipynb>data table notebook</a>'\n",
              "            + ' to learn more about interactive tables.';\n",
              "          element.innerHTML = '';\n",
              "          dataTable['output_type'] = 'display_data';\n",
              "          await google.colab.output.renderOutput(dataTable, element);\n",
              "          const docLink = document.createElement('div');\n",
              "          docLink.innerHTML = docLinkHtml;\n",
              "          element.appendChild(docLink);\n",
              "        }\n",
              "      </script>\n",
              "    </div>\n",
              "  </div>\n",
              "  "
            ]
          },
          "metadata": {},
          "execution_count": 245
        }
      ]
    },
    {
      "cell_type": "code",
      "source": [
        "# Target, d.h. was soll prognostiziert werden!\n",
        "y = data[\"diabetes\"]\n",
        "y.head()"
      ],
      "metadata": {
        "id": "vmpeKoYICZUE",
        "colab": {
          "base_uri": "https://localhost:8080/"
        },
        "outputId": "27084531-3815-4f7e-ea1b-16350be9b66e"
      },
      "id": "vmpeKoYICZUE",
      "execution_count": 246,
      "outputs": [
        {
          "output_type": "execute_result",
          "data": {
            "text/plain": [
              "0    1\n",
              "1    0\n",
              "2    1\n",
              "3    0\n",
              "4    1\n",
              "Name: diabetes, dtype: int64"
            ]
          },
          "metadata": {},
          "execution_count": 246
        }
      ]
    },
    {
      "cell_type": "markdown",
      "source": [
        "### 4.2 Datensatz in Trainings- und Testmenge aufteilen\n",
        "Erneut müssen wir die Daten aufteilen. Da wir ausschließlich mit numerischen Daten arbeiten, müssen wir keine Datenaufbereitung über `pd.get_dummies` vornehmen."
      ],
      "metadata": {
        "id": "l2eJRG5ICjbo"
      },
      "id": "l2eJRG5ICjbo"
    },
    {
      "cell_type": "code",
      "source": [
        "from sklearn.model_selection import train_test_split"
      ],
      "metadata": {
        "id": "DkUWgtB8DKCI"
      },
      "id": "DkUWgtB8DKCI",
      "execution_count": 247,
      "outputs": []
    },
    {
      "cell_type": "code",
      "source": [
        "# X und y werden in Trainings- und Testmenge aufgeteilt, so dass die Testmenge 20% der vorhandenen Daten hat\n",
        "X_train, X_test, y_train, y_test = train_test_split(X, y, test_size=0.2, random_state=3)"
      ],
      "metadata": {
        "id": "QVKROgWUCeP_"
      },
      "id": "QVKROgWUCeP_",
      "execution_count": 248,
      "outputs": []
    },
    {
      "cell_type": "code",
      "source": [
        "y_train.head()"
      ],
      "metadata": {
        "id": "ajWtX075CxNn",
        "colab": {
          "base_uri": "https://localhost:8080/"
        },
        "outputId": "ad8a8297-42e3-4007-9e71-b406991d74f6"
      },
      "id": "ajWtX075CxNn",
      "execution_count": 249,
      "outputs": [
        {
          "output_type": "execute_result",
          "data": {
            "text/plain": [
              "468    1\n",
              "478    0\n",
              "107    0\n",
              "304    0\n",
              "515    1\n",
              "Name: diabetes, dtype: int64"
            ]
          },
          "metadata": {},
          "execution_count": 249
        }
      ]
    },
    {
      "cell_type": "code",
      "source": [
        "X_train.head()"
      ],
      "metadata": {
        "id": "SApJDY4jDZJW",
        "colab": {
          "base_uri": "https://localhost:8080/",
          "height": 268
        },
        "outputId": "1784a9f7-9489-48be-c63d-6c3a75ca75b7"
      },
      "id": "SApJDY4jDZJW",
      "execution_count": 250,
      "outputs": [
        {
          "output_type": "execute_result",
          "data": {
            "text/plain": [
              "     schwangerschaften  glukose_konzentration  blutdruck  \\\n",
              "468                  8                    120          0   \n",
              "478                  8                    126         74   \n",
              "107                  4                    144         58   \n",
              "304                  3                    150         76   \n",
              "515                  3                    163         70   \n",
              "\n",
              "     dicke_trizepshautfalte  insulin_wert   bmi  diabetes_vorbelastung  alter  \n",
              "468                       0             0  30.0                  0.183     38  \n",
              "478                      38            75  25.9                  0.162     39  \n",
              "107                      28           140  29.5                  0.287     37  \n",
              "304                       0             0  21.0                  0.207     37  \n",
              "515                      18           105  31.6                  0.268     28  "
            ],
            "text/html": [
              "\n",
              "  <div id=\"df-cea1b999-3bdf-48ea-87d0-b3d299bb9a27\">\n",
              "    <div class=\"colab-df-container\">\n",
              "      <div>\n",
              "<style scoped>\n",
              "    .dataframe tbody tr th:only-of-type {\n",
              "        vertical-align: middle;\n",
              "    }\n",
              "\n",
              "    .dataframe tbody tr th {\n",
              "        vertical-align: top;\n",
              "    }\n",
              "\n",
              "    .dataframe thead th {\n",
              "        text-align: right;\n",
              "    }\n",
              "</style>\n",
              "<table border=\"1\" class=\"dataframe\">\n",
              "  <thead>\n",
              "    <tr style=\"text-align: right;\">\n",
              "      <th></th>\n",
              "      <th>schwangerschaften</th>\n",
              "      <th>glukose_konzentration</th>\n",
              "      <th>blutdruck</th>\n",
              "      <th>dicke_trizepshautfalte</th>\n",
              "      <th>insulin_wert</th>\n",
              "      <th>bmi</th>\n",
              "      <th>diabetes_vorbelastung</th>\n",
              "      <th>alter</th>\n",
              "    </tr>\n",
              "  </thead>\n",
              "  <tbody>\n",
              "    <tr>\n",
              "      <th>468</th>\n",
              "      <td>8</td>\n",
              "      <td>120</td>\n",
              "      <td>0</td>\n",
              "      <td>0</td>\n",
              "      <td>0</td>\n",
              "      <td>30.0</td>\n",
              "      <td>0.183</td>\n",
              "      <td>38</td>\n",
              "    </tr>\n",
              "    <tr>\n",
              "      <th>478</th>\n",
              "      <td>8</td>\n",
              "      <td>126</td>\n",
              "      <td>74</td>\n",
              "      <td>38</td>\n",
              "      <td>75</td>\n",
              "      <td>25.9</td>\n",
              "      <td>0.162</td>\n",
              "      <td>39</td>\n",
              "    </tr>\n",
              "    <tr>\n",
              "      <th>107</th>\n",
              "      <td>4</td>\n",
              "      <td>144</td>\n",
              "      <td>58</td>\n",
              "      <td>28</td>\n",
              "      <td>140</td>\n",
              "      <td>29.5</td>\n",
              "      <td>0.287</td>\n",
              "      <td>37</td>\n",
              "    </tr>\n",
              "    <tr>\n",
              "      <th>304</th>\n",
              "      <td>3</td>\n",
              "      <td>150</td>\n",
              "      <td>76</td>\n",
              "      <td>0</td>\n",
              "      <td>0</td>\n",
              "      <td>21.0</td>\n",
              "      <td>0.207</td>\n",
              "      <td>37</td>\n",
              "    </tr>\n",
              "    <tr>\n",
              "      <th>515</th>\n",
              "      <td>3</td>\n",
              "      <td>163</td>\n",
              "      <td>70</td>\n",
              "      <td>18</td>\n",
              "      <td>105</td>\n",
              "      <td>31.6</td>\n",
              "      <td>0.268</td>\n",
              "      <td>28</td>\n",
              "    </tr>\n",
              "  </tbody>\n",
              "</table>\n",
              "</div>\n",
              "      <button class=\"colab-df-convert\" onclick=\"convertToInteractive('df-cea1b999-3bdf-48ea-87d0-b3d299bb9a27')\"\n",
              "              title=\"Convert this dataframe to an interactive table.\"\n",
              "              style=\"display:none;\">\n",
              "        \n",
              "  <svg xmlns=\"http://www.w3.org/2000/svg\" height=\"24px\"viewBox=\"0 0 24 24\"\n",
              "       width=\"24px\">\n",
              "    <path d=\"M0 0h24v24H0V0z\" fill=\"none\"/>\n",
              "    <path d=\"M18.56 5.44l.94 2.06.94-2.06 2.06-.94-2.06-.94-.94-2.06-.94 2.06-2.06.94zm-11 1L8.5 8.5l.94-2.06 2.06-.94-2.06-.94L8.5 2.5l-.94 2.06-2.06.94zm10 10l.94 2.06.94-2.06 2.06-.94-2.06-.94-.94-2.06-.94 2.06-2.06.94z\"/><path d=\"M17.41 7.96l-1.37-1.37c-.4-.4-.92-.59-1.43-.59-.52 0-1.04.2-1.43.59L10.3 9.45l-7.72 7.72c-.78.78-.78 2.05 0 2.83L4 21.41c.39.39.9.59 1.41.59.51 0 1.02-.2 1.41-.59l7.78-7.78 2.81-2.81c.8-.78.8-2.07 0-2.86zM5.41 20L4 18.59l7.72-7.72 1.47 1.35L5.41 20z\"/>\n",
              "  </svg>\n",
              "      </button>\n",
              "      \n",
              "  <style>\n",
              "    .colab-df-container {\n",
              "      display:flex;\n",
              "      flex-wrap:wrap;\n",
              "      gap: 12px;\n",
              "    }\n",
              "\n",
              "    .colab-df-convert {\n",
              "      background-color: #E8F0FE;\n",
              "      border: none;\n",
              "      border-radius: 50%;\n",
              "      cursor: pointer;\n",
              "      display: none;\n",
              "      fill: #1967D2;\n",
              "      height: 32px;\n",
              "      padding: 0 0 0 0;\n",
              "      width: 32px;\n",
              "    }\n",
              "\n",
              "    .colab-df-convert:hover {\n",
              "      background-color: #E2EBFA;\n",
              "      box-shadow: 0px 1px 2px rgba(60, 64, 67, 0.3), 0px 1px 3px 1px rgba(60, 64, 67, 0.15);\n",
              "      fill: #174EA6;\n",
              "    }\n",
              "\n",
              "    [theme=dark] .colab-df-convert {\n",
              "      background-color: #3B4455;\n",
              "      fill: #D2E3FC;\n",
              "    }\n",
              "\n",
              "    [theme=dark] .colab-df-convert:hover {\n",
              "      background-color: #434B5C;\n",
              "      box-shadow: 0px 1px 3px 1px rgba(0, 0, 0, 0.15);\n",
              "      filter: drop-shadow(0px 1px 2px rgba(0, 0, 0, 0.3));\n",
              "      fill: #FFFFFF;\n",
              "    }\n",
              "  </style>\n",
              "\n",
              "      <script>\n",
              "        const buttonEl =\n",
              "          document.querySelector('#df-cea1b999-3bdf-48ea-87d0-b3d299bb9a27 button.colab-df-convert');\n",
              "        buttonEl.style.display =\n",
              "          google.colab.kernel.accessAllowed ? 'block' : 'none';\n",
              "\n",
              "        async function convertToInteractive(key) {\n",
              "          const element = document.querySelector('#df-cea1b999-3bdf-48ea-87d0-b3d299bb9a27');\n",
              "          const dataTable =\n",
              "            await google.colab.kernel.invokeFunction('convertToInteractive',\n",
              "                                                     [key], {});\n",
              "          if (!dataTable) return;\n",
              "\n",
              "          const docLinkHtml = 'Like what you see? Visit the ' +\n",
              "            '<a target=\"_blank\" href=https://colab.research.google.com/notebooks/data_table.ipynb>data table notebook</a>'\n",
              "            + ' to learn more about interactive tables.';\n",
              "          element.innerHTML = '';\n",
              "          dataTable['output_type'] = 'display_data';\n",
              "          await google.colab.output.renderOutput(dataTable, element);\n",
              "          const docLink = document.createElement('div');\n",
              "          docLink.innerHTML = docLinkHtml;\n",
              "          element.appendChild(docLink);\n",
              "        }\n",
              "      </script>\n",
              "    </div>\n",
              "  </div>\n",
              "  "
            ]
          },
          "metadata": {},
          "execution_count": 250
        }
      ]
    },
    {
      "cell_type": "markdown",
      "source": [
        "### 4.3 Modell auswählen\n",
        "\n",
        "Erneut verwenden wir das Verfahren `Random Forest`. Sie müssen allerdings darauf achten, dass Sie einen Random Forest zur Klassifikation importieren. Aus diesem Grund verwenden wir das Verfahren `RandomForestClassifier`. Für die Regressionaufgabe hatten wir das Verfahren `RandomForestRegressor` genutzt. Achten Sie auf diesen wichtigen Unterschied!"
      ],
      "metadata": {
        "id": "DZH4B74CDepm"
      },
      "id": "DZH4B74CDepm"
    },
    {
      "cell_type": "code",
      "source": [
        "from sklearn.ensemble import RandomForestClassifier"
      ],
      "metadata": {
        "id": "hRJ3fQsFDXL_"
      },
      "id": "hRJ3fQsFDXL_",
      "execution_count": 251,
      "outputs": []
    },
    {
      "cell_type": "code",
      "source": [
        "model = RandomForestClassifier()"
      ],
      "metadata": {
        "id": "cKGnyxJRDqIY"
      },
      "id": "cKGnyxJRDqIY",
      "execution_count": 252,
      "outputs": []
    },
    {
      "cell_type": "markdown",
      "source": [
        "### 4.4 Modell trainieren\n",
        "\n",
        "Das Random Forest Verfahren versucht nun einen Zusammenhang zwischen den Features und dem Target zu lernen und minimiert dabei ein Fehlermaß. Letzteres misst den Grad der Fehlklassifikation. Beispiel für Fehlklassifikation: Das Modell prognostiziert Diabetes für einen Patienten, in der Realität liegt die Erkrankung aber nicht vor."
      ],
      "metadata": {
        "id": "LatzmZt2Dxj6"
      },
      "id": "LatzmZt2Dxj6"
    },
    {
      "cell_type": "code",
      "source": [
        "model.fit(X_train, y_train)"
      ],
      "metadata": {
        "id": "ioXqSKqaDslO",
        "colab": {
          "base_uri": "https://localhost:8080/"
        },
        "outputId": "b93ebbd6-c26e-4c82-afcb-01ec1a13b320"
      },
      "id": "ioXqSKqaDslO",
      "execution_count": 253,
      "outputs": [
        {
          "output_type": "execute_result",
          "data": {
            "text/plain": [
              "RandomForestClassifier()"
            ]
          },
          "metadata": {},
          "execution_count": 253
        }
      ]
    },
    {
      "cell_type": "markdown",
      "source": [
        "### 4.5 Modell anwenden\n",
        "\n",
        "Das ML-Verfahren erhält die Daten `X_test`, d.h. die Untersuchungsergebnisse mit den relevanten Merkmalen und wendet die gelernten Zusammenhänge zur Prognose des Targets an, d.h. dem Vorhandensein von Diabetes (0/1)!"
      ],
      "metadata": {
        "id": "SnHwdqNWESSV"
      },
      "id": "SnHwdqNWESSV"
    },
    {
      "cell_type": "code",
      "source": [
        "y_pred = model.predict(X_test)\n",
        "y_pred"
      ],
      "metadata": {
        "id": "Lw2VrYolEL1G",
        "colab": {
          "base_uri": "https://localhost:8080/"
        },
        "outputId": "fbf33e33-c104-48ea-f926-b08234646b27"
      },
      "id": "Lw2VrYolEL1G",
      "execution_count": 254,
      "outputs": [
        {
          "output_type": "execute_result",
          "data": {
            "text/plain": [
              "array([0, 1, 0, 1, 0, 0, 0, 0, 0, 0, 0, 0, 0, 1, 1, 0, 0, 0, 1, 0, 0, 0,\n",
              "       0, 0, 0, 1, 0, 0, 1, 0, 1, 0, 0, 0, 0, 0, 0, 1, 0, 1, 1, 0, 0, 0,\n",
              "       0, 1, 0, 0, 1, 0, 1, 0, 0, 1, 0, 0, 0, 0, 0, 0, 1, 0, 0, 0, 1, 1,\n",
              "       1, 1, 0, 0, 1, 0, 0, 0, 0, 1, 0, 0, 0, 0, 1, 1, 0, 1, 1, 0, 0, 0,\n",
              "       0, 0, 0, 1, 1, 0, 0, 0, 0, 0, 1, 0, 0, 1, 0, 1, 0, 0, 0, 1, 0, 1,\n",
              "       0, 0, 1, 0, 0, 0, 1, 1, 1, 0, 0, 0, 0, 1, 0, 1, 0, 1, 0, 1, 1, 0,\n",
              "       1, 0, 0, 0, 1, 1, 0, 0, 0, 0, 0, 0, 1, 0, 1, 1, 0, 0, 1, 0, 1, 0])"
            ]
          },
          "metadata": {},
          "execution_count": 254
        }
      ]
    },
    {
      "cell_type": "markdown",
      "source": [
        "### 4.6 Modell evaluieren\n",
        "\n",
        "Die Modellbewertung erfolgt bei der Klassifikation regelmäßg nach dem Kriterium der \"Accuracy\" (andere kommen aber auch zum Einsatz). Die Accuracy setzt die Anzahl der korrekten Klassifikation in das Verhältnis zur Anzahl aller Beobachtungen. Dementsprechend stellt sie den Anteil der korrekten Klassifikationen dar."
      ],
      "metadata": {
        "id": "2LtmLpD4EkIp"
      },
      "id": "2LtmLpD4EkIp"
    },
    {
      "cell_type": "code",
      "source": [
        "sklearn.metrics.accuracy_score(y_test, y_pred) * 100"
      ],
      "metadata": {
        "id": "QFRaMmh7Ef47",
        "colab": {
          "base_uri": "https://localhost:8080/"
        },
        "outputId": "638aff1a-a8cd-4619-a565-4829d89ee92f"
      },
      "id": "QFRaMmh7Ef47",
      "execution_count": 255,
      "outputs": [
        {
          "output_type": "execute_result",
          "data": {
            "text/plain": [
              "75.32467532467533"
            ]
          },
          "metadata": {},
          "execution_count": 255
        }
      ]
    },
    {
      "cell_type": "markdown",
      "source": [
        "Zur Veranschaulichung von Klassifikationsergebnissen hilft regelmäßig eine Konfusionsmatrix. Diese wird wie folgt erstellt:"
      ],
      "metadata": {
        "id": "G_zYj8rkOeuS"
      },
      "id": "G_zYj8rkOeuS"
    },
    {
      "cell_type": "code",
      "source": [
        "conf_matrix = sklearn.metrics.confusion_matrix(y_test, y_pred, labels=model.classes_)\n",
        "disp = sklearn.metrics.ConfusionMatrixDisplay(conf_matrix, display_labels=model.classes_)\n",
        "disp.plot()\n",
        "plt.show()"
      ],
      "metadata": {
        "id": "g_2GU6ppEvOP",
        "colab": {
          "base_uri": "https://localhost:8080/",
          "height": 279
        },
        "outputId": "c60bb119-dc3e-4325-904d-abca09d68a69"
      },
      "id": "g_2GU6ppEvOP",
      "execution_count": 256,
      "outputs": [
        {
          "output_type": "display_data",
          "data": {
            "text/plain": [
              "<Figure size 432x288 with 2 Axes>"
            ],
            "image/png": "[encoded data removed]"
          },
          "metadata": {
            "needs_background": "light"
          }
        }
      ]
    },
    {
      "cell_type": "markdown",
      "source": [
        "### 4.7 Beispiel Vorhersage der Anzahl von Schwangerschaften"
      ],
      "metadata": {
        "id": "E02vjECMHydd"
      },
      "id": "E02vjECMHydd"
    },
    {
      "cell_type": "code",
      "source": [
        "# Modelltraining\n",
        "X = data.drop(columns=\"schwangerschaften\")\n",
        "y = data[\"schwangerschaften\"]\n",
        "X_train, X_test, y_train, y_test = train_test_split(X, y, test_size=0.2, random_state=3)\n",
        "model = RandomForestClassifier()\n",
        "model.fit(X_train, y_train)"
      ],
      "metadata": {
        "colab": {
          "base_uri": "https://localhost:8080/"
        },
        "id": "uUOCSeTVH6Nd",
        "outputId": "929c7d45-9c5d-4853-cb26-1be047f50f75"
      },
      "id": "uUOCSeTVH6Nd",
      "execution_count": 266,
      "outputs": [
        {
          "output_type": "execute_result",
          "data": {
            "text/plain": [
              "RandomForestClassifier()"
            ]
          },
          "metadata": {},
          "execution_count": 266
        }
      ]
    },
    {
      "cell_type": "code",
      "source": [
        "# Modellanwendung Person1\n",
        "person = data.head(1).drop(columns=\"schwangerschaften\").copy()\n",
        "person"
      ],
      "metadata": {
        "colab": {
          "base_uri": "https://localhost:8080/",
          "height": 124
        },
        "id": "wT2uNxBZIQ8N",
        "outputId": "a8f17784-ab2f-4d90-c136-80a996ab92ad"
      },
      "id": "wT2uNxBZIQ8N",
      "execution_count": 287,
      "outputs": [
        {
          "output_type": "execute_result",
          "data": {
            "text/plain": [
              "   glukose_konzentration  blutdruck  dicke_trizepshautfalte  insulin_wert  \\\n",
              "0                    148         72                      35             0   \n",
              "\n",
              "    bmi  diabetes_vorbelastung  alter  diabetes  \n",
              "0  33.6                  0.627     50         1  "
            ],
            "text/html": [
              "\n",
              "  <div id=\"df-a34d6066-a5b8-4afb-a917-ff38a5374aad\">\n",
              "    <div class=\"colab-df-container\">\n",
              "      <div>\n",
              "<style scoped>\n",
              "    .dataframe tbody tr th:only-of-type {\n",
              "        vertical-align: middle;\n",
              "    }\n",
              "\n",
              "    .dataframe tbody tr th {\n",
              "        vertical-align: top;\n",
              "    }\n",
              "\n",
              "    .dataframe thead th {\n",
              "        text-align: right;\n",
              "    }\n",
              "</style>\n",
              "<table border=\"1\" class=\"dataframe\">\n",
              "  <thead>\n",
              "    <tr style=\"text-align: right;\">\n",
              "      <th></th>\n",
              "      <th>glukose_konzentration</th>\n",
              "      <th>blutdruck</th>\n",
              "      <th>dicke_trizepshautfalte</th>\n",
              "      <th>insulin_wert</th>\n",
              "      <th>bmi</th>\n",
              "      <th>diabetes_vorbelastung</th>\n",
              "      <th>alter</th>\n",
              "      <th>diabetes</th>\n",
              "    </tr>\n",
              "  </thead>\n",
              "  <tbody>\n",
              "    <tr>\n",
              "      <th>0</th>\n",
              "      <td>148</td>\n",
              "      <td>72</td>\n",
              "      <td>35</td>\n",
              "      <td>0</td>\n",
              "      <td>33.6</td>\n",
              "      <td>0.627</td>\n",
              "      <td>50</td>\n",
              "      <td>1</td>\n",
              "    </tr>\n",
              "  </tbody>\n",
              "</table>\n",
              "</div>\n",
              "      <button class=\"colab-df-convert\" onclick=\"convertToInteractive('df-a34d6066-a5b8-4afb-a917-ff38a5374aad')\"\n",
              "              title=\"Convert this dataframe to an interactive table.\"\n",
              "              style=\"display:none;\">\n",
              "        \n",
              "  <svg xmlns=\"http://www.w3.org/2000/svg\" height=\"24px\"viewBox=\"0 0 24 24\"\n",
              "       width=\"24px\">\n",
              "    <path d=\"M0 0h24v24H0V0z\" fill=\"none\"/>\n",
              "    <path d=\"M18.56 5.44l.94 2.06.94-2.06 2.06-.94-2.06-.94-.94-2.06-.94 2.06-2.06.94zm-11 1L8.5 8.5l.94-2.06 2.06-.94-2.06-.94L8.5 2.5l-.94 2.06-2.06.94zm10 10l.94 2.06.94-2.06 2.06-.94-2.06-.94-.94-2.06-.94 2.06-2.06.94z\"/><path d=\"M17.41 7.96l-1.37-1.37c-.4-.4-.92-.59-1.43-.59-.52 0-1.04.2-1.43.59L10.3 9.45l-7.72 7.72c-.78.78-.78 2.05 0 2.83L4 21.41c.39.39.9.59 1.41.59.51 0 1.02-.2 1.41-.59l7.78-7.78 2.81-2.81c.8-.78.8-2.07 0-2.86zM5.41 20L4 18.59l7.72-7.72 1.47 1.35L5.41 20z\"/>\n",
              "  </svg>\n",
              "      </button>\n",
              "      \n",
              "  <style>\n",
              "    .colab-df-container {\n",
              "      display:flex;\n",
              "      flex-wrap:wrap;\n",
              "      gap: 12px;\n",
              "    }\n",
              "\n",
              "    .colab-df-convert {\n",
              "      background-color: #E8F0FE;\n",
              "      border: none;\n",
              "      border-radius: 50%;\n",
              "      cursor: pointer;\n",
              "      display: none;\n",
              "      fill: #1967D2;\n",
              "      height: 32px;\n",
              "      padding: 0 0 0 0;\n",
              "      width: 32px;\n",
              "    }\n",
              "\n",
              "    .colab-df-convert:hover {\n",
              "      background-color: #E2EBFA;\n",
              "      box-shadow: 0px 1px 2px rgba(60, 64, 67, 0.3), 0px 1px 3px 1px rgba(60, 64, 67, 0.15);\n",
              "      fill: #174EA6;\n",
              "    }\n",
              "\n",
              "    [theme=dark] .colab-df-convert {\n",
              "      background-color: #3B4455;\n",
              "      fill: #D2E3FC;\n",
              "    }\n",
              "\n",
              "    [theme=dark] .colab-df-convert:hover {\n",
              "      background-color: #434B5C;\n",
              "      box-shadow: 0px 1px 3px 1px rgba(0, 0, 0, 0.15);\n",
              "      filter: drop-shadow(0px 1px 2px rgba(0, 0, 0, 0.3));\n",
              "      fill: #FFFFFF;\n",
              "    }\n",
              "  </style>\n",
              "\n",
              "      <script>\n",
              "        const buttonEl =\n",
              "          document.querySelector('#df-a34d6066-a5b8-4afb-a917-ff38a5374aad button.colab-df-convert');\n",
              "        buttonEl.style.display =\n",
              "          google.colab.kernel.accessAllowed ? 'block' : 'none';\n",
              "\n",
              "        async function convertToInteractive(key) {\n",
              "          const element = document.querySelector('#df-a34d6066-a5b8-4afb-a917-ff38a5374aad');\n",
              "          const dataTable =\n",
              "            await google.colab.kernel.invokeFunction('convertToInteractive',\n",
              "                                                     [key], {});\n",
              "          if (!dataTable) return;\n",
              "\n",
              "          const docLinkHtml = 'Like what you see? Visit the ' +\n",
              "            '<a target=\"_blank\" href=https://colab.research.google.com/notebooks/data_table.ipynb>data table notebook</a>'\n",
              "            + ' to learn more about interactive tables.';\n",
              "          element.innerHTML = '';\n",
              "          dataTable['output_type'] = 'display_data';\n",
              "          await google.colab.output.renderOutput(dataTable, element);\n",
              "          const docLink = document.createElement('div');\n",
              "          docLink.innerHTML = docLinkHtml;\n",
              "          element.appendChild(docLink);\n",
              "        }\n",
              "      </script>\n",
              "    </div>\n",
              "  </div>\n",
              "  "
            ]
          },
          "metadata": {},
          "execution_count": 287
        }
      ]
    },
    {
      "cell_type": "code",
      "source": [
        "model.predict(person)"
      ],
      "metadata": {
        "colab": {
          "base_uri": "https://localhost:8080/"
        },
        "id": "u86KU1_kJHyZ",
        "outputId": "37a5a73f-9dae-4dfb-8c3e-d46b3a49519b"
      },
      "id": "u86KU1_kJHyZ",
      "execution_count": 288,
      "outputs": [
        {
          "output_type": "execute_result",
          "data": {
            "text/plain": [
              "array([6])"
            ]
          },
          "metadata": {},
          "execution_count": 288
        }
      ]
    },
    {
      "cell_type": "code",
      "source": [
        "# Modellanwendung Person2\n",
        "person[\"bmi\"]=20\n",
        "person[\"diabetes\"]=0\n",
        "person[\"alter\"]=25"
      ],
      "metadata": {
        "id": "7d1FuHqbKEuH"
      },
      "id": "7d1FuHqbKEuH",
      "execution_count": 299,
      "outputs": []
    },
    {
      "cell_type": "code",
      "source": [
        "model.predict(person)"
      ],
      "metadata": {
        "colab": {
          "base_uri": "https://localhost:8080/"
        },
        "id": "GnBelnzIKEM2",
        "outputId": "36aab520-13cd-420c-bd54-a041dec8c9de"
      },
      "id": "GnBelnzIKEM2",
      "execution_count": 298,
      "outputs": [
        {
          "output_type": "execute_result",
          "data": {
            "text/plain": [
              "array([3])"
            ]
          },
          "metadata": {},
          "execution_count": 298
        }
      ]
    },
    {
      "cell_type": "markdown",
      "source": [
        "### Abschlussübung Machine Learning <a class=\"anchor\" id=\"final\"></a>\n",
        "Wir bleiben beim Datensatz zur Diabetes. Entwickeln Sie ein Machine Learning Modell, welches den BMI einer untersuchten Person auf Basis der Untersuchungsergebnisse (inkl. Diabetesbefund) vorhersagt!"
      ],
      "metadata": {
        "id": "lqGYeZEjOrwp"
      },
      "id": "lqGYeZEjOrwp"
    },
    {
      "cell_type": "code",
      "source": [
        ""
      ],
      "metadata": {
        "id": "83cyBO79F0q1"
      },
      "id": "83cyBO79F0q1",
      "execution_count": null,
      "outputs": []
    }
  ],
  "metadata": {
    "kernelspec": {
      "display_name": "Python 3 (ipykernel)",
      "language": "python",
      "name": "python3"
    },
    "language_info": {
      "codemirror_mode": {
        "name": "ipython",
        "version": 3
      },
      "file_extension": ".py",
      "mimetype": "text/x-python",
      "name": "python",
      "nbconvert_exporter": "python",
      "pygments_lexer": "ipython3",
      "version": "3.8.5"
    },
    "colab": {
      "name": "G2 Machine Learning.ipynb",
      "provenance": [],
      "collapsed_sections": [],
      "toc_visible": true,
      "include_colab_link": true
    }
  },
  "nbformat": 4,
  "nbformat_minor": 5
}