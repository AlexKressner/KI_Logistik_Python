{
  "cells": [
    {
      "cell_type": "markdown",
      "metadata": {
        "id": "view-in-github",
        "colab_type": "text"
      },
      "source": [
        "<a href=\"https://colab.research.google.com/github/AlexKressner/KI_Logistik_Python/blob/main/G2_Machine_Learning.ipynb\" target=\"_parent\"><img src=\"https://colab.research.google.com/assets/colab-badge.svg\" alt=\"Open In Colab\"/></a>"
      ]
    },
    {
      "cell_type": "markdown",
      "id": "64b0765e-bc90-46b8-8c66-0123b137bf19",
      "metadata": {
        "jp-MarkdownHeadingCollapsed": true,
        "tags": [],
        "id": "64b0765e-bc90-46b8-8c66-0123b137bf19"
      },
      "source": [
        "# Übersicht\n",
        "1. [Problem/ Business Understanding](#problem)\n",
        "1. [Data Understanding & Data Exploration](#data)\n",
        "  1. [Erster Überblick](#overview)\n",
        "  1. [Target](#target)\n",
        "  1. [Features](#feature)\n",
        "1. [Machine Learning für Regressionsprobleme](#regression)\n",
        "1. [Machine Learning für Klassifikationsprobleme](#klassifikation)"
      ]
    },
    {
      "cell_type": "markdown",
      "id": "4568c8d2-8df2-406b-9dd1-a3420d979671",
      "metadata": {
        "id": "4568c8d2-8df2-406b-9dd1-a3420d979671"
      },
      "source": [
        "# Übungsaufgaben\n",
        "- [Data Exploration - Track & Trace](#tt_eda)\n",
        "- [Machine Learning - Track & Trace](#tt_ml)\n",
        "- [Abschlussübung ML](#final)"
      ]
    },
    {
      "cell_type": "markdown",
      "source": [
        "## 1 Problem/ Business Understanding <a class=\"anchor\" id=\"problem\"></a>\n",
        "Sie kennen bereits die Daten zu den Fussballweltmeisterschaften von 1930 bis 2014. In diesen ist jedes einzelne Weltmeisterschaftsspiel dokumentiert - von der Zuschauerzahl bis zum Endergebnis. \n",
        "\n",
        "Wir werden nun versuchen, die Anzahl der in einem Spiel geschossenen Tore nach Abschluss der ersten Halbzeit vorherzusagen. Durch die Nutzung von maschinellen Lernverfahren versuchen wir aus den zur Halbzeit vorliegenden Daten Muster zu erkennen, die eine zuverlässige Vorhersage der geschossenen Tore erlaubt. \n",
        "\n",
        "Zunächst überlegen wir uns, welche Daten (Features) einen Einfluss auf die Anzahl der geschossenen Tore haben. Mit Sicherheit ist in diesem Zusammenhang die Anzahl der zur Halbzeit geschossenen Tore eine wichtige Information. Zusätzlich kann man sich aber auch die folgenden Fragen stellen:\n",
        "- Hat die Spielpaarung einen Einfluss auf die Anzahl der Tore?\n",
        "- Hat die Anzahl der Zuschauer einen Einfluss auf die Anzahl der geschossenen Tore?\n",
        "- Fallen mehr Tore in einem Vorrundenspiel im Vergleich zu einem Halbfinale?\n",
        "- ...\n",
        "\n",
        "Sicherlich finden wir auf jede einzelne Frage auch ohne maschinelle Lernverfahren durch eine tiefergehende Datenanalse erste Antworten. Die Bewertung der Einflüsse in ihrer Kombination ist aber schon äußerst schwierig.\n",
        "\n",
        "Maschinelle Lernverfahren helfen hier enorm. Wir müssen lediglich die Daten in geeigneter Weise aufbereiten, einen passenden Algorithmus auf diese anwenden und erhalten anschließend Prognosen zur interessierten Zielgröße oder Aussagen über die Bedeutung einzelner Features."
      ],
      "metadata": {
        "id": "MoVOHMi014E3"
      },
      "id": "MoVOHMi014E3"
    },
    {
      "cell_type": "markdown",
      "source": [
        "**Frage:** Welchem Teilgebiet des maschinellen Lernens ist die oben beschriebene Problemstellung zuzuordnen? Supervised oder Unsupervised Learning?"
      ],
      "metadata": {
        "id": "bKCLGPXZXjl2"
      },
      "id": "bKCLGPXZXjl2"
    },
    {
      "cell_type": "code",
      "source": [
        ""
      ],
      "metadata": {
        "id": "mYYdkl0dZSD5"
      },
      "id": "mYYdkl0dZSD5",
      "execution_count": 631,
      "outputs": []
    },
    {
      "cell_type": "markdown",
      "source": [
        "**Frage:** Handelt es sich um ein Regressions- oder Klassifikationsproblem?"
      ],
      "metadata": {
        "id": "jfqfGQAZZTbG"
      },
      "id": "jfqfGQAZZTbG"
    },
    {
      "cell_type": "code",
      "source": [
        ""
      ],
      "metadata": {
        "id": "L3PLvd_iZdQq"
      },
      "id": "L3PLvd_iZdQq",
      "execution_count": 631,
      "outputs": []
    },
    {
      "cell_type": "markdown",
      "source": [
        "## 2 Data Understanding & Exploration <a class=\"anchor\" id=\"data\"></a>\n",
        "In einem ersten Schritt ist es wichtig, dass Sie sich einen Überblick zu den vorhandenen Daten verschaffen, d.h.:\n",
        "- Wie groß ist der Datensatz (Zeilen/Spalten)\n",
        "- Was bedeuten die einzelnen Werte in den Spalten (Features)?\n",
        "- Wie sind die Werte der einzelnen Features verteilt?\n",
        "- Gibt es fehlende Werte, die Sie bereinigen müssen?\n",
        "- Wie sin die Zusammenhänge zwischen den Features?\n",
        "- ...\n",
        "\n",
        "Besonders hilfreich sind an dieser Stelle Visualisierung, die Ihnen einen Überblick zu den Daten geben und bereits etwaige Zusammenhänge zwischen Features und/oder Target aufzeigen!"
      ],
      "metadata": {
        "id": "mstNne1_1OrN"
      },
      "id": "mstNne1_1OrN"
    },
    {
      "cell_type": "code",
      "source": [
        "import pandas as pd # zur Datenanalyse\n",
        "import matplotlib.pyplot as plt # zur Datenvisualisierug\n",
        "import numpy as np"
      ],
      "metadata": {
        "id": "sUGf06iS1arF"
      },
      "id": "sUGf06iS1arF",
      "execution_count": 632,
      "outputs": []
    },
    {
      "cell_type": "code",
      "source": [
        "# Google-Drive einbinden\n",
        "from google.colab import drive\n",
        "drive.mount('/content/drive')"
      ],
      "metadata": {
        "id": "I-5QslQG1kr3",
        "colab": {
          "base_uri": "https://localhost:8080/"
        },
        "outputId": "57a337db-9b64-44c8-eac8-874bc9083fdf"
      },
      "id": "I-5QslQG1kr3",
      "execution_count": 633,
      "outputs": [
        {
          "output_type": "stream",
          "name": "stdout",
          "text": [
            "Drive already mounted at /content/drive; to attempt to forcibly remount, call drive.mount(\"/content/drive\", force_remount=True).\n"
          ]
        }
      ]
    },
    {
      "cell_type": "code",
      "source": [
        "# Daten laden\n",
        "data = pd.read_csv(\"/content/drive/MyDrive/WorldCupMatches.txt\")\n",
        "\n",
        "# Die folgende Datenaufbereitung ist für Sie nicht relevant!\n",
        "data = data.astype({\"Datetime\": \"M\", \"RoundID\": \"O\", \"MatchID\": \"O\"}, errors='raise') \n",
        "data.dropna(inplace=True)\n",
        "data.replace(' ', np.nan, inplace=True)\n",
        "data[\"Hour\"] = data[\"Datetime\"].dt.hour\n",
        "data[\"Weekday\"] = data[\"Datetime\"].dt.day_name()\n",
        "data.Stage.replace(r'Group(.*)', 'Group', regex=True, inplace=True)\n",
        "data.Stage.replace('First round', 'Group', inplace=True)\n",
        "data.Stage.replace('Preliminary round', 'Group', inplace=True)\n",
        "data.Stage.replace(r'.+third.+', 'Third place', regex=True, inplace=True)\n",
        "data.head()"
      ],
      "metadata": {
        "id": "9GLKqz311sMC",
        "colab": {
          "base_uri": "https://localhost:8080/",
          "height": 518
        },
        "outputId": "72b5dfb1-e78a-4106-fec2-f08b3ce33c8b"
      },
      "id": "9GLKqz311sMC",
      "execution_count": 634,
      "outputs": [
        {
          "output_type": "execute_result",
          "data": {
            "text/plain": [
              "     Year            Datetime  Stage         Stadium         City  \\\n",
              "0  1930.0 1930-07-13 15:00:00  Group         Pocitos  Montevideo    \n",
              "1  1930.0 1930-07-13 15:00:00  Group  Parque Central  Montevideo    \n",
              "2  1930.0 1930-07-14 12:45:00  Group  Parque Central  Montevideo    \n",
              "3  1930.0 1930-07-14 14:50:00  Group         Pocitos  Montevideo    \n",
              "4  1930.0 1930-07-15 16:00:00  Group  Parque Central  Montevideo    \n",
              "\n",
              "  Home Team Name  Home Team Goals  Away Team Goals Away Team Name  \\\n",
              "0         France              4.0              1.0         Mexico   \n",
              "1            USA              3.0              0.0        Belgium   \n",
              "2     Yugoslavia              2.0              1.0         Brazil   \n",
              "3        Romania              3.0              1.0           Peru   \n",
              "4      Argentina              1.0              0.0         France   \n",
              "\n",
              "  Win conditions  ...  Half-time Away Goals                 Referee  \\\n",
              "0            NaN  ...                   0.0  LOMBARDI Domingo (URU)   \n",
              "1            NaN  ...                   0.0       MACIAS Jose (ARG)   \n",
              "2            NaN  ...                   0.0     TEJADA Anibal (URU)   \n",
              "3            NaN  ...                   0.0   WARNKEN Alberto (CHI)   \n",
              "4            NaN  ...                   0.0     REGO Gilberto (BRA)   \n",
              "\n",
              "                Assistant 1                 Assistant 2 RoundID MatchID  \\\n",
              "0     CRISTOPHE Henry (BEL)         REGO Gilberto (BRA)   201.0  1096.0   \n",
              "1  MATEUCCI Francisco (URU)       WARNKEN Alberto (CHI)   201.0  1090.0   \n",
              "2   VALLARINO Ricardo (URU)         BALWAY Thomas (FRA)   201.0  1093.0   \n",
              "3       LANGENUS Jean (BEL)    MATEUCCI Francisco (URU)   201.0  1098.0   \n",
              "4      SAUCEDO Ulises (BOL)  RADULESCU Constantin (ROU)   201.0  1085.0   \n",
              "\n",
              "   Home Team Initials  Away Team Initials Hour  Weekday  \n",
              "0                 FRA                 MEX   15   Sunday  \n",
              "1                 USA                 BEL   15   Sunday  \n",
              "2                 YUG                 BRA   12   Monday  \n",
              "3                 ROU                 PER   14   Monday  \n",
              "4                 ARG                 FRA   16  Tuesday  \n",
              "\n",
              "[5 rows x 22 columns]"
            ],
            "text/html": [
              "\n",
              "  <div id=\"df-e9b24405-87c9-4040-8c8a-795321eb1d38\">\n",
              "    <div class=\"colab-df-container\">\n",
              "      <div>\n",
              "<style scoped>\n",
              "    .dataframe tbody tr th:only-of-type {\n",
              "        vertical-align: middle;\n",
              "    }\n",
              "\n",
              "    .dataframe tbody tr th {\n",
              "        vertical-align: top;\n",
              "    }\n",
              "\n",
              "    .dataframe thead th {\n",
              "        text-align: right;\n",
              "    }\n",
              "</style>\n",
              "<table border=\"1\" class=\"dataframe\">\n",
              "  <thead>\n",
              "    <tr style=\"text-align: right;\">\n",
              "      <th></th>\n",
              "      <th>Year</th>\n",
              "      <th>Datetime</th>\n",
              "      <th>Stage</th>\n",
              "      <th>Stadium</th>\n",
              "      <th>City</th>\n",
              "      <th>Home Team Name</th>\n",
              "      <th>Home Team Goals</th>\n",
              "      <th>Away Team Goals</th>\n",
              "      <th>Away Team Name</th>\n",
              "      <th>Win conditions</th>\n",
              "      <th>...</th>\n",
              "      <th>Half-time Away Goals</th>\n",
              "      <th>Referee</th>\n",
              "      <th>Assistant 1</th>\n",
              "      <th>Assistant 2</th>\n",
              "      <th>RoundID</th>\n",
              "      <th>MatchID</th>\n",
              "      <th>Home Team Initials</th>\n",
              "      <th>Away Team Initials</th>\n",
              "      <th>Hour</th>\n",
              "      <th>Weekday</th>\n",
              "    </tr>\n",
              "  </thead>\n",
              "  <tbody>\n",
              "    <tr>\n",
              "      <th>0</th>\n",
              "      <td>1930.0</td>\n",
              "      <td>1930-07-13 15:00:00</td>\n",
              "      <td>Group</td>\n",
              "      <td>Pocitos</td>\n",
              "      <td>Montevideo</td>\n",
              "      <td>France</td>\n",
              "      <td>4.0</td>\n",
              "      <td>1.0</td>\n",
              "      <td>Mexico</td>\n",
              "      <td>NaN</td>\n",
              "      <td>...</td>\n",
              "      <td>0.0</td>\n",
              "      <td>LOMBARDI Domingo (URU)</td>\n",
              "      <td>CRISTOPHE Henry (BEL)</td>\n",
              "      <td>REGO Gilberto (BRA)</td>\n",
              "      <td>201.0</td>\n",
              "      <td>1096.0</td>\n",
              "      <td>FRA</td>\n",
              "      <td>MEX</td>\n",
              "      <td>15</td>\n",
              "      <td>Sunday</td>\n",
              "    </tr>\n",
              "    <tr>\n",
              "      <th>1</th>\n",
              "      <td>1930.0</td>\n",
              "      <td>1930-07-13 15:00:00</td>\n",
              "      <td>Group</td>\n",
              "      <td>Parque Central</td>\n",
              "      <td>Montevideo</td>\n",
              "      <td>USA</td>\n",
              "      <td>3.0</td>\n",
              "      <td>0.0</td>\n",
              "      <td>Belgium</td>\n",
              "      <td>NaN</td>\n",
              "      <td>...</td>\n",
              "      <td>0.0</td>\n",
              "      <td>MACIAS Jose (ARG)</td>\n",
              "      <td>MATEUCCI Francisco (URU)</td>\n",
              "      <td>WARNKEN Alberto (CHI)</td>\n",
              "      <td>201.0</td>\n",
              "      <td>1090.0</td>\n",
              "      <td>USA</td>\n",
              "      <td>BEL</td>\n",
              "      <td>15</td>\n",
              "      <td>Sunday</td>\n",
              "    </tr>\n",
              "    <tr>\n",
              "      <th>2</th>\n",
              "      <td>1930.0</td>\n",
              "      <td>1930-07-14 12:45:00</td>\n",
              "      <td>Group</td>\n",
              "      <td>Parque Central</td>\n",
              "      <td>Montevideo</td>\n",
              "      <td>Yugoslavia</td>\n",
              "      <td>2.0</td>\n",
              "      <td>1.0</td>\n",
              "      <td>Brazil</td>\n",
              "      <td>NaN</td>\n",
              "      <td>...</td>\n",
              "      <td>0.0</td>\n",
              "      <td>TEJADA Anibal (URU)</td>\n",
              "      <td>VALLARINO Ricardo (URU)</td>\n",
              "      <td>BALWAY Thomas (FRA)</td>\n",
              "      <td>201.0</td>\n",
              "      <td>1093.0</td>\n",
              "      <td>YUG</td>\n",
              "      <td>BRA</td>\n",
              "      <td>12</td>\n",
              "      <td>Monday</td>\n",
              "    </tr>\n",
              "    <tr>\n",
              "      <th>3</th>\n",
              "      <td>1930.0</td>\n",
              "      <td>1930-07-14 14:50:00</td>\n",
              "      <td>Group</td>\n",
              "      <td>Pocitos</td>\n",
              "      <td>Montevideo</td>\n",
              "      <td>Romania</td>\n",
              "      <td>3.0</td>\n",
              "      <td>1.0</td>\n",
              "      <td>Peru</td>\n",
              "      <td>NaN</td>\n",
              "      <td>...</td>\n",
              "      <td>0.0</td>\n",
              "      <td>WARNKEN Alberto (CHI)</td>\n",
              "      <td>LANGENUS Jean (BEL)</td>\n",
              "      <td>MATEUCCI Francisco (URU)</td>\n",
              "      <td>201.0</td>\n",
              "      <td>1098.0</td>\n",
              "      <td>ROU</td>\n",
              "      <td>PER</td>\n",
              "      <td>14</td>\n",
              "      <td>Monday</td>\n",
              "    </tr>\n",
              "    <tr>\n",
              "      <th>4</th>\n",
              "      <td>1930.0</td>\n",
              "      <td>1930-07-15 16:00:00</td>\n",
              "      <td>Group</td>\n",
              "      <td>Parque Central</td>\n",
              "      <td>Montevideo</td>\n",
              "      <td>Argentina</td>\n",
              "      <td>1.0</td>\n",
              "      <td>0.0</td>\n",
              "      <td>France</td>\n",
              "      <td>NaN</td>\n",
              "      <td>...</td>\n",
              "      <td>0.0</td>\n",
              "      <td>REGO Gilberto (BRA)</td>\n",
              "      <td>SAUCEDO Ulises (BOL)</td>\n",
              "      <td>RADULESCU Constantin (ROU)</td>\n",
              "      <td>201.0</td>\n",
              "      <td>1085.0</td>\n",
              "      <td>ARG</td>\n",
              "      <td>FRA</td>\n",
              "      <td>16</td>\n",
              "      <td>Tuesday</td>\n",
              "    </tr>\n",
              "  </tbody>\n",
              "</table>\n",
              "<p>5 rows × 22 columns</p>\n",
              "</div>\n",
              "      <button class=\"colab-df-convert\" onclick=\"convertToInteractive('df-e9b24405-87c9-4040-8c8a-795321eb1d38')\"\n",
              "              title=\"Convert this dataframe to an interactive table.\"\n",
              "              style=\"display:none;\">\n",
              "        \n",
              "  <svg xmlns=\"http://www.w3.org/2000/svg\" height=\"24px\"viewBox=\"0 0 24 24\"\n",
              "       width=\"24px\">\n",
              "    <path d=\"M0 0h24v24H0V0z\" fill=\"none\"/>\n",
              "    <path d=\"M18.56 5.44l.94 2.06.94-2.06 2.06-.94-2.06-.94-.94-2.06-.94 2.06-2.06.94zm-11 1L8.5 8.5l.94-2.06 2.06-.94-2.06-.94L8.5 2.5l-.94 2.06-2.06.94zm10 10l.94 2.06.94-2.06 2.06-.94-2.06-.94-.94-2.06-.94 2.06-2.06.94z\"/><path d=\"M17.41 7.96l-1.37-1.37c-.4-.4-.92-.59-1.43-.59-.52 0-1.04.2-1.43.59L10.3 9.45l-7.72 7.72c-.78.78-.78 2.05 0 2.83L4 21.41c.39.39.9.59 1.41.59.51 0 1.02-.2 1.41-.59l7.78-7.78 2.81-2.81c.8-.78.8-2.07 0-2.86zM5.41 20L4 18.59l7.72-7.72 1.47 1.35L5.41 20z\"/>\n",
              "  </svg>\n",
              "      </button>\n",
              "      \n",
              "  <style>\n",
              "    .colab-df-container {\n",
              "      display:flex;\n",
              "      flex-wrap:wrap;\n",
              "      gap: 12px;\n",
              "    }\n",
              "\n",
              "    .colab-df-convert {\n",
              "      background-color: #E8F0FE;\n",
              "      border: none;\n",
              "      border-radius: 50%;\n",
              "      cursor: pointer;\n",
              "      display: none;\n",
              "      fill: #1967D2;\n",
              "      height: 32px;\n",
              "      padding: 0 0 0 0;\n",
              "      width: 32px;\n",
              "    }\n",
              "\n",
              "    .colab-df-convert:hover {\n",
              "      background-color: #E2EBFA;\n",
              "      box-shadow: 0px 1px 2px rgba(60, 64, 67, 0.3), 0px 1px 3px 1px rgba(60, 64, 67, 0.15);\n",
              "      fill: #174EA6;\n",
              "    }\n",
              "\n",
              "    [theme=dark] .colab-df-convert {\n",
              "      background-color: #3B4455;\n",
              "      fill: #D2E3FC;\n",
              "    }\n",
              "\n",
              "    [theme=dark] .colab-df-convert:hover {\n",
              "      background-color: #434B5C;\n",
              "      box-shadow: 0px 1px 3px 1px rgba(0, 0, 0, 0.15);\n",
              "      filter: drop-shadow(0px 1px 2px rgba(0, 0, 0, 0.3));\n",
              "      fill: #FFFFFF;\n",
              "    }\n",
              "  </style>\n",
              "\n",
              "      <script>\n",
              "        const buttonEl =\n",
              "          document.querySelector('#df-e9b24405-87c9-4040-8c8a-795321eb1d38 button.colab-df-convert');\n",
              "        buttonEl.style.display =\n",
              "          google.colab.kernel.accessAllowed ? 'block' : 'none';\n",
              "\n",
              "        async function convertToInteractive(key) {\n",
              "          const element = document.querySelector('#df-e9b24405-87c9-4040-8c8a-795321eb1d38');\n",
              "          const dataTable =\n",
              "            await google.colab.kernel.invokeFunction('convertToInteractive',\n",
              "                                                     [key], {});\n",
              "          if (!dataTable) return;\n",
              "\n",
              "          const docLinkHtml = 'Like what you see? Visit the ' +\n",
              "            '<a target=\"_blank\" href=https://colab.research.google.com/notebooks/data_table.ipynb>data table notebook</a>'\n",
              "            + ' to learn more about interactive tables.';\n",
              "          element.innerHTML = '';\n",
              "          dataTable['output_type'] = 'display_data';\n",
              "          await google.colab.output.renderOutput(dataTable, element);\n",
              "          const docLink = document.createElement('div');\n",
              "          docLink.innerHTML = docLinkHtml;\n",
              "          element.appendChild(docLink);\n",
              "        }\n",
              "      </script>\n",
              "    </div>\n",
              "  </div>\n",
              "  "
            ]
          },
          "metadata": {},
          "execution_count": 634
        }
      ]
    },
    {
      "cell_type": "markdown",
      "source": [
        "### 2.1 Erster Überblick zum Datensatz <a class=\"anchor\" id=\"overview\"></a>"
      ],
      "metadata": {
        "id": "KkHlMAifQF9l"
      },
      "id": "KkHlMAifQF9l"
    },
    {
      "cell_type": "code",
      "source": [
        "# Größe des Datensatzes\n",
        "data.shape"
      ],
      "metadata": {
        "id": "qofiApAiQEuA",
        "colab": {
          "base_uri": "https://localhost:8080/"
        },
        "outputId": "86a474bb-e339-4223-eccd-e085363df81e"
      },
      "id": "qofiApAiQEuA",
      "execution_count": 635,
      "outputs": [
        {
          "output_type": "execute_result",
          "data": {
            "text/plain": [
              "(850, 22)"
            ]
          },
          "metadata": {},
          "execution_count": 635
        }
      ]
    },
    {
      "cell_type": "code",
      "source": [
        "# Fehlende Werte\n",
        "data.isna().any()"
      ],
      "metadata": {
        "id": "aaMFljHmQSY7",
        "colab": {
          "base_uri": "https://localhost:8080/"
        },
        "outputId": "f69695be-c479-4e6e-9913-d3d0a259dd5f"
      },
      "id": "aaMFljHmQSY7",
      "execution_count": 636,
      "outputs": [
        {
          "output_type": "execute_result",
          "data": {
            "text/plain": [
              "Year                    False\n",
              "Datetime                False\n",
              "Stage                   False\n",
              "Stadium                 False\n",
              "City                    False\n",
              "Home Team Name          False\n",
              "Home Team Goals         False\n",
              "Away Team Goals         False\n",
              "Away Team Name          False\n",
              "Win conditions           True\n",
              "Attendance              False\n",
              "Half-time Home Goals    False\n",
              "Half-time Away Goals    False\n",
              "Referee                 False\n",
              "Assistant 1             False\n",
              "Assistant 2             False\n",
              "RoundID                 False\n",
              "MatchID                 False\n",
              "Home Team Initials      False\n",
              "Away Team Initials      False\n",
              "Hour                    False\n",
              "Weekday                 False\n",
              "dtype: bool"
            ]
          },
          "metadata": {},
          "execution_count": 636
        }
      ]
    },
    {
      "cell_type": "markdown",
      "source": [
        "### 2.2 Target <a class=\"anchor\" id=\"target\"></a>\n",
        "Bei dem Target handelt es sich um die Zielgröße, welche wir prognostizieren wollen. In diesem Fall die Anzahl der geschossenen Tore in der regulären Spielzeit plus etwaiger Verlängerung!"
      ],
      "metadata": {
        "id": "gHe7yez1cvd0"
      },
      "id": "gHe7yez1cvd0"
    },
    {
      "cell_type": "code",
      "source": [
        "# Berechnung neue Spalte\n",
        "data[\"Total Goals\"] = data[\"Home Team Goals\"] + data[\"Away Team Goals\"]"
      ],
      "metadata": {
        "id": "dsgH-wDDcy3P"
      },
      "id": "dsgH-wDDcy3P",
      "execution_count": 637,
      "outputs": []
    },
    {
      "cell_type": "code",
      "source": [
        "data[\"Total Goals\"].plot(\n",
        "    kind=\"hist\", \n",
        "    title= \"Histogramm Total Goals\",\n",
        "    figsize=(8,4),\n",
        "    color=\"c\",\n",
        "    edgecolor='k',\n",
        "    density=True,\n",
        "    alpha=0.8\n",
        "    )\n",
        "plt.plot()"
      ],
      "metadata": {
        "id": "dDX0eDzSEJE1",
        "colab": {
          "base_uri": "https://localhost:8080/",
          "height": 298
        },
        "outputId": "69cd3a1b-3fa0-437f-a66b-1ab8cb1e99b3"
      },
      "id": "dDX0eDzSEJE1",
      "execution_count": 638,
      "outputs": [
        {
          "output_type": "execute_result",
          "data": {
            "text/plain": [
              "[]"
            ]
          },
          "metadata": {},
          "execution_count": 638
        },
        {
          "output_type": "display_data",
          "data": {
            "text/plain": [
              "<Figure size 576x288 with 1 Axes>"
            ],
            "image/png": "[encoded data removed]"
          },
          "metadata": {
            "needs_background": "light"
          }
        }
      ]
    },
    {
      "cell_type": "markdown",
      "source": [
        "**Frage:** Warum ist es unabdingbar die folgenden Spalten zu löschen?"
      ],
      "metadata": {
        "id": "n8spg3_3V4jg"
      },
      "id": "n8spg3_3V4jg"
    },
    {
      "cell_type": "code",
      "source": [
        "data.drop(columns=[\"Home Team Goals\", \"Away Team Goals\"], inplace=True)"
      ],
      "metadata": {
        "id": "_A1fb49Dzfj7"
      },
      "id": "_A1fb49Dzfj7",
      "execution_count": 639,
      "outputs": []
    },
    {
      "cell_type": "markdown",
      "source": [
        "### 2.3 Features <a class=\"feature\" id=\"overview\"></a>\n",
        "Bei den Features handelt es sich um die Variablen, die zur Vorhersage des Targets verwendet werden - in diesem Fall die Anzahl der geschossenen Tore. \n",
        "\n",
        "Zum einen müssen Sie zunächst überlegen, welche der ursprünglichen Features einen Beitrag zur Erklärung des Target leisten können und ob diese noch anzupassen sind. \n",
        "\n",
        "Zum anderen leitet man regelmäßig aus den ursprünglichen Features weitere Features ab - in der Annahme, dass diese einen Beitrag zur Vorhersage des Target leisten."
      ],
      "metadata": {
        "id": "615_jEIAckP6"
      },
      "id": "615_jEIAckP6"
    },
    {
      "cell_type": "markdown",
      "source": [
        "**Relevante Features**"
      ],
      "metadata": {
        "id": "_QJIYMHSYNO-"
      },
      "id": "_QJIYMHSYNO-"
    },
    {
      "cell_type": "code",
      "source": [
        "data.head()"
      ],
      "metadata": {
        "id": "BpzwpJM_0iUK",
        "colab": {
          "base_uri": "https://localhost:8080/",
          "height": 518
        },
        "outputId": "23699d91-cb85-476a-e2a5-a2c2da8b84b7"
      },
      "id": "BpzwpJM_0iUK",
      "execution_count": 640,
      "outputs": [
        {
          "output_type": "execute_result",
          "data": {
            "text/plain": [
              "     Year            Datetime  Stage         Stadium         City  \\\n",
              "0  1930.0 1930-07-13 15:00:00  Group         Pocitos  Montevideo    \n",
              "1  1930.0 1930-07-13 15:00:00  Group  Parque Central  Montevideo    \n",
              "2  1930.0 1930-07-14 12:45:00  Group  Parque Central  Montevideo    \n",
              "3  1930.0 1930-07-14 14:50:00  Group         Pocitos  Montevideo    \n",
              "4  1930.0 1930-07-15 16:00:00  Group  Parque Central  Montevideo    \n",
              "\n",
              "  Home Team Name Away Team Name Win conditions  Attendance  \\\n",
              "0         France         Mexico            NaN      4444.0   \n",
              "1            USA        Belgium            NaN     18346.0   \n",
              "2     Yugoslavia         Brazil            NaN     24059.0   \n",
              "3        Romania           Peru            NaN      2549.0   \n",
              "4      Argentina         France            NaN     23409.0   \n",
              "\n",
              "   Half-time Home Goals  ...                 Referee  \\\n",
              "0                   3.0  ...  LOMBARDI Domingo (URU)   \n",
              "1                   2.0  ...       MACIAS Jose (ARG)   \n",
              "2                   2.0  ...     TEJADA Anibal (URU)   \n",
              "3                   1.0  ...   WARNKEN Alberto (CHI)   \n",
              "4                   0.0  ...     REGO Gilberto (BRA)   \n",
              "\n",
              "                Assistant 1                 Assistant 2 RoundID  MatchID  \\\n",
              "0     CRISTOPHE Henry (BEL)         REGO Gilberto (BRA)   201.0   1096.0   \n",
              "1  MATEUCCI Francisco (URU)       WARNKEN Alberto (CHI)   201.0   1090.0   \n",
              "2   VALLARINO Ricardo (URU)         BALWAY Thomas (FRA)   201.0   1093.0   \n",
              "3       LANGENUS Jean (BEL)    MATEUCCI Francisco (URU)   201.0   1098.0   \n",
              "4      SAUCEDO Ulises (BOL)  RADULESCU Constantin (ROU)   201.0   1085.0   \n",
              "\n",
              "   Home Team Initials Away Team Initials Hour  Weekday Total Goals  \n",
              "0                 FRA                MEX   15   Sunday         5.0  \n",
              "1                 USA                BEL   15   Sunday         3.0  \n",
              "2                 YUG                BRA   12   Monday         3.0  \n",
              "3                 ROU                PER   14   Monday         4.0  \n",
              "4                 ARG                FRA   16  Tuesday         1.0  \n",
              "\n",
              "[5 rows x 21 columns]"
            ],
            "text/html": [
              "\n",
              "  <div id=\"df-86c423d5-c0fa-4e49-bb3b-f49e749a5985\">\n",
              "    <div class=\"colab-df-container\">\n",
              "      <div>\n",
              "<style scoped>\n",
              "    .dataframe tbody tr th:only-of-type {\n",
              "        vertical-align: middle;\n",
              "    }\n",
              "\n",
              "    .dataframe tbody tr th {\n",
              "        vertical-align: top;\n",
              "    }\n",
              "\n",
              "    .dataframe thead th {\n",
              "        text-align: right;\n",
              "    }\n",
              "</style>\n",
              "<table border=\"1\" class=\"dataframe\">\n",
              "  <thead>\n",
              "    <tr style=\"text-align: right;\">\n",
              "      <th></th>\n",
              "      <th>Year</th>\n",
              "      <th>Datetime</th>\n",
              "      <th>Stage</th>\n",
              "      <th>Stadium</th>\n",
              "      <th>City</th>\n",
              "      <th>Home Team Name</th>\n",
              "      <th>Away Team Name</th>\n",
              "      <th>Win conditions</th>\n",
              "      <th>Attendance</th>\n",
              "      <th>Half-time Home Goals</th>\n",
              "      <th>...</th>\n",
              "      <th>Referee</th>\n",
              "      <th>Assistant 1</th>\n",
              "      <th>Assistant 2</th>\n",
              "      <th>RoundID</th>\n",
              "      <th>MatchID</th>\n",
              "      <th>Home Team Initials</th>\n",
              "      <th>Away Team Initials</th>\n",
              "      <th>Hour</th>\n",
              "      <th>Weekday</th>\n",
              "      <th>Total Goals</th>\n",
              "    </tr>\n",
              "  </thead>\n",
              "  <tbody>\n",
              "    <tr>\n",
              "      <th>0</th>\n",
              "      <td>1930.0</td>\n",
              "      <td>1930-07-13 15:00:00</td>\n",
              "      <td>Group</td>\n",
              "      <td>Pocitos</td>\n",
              "      <td>Montevideo</td>\n",
              "      <td>France</td>\n",
              "      <td>Mexico</td>\n",
              "      <td>NaN</td>\n",
              "      <td>4444.0</td>\n",
              "      <td>3.0</td>\n",
              "      <td>...</td>\n",
              "      <td>LOMBARDI Domingo (URU)</td>\n",
              "      <td>CRISTOPHE Henry (BEL)</td>\n",
              "      <td>REGO Gilberto (BRA)</td>\n",
              "      <td>201.0</td>\n",
              "      <td>1096.0</td>\n",
              "      <td>FRA</td>\n",
              "      <td>MEX</td>\n",
              "      <td>15</td>\n",
              "      <td>Sunday</td>\n",
              "      <td>5.0</td>\n",
              "    </tr>\n",
              "    <tr>\n",
              "      <th>1</th>\n",
              "      <td>1930.0</td>\n",
              "      <td>1930-07-13 15:00:00</td>\n",
              "      <td>Group</td>\n",
              "      <td>Parque Central</td>\n",
              "      <td>Montevideo</td>\n",
              "      <td>USA</td>\n",
              "      <td>Belgium</td>\n",
              "      <td>NaN</td>\n",
              "      <td>18346.0</td>\n",
              "      <td>2.0</td>\n",
              "      <td>...</td>\n",
              "      <td>MACIAS Jose (ARG)</td>\n",
              "      <td>MATEUCCI Francisco (URU)</td>\n",
              "      <td>WARNKEN Alberto (CHI)</td>\n",
              "      <td>201.0</td>\n",
              "      <td>1090.0</td>\n",
              "      <td>USA</td>\n",
              "      <td>BEL</td>\n",
              "      <td>15</td>\n",
              "      <td>Sunday</td>\n",
              "      <td>3.0</td>\n",
              "    </tr>\n",
              "    <tr>\n",
              "      <th>2</th>\n",
              "      <td>1930.0</td>\n",
              "      <td>1930-07-14 12:45:00</td>\n",
              "      <td>Group</td>\n",
              "      <td>Parque Central</td>\n",
              "      <td>Montevideo</td>\n",
              "      <td>Yugoslavia</td>\n",
              "      <td>Brazil</td>\n",
              "      <td>NaN</td>\n",
              "      <td>24059.0</td>\n",
              "      <td>2.0</td>\n",
              "      <td>...</td>\n",
              "      <td>TEJADA Anibal (URU)</td>\n",
              "      <td>VALLARINO Ricardo (URU)</td>\n",
              "      <td>BALWAY Thomas (FRA)</td>\n",
              "      <td>201.0</td>\n",
              "      <td>1093.0</td>\n",
              "      <td>YUG</td>\n",
              "      <td>BRA</td>\n",
              "      <td>12</td>\n",
              "      <td>Monday</td>\n",
              "      <td>3.0</td>\n",
              "    </tr>\n",
              "    <tr>\n",
              "      <th>3</th>\n",
              "      <td>1930.0</td>\n",
              "      <td>1930-07-14 14:50:00</td>\n",
              "      <td>Group</td>\n",
              "      <td>Pocitos</td>\n",
              "      <td>Montevideo</td>\n",
              "      <td>Romania</td>\n",
              "      <td>Peru</td>\n",
              "      <td>NaN</td>\n",
              "      <td>2549.0</td>\n",
              "      <td>1.0</td>\n",
              "      <td>...</td>\n",
              "      <td>WARNKEN Alberto (CHI)</td>\n",
              "      <td>LANGENUS Jean (BEL)</td>\n",
              "      <td>MATEUCCI Francisco (URU)</td>\n",
              "      <td>201.0</td>\n",
              "      <td>1098.0</td>\n",
              "      <td>ROU</td>\n",
              "      <td>PER</td>\n",
              "      <td>14</td>\n",
              "      <td>Monday</td>\n",
              "      <td>4.0</td>\n",
              "    </tr>\n",
              "    <tr>\n",
              "      <th>4</th>\n",
              "      <td>1930.0</td>\n",
              "      <td>1930-07-15 16:00:00</td>\n",
              "      <td>Group</td>\n",
              "      <td>Parque Central</td>\n",
              "      <td>Montevideo</td>\n",
              "      <td>Argentina</td>\n",
              "      <td>France</td>\n",
              "      <td>NaN</td>\n",
              "      <td>23409.0</td>\n",
              "      <td>0.0</td>\n",
              "      <td>...</td>\n",
              "      <td>REGO Gilberto (BRA)</td>\n",
              "      <td>SAUCEDO Ulises (BOL)</td>\n",
              "      <td>RADULESCU Constantin (ROU)</td>\n",
              "      <td>201.0</td>\n",
              "      <td>1085.0</td>\n",
              "      <td>ARG</td>\n",
              "      <td>FRA</td>\n",
              "      <td>16</td>\n",
              "      <td>Tuesday</td>\n",
              "      <td>1.0</td>\n",
              "    </tr>\n",
              "  </tbody>\n",
              "</table>\n",
              "<p>5 rows × 21 columns</p>\n",
              "</div>\n",
              "      <button class=\"colab-df-convert\" onclick=\"convertToInteractive('df-86c423d5-c0fa-4e49-bb3b-f49e749a5985')\"\n",
              "              title=\"Convert this dataframe to an interactive table.\"\n",
              "              style=\"display:none;\">\n",
              "        \n",
              "  <svg xmlns=\"http://www.w3.org/2000/svg\" height=\"24px\"viewBox=\"0 0 24 24\"\n",
              "       width=\"24px\">\n",
              "    <path d=\"M0 0h24v24H0V0z\" fill=\"none\"/>\n",
              "    <path d=\"M18.56 5.44l.94 2.06.94-2.06 2.06-.94-2.06-.94-.94-2.06-.94 2.06-2.06.94zm-11 1L8.5 8.5l.94-2.06 2.06-.94-2.06-.94L8.5 2.5l-.94 2.06-2.06.94zm10 10l.94 2.06.94-2.06 2.06-.94-2.06-.94-.94-2.06-.94 2.06-2.06.94z\"/><path d=\"M17.41 7.96l-1.37-1.37c-.4-.4-.92-.59-1.43-.59-.52 0-1.04.2-1.43.59L10.3 9.45l-7.72 7.72c-.78.78-.78 2.05 0 2.83L4 21.41c.39.39.9.59 1.41.59.51 0 1.02-.2 1.41-.59l7.78-7.78 2.81-2.81c.8-.78.8-2.07 0-2.86zM5.41 20L4 18.59l7.72-7.72 1.47 1.35L5.41 20z\"/>\n",
              "  </svg>\n",
              "      </button>\n",
              "      \n",
              "  <style>\n",
              "    .colab-df-container {\n",
              "      display:flex;\n",
              "      flex-wrap:wrap;\n",
              "      gap: 12px;\n",
              "    }\n",
              "\n",
              "    .colab-df-convert {\n",
              "      background-color: #E8F0FE;\n",
              "      border: none;\n",
              "      border-radius: 50%;\n",
              "      cursor: pointer;\n",
              "      display: none;\n",
              "      fill: #1967D2;\n",
              "      height: 32px;\n",
              "      padding: 0 0 0 0;\n",
              "      width: 32px;\n",
              "    }\n",
              "\n",
              "    .colab-df-convert:hover {\n",
              "      background-color: #E2EBFA;\n",
              "      box-shadow: 0px 1px 2px rgba(60, 64, 67, 0.3), 0px 1px 3px 1px rgba(60, 64, 67, 0.15);\n",
              "      fill: #174EA6;\n",
              "    }\n",
              "\n",
              "    [theme=dark] .colab-df-convert {\n",
              "      background-color: #3B4455;\n",
              "      fill: #D2E3FC;\n",
              "    }\n",
              "\n",
              "    [theme=dark] .colab-df-convert:hover {\n",
              "      background-color: #434B5C;\n",
              "      box-shadow: 0px 1px 3px 1px rgba(0, 0, 0, 0.15);\n",
              "      filter: drop-shadow(0px 1px 2px rgba(0, 0, 0, 0.3));\n",
              "      fill: #FFFFFF;\n",
              "    }\n",
              "  </style>\n",
              "\n",
              "      <script>\n",
              "        const buttonEl =\n",
              "          document.querySelector('#df-86c423d5-c0fa-4e49-bb3b-f49e749a5985 button.colab-df-convert');\n",
              "        buttonEl.style.display =\n",
              "          google.colab.kernel.accessAllowed ? 'block' : 'none';\n",
              "\n",
              "        async function convertToInteractive(key) {\n",
              "          const element = document.querySelector('#df-86c423d5-c0fa-4e49-bb3b-f49e749a5985');\n",
              "          const dataTable =\n",
              "            await google.colab.kernel.invokeFunction('convertToInteractive',\n",
              "                                                     [key], {});\n",
              "          if (!dataTable) return;\n",
              "\n",
              "          const docLinkHtml = 'Like what you see? Visit the ' +\n",
              "            '<a target=\"_blank\" href=https://colab.research.google.com/notebooks/data_table.ipynb>data table notebook</a>'\n",
              "            + ' to learn more about interactive tables.';\n",
              "          element.innerHTML = '';\n",
              "          dataTable['output_type'] = 'display_data';\n",
              "          await google.colab.output.renderOutput(dataTable, element);\n",
              "          const docLink = document.createElement('div');\n",
              "          docLink.innerHTML = docLinkHtml;\n",
              "          element.appendChild(docLink);\n",
              "        }\n",
              "      </script>\n",
              "    </div>\n",
              "  </div>\n",
              "  "
            ]
          },
          "metadata": {},
          "execution_count": 640
        }
      ]
    },
    {
      "cell_type": "code",
      "source": [
        "data.columns"
      ],
      "metadata": {
        "id": "t5AFWLcF1f1X",
        "colab": {
          "base_uri": "https://localhost:8080/"
        },
        "outputId": "a47e1382-d0e6-40e9-eec5-a477e2069ee9"
      },
      "id": "t5AFWLcF1f1X",
      "execution_count": 641,
      "outputs": [
        {
          "output_type": "execute_result",
          "data": {
            "text/plain": [
              "Index(['Year', 'Datetime', 'Stage', 'Stadium', 'City', 'Home Team Name',\n",
              "       'Away Team Name', 'Win conditions', 'Attendance',\n",
              "       'Half-time Home Goals', 'Half-time Away Goals', 'Referee',\n",
              "       'Assistant 1', 'Assistant 2', 'RoundID', 'MatchID',\n",
              "       'Home Team Initials', 'Away Team Initials', 'Hour', 'Weekday',\n",
              "       'Total Goals'],\n",
              "      dtype='object')"
            ]
          },
          "metadata": {},
          "execution_count": 641
        }
      ]
    },
    {
      "cell_type": "code",
      "source": [
        "irrelevant = [\"Year\", \"City\", \"Win conditions\", 'Referee', 'Stadium',\n",
        "              'Assistant 1', 'Assistant 2', 'RoundID', 'MatchID',\n",
        "              \"Home Team Initials\", \"Away Team Initials\", \"Datetime\"\n",
        "              ]"
      ],
      "metadata": {
        "id": "N-Soo-VLjben"
      },
      "id": "N-Soo-VLjben",
      "execution_count": 642,
      "outputs": []
    },
    {
      "cell_type": "code",
      "source": [
        "# Durch inplace=True müssen Sie nicht schreiben: data = data.drop(...)\n",
        "data.drop(columns=irrelevant, inplace=True)\n",
        "data.head()"
      ],
      "metadata": {
        "id": "tuJugYtYkFxu",
        "colab": {
          "base_uri": "https://localhost:8080/",
          "height": 265
        },
        "outputId": "430f7577-44c4-48a4-c5ae-5f60bcbd922c"
      },
      "id": "tuJugYtYkFxu",
      "execution_count": 643,
      "outputs": [
        {
          "output_type": "execute_result",
          "data": {
            "text/plain": [
              "   Stage Home Team Name Away Team Name  Attendance  Half-time Home Goals  \\\n",
              "0  Group         France         Mexico      4444.0                   3.0   \n",
              "1  Group            USA        Belgium     18346.0                   2.0   \n",
              "2  Group     Yugoslavia         Brazil     24059.0                   2.0   \n",
              "3  Group        Romania           Peru      2549.0                   1.0   \n",
              "4  Group      Argentina         France     23409.0                   0.0   \n",
              "\n",
              "   Half-time Away Goals  Hour  Weekday  Total Goals  \n",
              "0                   0.0    15   Sunday          5.0  \n",
              "1                   0.0    15   Sunday          3.0  \n",
              "2                   0.0    12   Monday          3.0  \n",
              "3                   0.0    14   Monday          4.0  \n",
              "4                   0.0    16  Tuesday          1.0  "
            ],
            "text/html": [
              "\n",
              "  <div id=\"df-48377ac3-74be-4bc2-a1b4-477599d44c4b\">\n",
              "    <div class=\"colab-df-container\">\n",
              "      <div>\n",
              "<style scoped>\n",
              "    .dataframe tbody tr th:only-of-type {\n",
              "        vertical-align: middle;\n",
              "    }\n",
              "\n",
              "    .dataframe tbody tr th {\n",
              "        vertical-align: top;\n",
              "    }\n",
              "\n",
              "    .dataframe thead th {\n",
              "        text-align: right;\n",
              "    }\n",
              "</style>\n",
              "<table border=\"1\" class=\"dataframe\">\n",
              "  <thead>\n",
              "    <tr style=\"text-align: right;\">\n",
              "      <th></th>\n",
              "      <th>Stage</th>\n",
              "      <th>Home Team Name</th>\n",
              "      <th>Away Team Name</th>\n",
              "      <th>Attendance</th>\n",
              "      <th>Half-time Home Goals</th>\n",
              "      <th>Half-time Away Goals</th>\n",
              "      <th>Hour</th>\n",
              "      <th>Weekday</th>\n",
              "      <th>Total Goals</th>\n",
              "    </tr>\n",
              "  </thead>\n",
              "  <tbody>\n",
              "    <tr>\n",
              "      <th>0</th>\n",
              "      <td>Group</td>\n",
              "      <td>France</td>\n",
              "      <td>Mexico</td>\n",
              "      <td>4444.0</td>\n",
              "      <td>3.0</td>\n",
              "      <td>0.0</td>\n",
              "      <td>15</td>\n",
              "      <td>Sunday</td>\n",
              "      <td>5.0</td>\n",
              "    </tr>\n",
              "    <tr>\n",
              "      <th>1</th>\n",
              "      <td>Group</td>\n",
              "      <td>USA</td>\n",
              "      <td>Belgium</td>\n",
              "      <td>18346.0</td>\n",
              "      <td>2.0</td>\n",
              "      <td>0.0</td>\n",
              "      <td>15</td>\n",
              "      <td>Sunday</td>\n",
              "      <td>3.0</td>\n",
              "    </tr>\n",
              "    <tr>\n",
              "      <th>2</th>\n",
              "      <td>Group</td>\n",
              "      <td>Yugoslavia</td>\n",
              "      <td>Brazil</td>\n",
              "      <td>24059.0</td>\n",
              "      <td>2.0</td>\n",
              "      <td>0.0</td>\n",
              "      <td>12</td>\n",
              "      <td>Monday</td>\n",
              "      <td>3.0</td>\n",
              "    </tr>\n",
              "    <tr>\n",
              "      <th>3</th>\n",
              "      <td>Group</td>\n",
              "      <td>Romania</td>\n",
              "      <td>Peru</td>\n",
              "      <td>2549.0</td>\n",
              "      <td>1.0</td>\n",
              "      <td>0.0</td>\n",
              "      <td>14</td>\n",
              "      <td>Monday</td>\n",
              "      <td>4.0</td>\n",
              "    </tr>\n",
              "    <tr>\n",
              "      <th>4</th>\n",
              "      <td>Group</td>\n",
              "      <td>Argentina</td>\n",
              "      <td>France</td>\n",
              "      <td>23409.0</td>\n",
              "      <td>0.0</td>\n",
              "      <td>0.0</td>\n",
              "      <td>16</td>\n",
              "      <td>Tuesday</td>\n",
              "      <td>1.0</td>\n",
              "    </tr>\n",
              "  </tbody>\n",
              "</table>\n",
              "</div>\n",
              "      <button class=\"colab-df-convert\" onclick=\"convertToInteractive('df-48377ac3-74be-4bc2-a1b4-477599d44c4b')\"\n",
              "              title=\"Convert this dataframe to an interactive table.\"\n",
              "              style=\"display:none;\">\n",
              "        \n",
              "  <svg xmlns=\"http://www.w3.org/2000/svg\" height=\"24px\"viewBox=\"0 0 24 24\"\n",
              "       width=\"24px\">\n",
              "    <path d=\"M0 0h24v24H0V0z\" fill=\"none\"/>\n",
              "    <path d=\"M18.56 5.44l.94 2.06.94-2.06 2.06-.94-2.06-.94-.94-2.06-.94 2.06-2.06.94zm-11 1L8.5 8.5l.94-2.06 2.06-.94-2.06-.94L8.5 2.5l-.94 2.06-2.06.94zm10 10l.94 2.06.94-2.06 2.06-.94-2.06-.94-.94-2.06-.94 2.06-2.06.94z\"/><path d=\"M17.41 7.96l-1.37-1.37c-.4-.4-.92-.59-1.43-.59-.52 0-1.04.2-1.43.59L10.3 9.45l-7.72 7.72c-.78.78-.78 2.05 0 2.83L4 21.41c.39.39.9.59 1.41.59.51 0 1.02-.2 1.41-.59l7.78-7.78 2.81-2.81c.8-.78.8-2.07 0-2.86zM5.41 20L4 18.59l7.72-7.72 1.47 1.35L5.41 20z\"/>\n",
              "  </svg>\n",
              "      </button>\n",
              "      \n",
              "  <style>\n",
              "    .colab-df-container {\n",
              "      display:flex;\n",
              "      flex-wrap:wrap;\n",
              "      gap: 12px;\n",
              "    }\n",
              "\n",
              "    .colab-df-convert {\n",
              "      background-color: #E8F0FE;\n",
              "      border: none;\n",
              "      border-radius: 50%;\n",
              "      cursor: pointer;\n",
              "      display: none;\n",
              "      fill: #1967D2;\n",
              "      height: 32px;\n",
              "      padding: 0 0 0 0;\n",
              "      width: 32px;\n",
              "    }\n",
              "\n",
              "    .colab-df-convert:hover {\n",
              "      background-color: #E2EBFA;\n",
              "      box-shadow: 0px 1px 2px rgba(60, 64, 67, 0.3), 0px 1px 3px 1px rgba(60, 64, 67, 0.15);\n",
              "      fill: #174EA6;\n",
              "    }\n",
              "\n",
              "    [theme=dark] .colab-df-convert {\n",
              "      background-color: #3B4455;\n",
              "      fill: #D2E3FC;\n",
              "    }\n",
              "\n",
              "    [theme=dark] .colab-df-convert:hover {\n",
              "      background-color: #434B5C;\n",
              "      box-shadow: 0px 1px 3px 1px rgba(0, 0, 0, 0.15);\n",
              "      filter: drop-shadow(0px 1px 2px rgba(0, 0, 0, 0.3));\n",
              "      fill: #FFFFFF;\n",
              "    }\n",
              "  </style>\n",
              "\n",
              "      <script>\n",
              "        const buttonEl =\n",
              "          document.querySelector('#df-48377ac3-74be-4bc2-a1b4-477599d44c4b button.colab-df-convert');\n",
              "        buttonEl.style.display =\n",
              "          google.colab.kernel.accessAllowed ? 'block' : 'none';\n",
              "\n",
              "        async function convertToInteractive(key) {\n",
              "          const element = document.querySelector('#df-48377ac3-74be-4bc2-a1b4-477599d44c4b');\n",
              "          const dataTable =\n",
              "            await google.colab.kernel.invokeFunction('convertToInteractive',\n",
              "                                                     [key], {});\n",
              "          if (!dataTable) return;\n",
              "\n",
              "          const docLinkHtml = 'Like what you see? Visit the ' +\n",
              "            '<a target=\"_blank\" href=https://colab.research.google.com/notebooks/data_table.ipynb>data table notebook</a>'\n",
              "            + ' to learn more about interactive tables.';\n",
              "          element.innerHTML = '';\n",
              "          dataTable['output_type'] = 'display_data';\n",
              "          await google.colab.output.renderOutput(dataTable, element);\n",
              "          const docLink = document.createElement('div');\n",
              "          docLink.innerHTML = docLinkHtml;\n",
              "          element.appendChild(docLink);\n",
              "        }\n",
              "      </script>\n",
              "    </div>\n",
              "  </div>\n",
              "  "
            ]
          },
          "metadata": {},
          "execution_count": 643
        }
      ]
    },
    {
      "cell_type": "markdown",
      "source": [
        "**Features zu den zur Halbzeit geschossenen Toren**"
      ],
      "metadata": {
        "id": "azZiBAnmYWQ7"
      },
      "id": "azZiBAnmYWQ7"
    },
    {
      "cell_type": "code",
      "source": [
        "data[\"Half-time Goals\"] = data[\"Half-time Home Goals\"] + data[\"Half-time Away Goals\"]\n",
        "data[\"Half-time Goals Difference\"] = abs(data[\"Half-time Home Goals\"] - data[\"Half-time Away Goals\"])"
      ],
      "metadata": {
        "id": "2EcKxGXSa6kB"
      },
      "id": "2EcKxGXSa6kB",
      "execution_count": 644,
      "outputs": []
    },
    {
      "cell_type": "code",
      "source": [
        "data[\"Half-time Goals Difference\"].unique()"
      ],
      "metadata": {
        "id": "m0rHvOSWgNn-",
        "colab": {
          "base_uri": "https://localhost:8080/"
        },
        "outputId": "e4a6570f-9692-43b4-a752-2306fd66c861"
      },
      "id": "m0rHvOSWgNn-",
      "execution_count": 645,
      "outputs": [
        {
          "output_type": "execute_result",
          "data": {
            "text/plain": [
              "array([3., 2., 1., 0., 4., 6., 5.])"
            ]
          },
          "metadata": {},
          "execution_count": 645
        }
      ]
    },
    {
      "cell_type": "code",
      "source": [
        "data[\"Half-time Goals Difference\"].value_counts(normalize=True)"
      ],
      "metadata": {
        "id": "POwMS5lJWpdI",
        "colab": {
          "base_uri": "https://localhost:8080/"
        },
        "outputId": "905e5d59-9119-443a-c345-ca473516e74f"
      },
      "id": "POwMS5lJWpdI",
      "execution_count": 646,
      "outputs": [
        {
          "output_type": "execute_result",
          "data": {
            "text/plain": [
              "0.0    0.456471\n",
              "1.0    0.394118\n",
              "2.0    0.103529\n",
              "3.0    0.027059\n",
              "4.0    0.014118\n",
              "5.0    0.003529\n",
              "6.0    0.001176\n",
              "Name: Half-time Goals Difference, dtype: float64"
            ]
          },
          "metadata": {},
          "execution_count": 646
        }
      ]
    },
    {
      "cell_type": "markdown",
      "source": [
        "Nach den vorausgegangenen Datenmanipulationen erhalten wir nun den folgenden Dataframe (Target + Features), mit dem wir bei der Anwendung maschineller Lernverfahren weiterarbeiten werden."
      ],
      "metadata": {
        "id": "MLTSw41JkZQP"
      },
      "id": "MLTSw41JkZQP"
    },
    {
      "cell_type": "code",
      "source": [
        "data.head()"
      ],
      "metadata": {
        "id": "A0mRlGDvliHt",
        "colab": {
          "base_uri": "https://localhost:8080/",
          "height": 282
        },
        "outputId": "e318a2ae-6d6a-4c5e-af72-2430d5869795"
      },
      "id": "A0mRlGDvliHt",
      "execution_count": 647,
      "outputs": [
        {
          "output_type": "execute_result",
          "data": {
            "text/plain": [
              "   Stage Home Team Name Away Team Name  Attendance  Half-time Home Goals  \\\n",
              "0  Group         France         Mexico      4444.0                   3.0   \n",
              "1  Group            USA        Belgium     18346.0                   2.0   \n",
              "2  Group     Yugoslavia         Brazil     24059.0                   2.0   \n",
              "3  Group        Romania           Peru      2549.0                   1.0   \n",
              "4  Group      Argentina         France     23409.0                   0.0   \n",
              "\n",
              "   Half-time Away Goals  Hour  Weekday  Total Goals  Half-time Goals  \\\n",
              "0                   0.0    15   Sunday          5.0              3.0   \n",
              "1                   0.0    15   Sunday          3.0              2.0   \n",
              "2                   0.0    12   Monday          3.0              2.0   \n",
              "3                   0.0    14   Monday          4.0              1.0   \n",
              "4                   0.0    16  Tuesday          1.0              0.0   \n",
              "\n",
              "   Half-time Goals Difference  \n",
              "0                         3.0  \n",
              "1                         2.0  \n",
              "2                         2.0  \n",
              "3                         1.0  \n",
              "4                         0.0  "
            ],
            "text/html": [
              "\n",
              "  <div id=\"df-cb12b54a-e422-4b04-b593-0848b9d96a24\">\n",
              "    <div class=\"colab-df-container\">\n",
              "      <div>\n",
              "<style scoped>\n",
              "    .dataframe tbody tr th:only-of-type {\n",
              "        vertical-align: middle;\n",
              "    }\n",
              "\n",
              "    .dataframe tbody tr th {\n",
              "        vertical-align: top;\n",
              "    }\n",
              "\n",
              "    .dataframe thead th {\n",
              "        text-align: right;\n",
              "    }\n",
              "</style>\n",
              "<table border=\"1\" class=\"dataframe\">\n",
              "  <thead>\n",
              "    <tr style=\"text-align: right;\">\n",
              "      <th></th>\n",
              "      <th>Stage</th>\n",
              "      <th>Home Team Name</th>\n",
              "      <th>Away Team Name</th>\n",
              "      <th>Attendance</th>\n",
              "      <th>Half-time Home Goals</th>\n",
              "      <th>Half-time Away Goals</th>\n",
              "      <th>Hour</th>\n",
              "      <th>Weekday</th>\n",
              "      <th>Total Goals</th>\n",
              "      <th>Half-time Goals</th>\n",
              "      <th>Half-time Goals Difference</th>\n",
              "    </tr>\n",
              "  </thead>\n",
              "  <tbody>\n",
              "    <tr>\n",
              "      <th>0</th>\n",
              "      <td>Group</td>\n",
              "      <td>France</td>\n",
              "      <td>Mexico</td>\n",
              "      <td>4444.0</td>\n",
              "      <td>3.0</td>\n",
              "      <td>0.0</td>\n",
              "      <td>15</td>\n",
              "      <td>Sunday</td>\n",
              "      <td>5.0</td>\n",
              "      <td>3.0</td>\n",
              "      <td>3.0</td>\n",
              "    </tr>\n",
              "    <tr>\n",
              "      <th>1</th>\n",
              "      <td>Group</td>\n",
              "      <td>USA</td>\n",
              "      <td>Belgium</td>\n",
              "      <td>18346.0</td>\n",
              "      <td>2.0</td>\n",
              "      <td>0.0</td>\n",
              "      <td>15</td>\n",
              "      <td>Sunday</td>\n",
              "      <td>3.0</td>\n",
              "      <td>2.0</td>\n",
              "      <td>2.0</td>\n",
              "    </tr>\n",
              "    <tr>\n",
              "      <th>2</th>\n",
              "      <td>Group</td>\n",
              "      <td>Yugoslavia</td>\n",
              "      <td>Brazil</td>\n",
              "      <td>24059.0</td>\n",
              "      <td>2.0</td>\n",
              "      <td>0.0</td>\n",
              "      <td>12</td>\n",
              "      <td>Monday</td>\n",
              "      <td>3.0</td>\n",
              "      <td>2.0</td>\n",
              "      <td>2.0</td>\n",
              "    </tr>\n",
              "    <tr>\n",
              "      <th>3</th>\n",
              "      <td>Group</td>\n",
              "      <td>Romania</td>\n",
              "      <td>Peru</td>\n",
              "      <td>2549.0</td>\n",
              "      <td>1.0</td>\n",
              "      <td>0.0</td>\n",
              "      <td>14</td>\n",
              "      <td>Monday</td>\n",
              "      <td>4.0</td>\n",
              "      <td>1.0</td>\n",
              "      <td>1.0</td>\n",
              "    </tr>\n",
              "    <tr>\n",
              "      <th>4</th>\n",
              "      <td>Group</td>\n",
              "      <td>Argentina</td>\n",
              "      <td>France</td>\n",
              "      <td>23409.0</td>\n",
              "      <td>0.0</td>\n",
              "      <td>0.0</td>\n",
              "      <td>16</td>\n",
              "      <td>Tuesday</td>\n",
              "      <td>1.0</td>\n",
              "      <td>0.0</td>\n",
              "      <td>0.0</td>\n",
              "    </tr>\n",
              "  </tbody>\n",
              "</table>\n",
              "</div>\n",
              "      <button class=\"colab-df-convert\" onclick=\"convertToInteractive('df-cb12b54a-e422-4b04-b593-0848b9d96a24')\"\n",
              "              title=\"Convert this dataframe to an interactive table.\"\n",
              "              style=\"display:none;\">\n",
              "        \n",
              "  <svg xmlns=\"http://www.w3.org/2000/svg\" height=\"24px\"viewBox=\"0 0 24 24\"\n",
              "       width=\"24px\">\n",
              "    <path d=\"M0 0h24v24H0V0z\" fill=\"none\"/>\n",
              "    <path d=\"M18.56 5.44l.94 2.06.94-2.06 2.06-.94-2.06-.94-.94-2.06-.94 2.06-2.06.94zm-11 1L8.5 8.5l.94-2.06 2.06-.94-2.06-.94L8.5 2.5l-.94 2.06-2.06.94zm10 10l.94 2.06.94-2.06 2.06-.94-2.06-.94-.94-2.06-.94 2.06-2.06.94z\"/><path d=\"M17.41 7.96l-1.37-1.37c-.4-.4-.92-.59-1.43-.59-.52 0-1.04.2-1.43.59L10.3 9.45l-7.72 7.72c-.78.78-.78 2.05 0 2.83L4 21.41c.39.39.9.59 1.41.59.51 0 1.02-.2 1.41-.59l7.78-7.78 2.81-2.81c.8-.78.8-2.07 0-2.86zM5.41 20L4 18.59l7.72-7.72 1.47 1.35L5.41 20z\"/>\n",
              "  </svg>\n",
              "      </button>\n",
              "      \n",
              "  <style>\n",
              "    .colab-df-container {\n",
              "      display:flex;\n",
              "      flex-wrap:wrap;\n",
              "      gap: 12px;\n",
              "    }\n",
              "\n",
              "    .colab-df-convert {\n",
              "      background-color: #E8F0FE;\n",
              "      border: none;\n",
              "      border-radius: 50%;\n",
              "      cursor: pointer;\n",
              "      display: none;\n",
              "      fill: #1967D2;\n",
              "      height: 32px;\n",
              "      padding: 0 0 0 0;\n",
              "      width: 32px;\n",
              "    }\n",
              "\n",
              "    .colab-df-convert:hover {\n",
              "      background-color: #E2EBFA;\n",
              "      box-shadow: 0px 1px 2px rgba(60, 64, 67, 0.3), 0px 1px 3px 1px rgba(60, 64, 67, 0.15);\n",
              "      fill: #174EA6;\n",
              "    }\n",
              "\n",
              "    [theme=dark] .colab-df-convert {\n",
              "      background-color: #3B4455;\n",
              "      fill: #D2E3FC;\n",
              "    }\n",
              "\n",
              "    [theme=dark] .colab-df-convert:hover {\n",
              "      background-color: #434B5C;\n",
              "      box-shadow: 0px 1px 3px 1px rgba(0, 0, 0, 0.15);\n",
              "      filter: drop-shadow(0px 1px 2px rgba(0, 0, 0, 0.3));\n",
              "      fill: #FFFFFF;\n",
              "    }\n",
              "  </style>\n",
              "\n",
              "      <script>\n",
              "        const buttonEl =\n",
              "          document.querySelector('#df-cb12b54a-e422-4b04-b593-0848b9d96a24 button.colab-df-convert');\n",
              "        buttonEl.style.display =\n",
              "          google.colab.kernel.accessAllowed ? 'block' : 'none';\n",
              "\n",
              "        async function convertToInteractive(key) {\n",
              "          const element = document.querySelector('#df-cb12b54a-e422-4b04-b593-0848b9d96a24');\n",
              "          const dataTable =\n",
              "            await google.colab.kernel.invokeFunction('convertToInteractive',\n",
              "                                                     [key], {});\n",
              "          if (!dataTable) return;\n",
              "\n",
              "          const docLinkHtml = 'Like what you see? Visit the ' +\n",
              "            '<a target=\"_blank\" href=https://colab.research.google.com/notebooks/data_table.ipynb>data table notebook</a>'\n",
              "            + ' to learn more about interactive tables.';\n",
              "          element.innerHTML = '';\n",
              "          dataTable['output_type'] = 'display_data';\n",
              "          await google.colab.output.renderOutput(dataTable, element);\n",
              "          const docLink = document.createElement('div');\n",
              "          docLink.innerHTML = docLinkHtml;\n",
              "          element.appendChild(docLink);\n",
              "        }\n",
              "      </script>\n",
              "    </div>\n",
              "  </div>\n",
              "  "
            ]
          },
          "metadata": {},
          "execution_count": 647
        }
      ]
    },
    {
      "cell_type": "markdown",
      "source": [
        "### 2.4 Korrelationen <a class=\"feature\" id=\"corr\"></a>\n",
        "Sie erhalten einen ersten sehr guten Eindruck von Zusammenhängen zwischen Features und/ oder Target, wenn Sie Korrelationskoeffizienten berechnen. Mithilfe von `pandas` gelingt dies mühelos.\n"
      ],
      "metadata": {
        "id": "HreQTaeJaI34"
      },
      "id": "HreQTaeJaI34"
    },
    {
      "cell_type": "code",
      "source": [
        "correlation_matrix = data.corr()"
      ],
      "metadata": {
        "id": "Mq2rVXYgl0tq"
      },
      "id": "Mq2rVXYgl0tq",
      "execution_count": 648,
      "outputs": []
    },
    {
      "cell_type": "markdown",
      "source": [
        "**Korrelationskoeffizient**\n",
        "\n",
        "Mit der `pandas`-Funktion `.corr()` berechnen Sie den [Korrelationskoeffizienten nach Pearson](https://de.wikipedia.org/wiki/Korrelationskoeffizient). Dieser misst den \"linearen\" Zusammenhang zwischen zwei stetigen Merkmalen. Der Koeffizient reicht von 1 bis -1. Für den Fall, dass er nahe 1 liegt, bedeutet dies, dass eine starke positive Korrelation besteht, d.h. \"wenn Werte des Merkmals `x` steigen, steigen auch solche des Merkmals `y`\"! Der umgekehrte Fall gilt für Koeffizienten, die nahe -1 liegen. Bitte behalten Sie in Erinnerung, dass der Korrelationskoeffizient nach Pearson nur lineare Zusammenhänge erfasst. Regelmäßig finden Sie aber auch nicht-lineare Korrelationen, die dann nicht erfasst werden ([Beispiel](https://de.wikipedia.org/wiki/Korrelationskoeffizient#/media/Datei:Correlation_examples.png))."
      ],
      "metadata": {
        "id": "z7_h_k2ba1Hz"
      },
      "id": "z7_h_k2ba1Hz"
    },
    {
      "cell_type": "code",
      "source": [
        "correlation_matrix[\"Total Goals\"].sort_values(ascending=False)"
      ],
      "metadata": {
        "id": "pjRo2lnnazcD",
        "colab": {
          "base_uri": "https://localhost:8080/"
        },
        "outputId": "7a5c2b3c-9550-4b32-af64-86e737c1e7c4"
      },
      "id": "pjRo2lnnazcD",
      "execution_count": 649,
      "outputs": [
        {
          "output_type": "execute_result",
          "data": {
            "text/plain": [
              "Total Goals                   1.000000\n",
              "Half-time Goals               0.699043\n",
              "Half-time Home Goals          0.598146\n",
              "Half-time Goals Difference    0.510889\n",
              "Half-time Away Goals          0.378531\n",
              "Hour                          0.004866\n",
              "Attendance                   -0.113603\n",
              "Name: Total Goals, dtype: float64"
            ]
          },
          "metadata": {},
          "execution_count": 649
        }
      ]
    },
    {
      "cell_type": "markdown",
      "source": [
        "**Kreuztabellen und Heatmaps**"
      ],
      "metadata": {
        "id": "nKl9Rbn5mozr"
      },
      "id": "nKl9Rbn5mozr"
    },
    {
      "cell_type": "code",
      "source": [
        "data.groupby(\"Weekday\")[\"Total Goals\"].mean().sort_values(ascending=False)"
      ],
      "metadata": {
        "id": "RgjTkcdftuaI",
        "colab": {
          "base_uri": "https://localhost:8080/"
        },
        "outputId": "8869804a-3624-4545-956e-e7a6fde7ca57"
      },
      "id": "RgjTkcdftuaI",
      "execution_count": 650,
      "outputs": [
        {
          "output_type": "execute_result",
          "data": {
            "text/plain": [
              "Weekday\n",
              "Sunday       3.421053\n",
              "Wednesday    2.836879\n",
              "Tuesday      2.776786\n",
              "Saturday     2.724138\n",
              "Thursday     2.640777\n",
              "Monday       2.493151\n",
              "Friday       2.302326\n",
              "Name: Total Goals, dtype: float64"
            ]
          },
          "metadata": {},
          "execution_count": 650
        }
      ]
    },
    {
      "cell_type": "code",
      "source": [
        "pd.crosstab(index=data[\"Weekday\"], columns=data[\"Total Goals\"])"
      ],
      "metadata": {
        "id": "sjTGgSe0hB1S",
        "colab": {
          "base_uri": "https://localhost:8080/",
          "height": 297
        },
        "outputId": "be753cf3-942e-48bb-8228-4df3532cb0cf"
      },
      "id": "sjTGgSe0hB1S",
      "execution_count": 651,
      "outputs": [
        {
          "output_type": "execute_result",
          "data": {
            "text/plain": [
              "Total Goals  0.0   1.0   2.0   3.0   4.0   5.0   6.0   7.0   8.0   9.0   10.0  \\\n",
              "Weekday                                                                         \n",
              "Friday         10    24    15    19     9     4     4     1     0     0     0   \n",
              "Monday          7    10    23    15    12     4     1     1     0     0     0   \n",
              "Saturday       16    29    26    33    18    13     3     2     2     2     0   \n",
              "Sunday          7    37    26    34    34    23    11    10     5     0     1   \n",
              "Thursday       10    20    24    22    11     9     3     2     1     1     0   \n",
              "Tuesday        10    17    29    29    11     6     3     3     2     1     0   \n",
              "Wednesday      12    24    30    27    23    14     6     4     0     1     0   \n",
              "\n",
              "Total Goals  11.0  12.0  \n",
              "Weekday                  \n",
              "Friday          0     0  \n",
              "Monday          0     0  \n",
              "Saturday        0     1  \n",
              "Sunday          2     0  \n",
              "Thursday        0     0  \n",
              "Tuesday         1     0  \n",
              "Wednesday       0     0  "
            ],
            "text/html": [
              "\n",
              "  <div id=\"df-e3d36513-86ce-43de-af9e-3c166fa1e6c2\">\n",
              "    <div class=\"colab-df-container\">\n",
              "      <div>\n",
              "<style scoped>\n",
              "    .dataframe tbody tr th:only-of-type {\n",
              "        vertical-align: middle;\n",
              "    }\n",
              "\n",
              "    .dataframe tbody tr th {\n",
              "        vertical-align: top;\n",
              "    }\n",
              "\n",
              "    .dataframe thead th {\n",
              "        text-align: right;\n",
              "    }\n",
              "</style>\n",
              "<table border=\"1\" class=\"dataframe\">\n",
              "  <thead>\n",
              "    <tr style=\"text-align: right;\">\n",
              "      <th>Total Goals</th>\n",
              "      <th>0.0</th>\n",
              "      <th>1.0</th>\n",
              "      <th>2.0</th>\n",
              "      <th>3.0</th>\n",
              "      <th>4.0</th>\n",
              "      <th>5.0</th>\n",
              "      <th>6.0</th>\n",
              "      <th>7.0</th>\n",
              "      <th>8.0</th>\n",
              "      <th>9.0</th>\n",
              "      <th>10.0</th>\n",
              "      <th>11.0</th>\n",
              "      <th>12.0</th>\n",
              "    </tr>\n",
              "    <tr>\n",
              "      <th>Weekday</th>\n",
              "      <th></th>\n",
              "      <th></th>\n",
              "      <th></th>\n",
              "      <th></th>\n",
              "      <th></th>\n",
              "      <th></th>\n",
              "      <th></th>\n",
              "      <th></th>\n",
              "      <th></th>\n",
              "      <th></th>\n",
              "      <th></th>\n",
              "      <th></th>\n",
              "      <th></th>\n",
              "    </tr>\n",
              "  </thead>\n",
              "  <tbody>\n",
              "    <tr>\n",
              "      <th>Friday</th>\n",
              "      <td>10</td>\n",
              "      <td>24</td>\n",
              "      <td>15</td>\n",
              "      <td>19</td>\n",
              "      <td>9</td>\n",
              "      <td>4</td>\n",
              "      <td>4</td>\n",
              "      <td>1</td>\n",
              "      <td>0</td>\n",
              "      <td>0</td>\n",
              "      <td>0</td>\n",
              "      <td>0</td>\n",
              "      <td>0</td>\n",
              "    </tr>\n",
              "    <tr>\n",
              "      <th>Monday</th>\n",
              "      <td>7</td>\n",
              "      <td>10</td>\n",
              "      <td>23</td>\n",
              "      <td>15</td>\n",
              "      <td>12</td>\n",
              "      <td>4</td>\n",
              "      <td>1</td>\n",
              "      <td>1</td>\n",
              "      <td>0</td>\n",
              "      <td>0</td>\n",
              "      <td>0</td>\n",
              "      <td>0</td>\n",
              "      <td>0</td>\n",
              "    </tr>\n",
              "    <tr>\n",
              "      <th>Saturday</th>\n",
              "      <td>16</td>\n",
              "      <td>29</td>\n",
              "      <td>26</td>\n",
              "      <td>33</td>\n",
              "      <td>18</td>\n",
              "      <td>13</td>\n",
              "      <td>3</td>\n",
              "      <td>2</td>\n",
              "      <td>2</td>\n",
              "      <td>2</td>\n",
              "      <td>0</td>\n",
              "      <td>0</td>\n",
              "      <td>1</td>\n",
              "    </tr>\n",
              "    <tr>\n",
              "      <th>Sunday</th>\n",
              "      <td>7</td>\n",
              "      <td>37</td>\n",
              "      <td>26</td>\n",
              "      <td>34</td>\n",
              "      <td>34</td>\n",
              "      <td>23</td>\n",
              "      <td>11</td>\n",
              "      <td>10</td>\n",
              "      <td>5</td>\n",
              "      <td>0</td>\n",
              "      <td>1</td>\n",
              "      <td>2</td>\n",
              "      <td>0</td>\n",
              "    </tr>\n",
              "    <tr>\n",
              "      <th>Thursday</th>\n",
              "      <td>10</td>\n",
              "      <td>20</td>\n",
              "      <td>24</td>\n",
              "      <td>22</td>\n",
              "      <td>11</td>\n",
              "      <td>9</td>\n",
              "      <td>3</td>\n",
              "      <td>2</td>\n",
              "      <td>1</td>\n",
              "      <td>1</td>\n",
              "      <td>0</td>\n",
              "      <td>0</td>\n",
              "      <td>0</td>\n",
              "    </tr>\n",
              "    <tr>\n",
              "      <th>Tuesday</th>\n",
              "      <td>10</td>\n",
              "      <td>17</td>\n",
              "      <td>29</td>\n",
              "      <td>29</td>\n",
              "      <td>11</td>\n",
              "      <td>6</td>\n",
              "      <td>3</td>\n",
              "      <td>3</td>\n",
              "      <td>2</td>\n",
              "      <td>1</td>\n",
              "      <td>0</td>\n",
              "      <td>1</td>\n",
              "      <td>0</td>\n",
              "    </tr>\n",
              "    <tr>\n",
              "      <th>Wednesday</th>\n",
              "      <td>12</td>\n",
              "      <td>24</td>\n",
              "      <td>30</td>\n",
              "      <td>27</td>\n",
              "      <td>23</td>\n",
              "      <td>14</td>\n",
              "      <td>6</td>\n",
              "      <td>4</td>\n",
              "      <td>0</td>\n",
              "      <td>1</td>\n",
              "      <td>0</td>\n",
              "      <td>0</td>\n",
              "      <td>0</td>\n",
              "    </tr>\n",
              "  </tbody>\n",
              "</table>\n",
              "</div>\n",
              "      <button class=\"colab-df-convert\" onclick=\"convertToInteractive('df-e3d36513-86ce-43de-af9e-3c166fa1e6c2')\"\n",
              "              title=\"Convert this dataframe to an interactive table.\"\n",
              "              style=\"display:none;\">\n",
              "        \n",
              "  <svg xmlns=\"http://www.w3.org/2000/svg\" height=\"24px\"viewBox=\"0 0 24 24\"\n",
              "       width=\"24px\">\n",
              "    <path d=\"M0 0h24v24H0V0z\" fill=\"none\"/>\n",
              "    <path d=\"M18.56 5.44l.94 2.06.94-2.06 2.06-.94-2.06-.94-.94-2.06-.94 2.06-2.06.94zm-11 1L8.5 8.5l.94-2.06 2.06-.94-2.06-.94L8.5 2.5l-.94 2.06-2.06.94zm10 10l.94 2.06.94-2.06 2.06-.94-2.06-.94-.94-2.06-.94 2.06-2.06.94z\"/><path d=\"M17.41 7.96l-1.37-1.37c-.4-.4-.92-.59-1.43-.59-.52 0-1.04.2-1.43.59L10.3 9.45l-7.72 7.72c-.78.78-.78 2.05 0 2.83L4 21.41c.39.39.9.59 1.41.59.51 0 1.02-.2 1.41-.59l7.78-7.78 2.81-2.81c.8-.78.8-2.07 0-2.86zM5.41 20L4 18.59l7.72-7.72 1.47 1.35L5.41 20z\"/>\n",
              "  </svg>\n",
              "      </button>\n",
              "      \n",
              "  <style>\n",
              "    .colab-df-container {\n",
              "      display:flex;\n",
              "      flex-wrap:wrap;\n",
              "      gap: 12px;\n",
              "    }\n",
              "\n",
              "    .colab-df-convert {\n",
              "      background-color: #E8F0FE;\n",
              "      border: none;\n",
              "      border-radius: 50%;\n",
              "      cursor: pointer;\n",
              "      display: none;\n",
              "      fill: #1967D2;\n",
              "      height: 32px;\n",
              "      padding: 0 0 0 0;\n",
              "      width: 32px;\n",
              "    }\n",
              "\n",
              "    .colab-df-convert:hover {\n",
              "      background-color: #E2EBFA;\n",
              "      box-shadow: 0px 1px 2px rgba(60, 64, 67, 0.3), 0px 1px 3px 1px rgba(60, 64, 67, 0.15);\n",
              "      fill: #174EA6;\n",
              "    }\n",
              "\n",
              "    [theme=dark] .colab-df-convert {\n",
              "      background-color: #3B4455;\n",
              "      fill: #D2E3FC;\n",
              "    }\n",
              "\n",
              "    [theme=dark] .colab-df-convert:hover {\n",
              "      background-color: #434B5C;\n",
              "      box-shadow: 0px 1px 3px 1px rgba(0, 0, 0, 0.15);\n",
              "      filter: drop-shadow(0px 1px 2px rgba(0, 0, 0, 0.3));\n",
              "      fill: #FFFFFF;\n",
              "    }\n",
              "  </style>\n",
              "\n",
              "      <script>\n",
              "        const buttonEl =\n",
              "          document.querySelector('#df-e3d36513-86ce-43de-af9e-3c166fa1e6c2 button.colab-df-convert');\n",
              "        buttonEl.style.display =\n",
              "          google.colab.kernel.accessAllowed ? 'block' : 'none';\n",
              "\n",
              "        async function convertToInteractive(key) {\n",
              "          const element = document.querySelector('#df-e3d36513-86ce-43de-af9e-3c166fa1e6c2');\n",
              "          const dataTable =\n",
              "            await google.colab.kernel.invokeFunction('convertToInteractive',\n",
              "                                                     [key], {});\n",
              "          if (!dataTable) return;\n",
              "\n",
              "          const docLinkHtml = 'Like what you see? Visit the ' +\n",
              "            '<a target=\"_blank\" href=https://colab.research.google.com/notebooks/data_table.ipynb>data table notebook</a>'\n",
              "            + ' to learn more about interactive tables.';\n",
              "          element.innerHTML = '';\n",
              "          dataTable['output_type'] = 'display_data';\n",
              "          await google.colab.output.renderOutput(dataTable, element);\n",
              "          const docLink = document.createElement('div');\n",
              "          docLink.innerHTML = docLinkHtml;\n",
              "          element.appendChild(docLink);\n",
              "        }\n",
              "      </script>\n",
              "    </div>\n",
              "  </div>\n",
              "  "
            ]
          },
          "metadata": {},
          "execution_count": 651
        }
      ]
    },
    {
      "cell_type": "markdown",
      "source": [
        "Das Package `seaborn` ist eine Erweiterung der Standardfunktionalitäten von `matplotlib`, welches wir bisher verwendet haben. Mit `seaborn` lassen sich optisch sehr ansprechende Visualisierung auf recht einfache Art und Weise erstellen. Immer wieder gerne genutzt wird die Visualisierungsform einer **Heatmap**, die sehr intuituve den Zusammenhang zwischen Variablen wiedergibt. Detaillierte Hinweise zur Erstellung von Heatmaps finden Sie [hier](https://seaborn.pydata.org/generated/seaborn.heatmap.html)."
      ],
      "metadata": {
        "id": "9Fo7GwtqnVEy"
      },
      "id": "9Fo7GwtqnVEy"
    },
    {
      "cell_type": "code",
      "source": [
        "import seaborn as sns"
      ],
      "metadata": {
        "id": "LLej052_ioTL"
      },
      "id": "LLej052_ioTL",
      "execution_count": 652,
      "outputs": []
    },
    {
      "cell_type": "code",
      "source": [
        "# über normalize=True werden Prozentwerte berechnet, z.B. bei wie viel Prozent der Spiele an einem \n",
        "# Sonntag sind 4 Tore gefallen!\n",
        "crosstab = pd.crosstab(index=data[\"Weekday\"], columns=data[\"Total Goals\"], normalize=True)"
      ],
      "metadata": {
        "id": "KnA19jiclAFR"
      },
      "id": "KnA19jiclAFR",
      "execution_count": 653,
      "outputs": []
    },
    {
      "cell_type": "code",
      "source": [
        "ax = sns.heatmap(crosstab, linewidths=.5, cmap=\"bwr\")"
      ],
      "metadata": {
        "id": "KhvMAZjpisD-",
        "colab": {
          "base_uri": "https://localhost:8080/",
          "height": 292
        },
        "outputId": "a4b4a917-6f40-4669-bdce-85af2ae8448d"
      },
      "id": "KhvMAZjpisD-",
      "execution_count": 654,
      "outputs": [
        {
          "output_type": "display_data",
          "data": {
            "text/plain": [
              "<Figure size 432x288 with 2 Axes>"
            ],
            "image/png": "[encoded data removed]"
          },
          "metadata": {
            "needs_background": "light"
          }
        }
      ]
    },
    {
      "cell_type": "markdown",
      "source": [
        "Über das Argument `cmap` steuern Sie die farbliche Darstellung der Heatmap. Sämtliche Farbpaletten finden Sie [hier](https://matplotlib.org/stable/tutorials/colors/colormaps.html)."
      ],
      "metadata": {
        "id": "NoRXjq7xojZd"
      },
      "id": "NoRXjq7xojZd"
    },
    {
      "cell_type": "markdown",
      "source": [
        "### Übung Datenexploration mit Track & Trace Daten <a class=\"anchor\" id=\"tt_eda\"></a>\n",
        "**Einführung**\n",
        "\n",
        "Ein Automobilhersteller hat weltweit verteilte Produktionsstandorte, u.a. auch ein Werk in den USA. Dieses Werk wird mit diversen Bauteilen zur Herstellung von Fahrzeugen aus Europa beliefert. \n",
        "\n",
        "Zur Erhöhung der Transparenz in der Supply Chain wurde vor kurzer Zeit Track und Trace System aufgebaut, welches Daten für einzelne Sendungen an definierten Standorten in der Lieferkette aufnimmt. Die Daten finden Sie nachfolgend:"
      ],
      "metadata": {
        "id": "GcDczFUf0bWf"
      },
      "id": "GcDczFUf0bWf"
    },
    {
      "cell_type": "code",
      "source": [
        "df = pd.read_csv(\"/content/drive/MyDrive/KI_LOG_mit_PYTHON/track_trace.txt\")\n",
        "df.head(10)"
      ],
      "metadata": {
        "id": "RK6PYPMK0TfF",
        "colab": {
          "base_uri": "https://localhost:8080/",
          "height": 661
        },
        "outputId": "03633e99-0940-43d1-9235-03cff5683697"
      },
      "id": "RK6PYPMK0TfF",
      "execution_count": 655,
      "outputs": [
        {
          "output_type": "execute_result",
          "data": {
            "text/plain": [
              "  ContainerNumber  ShipmentNumber           EventName            EventTime  \\\n",
              "0     HLXU8170197         4868820        Loading Ship  2018-07-04 13:58:00   \n",
              "1     HLXU8170197         4868820      Departure Ship  2018-07-04 19:05:00   \n",
              "2     HLXU8170197         4868820      Unloading Ship  2018-04-21 06:19:00   \n",
              "3     HLXU8170197         4868820     Departure Truck  2018-04-21 11:42:00   \n",
              "4     HLXU8170197         4868820       Arrival Truck  2018-08-05 18:12:00   \n",
              "5     HLXU8170197         4868820       Loading Truck  2018-07-16 14:15:00   \n",
              "6     HLXU8170197         4868820       Arrival Truck  2018-07-24 02:03:00   \n",
              "7     HLXU8170197         4868820        Arrival Ship  2018-02-08 21:54:00   \n",
              "8     HLXU8170197         4868820   Registration Yard  2018-10-08 16:18:00   \n",
              "9     HLXU8170197         4868820  Goods Receipt Dock  2018-10-08 20:50:00   \n",
              "\n",
              "                 EventLocation   VesselName  Time2Arrival  \\\n",
              "0              Hafen Rotterdam  NYK ROMULUS           125   \n",
              "1              Hafen Rotterdam  NYK ROMULUS           125   \n",
              "2             Hafen Charleston  NYK ROMULUS           111   \n",
              "3             Hafen Charleston  NYK ROMULUS           111   \n",
              "4             Hafen Charleston  NYK ROMULUS            94   \n",
              "5  Consolidation Center Speyer  NYK ROMULUS            25   \n",
              "6              Hafen Antwerpen  NYK ROMULUS            17   \n",
              "7        Bahnterminal Savannah  NYK ROMULUS             7   \n",
              "8              Werk Tuscaloosa  NYK ROMULUS             0   \n",
              "9              Werk Tuscaloosa  NYK ROMULUS             0   \n",
              "\n",
              "                                EventCombined EventTimeMonth EventTimeDay  \n",
              "0               Loading Ship, Hafen Rotterdam           July    Wednesday  \n",
              "1             Departure Ship, Hafen Rotterdam           July    Wednesday  \n",
              "2            Unloading Ship, Hafen Charleston          April     Saturday  \n",
              "3           Departure Truck, Hafen Charleston          April     Saturday  \n",
              "4             Arrival Truck, Hafen Charleston         August       Sunday  \n",
              "5  Loading Truck, Consolidation Center Speyer           July       Monday  \n",
              "6              Arrival Truck, Hafen Antwerpen           July      Tuesday  \n",
              "7         Arrival Ship, Bahnterminal Savannah       February     Thursday  \n",
              "8          Registration Yard, Werk Tuscaloosa        October       Monday  \n",
              "9         Goods Receipt Dock, Werk Tuscaloosa        October       Monday  "
            ],
            "text/html": [
              "\n",
              "  <div id=\"df-90aafb25-4191-4c69-b99e-56de2eb9269f\">\n",
              "    <div class=\"colab-df-container\">\n",
              "      <div>\n",
              "<style scoped>\n",
              "    .dataframe tbody tr th:only-of-type {\n",
              "        vertical-align: middle;\n",
              "    }\n",
              "\n",
              "    .dataframe tbody tr th {\n",
              "        vertical-align: top;\n",
              "    }\n",
              "\n",
              "    .dataframe thead th {\n",
              "        text-align: right;\n",
              "    }\n",
              "</style>\n",
              "<table border=\"1\" class=\"dataframe\">\n",
              "  <thead>\n",
              "    <tr style=\"text-align: right;\">\n",
              "      <th></th>\n",
              "      <th>ContainerNumber</th>\n",
              "      <th>ShipmentNumber</th>\n",
              "      <th>EventName</th>\n",
              "      <th>EventTime</th>\n",
              "      <th>EventLocation</th>\n",
              "      <th>VesselName</th>\n",
              "      <th>Time2Arrival</th>\n",
              "      <th>EventCombined</th>\n",
              "      <th>EventTimeMonth</th>\n",
              "      <th>EventTimeDay</th>\n",
              "    </tr>\n",
              "  </thead>\n",
              "  <tbody>\n",
              "    <tr>\n",
              "      <th>0</th>\n",
              "      <td>HLXU8170197</td>\n",
              "      <td>4868820</td>\n",
              "      <td>Loading Ship</td>\n",
              "      <td>2018-07-04 13:58:00</td>\n",
              "      <td>Hafen Rotterdam</td>\n",
              "      <td>NYK ROMULUS</td>\n",
              "      <td>125</td>\n",
              "      <td>Loading Ship, Hafen Rotterdam</td>\n",
              "      <td>July</td>\n",
              "      <td>Wednesday</td>\n",
              "    </tr>\n",
              "    <tr>\n",
              "      <th>1</th>\n",
              "      <td>HLXU8170197</td>\n",
              "      <td>4868820</td>\n",
              "      <td>Departure Ship</td>\n",
              "      <td>2018-07-04 19:05:00</td>\n",
              "      <td>Hafen Rotterdam</td>\n",
              "      <td>NYK ROMULUS</td>\n",
              "      <td>125</td>\n",
              "      <td>Departure Ship, Hafen Rotterdam</td>\n",
              "      <td>July</td>\n",
              "      <td>Wednesday</td>\n",
              "    </tr>\n",
              "    <tr>\n",
              "      <th>2</th>\n",
              "      <td>HLXU8170197</td>\n",
              "      <td>4868820</td>\n",
              "      <td>Unloading Ship</td>\n",
              "      <td>2018-04-21 06:19:00</td>\n",
              "      <td>Hafen Charleston</td>\n",
              "      <td>NYK ROMULUS</td>\n",
              "      <td>111</td>\n",
              "      <td>Unloading Ship, Hafen Charleston</td>\n",
              "      <td>April</td>\n",
              "      <td>Saturday</td>\n",
              "    </tr>\n",
              "    <tr>\n",
              "      <th>3</th>\n",
              "      <td>HLXU8170197</td>\n",
              "      <td>4868820</td>\n",
              "      <td>Departure Truck</td>\n",
              "      <td>2018-04-21 11:42:00</td>\n",
              "      <td>Hafen Charleston</td>\n",
              "      <td>NYK ROMULUS</td>\n",
              "      <td>111</td>\n",
              "      <td>Departure Truck, Hafen Charleston</td>\n",
              "      <td>April</td>\n",
              "      <td>Saturday</td>\n",
              "    </tr>\n",
              "    <tr>\n",
              "      <th>4</th>\n",
              "      <td>HLXU8170197</td>\n",
              "      <td>4868820</td>\n",
              "      <td>Arrival Truck</td>\n",
              "      <td>2018-08-05 18:12:00</td>\n",
              "      <td>Hafen Charleston</td>\n",
              "      <td>NYK ROMULUS</td>\n",
              "      <td>94</td>\n",
              "      <td>Arrival Truck, Hafen Charleston</td>\n",
              "      <td>August</td>\n",
              "      <td>Sunday</td>\n",
              "    </tr>\n",
              "    <tr>\n",
              "      <th>5</th>\n",
              "      <td>HLXU8170197</td>\n",
              "      <td>4868820</td>\n",
              "      <td>Loading Truck</td>\n",
              "      <td>2018-07-16 14:15:00</td>\n",
              "      <td>Consolidation Center Speyer</td>\n",
              "      <td>NYK ROMULUS</td>\n",
              "      <td>25</td>\n",
              "      <td>Loading Truck, Consolidation Center Speyer</td>\n",
              "      <td>July</td>\n",
              "      <td>Monday</td>\n",
              "    </tr>\n",
              "    <tr>\n",
              "      <th>6</th>\n",
              "      <td>HLXU8170197</td>\n",
              "      <td>4868820</td>\n",
              "      <td>Arrival Truck</td>\n",
              "      <td>2018-07-24 02:03:00</td>\n",
              "      <td>Hafen Antwerpen</td>\n",
              "      <td>NYK ROMULUS</td>\n",
              "      <td>17</td>\n",
              "      <td>Arrival Truck, Hafen Antwerpen</td>\n",
              "      <td>July</td>\n",
              "      <td>Tuesday</td>\n",
              "    </tr>\n",
              "    <tr>\n",
              "      <th>7</th>\n",
              "      <td>HLXU8170197</td>\n",
              "      <td>4868820</td>\n",
              "      <td>Arrival Ship</td>\n",
              "      <td>2018-02-08 21:54:00</td>\n",
              "      <td>Bahnterminal Savannah</td>\n",
              "      <td>NYK ROMULUS</td>\n",
              "      <td>7</td>\n",
              "      <td>Arrival Ship, Bahnterminal Savannah</td>\n",
              "      <td>February</td>\n",
              "      <td>Thursday</td>\n",
              "    </tr>\n",
              "    <tr>\n",
              "      <th>8</th>\n",
              "      <td>HLXU8170197</td>\n",
              "      <td>4868820</td>\n",
              "      <td>Registration Yard</td>\n",
              "      <td>2018-10-08 16:18:00</td>\n",
              "      <td>Werk Tuscaloosa</td>\n",
              "      <td>NYK ROMULUS</td>\n",
              "      <td>0</td>\n",
              "      <td>Registration Yard, Werk Tuscaloosa</td>\n",
              "      <td>October</td>\n",
              "      <td>Monday</td>\n",
              "    </tr>\n",
              "    <tr>\n",
              "      <th>9</th>\n",
              "      <td>HLXU8170197</td>\n",
              "      <td>4868820</td>\n",
              "      <td>Goods Receipt Dock</td>\n",
              "      <td>2018-10-08 20:50:00</td>\n",
              "      <td>Werk Tuscaloosa</td>\n",
              "      <td>NYK ROMULUS</td>\n",
              "      <td>0</td>\n",
              "      <td>Goods Receipt Dock, Werk Tuscaloosa</td>\n",
              "      <td>October</td>\n",
              "      <td>Monday</td>\n",
              "    </tr>\n",
              "  </tbody>\n",
              "</table>\n",
              "</div>\n",
              "      <button class=\"colab-df-convert\" onclick=\"convertToInteractive('df-90aafb25-4191-4c69-b99e-56de2eb9269f')\"\n",
              "              title=\"Convert this dataframe to an interactive table.\"\n",
              "              style=\"display:none;\">\n",
              "        \n",
              "  <svg xmlns=\"http://www.w3.org/2000/svg\" height=\"24px\"viewBox=\"0 0 24 24\"\n",
              "       width=\"24px\">\n",
              "    <path d=\"M0 0h24v24H0V0z\" fill=\"none\"/>\n",
              "    <path d=\"M18.56 5.44l.94 2.06.94-2.06 2.06-.94-2.06-.94-.94-2.06-.94 2.06-2.06.94zm-11 1L8.5 8.5l.94-2.06 2.06-.94-2.06-.94L8.5 2.5l-.94 2.06-2.06.94zm10 10l.94 2.06.94-2.06 2.06-.94-2.06-.94-.94-2.06-.94 2.06-2.06.94z\"/><path d=\"M17.41 7.96l-1.37-1.37c-.4-.4-.92-.59-1.43-.59-.52 0-1.04.2-1.43.59L10.3 9.45l-7.72 7.72c-.78.78-.78 2.05 0 2.83L4 21.41c.39.39.9.59 1.41.59.51 0 1.02-.2 1.41-.59l7.78-7.78 2.81-2.81c.8-.78.8-2.07 0-2.86zM5.41 20L4 18.59l7.72-7.72 1.47 1.35L5.41 20z\"/>\n",
              "  </svg>\n",
              "      </button>\n",
              "      \n",
              "  <style>\n",
              "    .colab-df-container {\n",
              "      display:flex;\n",
              "      flex-wrap:wrap;\n",
              "      gap: 12px;\n",
              "    }\n",
              "\n",
              "    .colab-df-convert {\n",
              "      background-color: #E8F0FE;\n",
              "      border: none;\n",
              "      border-radius: 50%;\n",
              "      cursor: pointer;\n",
              "      display: none;\n",
              "      fill: #1967D2;\n",
              "      height: 32px;\n",
              "      padding: 0 0 0 0;\n",
              "      width: 32px;\n",
              "    }\n",
              "\n",
              "    .colab-df-convert:hover {\n",
              "      background-color: #E2EBFA;\n",
              "      box-shadow: 0px 1px 2px rgba(60, 64, 67, 0.3), 0px 1px 3px 1px rgba(60, 64, 67, 0.15);\n",
              "      fill: #174EA6;\n",
              "    }\n",
              "\n",
              "    [theme=dark] .colab-df-convert {\n",
              "      background-color: #3B4455;\n",
              "      fill: #D2E3FC;\n",
              "    }\n",
              "\n",
              "    [theme=dark] .colab-df-convert:hover {\n",
              "      background-color: #434B5C;\n",
              "      box-shadow: 0px 1px 3px 1px rgba(0, 0, 0, 0.15);\n",
              "      filter: drop-shadow(0px 1px 2px rgba(0, 0, 0, 0.3));\n",
              "      fill: #FFFFFF;\n",
              "    }\n",
              "  </style>\n",
              "\n",
              "      <script>\n",
              "        const buttonEl =\n",
              "          document.querySelector('#df-90aafb25-4191-4c69-b99e-56de2eb9269f button.colab-df-convert');\n",
              "        buttonEl.style.display =\n",
              "          google.colab.kernel.accessAllowed ? 'block' : 'none';\n",
              "\n",
              "        async function convertToInteractive(key) {\n",
              "          const element = document.querySelector('#df-90aafb25-4191-4c69-b99e-56de2eb9269f');\n",
              "          const dataTable =\n",
              "            await google.colab.kernel.invokeFunction('convertToInteractive',\n",
              "                                                     [key], {});\n",
              "          if (!dataTable) return;\n",
              "\n",
              "          const docLinkHtml = 'Like what you see? Visit the ' +\n",
              "            '<a target=\"_blank\" href=https://colab.research.google.com/notebooks/data_table.ipynb>data table notebook</a>'\n",
              "            + ' to learn more about interactive tables.';\n",
              "          element.innerHTML = '';\n",
              "          dataTable['output_type'] = 'display_data';\n",
              "          await google.colab.output.renderOutput(dataTable, element);\n",
              "          const docLink = document.createElement('div');\n",
              "          docLink.innerHTML = docLinkHtml;\n",
              "          element.appendChild(docLink);\n",
              "        }\n",
              "      </script>\n",
              "    </div>\n",
              "  </div>\n",
              "  "
            ]
          },
          "metadata": {},
          "execution_count": 655
        }
      ]
    },
    {
      "cell_type": "code",
      "source": [
        "df[\"EventName\"].unique()"
      ],
      "metadata": {
        "id": "o6Rjr9_okOGY",
        "colab": {
          "base_uri": "https://localhost:8080/"
        },
        "outputId": "ac3561dd-e7d9-4229-c0e2-58bcf09579fa"
      },
      "id": "o6Rjr9_okOGY",
      "execution_count": 656,
      "outputs": [
        {
          "output_type": "execute_result",
          "data": {
            "text/plain": [
              "array(['Loading Ship', 'Departure Ship', 'Unloading Ship',\n",
              "       'Departure Truck', 'Arrival Truck', 'Loading Truck',\n",
              "       'Arrival Ship', 'Registration Yard', 'Goods Receipt Dock',\n",
              "       'New Scheduling', 'Container Closed'], dtype=object)"
            ]
          },
          "metadata": {},
          "execution_count": 656
        }
      ]
    },
    {
      "cell_type": "markdown",
      "source": [
        "Jeder einzelne Container (`ContainerNumber`) ist einer Sendung zugeordnet, wobei jede Sendung eine eindeutige Kennzeichnung (`Shipment Number`) aufweist. Zu jeder Sendung werden definierte Events aufgenommen. Diese beinhalten den Namen des Events (`EventName`), die Zeit des Events (`EventTim`) sowie die Lokation des Events (`EventLocation`). Weiterhin ist jeder Sendung ein Schiff (`VesselName`) zugeordnet. In der letzten Spalten finden Sie die Ankunftszeit in **Tagen** (`Time2Arrival`). Diese stellt die Zeit zwischen dem jeweiligen Event und dem Zielevent dar. Der Zielevent ist die Vereinnahmung der Ware (`EventName = Goods Receipt Dock`) im Werk in den USA. Der Datensatz wird um weitere abgeleitete Informationen ergänzt (`EventNameCombined`, `EventTimeMonth`, `EventTimeDay`).\n",
        "\n",
        "\n",
        "**Aufgabenstellung**\n",
        "\n",
        "Die Supply Chain Abteilung des Automobilherstellers verfolgt das Ziel, die Daten aus dem Track und Trace System für die Steuerung von Transporten und Beständen zu nutzen. Da es sich um ein neues Projekt zur intelligenten Datenanalyse handelt, wurden Sie gebeten in einem ersten Schritt die zur Verfügung gestellten Daten in Form einer explorativen Datenanalyse aufzubereiten und zu analysieren.\n",
        "\n",
        "**Konkrete Fragestellungen/ Aufgaben**\n",
        "\n",
        "\n",
        "1. Wie viele Events finden sich in dem vorliegenden Datensatz?\n",
        "1. Von welchen deutschen Häfen wird das Werk in Tuscaloosa beliefert? Filtern Sie dazu zunächst auf das Event mit dem Namen `Loading Ship`. Anschließend betrachten Sie die Werte in der Spalte `EventLocation`.\n",
        "1. Wie ist die mittlere Transportzeit (`Time2Arrival`) von jedem dieser deutschen Häfen zum Werk in den USA? Filtern Sie dazu die `EventLocation` zunächst auf die deutschen Häfen (am besten mithilfe von `isin()`) und speichern Sie die Daten in einer neuen Variablen. Anschließend müssen Sie die Daten nach Häfen gruppieren (`groupby()`) und den Mittelwert der `Time2Arrival` bilden (`mean()`).\n",
        "1. Erstellen Sie anschließend jeweils ein Histogramm zur `Time2Arrival` für jeden deutschen Hafen. Welcher Hafen hat aus Ihrer Sicht eine bessere Performance?"
      ],
      "metadata": {
        "id": "GIgxOfLYjYUs"
      },
      "id": "GIgxOfLYjYUs"
    },
    {
      "cell_type": "code",
      "source": [
        "# Aufgabe 1\n",
        "f\"Insgesamt gibt es im Datensatz {df.shape[0]} Events!\""
      ],
      "metadata": {
        "id": "VVNm_m9pjfws",
        "colab": {
          "base_uri": "https://localhost:8080/",
          "height": 37
        },
        "outputId": "86706dac-78cd-4e71-e7dd-5e8e1127485e"
      },
      "id": "VVNm_m9pjfws",
      "execution_count": 657,
      "outputs": [
        {
          "output_type": "execute_result",
          "data": {
            "text/plain": [
              "'Insgesamt gibt es im Datensatz 18632 Events!'"
            ],
            "application/vnd.google.colaboratory.intrinsic+json": {
              "type": "string"
            }
          },
          "metadata": {},
          "execution_count": 657
        }
      ]
    },
    {
      "cell_type": "code",
      "source": [
        "# Aufgabe 2\n",
        "\n",
        "# Variante 1\n",
        "df[df[\"EventName\"]==\"Loading Ship\"][\"EventLocation\"].unique()\n",
        "\n",
        "# Variante 2\n",
        "pd.unique(df[\"EventLocation\"][(df[\"EventName\"]==\"Loading Ship\")])"
      ],
      "metadata": {
        "colab": {
          "base_uri": "https://localhost:8080/"
        },
        "id": "t_2T0mTtDfon",
        "outputId": "eccd71c4-396e-47fc-bf64-3582048cb64f"
      },
      "id": "t_2T0mTtDfon",
      "execution_count": 658,
      "outputs": [
        {
          "output_type": "execute_result",
          "data": {
            "text/plain": [
              "array(['Hafen Rotterdam', 'Hafen Bremerhaven', 'Hafen Antwerpen',\n",
              "       'Hafen Hamburg'], dtype=object)"
            ]
          },
          "metadata": {},
          "execution_count": 658
        }
      ]
    },
    {
      "cell_type": "code",
      "source": [
        "# Aufgabe 3\n",
        "# 1.Schritt: Filterung der Daten\n",
        "hafen_de = df[df[\"EventLocation\"].isin([\"Hafen Bremerhaven\", \"Hafen Hamburg\"])]\n",
        "hafen_de = hafen_de[hafen_de[\"EventName\"]==\"Loading Ship\"]\n",
        "hafen_de.head()\n",
        "\n",
        "# 2.Schritt: Gruppieren nach Hafen und mittlere Time2Arrival berechen\n",
        "hafen_de.groupby(\"EventLocation\")[\"Time2Arrival\"].mean()"
      ],
      "metadata": {
        "colab": {
          "base_uri": "https://localhost:8080/"
        },
        "id": "Z0Ot9F7yE5MN",
        "outputId": "d02d264d-7188-4ca9-b7f0-f40921d2fde8"
      },
      "id": "Z0Ot9F7yE5MN",
      "execution_count": 659,
      "outputs": [
        {
          "output_type": "execute_result",
          "data": {
            "text/plain": [
              "EventLocation\n",
              "Hafen Bremerhaven    41.558273\n",
              "Hafen Hamburg        28.616279\n",
              "Name: Time2Arrival, dtype: float64"
            ]
          },
          "metadata": {},
          "execution_count": 659
        }
      ]
    },
    {
      "cell_type": "code",
      "source": [
        "# Aufgabe 4\n",
        "# Grafik für Hafen Bremerhaven\n",
        "hafen_de[hafen_de[\"EventLocation\"]==\"Hafen Bremerhaven\"][\"Time2Arrival\"].plot(\n",
        "    kind=\"hist\", \n",
        "    title= \"Histogramm Time2Arrival\",\n",
        "    figsize=(8,4),\n",
        "    color=\"c\",\n",
        "    edgecolor='k',\n",
        "    density=True,\n",
        "    alpha=0.8\n",
        "    )\n",
        "plt.plot()"
      ],
      "metadata": {
        "colab": {
          "base_uri": "https://localhost:8080/",
          "height": 298
        },
        "id": "6BGi-8EeGmNm",
        "outputId": "8a81cdce-a7aa-42ff-f94f-cba32fdb2072"
      },
      "id": "6BGi-8EeGmNm",
      "execution_count": 660,
      "outputs": [
        {
          "output_type": "execute_result",
          "data": {
            "text/plain": [
              "[]"
            ]
          },
          "metadata": {},
          "execution_count": 660
        },
        {
          "output_type": "display_data",
          "data": {
            "text/plain": [
              "<Figure size 576x288 with 1 Axes>"
            ],
            "image/png": "[encoded data removed]"
          },
          "metadata": {
            "needs_background": "light"
          }
        }
      ]
    },
    {
      "cell_type": "code",
      "source": [
        "# Aufgabe 4\n",
        "# Grafik für Hafen Hamburg\n",
        "hafen_de[hafen_de[\"EventLocation\"]==\"Hafen Hamburg\"][\"Time2Arrival\"].plot(\n",
        "    kind=\"hist\", \n",
        "    title= \"Histogramm Time2Arrival\",\n",
        "    figsize=(8,4),\n",
        "    color=\"r\",\n",
        "    edgecolor='k',\n",
        "    density=True,\n",
        "    alpha=0.8\n",
        "    )\n",
        "plt.plot()"
      ],
      "metadata": {
        "colab": {
          "base_uri": "https://localhost:8080/",
          "height": 298
        },
        "id": "vemm9AbKHcyM",
        "outputId": "3e37169a-a7cf-4c26-bfb1-dc542d2b8e97"
      },
      "id": "vemm9AbKHcyM",
      "execution_count": 661,
      "outputs": [
        {
          "output_type": "execute_result",
          "data": {
            "text/plain": [
              "[]"
            ]
          },
          "metadata": {},
          "execution_count": 661
        },
        {
          "output_type": "display_data",
          "data": {
            "text/plain": [
              "<Figure size 576x288 with 1 Axes>"
            ],
            "image/png": "[encoded data removed]"
          },
          "metadata": {
            "needs_background": "light"
          }
        }
      ]
    },
    {
      "cell_type": "markdown",
      "source": [
        "## 3 Machine Learning für Regressionprobleme <a class=\"anchor\" id=\"regression\"></a>\n",
        "Wir betrachten nun wieder den Fifa World Cup Datensatz und werden nun wie eingangs beschrieben ein ML-Verfahren verwenden, um die Anzahl der am Ende der regulären Spielzeit (ggf. plus Verlängerung) geschossenen Tore vorherzusagen. Wir nutzen zu diesem Zweck alle Informationen, die uns zur Halbzeit eines Spiels vorliegen."
      ],
      "metadata": {
        "id": "3VPZsopCh7_m"
      },
      "id": "3VPZsopCh7_m"
    },
    {
      "cell_type": "markdown",
      "source": [
        "### 3.1 Datensatz in Features und Target teilen\n",
        "Zunächst einmal müssen wir unterscheiden, was vorhergesagt werden soll (**Target**) und welche Merkmale dazu genutzt werden sollen (**Features**)."
      ],
      "metadata": {
        "id": "F6l0bN2Di_at"
      },
      "id": "F6l0bN2Di_at"
    },
    {
      "cell_type": "code",
      "source": [
        "# Features, d.h. womit lässt sich die Anzahl der Tore prognostizeren!\n",
        "X = data.drop(columns=\"Total Goals\")\n",
        "X.head()"
      ],
      "metadata": {
        "id": "jw9nsecciIA0",
        "colab": {
          "base_uri": "https://localhost:8080/",
          "height": 282
        },
        "outputId": "83e5a962-e02b-4224-a355-fef24ec9f64e"
      },
      "id": "jw9nsecciIA0",
      "execution_count": 662,
      "outputs": [
        {
          "output_type": "execute_result",
          "data": {
            "text/plain": [
              "   Stage Home Team Name Away Team Name  Attendance  Half-time Home Goals  \\\n",
              "0  Group         France         Mexico      4444.0                   3.0   \n",
              "1  Group            USA        Belgium     18346.0                   2.0   \n",
              "2  Group     Yugoslavia         Brazil     24059.0                   2.0   \n",
              "3  Group        Romania           Peru      2549.0                   1.0   \n",
              "4  Group      Argentina         France     23409.0                   0.0   \n",
              "\n",
              "   Half-time Away Goals  Hour  Weekday  Half-time Goals  \\\n",
              "0                   0.0    15   Sunday              3.0   \n",
              "1                   0.0    15   Sunday              2.0   \n",
              "2                   0.0    12   Monday              2.0   \n",
              "3                   0.0    14   Monday              1.0   \n",
              "4                   0.0    16  Tuesday              0.0   \n",
              "\n",
              "   Half-time Goals Difference  \n",
              "0                         3.0  \n",
              "1                         2.0  \n",
              "2                         2.0  \n",
              "3                         1.0  \n",
              "4                         0.0  "
            ],
            "text/html": [
              "\n",
              "  <div id=\"df-0865013f-8abe-4335-a286-1f021a1574d7\">\n",
              "    <div class=\"colab-df-container\">\n",
              "      <div>\n",
              "<style scoped>\n",
              "    .dataframe tbody tr th:only-of-type {\n",
              "        vertical-align: middle;\n",
              "    }\n",
              "\n",
              "    .dataframe tbody tr th {\n",
              "        vertical-align: top;\n",
              "    }\n",
              "\n",
              "    .dataframe thead th {\n",
              "        text-align: right;\n",
              "    }\n",
              "</style>\n",
              "<table border=\"1\" class=\"dataframe\">\n",
              "  <thead>\n",
              "    <tr style=\"text-align: right;\">\n",
              "      <th></th>\n",
              "      <th>Stage</th>\n",
              "      <th>Home Team Name</th>\n",
              "      <th>Away Team Name</th>\n",
              "      <th>Attendance</th>\n",
              "      <th>Half-time Home Goals</th>\n",
              "      <th>Half-time Away Goals</th>\n",
              "      <th>Hour</th>\n",
              "      <th>Weekday</th>\n",
              "      <th>Half-time Goals</th>\n",
              "      <th>Half-time Goals Difference</th>\n",
              "    </tr>\n",
              "  </thead>\n",
              "  <tbody>\n",
              "    <tr>\n",
              "      <th>0</th>\n",
              "      <td>Group</td>\n",
              "      <td>France</td>\n",
              "      <td>Mexico</td>\n",
              "      <td>4444.0</td>\n",
              "      <td>3.0</td>\n",
              "      <td>0.0</td>\n",
              "      <td>15</td>\n",
              "      <td>Sunday</td>\n",
              "      <td>3.0</td>\n",
              "      <td>3.0</td>\n",
              "    </tr>\n",
              "    <tr>\n",
              "      <th>1</th>\n",
              "      <td>Group</td>\n",
              "      <td>USA</td>\n",
              "      <td>Belgium</td>\n",
              "      <td>18346.0</td>\n",
              "      <td>2.0</td>\n",
              "      <td>0.0</td>\n",
              "      <td>15</td>\n",
              "      <td>Sunday</td>\n",
              "      <td>2.0</td>\n",
              "      <td>2.0</td>\n",
              "    </tr>\n",
              "    <tr>\n",
              "      <th>2</th>\n",
              "      <td>Group</td>\n",
              "      <td>Yugoslavia</td>\n",
              "      <td>Brazil</td>\n",
              "      <td>24059.0</td>\n",
              "      <td>2.0</td>\n",
              "      <td>0.0</td>\n",
              "      <td>12</td>\n",
              "      <td>Monday</td>\n",
              "      <td>2.0</td>\n",
              "      <td>2.0</td>\n",
              "    </tr>\n",
              "    <tr>\n",
              "      <th>3</th>\n",
              "      <td>Group</td>\n",
              "      <td>Romania</td>\n",
              "      <td>Peru</td>\n",
              "      <td>2549.0</td>\n",
              "      <td>1.0</td>\n",
              "      <td>0.0</td>\n",
              "      <td>14</td>\n",
              "      <td>Monday</td>\n",
              "      <td>1.0</td>\n",
              "      <td>1.0</td>\n",
              "    </tr>\n",
              "    <tr>\n",
              "      <th>4</th>\n",
              "      <td>Group</td>\n",
              "      <td>Argentina</td>\n",
              "      <td>France</td>\n",
              "      <td>23409.0</td>\n",
              "      <td>0.0</td>\n",
              "      <td>0.0</td>\n",
              "      <td>16</td>\n",
              "      <td>Tuesday</td>\n",
              "      <td>0.0</td>\n",
              "      <td>0.0</td>\n",
              "    </tr>\n",
              "  </tbody>\n",
              "</table>\n",
              "</div>\n",
              "      <button class=\"colab-df-convert\" onclick=\"convertToInteractive('df-0865013f-8abe-4335-a286-1f021a1574d7')\"\n",
              "              title=\"Convert this dataframe to an interactive table.\"\n",
              "              style=\"display:none;\">\n",
              "        \n",
              "  <svg xmlns=\"http://www.w3.org/2000/svg\" height=\"24px\"viewBox=\"0 0 24 24\"\n",
              "       width=\"24px\">\n",
              "    <path d=\"M0 0h24v24H0V0z\" fill=\"none\"/>\n",
              "    <path d=\"M18.56 5.44l.94 2.06.94-2.06 2.06-.94-2.06-.94-.94-2.06-.94 2.06-2.06.94zm-11 1L8.5 8.5l.94-2.06 2.06-.94-2.06-.94L8.5 2.5l-.94 2.06-2.06.94zm10 10l.94 2.06.94-2.06 2.06-.94-2.06-.94-.94-2.06-.94 2.06-2.06.94z\"/><path d=\"M17.41 7.96l-1.37-1.37c-.4-.4-.92-.59-1.43-.59-.52 0-1.04.2-1.43.59L10.3 9.45l-7.72 7.72c-.78.78-.78 2.05 0 2.83L4 21.41c.39.39.9.59 1.41.59.51 0 1.02-.2 1.41-.59l7.78-7.78 2.81-2.81c.8-.78.8-2.07 0-2.86zM5.41 20L4 18.59l7.72-7.72 1.47 1.35L5.41 20z\"/>\n",
              "  </svg>\n",
              "      </button>\n",
              "      \n",
              "  <style>\n",
              "    .colab-df-container {\n",
              "      display:flex;\n",
              "      flex-wrap:wrap;\n",
              "      gap: 12px;\n",
              "    }\n",
              "\n",
              "    .colab-df-convert {\n",
              "      background-color: #E8F0FE;\n",
              "      border: none;\n",
              "      border-radius: 50%;\n",
              "      cursor: pointer;\n",
              "      display: none;\n",
              "      fill: #1967D2;\n",
              "      height: 32px;\n",
              "      padding: 0 0 0 0;\n",
              "      width: 32px;\n",
              "    }\n",
              "\n",
              "    .colab-df-convert:hover {\n",
              "      background-color: #E2EBFA;\n",
              "      box-shadow: 0px 1px 2px rgba(60, 64, 67, 0.3), 0px 1px 3px 1px rgba(60, 64, 67, 0.15);\n",
              "      fill: #174EA6;\n",
              "    }\n",
              "\n",
              "    [theme=dark] .colab-df-convert {\n",
              "      background-color: #3B4455;\n",
              "      fill: #D2E3FC;\n",
              "    }\n",
              "\n",
              "    [theme=dark] .colab-df-convert:hover {\n",
              "      background-color: #434B5C;\n",
              "      box-shadow: 0px 1px 3px 1px rgba(0, 0, 0, 0.15);\n",
              "      filter: drop-shadow(0px 1px 2px rgba(0, 0, 0, 0.3));\n",
              "      fill: #FFFFFF;\n",
              "    }\n",
              "  </style>\n",
              "\n",
              "      <script>\n",
              "        const buttonEl =\n",
              "          document.querySelector('#df-0865013f-8abe-4335-a286-1f021a1574d7 button.colab-df-convert');\n",
              "        buttonEl.style.display =\n",
              "          google.colab.kernel.accessAllowed ? 'block' : 'none';\n",
              "\n",
              "        async function convertToInteractive(key) {\n",
              "          const element = document.querySelector('#df-0865013f-8abe-4335-a286-1f021a1574d7');\n",
              "          const dataTable =\n",
              "            await google.colab.kernel.invokeFunction('convertToInteractive',\n",
              "                                                     [key], {});\n",
              "          if (!dataTable) return;\n",
              "\n",
              "          const docLinkHtml = 'Like what you see? Visit the ' +\n",
              "            '<a target=\"_blank\" href=https://colab.research.google.com/notebooks/data_table.ipynb>data table notebook</a>'\n",
              "            + ' to learn more about interactive tables.';\n",
              "          element.innerHTML = '';\n",
              "          dataTable['output_type'] = 'display_data';\n",
              "          await google.colab.output.renderOutput(dataTable, element);\n",
              "          const docLink = document.createElement('div');\n",
              "          docLink.innerHTML = docLinkHtml;\n",
              "          element.appendChild(docLink);\n",
              "        }\n",
              "      </script>\n",
              "    </div>\n",
              "  </div>\n",
              "  "
            ]
          },
          "metadata": {},
          "execution_count": 662
        }
      ]
    },
    {
      "cell_type": "code",
      "source": [
        "# Target, d.h. was soll prognostiziert werden!\n",
        "y = data[\"Total Goals\"]\n",
        "y.head()"
      ],
      "metadata": {
        "id": "-R0p_tMFjN-f",
        "colab": {
          "base_uri": "https://localhost:8080/"
        },
        "outputId": "86c75ba7-9635-4f9f-d433-f13bafc4c8d9"
      },
      "id": "-R0p_tMFjN-f",
      "execution_count": 663,
      "outputs": [
        {
          "output_type": "execute_result",
          "data": {
            "text/plain": [
              "0    5.0\n",
              "1    3.0\n",
              "2    3.0\n",
              "3    4.0\n",
              "4    1.0\n",
              "Name: Total Goals, dtype: float64"
            ]
          },
          "metadata": {},
          "execution_count": 663
        }
      ]
    },
    {
      "cell_type": "code",
      "source": [
        "X.shape, y.shape"
      ],
      "metadata": {
        "id": "NVJdxAwwjVCf",
        "colab": {
          "base_uri": "https://localhost:8080/"
        },
        "outputId": "3c02d353-9b3d-46da-b066-958a56a9c9d4"
      },
      "id": "NVJdxAwwjVCf",
      "execution_count": 664,
      "outputs": [
        {
          "output_type": "execute_result",
          "data": {
            "text/plain": [
              "((850, 10), (850,))"
            ]
          },
          "metadata": {},
          "execution_count": 664
        }
      ]
    },
    {
      "cell_type": "markdown",
      "source": [
        "### 3.2 Datensatz in Trainings- und Testmenge aufteilen"
      ],
      "metadata": {
        "id": "ZdIT3Aqbjc3B"
      },
      "id": "ZdIT3Aqbjc3B"
    },
    {
      "cell_type": "markdown",
      "source": [
        "Bevor wir gleich zu der Aufteilung in Trainings- & Testdaten zum Training des ML-Verfahrens kommen, müssen die nicht-numerischen Daten passend aufbereitet werden. Das Vorgehen ist dabei immer gleich. Zur Illustration nutzen wir die Fifa World Cup Daten und dabei die ersten 5 Eintragungen in der Spalte `Home Team Name`."
      ],
      "metadata": {
        "id": "ik3zan-J1vtt"
      },
      "id": "ik3zan-J1vtt"
    },
    {
      "cell_type": "code",
      "source": [
        "example = data[\"Home Team Name\"].head()\n",
        "example"
      ],
      "metadata": {
        "id": "fclb8_jk06iF",
        "colab": {
          "base_uri": "https://localhost:8080/"
        },
        "outputId": "abe6b5f8-b7b4-4ce0-f1e8-1a0c1db9e5a0"
      },
      "id": "fclb8_jk06iF",
      "execution_count": 665,
      "outputs": [
        {
          "output_type": "execute_result",
          "data": {
            "text/plain": [
              "0        France\n",
              "1           USA\n",
              "2    Yugoslavia\n",
              "3       Romania\n",
              "4     Argentina\n",
              "Name: Home Team Name, dtype: object"
            ]
          },
          "metadata": {},
          "execution_count": 665
        }
      ]
    },
    {
      "cell_type": "markdown",
      "source": [
        "Wie Ihnen bekannt, enthält die Spalte die jeweilige Heimmannschaft eines Spiels. Wenn wir mit dem Package `sklearn` und den darin verfügbaren ML-Algorithmen arbeiten, müssen wir die Datenstrutkur umwandeln. Dazu nutzen wir die Funktion `get_dummies` wie in der unteren Codezeile dargestellt."
      ],
      "metadata": {
        "id": "Hhb2asCU2TTJ"
      },
      "id": "Hhb2asCU2TTJ"
    },
    {
      "cell_type": "code",
      "source": [
        "pd.get_dummies(example)"
      ],
      "metadata": {
        "id": "fzFH4-tN1YkF",
        "colab": {
          "base_uri": "https://localhost:8080/",
          "height": 204
        },
        "outputId": "2b4b1cf2-9246-49bc-b1f9-b7abe8c3adc9"
      },
      "id": "fzFH4-tN1YkF",
      "execution_count": 666,
      "outputs": [
        {
          "output_type": "execute_result",
          "data": {
            "text/plain": [
              "   Argentina  France  Romania  USA  Yugoslavia\n",
              "0          0       1        0    0           0\n",
              "1          0       0        0    1           0\n",
              "2          0       0        0    0           1\n",
              "3          0       0        1    0           0\n",
              "4          1       0        0    0           0"
            ],
            "text/html": [
              "\n",
              "  <div id=\"df-a627b376-6e2c-44a2-83e7-008b5ae843b7\">\n",
              "    <div class=\"colab-df-container\">\n",
              "      <div>\n",
              "<style scoped>\n",
              "    .dataframe tbody tr th:only-of-type {\n",
              "        vertical-align: middle;\n",
              "    }\n",
              "\n",
              "    .dataframe tbody tr th {\n",
              "        vertical-align: top;\n",
              "    }\n",
              "\n",
              "    .dataframe thead th {\n",
              "        text-align: right;\n",
              "    }\n",
              "</style>\n",
              "<table border=\"1\" class=\"dataframe\">\n",
              "  <thead>\n",
              "    <tr style=\"text-align: right;\">\n",
              "      <th></th>\n",
              "      <th>Argentina</th>\n",
              "      <th>France</th>\n",
              "      <th>Romania</th>\n",
              "      <th>USA</th>\n",
              "      <th>Yugoslavia</th>\n",
              "    </tr>\n",
              "  </thead>\n",
              "  <tbody>\n",
              "    <tr>\n",
              "      <th>0</th>\n",
              "      <td>0</td>\n",
              "      <td>1</td>\n",
              "      <td>0</td>\n",
              "      <td>0</td>\n",
              "      <td>0</td>\n",
              "    </tr>\n",
              "    <tr>\n",
              "      <th>1</th>\n",
              "      <td>0</td>\n",
              "      <td>0</td>\n",
              "      <td>0</td>\n",
              "      <td>1</td>\n",
              "      <td>0</td>\n",
              "    </tr>\n",
              "    <tr>\n",
              "      <th>2</th>\n",
              "      <td>0</td>\n",
              "      <td>0</td>\n",
              "      <td>0</td>\n",
              "      <td>0</td>\n",
              "      <td>1</td>\n",
              "    </tr>\n",
              "    <tr>\n",
              "      <th>3</th>\n",
              "      <td>0</td>\n",
              "      <td>0</td>\n",
              "      <td>1</td>\n",
              "      <td>0</td>\n",
              "      <td>0</td>\n",
              "    </tr>\n",
              "    <tr>\n",
              "      <th>4</th>\n",
              "      <td>1</td>\n",
              "      <td>0</td>\n",
              "      <td>0</td>\n",
              "      <td>0</td>\n",
              "      <td>0</td>\n",
              "    </tr>\n",
              "  </tbody>\n",
              "</table>\n",
              "</div>\n",
              "      <button class=\"colab-df-convert\" onclick=\"convertToInteractive('df-a627b376-6e2c-44a2-83e7-008b5ae843b7')\"\n",
              "              title=\"Convert this dataframe to an interactive table.\"\n",
              "              style=\"display:none;\">\n",
              "        \n",
              "  <svg xmlns=\"http://www.w3.org/2000/svg\" height=\"24px\"viewBox=\"0 0 24 24\"\n",
              "       width=\"24px\">\n",
              "    <path d=\"M0 0h24v24H0V0z\" fill=\"none\"/>\n",
              "    <path d=\"M18.56 5.44l.94 2.06.94-2.06 2.06-.94-2.06-.94-.94-2.06-.94 2.06-2.06.94zm-11 1L8.5 8.5l.94-2.06 2.06-.94-2.06-.94L8.5 2.5l-.94 2.06-2.06.94zm10 10l.94 2.06.94-2.06 2.06-.94-2.06-.94-.94-2.06-.94 2.06-2.06.94z\"/><path d=\"M17.41 7.96l-1.37-1.37c-.4-.4-.92-.59-1.43-.59-.52 0-1.04.2-1.43.59L10.3 9.45l-7.72 7.72c-.78.78-.78 2.05 0 2.83L4 21.41c.39.39.9.59 1.41.59.51 0 1.02-.2 1.41-.59l7.78-7.78 2.81-2.81c.8-.78.8-2.07 0-2.86zM5.41 20L4 18.59l7.72-7.72 1.47 1.35L5.41 20z\"/>\n",
              "  </svg>\n",
              "      </button>\n",
              "      \n",
              "  <style>\n",
              "    .colab-df-container {\n",
              "      display:flex;\n",
              "      flex-wrap:wrap;\n",
              "      gap: 12px;\n",
              "    }\n",
              "\n",
              "    .colab-df-convert {\n",
              "      background-color: #E8F0FE;\n",
              "      border: none;\n",
              "      border-radius: 50%;\n",
              "      cursor: pointer;\n",
              "      display: none;\n",
              "      fill: #1967D2;\n",
              "      height: 32px;\n",
              "      padding: 0 0 0 0;\n",
              "      width: 32px;\n",
              "    }\n",
              "\n",
              "    .colab-df-convert:hover {\n",
              "      background-color: #E2EBFA;\n",
              "      box-shadow: 0px 1px 2px rgba(60, 64, 67, 0.3), 0px 1px 3px 1px rgba(60, 64, 67, 0.15);\n",
              "      fill: #174EA6;\n",
              "    }\n",
              "\n",
              "    [theme=dark] .colab-df-convert {\n",
              "      background-color: #3B4455;\n",
              "      fill: #D2E3FC;\n",
              "    }\n",
              "\n",
              "    [theme=dark] .colab-df-convert:hover {\n",
              "      background-color: #434B5C;\n",
              "      box-shadow: 0px 1px 3px 1px rgba(0, 0, 0, 0.15);\n",
              "      filter: drop-shadow(0px 1px 2px rgba(0, 0, 0, 0.3));\n",
              "      fill: #FFFFFF;\n",
              "    }\n",
              "  </style>\n",
              "\n",
              "      <script>\n",
              "        const buttonEl =\n",
              "          document.querySelector('#df-a627b376-6e2c-44a2-83e7-008b5ae843b7 button.colab-df-convert');\n",
              "        buttonEl.style.display =\n",
              "          google.colab.kernel.accessAllowed ? 'block' : 'none';\n",
              "\n",
              "        async function convertToInteractive(key) {\n",
              "          const element = document.querySelector('#df-a627b376-6e2c-44a2-83e7-008b5ae843b7');\n",
              "          const dataTable =\n",
              "            await google.colab.kernel.invokeFunction('convertToInteractive',\n",
              "                                                     [key], {});\n",
              "          if (!dataTable) return;\n",
              "\n",
              "          const docLinkHtml = 'Like what you see? Visit the ' +\n",
              "            '<a target=\"_blank\" href=https://colab.research.google.com/notebooks/data_table.ipynb>data table notebook</a>'\n",
              "            + ' to learn more about interactive tables.';\n",
              "          element.innerHTML = '';\n",
              "          dataTable['output_type'] = 'display_data';\n",
              "          await google.colab.output.renderOutput(dataTable, element);\n",
              "          const docLink = document.createElement('div');\n",
              "          docLink.innerHTML = docLinkHtml;\n",
              "          element.appendChild(docLink);\n",
              "        }\n",
              "      </script>\n",
              "    </div>\n",
              "  </div>\n",
              "  "
            ]
          },
          "metadata": {},
          "execution_count": 666
        }
      ]
    },
    {
      "cell_type": "markdown",
      "source": [
        "Wir können die Funktion `get_dummies` auf den gesamten Datensatz anwenden und Pandas sucht sich selbst die umzuwandelnden Spalten.\n",
        "\n"
      ],
      "metadata": {
        "id": "FfpwR9Zd22G0"
      },
      "id": "FfpwR9Zd22G0"
    },
    {
      "cell_type": "code",
      "source": [
        "X = pd.get_dummies(X)\n",
        "X.head()"
      ],
      "metadata": {
        "id": "faK9AhsNldxt",
        "colab": {
          "base_uri": "https://localhost:8080/",
          "height": 348
        },
        "outputId": "81e104e0-2e0d-47f2-f130-01d410d1ef67"
      },
      "id": "faK9AhsNldxt",
      "execution_count": 667,
      "outputs": [
        {
          "output_type": "execute_result",
          "data": {
            "text/plain": [
              "   Attendance  Half-time Home Goals  Half-time Away Goals  Hour  \\\n",
              "0      4444.0                   3.0                   0.0    15   \n",
              "1     18346.0                   2.0                   0.0    15   \n",
              "2     24059.0                   2.0                   0.0    12   \n",
              "3      2549.0                   1.0                   0.0    14   \n",
              "4     23409.0                   0.0                   0.0    16   \n",
              "\n",
              "   Half-time Goals  Half-time Goals Difference  Stage_Final  Stage_Group  \\\n",
              "0              3.0                         3.0            0            1   \n",
              "1              2.0                         2.0            0            1   \n",
              "2              2.0                         2.0            0            1   \n",
              "3              1.0                         1.0            0            1   \n",
              "4              0.0                         0.0            0            1   \n",
              "\n",
              "   Stage_Quarter-finals  Stage_Round of 16  ...  \\\n",
              "0                     0                  0  ...   \n",
              "1                     0                  0  ...   \n",
              "2                     0                  0  ...   \n",
              "3                     0                  0  ...   \n",
              "4                     0                  0  ...   \n",
              "\n",
              "   Away Team Name_rn\">Serbia and Montenegro  \\\n",
              "0                                         0   \n",
              "1                                         0   \n",
              "2                                         0   \n",
              "3                                         0   \n",
              "4                                         0   \n",
              "\n",
              "   Away Team Name_rn\">Trinidad and Tobago  \\\n",
              "0                                       0   \n",
              "1                                       0   \n",
              "2                                       0   \n",
              "3                                       0   \n",
              "4                                       0   \n",
              "\n",
              "   Away Team Name_rn\">United Arab Emirates  Weekday_Friday  Weekday_Monday  \\\n",
              "0                                        0               0               0   \n",
              "1                                        0               0               0   \n",
              "2                                        0               0               1   \n",
              "3                                        0               0               1   \n",
              "4                                        0               0               0   \n",
              "\n",
              "   Weekday_Saturday  Weekday_Sunday  Weekday_Thursday  Weekday_Tuesday  \\\n",
              "0                 0               1                 0                0   \n",
              "1                 0               1                 0                0   \n",
              "2                 0               0                 0                0   \n",
              "3                 0               0                 0                0   \n",
              "4                 0               0                 0                1   \n",
              "\n",
              "   Weekday_Wednesday  \n",
              "0                  0  \n",
              "1                  0  \n",
              "2                  0  \n",
              "3                  0  \n",
              "4                  0  \n",
              "\n",
              "[5 rows x 180 columns]"
            ],
            "text/html": [
              "\n",
              "  <div id=\"df-d0fd67df-24d2-4455-ada1-00b6d9a66ff6\">\n",
              "    <div class=\"colab-df-container\">\n",
              "      <div>\n",
              "<style scoped>\n",
              "    .dataframe tbody tr th:only-of-type {\n",
              "        vertical-align: middle;\n",
              "    }\n",
              "\n",
              "    .dataframe tbody tr th {\n",
              "        vertical-align: top;\n",
              "    }\n",
              "\n",
              "    .dataframe thead th {\n",
              "        text-align: right;\n",
              "    }\n",
              "</style>\n",
              "<table border=\"1\" class=\"dataframe\">\n",
              "  <thead>\n",
              "    <tr style=\"text-align: right;\">\n",
              "      <th></th>\n",
              "      <th>Attendance</th>\n",
              "      <th>Half-time Home Goals</th>\n",
              "      <th>Half-time Away Goals</th>\n",
              "      <th>Hour</th>\n",
              "      <th>Half-time Goals</th>\n",
              "      <th>Half-time Goals Difference</th>\n",
              "      <th>Stage_Final</th>\n",
              "      <th>Stage_Group</th>\n",
              "      <th>Stage_Quarter-finals</th>\n",
              "      <th>Stage_Round of 16</th>\n",
              "      <th>...</th>\n",
              "      <th>Away Team Name_rn\"&gt;Serbia and Montenegro</th>\n",
              "      <th>Away Team Name_rn\"&gt;Trinidad and Tobago</th>\n",
              "      <th>Away Team Name_rn\"&gt;United Arab Emirates</th>\n",
              "      <th>Weekday_Friday</th>\n",
              "      <th>Weekday_Monday</th>\n",
              "      <th>Weekday_Saturday</th>\n",
              "      <th>Weekday_Sunday</th>\n",
              "      <th>Weekday_Thursday</th>\n",
              "      <th>Weekday_Tuesday</th>\n",
              "      <th>Weekday_Wednesday</th>\n",
              "    </tr>\n",
              "  </thead>\n",
              "  <tbody>\n",
              "    <tr>\n",
              "      <th>0</th>\n",
              "      <td>4444.0</td>\n",
              "      <td>3.0</td>\n",
              "      <td>0.0</td>\n",
              "      <td>15</td>\n",
              "      <td>3.0</td>\n",
              "      <td>3.0</td>\n",
              "      <td>0</td>\n",
              "      <td>1</td>\n",
              "      <td>0</td>\n",
              "      <td>0</td>\n",
              "      <td>...</td>\n",
              "      <td>0</td>\n",
              "      <td>0</td>\n",
              "      <td>0</td>\n",
              "      <td>0</td>\n",
              "      <td>0</td>\n",
              "      <td>0</td>\n",
              "      <td>1</td>\n",
              "      <td>0</td>\n",
              "      <td>0</td>\n",
              "      <td>0</td>\n",
              "    </tr>\n",
              "    <tr>\n",
              "      <th>1</th>\n",
              "      <td>18346.0</td>\n",
              "      <td>2.0</td>\n",
              "      <td>0.0</td>\n",
              "      <td>15</td>\n",
              "      <td>2.0</td>\n",
              "      <td>2.0</td>\n",
              "      <td>0</td>\n",
              "      <td>1</td>\n",
              "      <td>0</td>\n",
              "      <td>0</td>\n",
              "      <td>...</td>\n",
              "      <td>0</td>\n",
              "      <td>0</td>\n",
              "      <td>0</td>\n",
              "      <td>0</td>\n",
              "      <td>0</td>\n",
              "      <td>0</td>\n",
              "      <td>1</td>\n",
              "      <td>0</td>\n",
              "      <td>0</td>\n",
              "      <td>0</td>\n",
              "    </tr>\n",
              "    <tr>\n",
              "      <th>2</th>\n",
              "      <td>24059.0</td>\n",
              "      <td>2.0</td>\n",
              "      <td>0.0</td>\n",
              "      <td>12</td>\n",
              "      <td>2.0</td>\n",
              "      <td>2.0</td>\n",
              "      <td>0</td>\n",
              "      <td>1</td>\n",
              "      <td>0</td>\n",
              "      <td>0</td>\n",
              "      <td>...</td>\n",
              "      <td>0</td>\n",
              "      <td>0</td>\n",
              "      <td>0</td>\n",
              "      <td>0</td>\n",
              "      <td>1</td>\n",
              "      <td>0</td>\n",
              "      <td>0</td>\n",
              "      <td>0</td>\n",
              "      <td>0</td>\n",
              "      <td>0</td>\n",
              "    </tr>\n",
              "    <tr>\n",
              "      <th>3</th>\n",
              "      <td>2549.0</td>\n",
              "      <td>1.0</td>\n",
              "      <td>0.0</td>\n",
              "      <td>14</td>\n",
              "      <td>1.0</td>\n",
              "      <td>1.0</td>\n",
              "      <td>0</td>\n",
              "      <td>1</td>\n",
              "      <td>0</td>\n",
              "      <td>0</td>\n",
              "      <td>...</td>\n",
              "      <td>0</td>\n",
              "      <td>0</td>\n",
              "      <td>0</td>\n",
              "      <td>0</td>\n",
              "      <td>1</td>\n",
              "      <td>0</td>\n",
              "      <td>0</td>\n",
              "      <td>0</td>\n",
              "      <td>0</td>\n",
              "      <td>0</td>\n",
              "    </tr>\n",
              "    <tr>\n",
              "      <th>4</th>\n",
              "      <td>23409.0</td>\n",
              "      <td>0.0</td>\n",
              "      <td>0.0</td>\n",
              "      <td>16</td>\n",
              "      <td>0.0</td>\n",
              "      <td>0.0</td>\n",
              "      <td>0</td>\n",
              "      <td>1</td>\n",
              "      <td>0</td>\n",
              "      <td>0</td>\n",
              "      <td>...</td>\n",
              "      <td>0</td>\n",
              "      <td>0</td>\n",
              "      <td>0</td>\n",
              "      <td>0</td>\n",
              "      <td>0</td>\n",
              "      <td>0</td>\n",
              "      <td>0</td>\n",
              "      <td>0</td>\n",
              "      <td>1</td>\n",
              "      <td>0</td>\n",
              "    </tr>\n",
              "  </tbody>\n",
              "</table>\n",
              "<p>5 rows × 180 columns</p>\n",
              "</div>\n",
              "      <button class=\"colab-df-convert\" onclick=\"convertToInteractive('df-d0fd67df-24d2-4455-ada1-00b6d9a66ff6')\"\n",
              "              title=\"Convert this dataframe to an interactive table.\"\n",
              "              style=\"display:none;\">\n",
              "        \n",
              "  <svg xmlns=\"http://www.w3.org/2000/svg\" height=\"24px\"viewBox=\"0 0 24 24\"\n",
              "       width=\"24px\">\n",
              "    <path d=\"M0 0h24v24H0V0z\" fill=\"none\"/>\n",
              "    <path d=\"M18.56 5.44l.94 2.06.94-2.06 2.06-.94-2.06-.94-.94-2.06-.94 2.06-2.06.94zm-11 1L8.5 8.5l.94-2.06 2.06-.94-2.06-.94L8.5 2.5l-.94 2.06-2.06.94zm10 10l.94 2.06.94-2.06 2.06-.94-2.06-.94-.94-2.06-.94 2.06-2.06.94z\"/><path d=\"M17.41 7.96l-1.37-1.37c-.4-.4-.92-.59-1.43-.59-.52 0-1.04.2-1.43.59L10.3 9.45l-7.72 7.72c-.78.78-.78 2.05 0 2.83L4 21.41c.39.39.9.59 1.41.59.51 0 1.02-.2 1.41-.59l7.78-7.78 2.81-2.81c.8-.78.8-2.07 0-2.86zM5.41 20L4 18.59l7.72-7.72 1.47 1.35L5.41 20z\"/>\n",
              "  </svg>\n",
              "      </button>\n",
              "      \n",
              "  <style>\n",
              "    .colab-df-container {\n",
              "      display:flex;\n",
              "      flex-wrap:wrap;\n",
              "      gap: 12px;\n",
              "    }\n",
              "\n",
              "    .colab-df-convert {\n",
              "      background-color: #E8F0FE;\n",
              "      border: none;\n",
              "      border-radius: 50%;\n",
              "      cursor: pointer;\n",
              "      display: none;\n",
              "      fill: #1967D2;\n",
              "      height: 32px;\n",
              "      padding: 0 0 0 0;\n",
              "      width: 32px;\n",
              "    }\n",
              "\n",
              "    .colab-df-convert:hover {\n",
              "      background-color: #E2EBFA;\n",
              "      box-shadow: 0px 1px 2px rgba(60, 64, 67, 0.3), 0px 1px 3px 1px rgba(60, 64, 67, 0.15);\n",
              "      fill: #174EA6;\n",
              "    }\n",
              "\n",
              "    [theme=dark] .colab-df-convert {\n",
              "      background-color: #3B4455;\n",
              "      fill: #D2E3FC;\n",
              "    }\n",
              "\n",
              "    [theme=dark] .colab-df-convert:hover {\n",
              "      background-color: #434B5C;\n",
              "      box-shadow: 0px 1px 3px 1px rgba(0, 0, 0, 0.15);\n",
              "      filter: drop-shadow(0px 1px 2px rgba(0, 0, 0, 0.3));\n",
              "      fill: #FFFFFF;\n",
              "    }\n",
              "  </style>\n",
              "\n",
              "      <script>\n",
              "        const buttonEl =\n",
              "          document.querySelector('#df-d0fd67df-24d2-4455-ada1-00b6d9a66ff6 button.colab-df-convert');\n",
              "        buttonEl.style.display =\n",
              "          google.colab.kernel.accessAllowed ? 'block' : 'none';\n",
              "\n",
              "        async function convertToInteractive(key) {\n",
              "          const element = document.querySelector('#df-d0fd67df-24d2-4455-ada1-00b6d9a66ff6');\n",
              "          const dataTable =\n",
              "            await google.colab.kernel.invokeFunction('convertToInteractive',\n",
              "                                                     [key], {});\n",
              "          if (!dataTable) return;\n",
              "\n",
              "          const docLinkHtml = 'Like what you see? Visit the ' +\n",
              "            '<a target=\"_blank\" href=https://colab.research.google.com/notebooks/data_table.ipynb>data table notebook</a>'\n",
              "            + ' to learn more about interactive tables.';\n",
              "          element.innerHTML = '';\n",
              "          dataTable['output_type'] = 'display_data';\n",
              "          await google.colab.output.renderOutput(dataTable, element);\n",
              "          const docLink = document.createElement('div');\n",
              "          docLink.innerHTML = docLinkHtml;\n",
              "          element.appendChild(docLink);\n",
              "        }\n",
              "      </script>\n",
              "    </div>\n",
              "  </div>\n",
              "  "
            ]
          },
          "metadata": {},
          "execution_count": 667
        }
      ]
    },
    {
      "cell_type": "markdown",
      "source": [
        "Bei der Aufteilung der Daten in Test- und Trainingsmenge hilft die Funktion `train_test_split`."
      ],
      "metadata": {
        "id": "iXcdkwur3HZI"
      },
      "id": "iXcdkwur3HZI"
    },
    {
      "cell_type": "code",
      "source": [
        "from sklearn.model_selection import train_test_split"
      ],
      "metadata": {
        "id": "khyiUcYRjdYA"
      },
      "id": "khyiUcYRjdYA",
      "execution_count": 668,
      "outputs": []
    },
    {
      "cell_type": "code",
      "source": [
        "# Training Algorithmus: X_train (Features), y_train (Target)\n",
        "# Test des Algorithmus (Bewertung): X_test, y_test\n",
        "#     1) Algorithmus bekommt Daten (X_test), die er noch nicht kennt & macht Prognose\n",
        "#     2) Vergleich Prognose mit tatsächlichen Werte (y_test) --> Bewertung\n",
        "X_train, X_test, y_train, y_test = train_test_split(X, y, test_size=0.2, random_state=3)"
      ],
      "metadata": {
        "id": "wRR4swbcjkRI"
      },
      "id": "wRR4swbcjkRI",
      "execution_count": 669,
      "outputs": []
    },
    {
      "cell_type": "markdown",
      "source": [
        "**Trainingsdaten:** Das jeweilige ML-Verfahren kennt `y_train` (Target, d.h. Anzahl geschossener Tore) und `X_train` (Features, d.h. die zugehörigen Merkmale des jeweiligen Spiels wie Tore zur Halbzeit etc., die das Target erklären) und versucht einen Zusammenhang zwischen diesen zu lernen!"
      ],
      "metadata": {
        "id": "P7I97YGg3cnt"
      },
      "id": "P7I97YGg3cnt"
    },
    {
      "cell_type": "code",
      "source": [
        "y_train.head()"
      ],
      "metadata": {
        "id": "Wz3QX5_R4tiZ",
        "colab": {
          "base_uri": "https://localhost:8080/"
        },
        "outputId": "fa72bfe8-194e-4e77-8308-f9f4733b195f"
      },
      "id": "Wz3QX5_R4tiZ",
      "execution_count": 670,
      "outputs": [
        {
          "output_type": "execute_result",
          "data": {
            "text/plain": [
              "523    5.0\n",
              "112    5.0\n",
              "661    3.0\n",
              "132    4.0\n",
              "95     2.0\n",
              "Name: Total Goals, dtype: float64"
            ]
          },
          "metadata": {},
          "execution_count": 670
        }
      ]
    },
    {
      "cell_type": "code",
      "source": [
        "X_train.head()"
      ],
      "metadata": {
        "id": "YklfaWPmjm5X",
        "colab": {
          "base_uri": "https://localhost:8080/",
          "height": 348
        },
        "outputId": "21e12973-276e-4990-8bd3-cd7ea2838078"
      },
      "id": "YklfaWPmjm5X",
      "execution_count": 671,
      "outputs": [
        {
          "output_type": "execute_result",
          "data": {
            "text/plain": [
              "     Attendance  Half-time Home Goals  Half-time Away Goals  Hour  \\\n",
              "523     35500.0                   1.0                   1.0    14   \n",
              "112     12217.0                   1.0                   1.0    19   \n",
              "661     50000.0                   1.0                   0.0    15   \n",
              "132     49471.0                   1.0                   1.0    19   \n",
              "95      17000.0                   1.0                   0.0    17   \n",
              "\n",
              "     Half-time Goals  Half-time Goals Difference  Stage_Final  Stage_Group  \\\n",
              "523              2.0                         0.0            0            1   \n",
              "112              2.0                         0.0            0            1   \n",
              "661              1.0                         1.0            0            1   \n",
              "132              2.0                         0.0            0            0   \n",
              "95               1.0                         1.0            0            0   \n",
              "\n",
              "     Stage_Quarter-finals  Stage_Round of 16  ...  \\\n",
              "523                     0                  0  ...   \n",
              "112                     0                  0  ...   \n",
              "661                     0                  0  ...   \n",
              "132                     0                  0  ...   \n",
              "95                      1                  0  ...   \n",
              "\n",
              "     Away Team Name_rn\">Serbia and Montenegro  \\\n",
              "523                                         0   \n",
              "112                                         0   \n",
              "661                                         0   \n",
              "132                                         0   \n",
              "95                                          0   \n",
              "\n",
              "     Away Team Name_rn\">Trinidad and Tobago  \\\n",
              "523                                       0   \n",
              "112                                       0   \n",
              "661                                       0   \n",
              "132                                       0   \n",
              "95                                        0   \n",
              "\n",
              "     Away Team Name_rn\">United Arab Emirates  Weekday_Friday  Weekday_Monday  \\\n",
              "523                                        0               0               0   \n",
              "112                                        0               0               0   \n",
              "661                                        0               0               0   \n",
              "132                                        0               0               0   \n",
              "95                                         0               0               0   \n",
              "\n",
              "     Weekday_Saturday  Weekday_Sunday  Weekday_Thursday  Weekday_Tuesday  \\\n",
              "523                 1               0                 0                0   \n",
              "112                 0               0                 0                0   \n",
              "661                 0               0                 1                0   \n",
              "132                 0               0                 0                1   \n",
              "95                  0               1                 0                0   \n",
              "\n",
              "     Weekday_Wednesday  \n",
              "523                  0  \n",
              "112                  1  \n",
              "661                  0  \n",
              "132                  0  \n",
              "95                   0  \n",
              "\n",
              "[5 rows x 180 columns]"
            ],
            "text/html": [
              "\n",
              "  <div id=\"df-946820c7-4037-460a-aa75-be5c80c20d3d\">\n",
              "    <div class=\"colab-df-container\">\n",
              "      <div>\n",
              "<style scoped>\n",
              "    .dataframe tbody tr th:only-of-type {\n",
              "        vertical-align: middle;\n",
              "    }\n",
              "\n",
              "    .dataframe tbody tr th {\n",
              "        vertical-align: top;\n",
              "    }\n",
              "\n",
              "    .dataframe thead th {\n",
              "        text-align: right;\n",
              "    }\n",
              "</style>\n",
              "<table border=\"1\" class=\"dataframe\">\n",
              "  <thead>\n",
              "    <tr style=\"text-align: right;\">\n",
              "      <th></th>\n",
              "      <th>Attendance</th>\n",
              "      <th>Half-time Home Goals</th>\n",
              "      <th>Half-time Away Goals</th>\n",
              "      <th>Hour</th>\n",
              "      <th>Half-time Goals</th>\n",
              "      <th>Half-time Goals Difference</th>\n",
              "      <th>Stage_Final</th>\n",
              "      <th>Stage_Group</th>\n",
              "      <th>Stage_Quarter-finals</th>\n",
              "      <th>Stage_Round of 16</th>\n",
              "      <th>...</th>\n",
              "      <th>Away Team Name_rn\"&gt;Serbia and Montenegro</th>\n",
              "      <th>Away Team Name_rn\"&gt;Trinidad and Tobago</th>\n",
              "      <th>Away Team Name_rn\"&gt;United Arab Emirates</th>\n",
              "      <th>Weekday_Friday</th>\n",
              "      <th>Weekday_Monday</th>\n",
              "      <th>Weekday_Saturday</th>\n",
              "      <th>Weekday_Sunday</th>\n",
              "      <th>Weekday_Thursday</th>\n",
              "      <th>Weekday_Tuesday</th>\n",
              "      <th>Weekday_Wednesday</th>\n",
              "    </tr>\n",
              "  </thead>\n",
              "  <tbody>\n",
              "    <tr>\n",
              "      <th>523</th>\n",
              "      <td>35500.0</td>\n",
              "      <td>1.0</td>\n",
              "      <td>1.0</td>\n",
              "      <td>14</td>\n",
              "      <td>2.0</td>\n",
              "      <td>0.0</td>\n",
              "      <td>0</td>\n",
              "      <td>1</td>\n",
              "      <td>0</td>\n",
              "      <td>0</td>\n",
              "      <td>...</td>\n",
              "      <td>0</td>\n",
              "      <td>0</td>\n",
              "      <td>0</td>\n",
              "      <td>0</td>\n",
              "      <td>0</td>\n",
              "      <td>1</td>\n",
              "      <td>0</td>\n",
              "      <td>0</td>\n",
              "      <td>0</td>\n",
              "      <td>0</td>\n",
              "    </tr>\n",
              "    <tr>\n",
              "      <th>112</th>\n",
              "      <td>12217.0</td>\n",
              "      <td>1.0</td>\n",
              "      <td>1.0</td>\n",
              "      <td>19</td>\n",
              "      <td>2.0</td>\n",
              "      <td>0.0</td>\n",
              "      <td>0</td>\n",
              "      <td>1</td>\n",
              "      <td>0</td>\n",
              "      <td>0</td>\n",
              "      <td>...</td>\n",
              "      <td>0</td>\n",
              "      <td>0</td>\n",
              "      <td>0</td>\n",
              "      <td>0</td>\n",
              "      <td>0</td>\n",
              "      <td>0</td>\n",
              "      <td>0</td>\n",
              "      <td>0</td>\n",
              "      <td>0</td>\n",
              "      <td>1</td>\n",
              "    </tr>\n",
              "    <tr>\n",
              "      <th>661</th>\n",
              "      <td>50000.0</td>\n",
              "      <td>1.0</td>\n",
              "      <td>0.0</td>\n",
              "      <td>15</td>\n",
              "      <td>1.0</td>\n",
              "      <td>1.0</td>\n",
              "      <td>0</td>\n",
              "      <td>1</td>\n",
              "      <td>0</td>\n",
              "      <td>0</td>\n",
              "      <td>...</td>\n",
              "      <td>0</td>\n",
              "      <td>0</td>\n",
              "      <td>0</td>\n",
              "      <td>0</td>\n",
              "      <td>0</td>\n",
              "      <td>0</td>\n",
              "      <td>0</td>\n",
              "      <td>1</td>\n",
              "      <td>0</td>\n",
              "      <td>0</td>\n",
              "    </tr>\n",
              "    <tr>\n",
              "      <th>132</th>\n",
              "      <td>49471.0</td>\n",
              "      <td>1.0</td>\n",
              "      <td>1.0</td>\n",
              "      <td>19</td>\n",
              "      <td>2.0</td>\n",
              "      <td>0.0</td>\n",
              "      <td>0</td>\n",
              "      <td>0</td>\n",
              "      <td>0</td>\n",
              "      <td>0</td>\n",
              "      <td>...</td>\n",
              "      <td>0</td>\n",
              "      <td>0</td>\n",
              "      <td>0</td>\n",
              "      <td>0</td>\n",
              "      <td>0</td>\n",
              "      <td>0</td>\n",
              "      <td>0</td>\n",
              "      <td>0</td>\n",
              "      <td>1</td>\n",
              "      <td>0</td>\n",
              "    </tr>\n",
              "    <tr>\n",
              "      <th>95</th>\n",
              "      <td>17000.0</td>\n",
              "      <td>1.0</td>\n",
              "      <td>0.0</td>\n",
              "      <td>17</td>\n",
              "      <td>1.0</td>\n",
              "      <td>1.0</td>\n",
              "      <td>0</td>\n",
              "      <td>0</td>\n",
              "      <td>1</td>\n",
              "      <td>0</td>\n",
              "      <td>...</td>\n",
              "      <td>0</td>\n",
              "      <td>0</td>\n",
              "      <td>0</td>\n",
              "      <td>0</td>\n",
              "      <td>0</td>\n",
              "      <td>0</td>\n",
              "      <td>1</td>\n",
              "      <td>0</td>\n",
              "      <td>0</td>\n",
              "      <td>0</td>\n",
              "    </tr>\n",
              "  </tbody>\n",
              "</table>\n",
              "<p>5 rows × 180 columns</p>\n",
              "</div>\n",
              "      <button class=\"colab-df-convert\" onclick=\"convertToInteractive('df-946820c7-4037-460a-aa75-be5c80c20d3d')\"\n",
              "              title=\"Convert this dataframe to an interactive table.\"\n",
              "              style=\"display:none;\">\n",
              "        \n",
              "  <svg xmlns=\"http://www.w3.org/2000/svg\" height=\"24px\"viewBox=\"0 0 24 24\"\n",
              "       width=\"24px\">\n",
              "    <path d=\"M0 0h24v24H0V0z\" fill=\"none\"/>\n",
              "    <path d=\"M18.56 5.44l.94 2.06.94-2.06 2.06-.94-2.06-.94-.94-2.06-.94 2.06-2.06.94zm-11 1L8.5 8.5l.94-2.06 2.06-.94-2.06-.94L8.5 2.5l-.94 2.06-2.06.94zm10 10l.94 2.06.94-2.06 2.06-.94-2.06-.94-.94-2.06-.94 2.06-2.06.94z\"/><path d=\"M17.41 7.96l-1.37-1.37c-.4-.4-.92-.59-1.43-.59-.52 0-1.04.2-1.43.59L10.3 9.45l-7.72 7.72c-.78.78-.78 2.05 0 2.83L4 21.41c.39.39.9.59 1.41.59.51 0 1.02-.2 1.41-.59l7.78-7.78 2.81-2.81c.8-.78.8-2.07 0-2.86zM5.41 20L4 18.59l7.72-7.72 1.47 1.35L5.41 20z\"/>\n",
              "  </svg>\n",
              "      </button>\n",
              "      \n",
              "  <style>\n",
              "    .colab-df-container {\n",
              "      display:flex;\n",
              "      flex-wrap:wrap;\n",
              "      gap: 12px;\n",
              "    }\n",
              "\n",
              "    .colab-df-convert {\n",
              "      background-color: #E8F0FE;\n",
              "      border: none;\n",
              "      border-radius: 50%;\n",
              "      cursor: pointer;\n",
              "      display: none;\n",
              "      fill: #1967D2;\n",
              "      height: 32px;\n",
              "      padding: 0 0 0 0;\n",
              "      width: 32px;\n",
              "    }\n",
              "\n",
              "    .colab-df-convert:hover {\n",
              "      background-color: #E2EBFA;\n",
              "      box-shadow: 0px 1px 2px rgba(60, 64, 67, 0.3), 0px 1px 3px 1px rgba(60, 64, 67, 0.15);\n",
              "      fill: #174EA6;\n",
              "    }\n",
              "\n",
              "    [theme=dark] .colab-df-convert {\n",
              "      background-color: #3B4455;\n",
              "      fill: #D2E3FC;\n",
              "    }\n",
              "\n",
              "    [theme=dark] .colab-df-convert:hover {\n",
              "      background-color: #434B5C;\n",
              "      box-shadow: 0px 1px 3px 1px rgba(0, 0, 0, 0.15);\n",
              "      filter: drop-shadow(0px 1px 2px rgba(0, 0, 0, 0.3));\n",
              "      fill: #FFFFFF;\n",
              "    }\n",
              "  </style>\n",
              "\n",
              "      <script>\n",
              "        const buttonEl =\n",
              "          document.querySelector('#df-946820c7-4037-460a-aa75-be5c80c20d3d button.colab-df-convert');\n",
              "        buttonEl.style.display =\n",
              "          google.colab.kernel.accessAllowed ? 'block' : 'none';\n",
              "\n",
              "        async function convertToInteractive(key) {\n",
              "          const element = document.querySelector('#df-946820c7-4037-460a-aa75-be5c80c20d3d');\n",
              "          const dataTable =\n",
              "            await google.colab.kernel.invokeFunction('convertToInteractive',\n",
              "                                                     [key], {});\n",
              "          if (!dataTable) return;\n",
              "\n",
              "          const docLinkHtml = 'Like what you see? Visit the ' +\n",
              "            '<a target=\"_blank\" href=https://colab.research.google.com/notebooks/data_table.ipynb>data table notebook</a>'\n",
              "            + ' to learn more about interactive tables.';\n",
              "          element.innerHTML = '';\n",
              "          dataTable['output_type'] = 'display_data';\n",
              "          await google.colab.output.renderOutput(dataTable, element);\n",
              "          const docLink = document.createElement('div');\n",
              "          docLink.innerHTML = docLinkHtml;\n",
              "          element.appendChild(docLink);\n",
              "        }\n",
              "      </script>\n",
              "    </div>\n",
              "  </div>\n",
              "  "
            ]
          },
          "metadata": {},
          "execution_count": 671
        }
      ]
    },
    {
      "cell_type": "markdown",
      "source": [
        "### 3.3 Modell auswählen\n",
        "\n",
        "Für Regressions- und Klassifikationsprobleme gibt es eine Unmenge an ML-Verfahren. Eine Übersicht finden Sie [hier](https://scikit-learn.org/stable/). Wir werden das Verfahren `Random Forest` verwenden. Es gehört zu den besten und robustestens Verfahren im Bereich Machine Learning und wird aus diesem Grund häufig in der Praxis eingesetzt."
      ],
      "metadata": {
        "id": "qKXsT51djvLY"
      },
      "id": "qKXsT51djvLY"
    },
    {
      "cell_type": "code",
      "source": [
        "from sklearn.ensemble import RandomForestRegressor"
      ],
      "metadata": {
        "id": "x_31iuj8jvyc"
      },
      "id": "x_31iuj8jvyc",
      "execution_count": 672,
      "outputs": []
    },
    {
      "cell_type": "code",
      "source": [
        "model = RandomForestRegressor()"
      ],
      "metadata": {
        "id": "1GKdd-yxj73L"
      },
      "id": "1GKdd-yxj73L",
      "execution_count": 673,
      "outputs": []
    },
    {
      "cell_type": "markdown",
      "source": [
        "### 3.4 Modell trainieren\n",
        "\n",
        "Das Random Forest Verfahren versucht nun einen Zusammenhang zwischen den Features und dem Target zu lernen und minimiert dabei ein Fehlermaß. In der Grundeinstellung wird die Summe der quadrierten Fehler minimiert, d.h. $∑(y_i - \\hat{y}_i)^2$ mit $y=$Anzahl geschossene Tore Spiel $i$ und $\\hat{y}=$Prognose Anzahl geschossene Tore Spiel $i$."
      ],
      "metadata": {
        "id": "fgPlh3stkFTt"
      },
      "id": "fgPlh3stkFTt"
    },
    {
      "cell_type": "code",
      "source": [
        "model.fit(X_train, y_train)"
      ],
      "metadata": {
        "id": "GjXcrqj0kBqg",
        "colab": {
          "base_uri": "https://localhost:8080/"
        },
        "outputId": "f0cce055-aee3-4cc9-811e-ee79efa04c71"
      },
      "id": "GjXcrqj0kBqg",
      "execution_count": 674,
      "outputs": [
        {
          "output_type": "execute_result",
          "data": {
            "text/plain": [
              "RandomForestRegressor()"
            ]
          },
          "metadata": {},
          "execution_count": 674
        }
      ]
    },
    {
      "cell_type": "markdown",
      "source": [
        "### 3.5 Modell anwenden\n",
        "\n",
        "Zu diesem Zweck nutzen wir nun die **Testdaten**. Das ML-Verfahren erhält die Daten `X_test`, d.h. die Merkmale eines Spiels und wendet die gelernten Zusammenhänge zur Prognose des Targets an, d.h. die Anzahl der geschossenen Tore!"
      ],
      "metadata": {
        "id": "7E0hE8ZGni3Z"
      },
      "id": "7E0hE8ZGni3Z"
    },
    {
      "cell_type": "code",
      "source": [
        "X_test.head()"
      ],
      "metadata": {
        "id": "yAtrJKMVnkT0",
        "colab": {
          "base_uri": "https://localhost:8080/",
          "height": 348
        },
        "outputId": "cd829695-0e40-4a57-d923-1b4ef7e4449a"
      },
      "id": "yAtrJKMVnkT0",
      "execution_count": 675,
      "outputs": [
        {
          "output_type": "execute_result",
          "data": {
            "text/plain": [
              "     Attendance  Half-time Home Goals  Half-time Away Goals  Hour  \\\n",
              "108     10647.0                   1.0                   0.0    19   \n",
              "458     73347.0                   1.0                   0.0    17   \n",
              "201     20654.0                   1.0                   0.0    16   \n",
              "146      9794.0                   2.0                   0.0    15   \n",
              "562     77000.0                   0.0                   1.0    21   \n",
              "\n",
              "     Half-time Goals  Half-time Goals Difference  Stage_Final  Stage_Group  \\\n",
              "108              1.0                         1.0            0            1   \n",
              "458              1.0                         1.0            0            0   \n",
              "201              1.0                         1.0            0            1   \n",
              "146              2.0                         2.0            0            1   \n",
              "562              1.0                         1.0            0            1   \n",
              "\n",
              "     Stage_Quarter-finals  Stage_Round of 16  ...  \\\n",
              "108                     0                  0  ...   \n",
              "458                     1                  0  ...   \n",
              "201                     0                  0  ...   \n",
              "146                     0                  0  ...   \n",
              "562                     0                  0  ...   \n",
              "\n",
              "     Away Team Name_rn\">Serbia and Montenegro  \\\n",
              "108                                         0   \n",
              "458                                         0   \n",
              "201                                         0   \n",
              "146                                         0   \n",
              "562                                         0   \n",
              "\n",
              "     Away Team Name_rn\">Trinidad and Tobago  \\\n",
              "108                                       0   \n",
              "458                                       0   \n",
              "201                                       0   \n",
              "146                                       0   \n",
              "562                                       0   \n",
              "\n",
              "     Away Team Name_rn\">United Arab Emirates  Weekday_Friday  Weekday_Monday  \\\n",
              "108                                        0               0               0   \n",
              "458                                        0               0               0   \n",
              "201                                        0               0               0   \n",
              "146                                        0               0               0   \n",
              "562                                        0               1               0   \n",
              "\n",
              "     Weekday_Saturday  Weekday_Sunday  Weekday_Thursday  Weekday_Tuesday  \\\n",
              "108                 0               1                 0                0   \n",
              "458                 0               1                 0                0   \n",
              "201                 0               0                 0                1   \n",
              "146                 1               0                 0                0   \n",
              "562                 0               0                 0                0   \n",
              "\n",
              "     Weekday_Wednesday  \n",
              "108                  0  \n",
              "458                  0  \n",
              "201                  0  \n",
              "146                  0  \n",
              "562                  0  \n",
              "\n",
              "[5 rows x 180 columns]"
            ],
            "text/html": [
              "\n",
              "  <div id=\"df-51d6f620-b55d-4950-bbc4-2b188f8614d5\">\n",
              "    <div class=\"colab-df-container\">\n",
              "      <div>\n",
              "<style scoped>\n",
              "    .dataframe tbody tr th:only-of-type {\n",
              "        vertical-align: middle;\n",
              "    }\n",
              "\n",
              "    .dataframe tbody tr th {\n",
              "        vertical-align: top;\n",
              "    }\n",
              "\n",
              "    .dataframe thead th {\n",
              "        text-align: right;\n",
              "    }\n",
              "</style>\n",
              "<table border=\"1\" class=\"dataframe\">\n",
              "  <thead>\n",
              "    <tr style=\"text-align: right;\">\n",
              "      <th></th>\n",
              "      <th>Attendance</th>\n",
              "      <th>Half-time Home Goals</th>\n",
              "      <th>Half-time Away Goals</th>\n",
              "      <th>Hour</th>\n",
              "      <th>Half-time Goals</th>\n",
              "      <th>Half-time Goals Difference</th>\n",
              "      <th>Stage_Final</th>\n",
              "      <th>Stage_Group</th>\n",
              "      <th>Stage_Quarter-finals</th>\n",
              "      <th>Stage_Round of 16</th>\n",
              "      <th>...</th>\n",
              "      <th>Away Team Name_rn\"&gt;Serbia and Montenegro</th>\n",
              "      <th>Away Team Name_rn\"&gt;Trinidad and Tobago</th>\n",
              "      <th>Away Team Name_rn\"&gt;United Arab Emirates</th>\n",
              "      <th>Weekday_Friday</th>\n",
              "      <th>Weekday_Monday</th>\n",
              "      <th>Weekday_Saturday</th>\n",
              "      <th>Weekday_Sunday</th>\n",
              "      <th>Weekday_Thursday</th>\n",
              "      <th>Weekday_Tuesday</th>\n",
              "      <th>Weekday_Wednesday</th>\n",
              "    </tr>\n",
              "  </thead>\n",
              "  <tbody>\n",
              "    <tr>\n",
              "      <th>108</th>\n",
              "      <td>10647.0</td>\n",
              "      <td>1.0</td>\n",
              "      <td>0.0</td>\n",
              "      <td>19</td>\n",
              "      <td>1.0</td>\n",
              "      <td>1.0</td>\n",
              "      <td>0</td>\n",
              "      <td>1</td>\n",
              "      <td>0</td>\n",
              "      <td>0</td>\n",
              "      <td>...</td>\n",
              "      <td>0</td>\n",
              "      <td>0</td>\n",
              "      <td>0</td>\n",
              "      <td>0</td>\n",
              "      <td>0</td>\n",
              "      <td>0</td>\n",
              "      <td>1</td>\n",
              "      <td>0</td>\n",
              "      <td>0</td>\n",
              "      <td>0</td>\n",
              "    </tr>\n",
              "    <tr>\n",
              "      <th>458</th>\n",
              "      <td>73347.0</td>\n",
              "      <td>1.0</td>\n",
              "      <td>0.0</td>\n",
              "      <td>17</td>\n",
              "      <td>1.0</td>\n",
              "      <td>1.0</td>\n",
              "      <td>0</td>\n",
              "      <td>0</td>\n",
              "      <td>1</td>\n",
              "      <td>0</td>\n",
              "      <td>...</td>\n",
              "      <td>0</td>\n",
              "      <td>0</td>\n",
              "      <td>0</td>\n",
              "      <td>0</td>\n",
              "      <td>0</td>\n",
              "      <td>0</td>\n",
              "      <td>1</td>\n",
              "      <td>0</td>\n",
              "      <td>0</td>\n",
              "      <td>0</td>\n",
              "    </tr>\n",
              "    <tr>\n",
              "      <th>201</th>\n",
              "      <td>20654.0</td>\n",
              "      <td>1.0</td>\n",
              "      <td>0.0</td>\n",
              "      <td>16</td>\n",
              "      <td>1.0</td>\n",
              "      <td>1.0</td>\n",
              "      <td>0</td>\n",
              "      <td>1</td>\n",
              "      <td>0</td>\n",
              "      <td>0</td>\n",
              "      <td>...</td>\n",
              "      <td>0</td>\n",
              "      <td>0</td>\n",
              "      <td>0</td>\n",
              "      <td>0</td>\n",
              "      <td>0</td>\n",
              "      <td>0</td>\n",
              "      <td>0</td>\n",
              "      <td>0</td>\n",
              "      <td>1</td>\n",
              "      <td>0</td>\n",
              "    </tr>\n",
              "    <tr>\n",
              "      <th>146</th>\n",
              "      <td>9794.0</td>\n",
              "      <td>2.0</td>\n",
              "      <td>0.0</td>\n",
              "      <td>15</td>\n",
              "      <td>2.0</td>\n",
              "      <td>2.0</td>\n",
              "      <td>0</td>\n",
              "      <td>1</td>\n",
              "      <td>0</td>\n",
              "      <td>0</td>\n",
              "      <td>...</td>\n",
              "      <td>0</td>\n",
              "      <td>0</td>\n",
              "      <td>0</td>\n",
              "      <td>0</td>\n",
              "      <td>0</td>\n",
              "      <td>1</td>\n",
              "      <td>0</td>\n",
              "      <td>0</td>\n",
              "      <td>0</td>\n",
              "      <td>0</td>\n",
              "    </tr>\n",
              "    <tr>\n",
              "      <th>562</th>\n",
              "      <td>77000.0</td>\n",
              "      <td>0.0</td>\n",
              "      <td>1.0</td>\n",
              "      <td>21</td>\n",
              "      <td>1.0</td>\n",
              "      <td>1.0</td>\n",
              "      <td>0</td>\n",
              "      <td>1</td>\n",
              "      <td>0</td>\n",
              "      <td>0</td>\n",
              "      <td>...</td>\n",
              "      <td>0</td>\n",
              "      <td>0</td>\n",
              "      <td>0</td>\n",
              "      <td>1</td>\n",
              "      <td>0</td>\n",
              "      <td>0</td>\n",
              "      <td>0</td>\n",
              "      <td>0</td>\n",
              "      <td>0</td>\n",
              "      <td>0</td>\n",
              "    </tr>\n",
              "  </tbody>\n",
              "</table>\n",
              "<p>5 rows × 180 columns</p>\n",
              "</div>\n",
              "      <button class=\"colab-df-convert\" onclick=\"convertToInteractive('df-51d6f620-b55d-4950-bbc4-2b188f8614d5')\"\n",
              "              title=\"Convert this dataframe to an interactive table.\"\n",
              "              style=\"display:none;\">\n",
              "        \n",
              "  <svg xmlns=\"http://www.w3.org/2000/svg\" height=\"24px\"viewBox=\"0 0 24 24\"\n",
              "       width=\"24px\">\n",
              "    <path d=\"M0 0h24v24H0V0z\" fill=\"none\"/>\n",
              "    <path d=\"M18.56 5.44l.94 2.06.94-2.06 2.06-.94-2.06-.94-.94-2.06-.94 2.06-2.06.94zm-11 1L8.5 8.5l.94-2.06 2.06-.94-2.06-.94L8.5 2.5l-.94 2.06-2.06.94zm10 10l.94 2.06.94-2.06 2.06-.94-2.06-.94-.94-2.06-.94 2.06-2.06.94z\"/><path d=\"M17.41 7.96l-1.37-1.37c-.4-.4-.92-.59-1.43-.59-.52 0-1.04.2-1.43.59L10.3 9.45l-7.72 7.72c-.78.78-.78 2.05 0 2.83L4 21.41c.39.39.9.59 1.41.59.51 0 1.02-.2 1.41-.59l7.78-7.78 2.81-2.81c.8-.78.8-2.07 0-2.86zM5.41 20L4 18.59l7.72-7.72 1.47 1.35L5.41 20z\"/>\n",
              "  </svg>\n",
              "      </button>\n",
              "      \n",
              "  <style>\n",
              "    .colab-df-container {\n",
              "      display:flex;\n",
              "      flex-wrap:wrap;\n",
              "      gap: 12px;\n",
              "    }\n",
              "\n",
              "    .colab-df-convert {\n",
              "      background-color: #E8F0FE;\n",
              "      border: none;\n",
              "      border-radius: 50%;\n",
              "      cursor: pointer;\n",
              "      display: none;\n",
              "      fill: #1967D2;\n",
              "      height: 32px;\n",
              "      padding: 0 0 0 0;\n",
              "      width: 32px;\n",
              "    }\n",
              "\n",
              "    .colab-df-convert:hover {\n",
              "      background-color: #E2EBFA;\n",
              "      box-shadow: 0px 1px 2px rgba(60, 64, 67, 0.3), 0px 1px 3px 1px rgba(60, 64, 67, 0.15);\n",
              "      fill: #174EA6;\n",
              "    }\n",
              "\n",
              "    [theme=dark] .colab-df-convert {\n",
              "      background-color: #3B4455;\n",
              "      fill: #D2E3FC;\n",
              "    }\n",
              "\n",
              "    [theme=dark] .colab-df-convert:hover {\n",
              "      background-color: #434B5C;\n",
              "      box-shadow: 0px 1px 3px 1px rgba(0, 0, 0, 0.15);\n",
              "      filter: drop-shadow(0px 1px 2px rgba(0, 0, 0, 0.3));\n",
              "      fill: #FFFFFF;\n",
              "    }\n",
              "  </style>\n",
              "\n",
              "      <script>\n",
              "        const buttonEl =\n",
              "          document.querySelector('#df-51d6f620-b55d-4950-bbc4-2b188f8614d5 button.colab-df-convert');\n",
              "        buttonEl.style.display =\n",
              "          google.colab.kernel.accessAllowed ? 'block' : 'none';\n",
              "\n",
              "        async function convertToInteractive(key) {\n",
              "          const element = document.querySelector('#df-51d6f620-b55d-4950-bbc4-2b188f8614d5');\n",
              "          const dataTable =\n",
              "            await google.colab.kernel.invokeFunction('convertToInteractive',\n",
              "                                                     [key], {});\n",
              "          if (!dataTable) return;\n",
              "\n",
              "          const docLinkHtml = 'Like what you see? Visit the ' +\n",
              "            '<a target=\"_blank\" href=https://colab.research.google.com/notebooks/data_table.ipynb>data table notebook</a>'\n",
              "            + ' to learn more about interactive tables.';\n",
              "          element.innerHTML = '';\n",
              "          dataTable['output_type'] = 'display_data';\n",
              "          await google.colab.output.renderOutput(dataTable, element);\n",
              "          const docLink = document.createElement('div');\n",
              "          docLink.innerHTML = docLinkHtml;\n",
              "          element.appendChild(docLink);\n",
              "        }\n",
              "      </script>\n",
              "    </div>\n",
              "  </div>\n",
              "  "
            ]
          },
          "metadata": {},
          "execution_count": 675
        }
      ]
    },
    {
      "cell_type": "code",
      "source": [
        "y_pred = model.predict(X_test)\n",
        "y_pred"
      ],
      "metadata": {
        "id": "B3ORn3munk4C",
        "colab": {
          "base_uri": "https://localhost:8080/"
        },
        "outputId": "de6e5e51-6d75-4974-e27d-b5a258af7484"
      },
      "id": "B3ORn3munk4C",
      "execution_count": 676,
      "outputs": [
        {
          "output_type": "execute_result",
          "data": {
            "text/plain": [
              "array([2.19, 2.68, 2.09, 4.16, 1.65, 3.31, 3.72, 5.9 , 2.38, 3.78, 1.77,\n",
              "       3.23, 4.14, 4.66, 5.31, 1.18, 3.68, 1.23, 3.37, 2.72, 1.84, 1.36,\n",
              "       1.78, 1.47, 2.89, 2.33, 2.68, 1.14, 0.84, 2.38, 6.62, 1.74, 2.3 ,\n",
              "       2.43, 1.85, 5.69, 1.46, 1.73, 3.65, 2.22, 1.08, 0.77, 5.45, 1.62,\n",
              "       1.16, 1.35, 6.14, 4.76, 5.97, 2.02, 1.48, 2.19, 2.57, 3.59, 2.91,\n",
              "       2.88, 2.03, 2.01, 2.14, 3.26, 5.95, 2.67, 0.99, 1.6 , 2.35, 1.74,\n",
              "       1.41, 0.95, 2.19, 5.98, 3.8 , 1.95, 6.77, 1.81, 2.74, 5.51, 1.87,\n",
              "       1.83, 1.05, 1.37, 3.4 , 0.64, 2.41, 2.18, 7.41, 2.53, 2.72, 3.82,\n",
              "       2.79, 0.8 , 3.97, 1.78, 3.81, 6.05, 5.47, 1.57, 1.96, 2.58, 1.19,\n",
              "       4.01, 4.53, 3.13, 1.83, 3.8 , 2.45, 1.53, 3.65, 2.14, 4.19, 4.14,\n",
              "       1.19, 4.6 , 5.18, 1.79, 3.03, 2.42, 1.94, 2.13, 3.17, 1.17, 5.71,\n",
              "       2.54, 4.18, 6.55, 1.24, 1.15, 4.24, 2.32, 1.92, 3.45, 2.32, 1.16,\n",
              "       5.87, 5.16, 1.92, 3.49, 1.81, 3.28, 2.97, 5.41, 6.75, 1.94, 7.19,\n",
              "       1.18, 3.18, 0.87, 1.86, 1.01, 1.77, 1.12, 2.37, 1.01, 1.75, 2.01,\n",
              "       2.11, 1.2 , 2.16, 2.34, 1.99, 2.49, 2.24, 1.43, 0.88, 1.79, 0.84,\n",
              "       3.06, 1.07, 2.96, 1.44, 0.82])"
            ]
          },
          "metadata": {},
          "execution_count": 676
        }
      ]
    },
    {
      "cell_type": "markdown",
      "source": [
        "### 3.6 Modell evaluieren\n",
        "\n",
        "Nachdem nun Prognosewerte durch das angelernte Verfahren berechnet wurden, können wir diese mit den tatsächlichen Werten des Target, also der tatsächlichen Anzahl der geschossenen Tore vergleichen (`y_test`). Daraus können wir dann die Güte eines Verfahrens ableiten!"
      ],
      "metadata": {
        "id": "NpGLXSFInywW"
      },
      "id": "NpGLXSFInywW"
    },
    {
      "cell_type": "code",
      "source": [
        "import sklearn.metrics"
      ],
      "metadata": {
        "id": "oDUAdVbAnp-n"
      },
      "id": "oDUAdVbAnp-n",
      "execution_count": 677,
      "outputs": []
    },
    {
      "cell_type": "code",
      "source": [
        "# Genauigkeit des Modells auf der Testmenge \n",
        "sklearn.metrics.mean_absolute_error(y_test, y_pred)"
      ],
      "metadata": {
        "id": "8qwInLdwn1mF",
        "colab": {
          "base_uri": "https://localhost:8080/"
        },
        "outputId": "e28a436e-bdf2-48ee-b8be-3334da25a3cc"
      },
      "id": "8qwInLdwn1mF",
      "execution_count": 678,
      "outputs": [
        {
          "output_type": "execute_result",
          "data": {
            "text/plain": [
              "1.213529411764706"
            ]
          },
          "metadata": {},
          "execution_count": 678
        }
      ]
    },
    {
      "cell_type": "code",
      "source": [
        "(y_test - y_pred).plot(\n",
        "    kind=\"hist\",\n",
        "    title= \"Histogramm Prognosefehler\",\n",
        "    figsize=(8,4),\n",
        "    color=\"c\",\n",
        "    edgecolor='k',\n",
        "    density=True,\n",
        "    alpha=0.8    \n",
        "    )\n",
        "plt.show()"
      ],
      "metadata": {
        "id": "ZdlgU01hoYfI",
        "colab": {
          "base_uri": "https://localhost:8080/",
          "height": 281
        },
        "outputId": "c3ee94ef-1908-46b3-cbca-e94b3f0d2b07"
      },
      "id": "ZdlgU01hoYfI",
      "execution_count": 679,
      "outputs": [
        {
          "output_type": "display_data",
          "data": {
            "text/plain": [
              "<Figure size 576x288 with 1 Axes>"
            ],
            "image/png": "[encoded data removed]"
          },
          "metadata": {
            "needs_background": "light"
          }
        }
      ]
    },
    {
      "cell_type": "markdown",
      "source": [
        "### Übung Machine Learning Modell mit Track & Trace Daten <a class=\"anchor\" id=\"tt_ml\"></a>\n",
        "\n",
        "Sie haben nun erfolgreich eine erste Analyse der Track & Trace Daten gemacht. Sie sollen nun versuchen, die Transportzeit von den europäischen Häfen zum Werk in den USA mithilfe von ML-Verfahren zu prognostizieren. Sollte dies gut gelingen, ist das die Grundlage um die Versorgungssicherheit zu erhöhen und Bestände im Werk zu reduzieren.\n",
        "\n",
        "Nachfolgend finden Sie die relevanten Daten mit entsprechender Filterung. Gehen Sie nun die Schritte `1-6` aus dem Kapitel \"Training eines ML-Verfahrens\" durch und wenden Sie es analog auf die Track & Trace Daten an."
      ],
      "metadata": {
        "id": "c9J_T7VPMQna"
      },
      "id": "c9J_T7VPMQna"
    },
    {
      "cell_type": "code",
      "source": [
        "df = df[df[\"EventName\"]==\"Loading Ship\"]\n",
        "df.head()"
      ],
      "metadata": {
        "id": "Rv500VACMP2_",
        "colab": {
          "base_uri": "https://localhost:8080/",
          "height": 421
        },
        "outputId": "db158582-c879-4ec6-99da-220c2b0699f0"
      },
      "id": "Rv500VACMP2_",
      "execution_count": 680,
      "outputs": [
        {
          "output_type": "execute_result",
          "data": {
            "text/plain": [
              "   ContainerNumber  ShipmentNumber     EventName            EventTime  \\\n",
              "0      HLXU8170197         4868820  Loading Ship  2018-07-04 13:58:00   \n",
              "10     TCNU9520816         4875096  Loading Ship  2018-07-04 07:40:00   \n",
              "20     FCIU7037104         4875783  Loading Ship  2018-07-04 07:36:00   \n",
              "26     TCKU9338469         4876281  Loading Ship  2018-07-04 07:46:00   \n",
              "33     UACU5380472         4878162  Loading Ship  2018-09-04 21:20:00   \n",
              "\n",
              "        EventLocation          VesselName  Time2Arrival  \\\n",
              "0     Hafen Rotterdam         NYK ROMULUS           125   \n",
              "10  Hafen Bremerhaven  CHARLESTON EXPRESS           129   \n",
              "20  Hafen Bremerhaven  CHARLESTON EXPRESS            66   \n",
              "26  Hafen Bremerhaven  CHARLESTON EXPRESS            53   \n",
              "33  Hafen Bremerhaven    YORKTOWN EXPRESS            53   \n",
              "\n",
              "                      EventCombined EventTimeMonth EventTimeDay  \n",
              "0     Loading Ship, Hafen Rotterdam           July    Wednesday  \n",
              "10  Loading Ship, Hafen Bremerhaven           July    Wednesday  \n",
              "20  Loading Ship, Hafen Bremerhaven           July    Wednesday  \n",
              "26  Loading Ship, Hafen Bremerhaven           July    Wednesday  \n",
              "33  Loading Ship, Hafen Bremerhaven      September      Tuesday  "
            ],
            "text/html": [
              "\n",
              "  <div id=\"df-f86861b2-0c63-4fc7-a75b-81c3b1e39b9d\">\n",
              "    <div class=\"colab-df-container\">\n",
              "      <div>\n",
              "<style scoped>\n",
              "    .dataframe tbody tr th:only-of-type {\n",
              "        vertical-align: middle;\n",
              "    }\n",
              "\n",
              "    .dataframe tbody tr th {\n",
              "        vertical-align: top;\n",
              "    }\n",
              "\n",
              "    .dataframe thead th {\n",
              "        text-align: right;\n",
              "    }\n",
              "</style>\n",
              "<table border=\"1\" class=\"dataframe\">\n",
              "  <thead>\n",
              "    <tr style=\"text-align: right;\">\n",
              "      <th></th>\n",
              "      <th>ContainerNumber</th>\n",
              "      <th>ShipmentNumber</th>\n",
              "      <th>EventName</th>\n",
              "      <th>EventTime</th>\n",
              "      <th>EventLocation</th>\n",
              "      <th>VesselName</th>\n",
              "      <th>Time2Arrival</th>\n",
              "      <th>EventCombined</th>\n",
              "      <th>EventTimeMonth</th>\n",
              "      <th>EventTimeDay</th>\n",
              "    </tr>\n",
              "  </thead>\n",
              "  <tbody>\n",
              "    <tr>\n",
              "      <th>0</th>\n",
              "      <td>HLXU8170197</td>\n",
              "      <td>4868820</td>\n",
              "      <td>Loading Ship</td>\n",
              "      <td>2018-07-04 13:58:00</td>\n",
              "      <td>Hafen Rotterdam</td>\n",
              "      <td>NYK ROMULUS</td>\n",
              "      <td>125</td>\n",
              "      <td>Loading Ship, Hafen Rotterdam</td>\n",
              "      <td>July</td>\n",
              "      <td>Wednesday</td>\n",
              "    </tr>\n",
              "    <tr>\n",
              "      <th>10</th>\n",
              "      <td>TCNU9520816</td>\n",
              "      <td>4875096</td>\n",
              "      <td>Loading Ship</td>\n",
              "      <td>2018-07-04 07:40:00</td>\n",
              "      <td>Hafen Bremerhaven</td>\n",
              "      <td>CHARLESTON EXPRESS</td>\n",
              "      <td>129</td>\n",
              "      <td>Loading Ship, Hafen Bremerhaven</td>\n",
              "      <td>July</td>\n",
              "      <td>Wednesday</td>\n",
              "    </tr>\n",
              "    <tr>\n",
              "      <th>20</th>\n",
              "      <td>FCIU7037104</td>\n",
              "      <td>4875783</td>\n",
              "      <td>Loading Ship</td>\n",
              "      <td>2018-07-04 07:36:00</td>\n",
              "      <td>Hafen Bremerhaven</td>\n",
              "      <td>CHARLESTON EXPRESS</td>\n",
              "      <td>66</td>\n",
              "      <td>Loading Ship, Hafen Bremerhaven</td>\n",
              "      <td>July</td>\n",
              "      <td>Wednesday</td>\n",
              "    </tr>\n",
              "    <tr>\n",
              "      <th>26</th>\n",
              "      <td>TCKU9338469</td>\n",
              "      <td>4876281</td>\n",
              "      <td>Loading Ship</td>\n",
              "      <td>2018-07-04 07:46:00</td>\n",
              "      <td>Hafen Bremerhaven</td>\n",
              "      <td>CHARLESTON EXPRESS</td>\n",
              "      <td>53</td>\n",
              "      <td>Loading Ship, Hafen Bremerhaven</td>\n",
              "      <td>July</td>\n",
              "      <td>Wednesday</td>\n",
              "    </tr>\n",
              "    <tr>\n",
              "      <th>33</th>\n",
              "      <td>UACU5380472</td>\n",
              "      <td>4878162</td>\n",
              "      <td>Loading Ship</td>\n",
              "      <td>2018-09-04 21:20:00</td>\n",
              "      <td>Hafen Bremerhaven</td>\n",
              "      <td>YORKTOWN EXPRESS</td>\n",
              "      <td>53</td>\n",
              "      <td>Loading Ship, Hafen Bremerhaven</td>\n",
              "      <td>September</td>\n",
              "      <td>Tuesday</td>\n",
              "    </tr>\n",
              "  </tbody>\n",
              "</table>\n",
              "</div>\n",
              "      <button class=\"colab-df-convert\" onclick=\"convertToInteractive('df-f86861b2-0c63-4fc7-a75b-81c3b1e39b9d')\"\n",
              "              title=\"Convert this dataframe to an interactive table.\"\n",
              "              style=\"display:none;\">\n",
              "        \n",
              "  <svg xmlns=\"http://www.w3.org/2000/svg\" height=\"24px\"viewBox=\"0 0 24 24\"\n",
              "       width=\"24px\">\n",
              "    <path d=\"M0 0h24v24H0V0z\" fill=\"none\"/>\n",
              "    <path d=\"M18.56 5.44l.94 2.06.94-2.06 2.06-.94-2.06-.94-.94-2.06-.94 2.06-2.06.94zm-11 1L8.5 8.5l.94-2.06 2.06-.94-2.06-.94L8.5 2.5l-.94 2.06-2.06.94zm10 10l.94 2.06.94-2.06 2.06-.94-2.06-.94-.94-2.06-.94 2.06-2.06.94z\"/><path d=\"M17.41 7.96l-1.37-1.37c-.4-.4-.92-.59-1.43-.59-.52 0-1.04.2-1.43.59L10.3 9.45l-7.72 7.72c-.78.78-.78 2.05 0 2.83L4 21.41c.39.39.9.59 1.41.59.51 0 1.02-.2 1.41-.59l7.78-7.78 2.81-2.81c.8-.78.8-2.07 0-2.86zM5.41 20L4 18.59l7.72-7.72 1.47 1.35L5.41 20z\"/>\n",
              "  </svg>\n",
              "      </button>\n",
              "      \n",
              "  <style>\n",
              "    .colab-df-container {\n",
              "      display:flex;\n",
              "      flex-wrap:wrap;\n",
              "      gap: 12px;\n",
              "    }\n",
              "\n",
              "    .colab-df-convert {\n",
              "      background-color: #E8F0FE;\n",
              "      border: none;\n",
              "      border-radius: 50%;\n",
              "      cursor: pointer;\n",
              "      display: none;\n",
              "      fill: #1967D2;\n",
              "      height: 32px;\n",
              "      padding: 0 0 0 0;\n",
              "      width: 32px;\n",
              "    }\n",
              "\n",
              "    .colab-df-convert:hover {\n",
              "      background-color: #E2EBFA;\n",
              "      box-shadow: 0px 1px 2px rgba(60, 64, 67, 0.3), 0px 1px 3px 1px rgba(60, 64, 67, 0.15);\n",
              "      fill: #174EA6;\n",
              "    }\n",
              "\n",
              "    [theme=dark] .colab-df-convert {\n",
              "      background-color: #3B4455;\n",
              "      fill: #D2E3FC;\n",
              "    }\n",
              "\n",
              "    [theme=dark] .colab-df-convert:hover {\n",
              "      background-color: #434B5C;\n",
              "      box-shadow: 0px 1px 3px 1px rgba(0, 0, 0, 0.15);\n",
              "      filter: drop-shadow(0px 1px 2px rgba(0, 0, 0, 0.3));\n",
              "      fill: #FFFFFF;\n",
              "    }\n",
              "  </style>\n",
              "\n",
              "      <script>\n",
              "        const buttonEl =\n",
              "          document.querySelector('#df-f86861b2-0c63-4fc7-a75b-81c3b1e39b9d button.colab-df-convert');\n",
              "        buttonEl.style.display =\n",
              "          google.colab.kernel.accessAllowed ? 'block' : 'none';\n",
              "\n",
              "        async function convertToInteractive(key) {\n",
              "          const element = document.querySelector('#df-f86861b2-0c63-4fc7-a75b-81c3b1e39b9d');\n",
              "          const dataTable =\n",
              "            await google.colab.kernel.invokeFunction('convertToInteractive',\n",
              "                                                     [key], {});\n",
              "          if (!dataTable) return;\n",
              "\n",
              "          const docLinkHtml = 'Like what you see? Visit the ' +\n",
              "            '<a target=\"_blank\" href=https://colab.research.google.com/notebooks/data_table.ipynb>data table notebook</a>'\n",
              "            + ' to learn more about interactive tables.';\n",
              "          element.innerHTML = '';\n",
              "          dataTable['output_type'] = 'display_data';\n",
              "          await google.colab.output.renderOutput(dataTable, element);\n",
              "          const docLink = document.createElement('div');\n",
              "          docLink.innerHTML = docLinkHtml;\n",
              "          element.appendChild(docLink);\n",
              "        }\n",
              "      </script>\n",
              "    </div>\n",
              "  </div>\n",
              "  "
            ]
          },
          "metadata": {},
          "execution_count": 680
        }
      ]
    },
    {
      "cell_type": "code",
      "source": [
        "irrelevant = [\"ContainerNumber\",\"ShipmentNumber\", \"EventTime\", \"EventCombined\"]\n",
        "df.drop(columns=irrelevant, inplace=True)"
      ],
      "metadata": {
        "id": "nw5WAc82BHJ9",
        "colab": {
          "base_uri": "https://localhost:8080/"
        },
        "outputId": "797cafe7-54cf-43a8-faf1-a5f0425ffc05"
      },
      "id": "nw5WAc82BHJ9",
      "execution_count": 681,
      "outputs": [
        {
          "output_type": "stream",
          "name": "stderr",
          "text": [
            "/usr/local/lib/python3.7/dist-packages/pandas/core/frame.py:4913: SettingWithCopyWarning: \n",
            "A value is trying to be set on a copy of a slice from a DataFrame\n",
            "\n",
            "See the caveats in the documentation: https://pandas.pydata.org/pandas-docs/stable/user_guide/indexing.html#returning-a-view-versus-a-copy\n",
            "  errors=errors,\n"
          ]
        }
      ]
    },
    {
      "cell_type": "code",
      "source": [
        "df.head()"
      ],
      "metadata": {
        "id": "kbnOs-Sep99J",
        "colab": {
          "base_uri": "https://localhost:8080/",
          "height": 204
        },
        "outputId": "64addbd9-c5f7-4271-ef1a-ae5dba115f44"
      },
      "id": "kbnOs-Sep99J",
      "execution_count": 682,
      "outputs": [
        {
          "output_type": "execute_result",
          "data": {
            "text/plain": [
              "       EventName      EventLocation          VesselName  Time2Arrival  \\\n",
              "0   Loading Ship    Hafen Rotterdam         NYK ROMULUS           125   \n",
              "10  Loading Ship  Hafen Bremerhaven  CHARLESTON EXPRESS           129   \n",
              "20  Loading Ship  Hafen Bremerhaven  CHARLESTON EXPRESS            66   \n",
              "26  Loading Ship  Hafen Bremerhaven  CHARLESTON EXPRESS            53   \n",
              "33  Loading Ship  Hafen Bremerhaven    YORKTOWN EXPRESS            53   \n",
              "\n",
              "   EventTimeMonth EventTimeDay  \n",
              "0            July    Wednesday  \n",
              "10           July    Wednesday  \n",
              "20           July    Wednesday  \n",
              "26           July    Wednesday  \n",
              "33      September      Tuesday  "
            ],
            "text/html": [
              "\n",
              "  <div id=\"df-6b075c24-d75c-4de8-b0dc-f1e4214ee219\">\n",
              "    <div class=\"colab-df-container\">\n",
              "      <div>\n",
              "<style scoped>\n",
              "    .dataframe tbody tr th:only-of-type {\n",
              "        vertical-align: middle;\n",
              "    }\n",
              "\n",
              "    .dataframe tbody tr th {\n",
              "        vertical-align: top;\n",
              "    }\n",
              "\n",
              "    .dataframe thead th {\n",
              "        text-align: right;\n",
              "    }\n",
              "</style>\n",
              "<table border=\"1\" class=\"dataframe\">\n",
              "  <thead>\n",
              "    <tr style=\"text-align: right;\">\n",
              "      <th></th>\n",
              "      <th>EventName</th>\n",
              "      <th>EventLocation</th>\n",
              "      <th>VesselName</th>\n",
              "      <th>Time2Arrival</th>\n",
              "      <th>EventTimeMonth</th>\n",
              "      <th>EventTimeDay</th>\n",
              "    </tr>\n",
              "  </thead>\n",
              "  <tbody>\n",
              "    <tr>\n",
              "      <th>0</th>\n",
              "      <td>Loading Ship</td>\n",
              "      <td>Hafen Rotterdam</td>\n",
              "      <td>NYK ROMULUS</td>\n",
              "      <td>125</td>\n",
              "      <td>July</td>\n",
              "      <td>Wednesday</td>\n",
              "    </tr>\n",
              "    <tr>\n",
              "      <th>10</th>\n",
              "      <td>Loading Ship</td>\n",
              "      <td>Hafen Bremerhaven</td>\n",
              "      <td>CHARLESTON EXPRESS</td>\n",
              "      <td>129</td>\n",
              "      <td>July</td>\n",
              "      <td>Wednesday</td>\n",
              "    </tr>\n",
              "    <tr>\n",
              "      <th>20</th>\n",
              "      <td>Loading Ship</td>\n",
              "      <td>Hafen Bremerhaven</td>\n",
              "      <td>CHARLESTON EXPRESS</td>\n",
              "      <td>66</td>\n",
              "      <td>July</td>\n",
              "      <td>Wednesday</td>\n",
              "    </tr>\n",
              "    <tr>\n",
              "      <th>26</th>\n",
              "      <td>Loading Ship</td>\n",
              "      <td>Hafen Bremerhaven</td>\n",
              "      <td>CHARLESTON EXPRESS</td>\n",
              "      <td>53</td>\n",
              "      <td>July</td>\n",
              "      <td>Wednesday</td>\n",
              "    </tr>\n",
              "    <tr>\n",
              "      <th>33</th>\n",
              "      <td>Loading Ship</td>\n",
              "      <td>Hafen Bremerhaven</td>\n",
              "      <td>YORKTOWN EXPRESS</td>\n",
              "      <td>53</td>\n",
              "      <td>September</td>\n",
              "      <td>Tuesday</td>\n",
              "    </tr>\n",
              "  </tbody>\n",
              "</table>\n",
              "</div>\n",
              "      <button class=\"colab-df-convert\" onclick=\"convertToInteractive('df-6b075c24-d75c-4de8-b0dc-f1e4214ee219')\"\n",
              "              title=\"Convert this dataframe to an interactive table.\"\n",
              "              style=\"display:none;\">\n",
              "        \n",
              "  <svg xmlns=\"http://www.w3.org/2000/svg\" height=\"24px\"viewBox=\"0 0 24 24\"\n",
              "       width=\"24px\">\n",
              "    <path d=\"M0 0h24v24H0V0z\" fill=\"none\"/>\n",
              "    <path d=\"M18.56 5.44l.94 2.06.94-2.06 2.06-.94-2.06-.94-.94-2.06-.94 2.06-2.06.94zm-11 1L8.5 8.5l.94-2.06 2.06-.94-2.06-.94L8.5 2.5l-.94 2.06-2.06.94zm10 10l.94 2.06.94-2.06 2.06-.94-2.06-.94-.94-2.06-.94 2.06-2.06.94z\"/><path d=\"M17.41 7.96l-1.37-1.37c-.4-.4-.92-.59-1.43-.59-.52 0-1.04.2-1.43.59L10.3 9.45l-7.72 7.72c-.78.78-.78 2.05 0 2.83L4 21.41c.39.39.9.59 1.41.59.51 0 1.02-.2 1.41-.59l7.78-7.78 2.81-2.81c.8-.78.8-2.07 0-2.86zM5.41 20L4 18.59l7.72-7.72 1.47 1.35L5.41 20z\"/>\n",
              "  </svg>\n",
              "      </button>\n",
              "      \n",
              "  <style>\n",
              "    .colab-df-container {\n",
              "      display:flex;\n",
              "      flex-wrap:wrap;\n",
              "      gap: 12px;\n",
              "    }\n",
              "\n",
              "    .colab-df-convert {\n",
              "      background-color: #E8F0FE;\n",
              "      border: none;\n",
              "      border-radius: 50%;\n",
              "      cursor: pointer;\n",
              "      display: none;\n",
              "      fill: #1967D2;\n",
              "      height: 32px;\n",
              "      padding: 0 0 0 0;\n",
              "      width: 32px;\n",
              "    }\n",
              "\n",
              "    .colab-df-convert:hover {\n",
              "      background-color: #E2EBFA;\n",
              "      box-shadow: 0px 1px 2px rgba(60, 64, 67, 0.3), 0px 1px 3px 1px rgba(60, 64, 67, 0.15);\n",
              "      fill: #174EA6;\n",
              "    }\n",
              "\n",
              "    [theme=dark] .colab-df-convert {\n",
              "      background-color: #3B4455;\n",
              "      fill: #D2E3FC;\n",
              "    }\n",
              "\n",
              "    [theme=dark] .colab-df-convert:hover {\n",
              "      background-color: #434B5C;\n",
              "      box-shadow: 0px 1px 3px 1px rgba(0, 0, 0, 0.15);\n",
              "      filter: drop-shadow(0px 1px 2px rgba(0, 0, 0, 0.3));\n",
              "      fill: #FFFFFF;\n",
              "    }\n",
              "  </style>\n",
              "\n",
              "      <script>\n",
              "        const buttonEl =\n",
              "          document.querySelector('#df-6b075c24-d75c-4de8-b0dc-f1e4214ee219 button.colab-df-convert');\n",
              "        buttonEl.style.display =\n",
              "          google.colab.kernel.accessAllowed ? 'block' : 'none';\n",
              "\n",
              "        async function convertToInteractive(key) {\n",
              "          const element = document.querySelector('#df-6b075c24-d75c-4de8-b0dc-f1e4214ee219');\n",
              "          const dataTable =\n",
              "            await google.colab.kernel.invokeFunction('convertToInteractive',\n",
              "                                                     [key], {});\n",
              "          if (!dataTable) return;\n",
              "\n",
              "          const docLinkHtml = 'Like what you see? Visit the ' +\n",
              "            '<a target=\"_blank\" href=https://colab.research.google.com/notebooks/data_table.ipynb>data table notebook</a>'\n",
              "            + ' to learn more about interactive tables.';\n",
              "          element.innerHTML = '';\n",
              "          dataTable['output_type'] = 'display_data';\n",
              "          await google.colab.output.renderOutput(dataTable, element);\n",
              "          const docLink = document.createElement('div');\n",
              "          docLink.innerHTML = docLinkHtml;\n",
              "          element.appendChild(docLink);\n",
              "        }\n",
              "      </script>\n",
              "    </div>\n",
              "  </div>\n",
              "  "
            ]
          },
          "metadata": {},
          "execution_count": 682
        }
      ]
    },
    {
      "cell_type": "markdown",
      "source": [
        "**1) Daten in Features und Target aufteilen**"
      ],
      "metadata": {
        "id": "0GFF7htPBkLz"
      },
      "id": "0GFF7htPBkLz"
    },
    {
      "cell_type": "code",
      "source": [
        "X = df.drop(columns=\"Time2Arrival\")\n",
        "y = df[\"Time2Arrival\"]"
      ],
      "metadata": {
        "id": "fB6VmneNBb9c"
      },
      "id": "fB6VmneNBb9c",
      "execution_count": 683,
      "outputs": []
    },
    {
      "cell_type": "markdown",
      "source": [
        "**2) Datensatz in Trainings- und Testmenge aufteilen**"
      ],
      "metadata": {
        "id": "7zLsMVT1ByuH"
      },
      "id": "7zLsMVT1ByuH"
    },
    {
      "cell_type": "code",
      "source": [
        "X = pd.get_dummies(X)\n",
        "# Training Algorithmus: X_train (Features), y_train (Target)\n",
        "# Test des Algorithmus (Bewertung): X_test, y_test\n",
        "#     1) Algorithmus bekommt Daten (X_test), die er noch nicht kennt & macht Prognose\n",
        "#     2) Vergleich Prognose mit tatsächlichen Werte (y_test) --> Bewertung\n",
        "X_train, X_test, y_train, y_test = train_test_split(X, y, test_size=0.2, random_state=3)"
      ],
      "metadata": {
        "id": "6fznY_asB4Gy"
      },
      "id": "6fznY_asB4Gy",
      "execution_count": 684,
      "outputs": []
    },
    {
      "cell_type": "markdown",
      "source": [
        "**3) Modell auswählen**"
      ],
      "metadata": {
        "id": "JP9QUnxyB4zo"
      },
      "id": "JP9QUnxyB4zo"
    },
    {
      "cell_type": "code",
      "source": [
        "from sklearn.ensemble import RandomForestRegressor\n",
        "model = RandomForestRegressor()"
      ],
      "metadata": {
        "id": "535P2Qp1B8ZB"
      },
      "id": "535P2Qp1B8ZB",
      "execution_count": 685,
      "outputs": []
    },
    {
      "cell_type": "markdown",
      "source": [
        "**4) Modell trainieren**"
      ],
      "metadata": {
        "id": "rw4NuM6fB9Ae"
      },
      "id": "rw4NuM6fB9Ae"
    },
    {
      "cell_type": "code",
      "source": [
        "model.fit(X_train, y_train)"
      ],
      "metadata": {
        "id": "mKKmcutjB_R8",
        "colab": {
          "base_uri": "https://localhost:8080/"
        },
        "outputId": "39797ef0-5b09-4f69-a9ad-b082cf2a056b"
      },
      "id": "mKKmcutjB_R8",
      "execution_count": 686,
      "outputs": [
        {
          "output_type": "execute_result",
          "data": {
            "text/plain": [
              "RandomForestRegressor()"
            ]
          },
          "metadata": {},
          "execution_count": 686
        }
      ]
    },
    {
      "cell_type": "markdown",
      "source": [
        "**5) Modell anwenden**"
      ],
      "metadata": {
        "id": "Z2Rzxy0_B_qY"
      },
      "id": "Z2Rzxy0_B_qY"
    },
    {
      "cell_type": "code",
      "source": [
        "y_pred = model.predict(X_test)\n",
        "y_pred"
      ],
      "metadata": {
        "id": "rWQShWzzCBs2",
        "colab": {
          "base_uri": "https://localhost:8080/"
        },
        "outputId": "0f23b1d0-fb54-4cac-d9ed-5e2b2c96abbb"
      },
      "id": "rWQShWzzCBs2",
      "execution_count": 687,
      "outputs": [
        {
          "output_type": "execute_result",
          "data": {
            "text/plain": [
              "array([ 28.64453036,  28.89568467,  35.23258571,  40.73968123,\n",
              "        26.6013067 ,  41.11582271,  27.9609973 ,  28.25411555,\n",
              "        46.28251984,  42.60104118,  42.60104118,  53.02519252,\n",
              "        31.54646011,  30.15472353,  31.54646011,  33.31061563,\n",
              "        28.52913628,  55.46833431,  24.74260831,  42.60104118,\n",
              "        24.24700516,  26.75368181,  34.5017856 ,  64.83480069,\n",
              "        32.68381137,  32.08252381,  31.54646011,  33.31061563,\n",
              "        47.09623682,  37.51037343,  42.60104118,  25.1210007 ,\n",
              "        28.89568467,  34.35496374,  26.17315883,  30.15472353,\n",
              "        25.78202778,  54.85891069,  41.07277945,  38.9673707 ,\n",
              "        29.37429729, 130.00513095,  26.76838844,  35.23258571,\n",
              "        50.65696269,  24.74260831,  42.6742816 ,  33.31061563,\n",
              "        46.42086671,  32.58505195,  26.75368181,  40.73968123,\n",
              "        37.61998146,  47.09623682,  32.74535924,  42.69549245,\n",
              "        32.93604802,  30.15472353,  38.53483002,  26.76838844,\n",
              "        68.70359078,  24.24700516,  48.91472337,  28.28351843,\n",
              "        65.52565664,  58.30872495,  26.3989159 ,  29.37429729,\n",
              "        64.83480069,  26.76838844,  62.67926393,  27.18282964,\n",
              "        32.68381137,  38.32907207,  47.09623682,  47.02725855,\n",
              "        32.23110686,  38.08048138,  25.08019292,  32.68381137,\n",
              "        27.9609973 ,  47.09623682,  32.58505195,  26.76838844,\n",
              "        33.22123683,  46.28251984,  24.74260831,  34.5017856 ,\n",
              "        22.70056986,  29.5791655 ,  42.69549245,  33.31061563,\n",
              "        31.54646011,  25.1210007 ,  47.09623682,  26.76838844,\n",
              "        33.31061563,  37.51037343,  44.92059302,  32.23110686,\n",
              "        31.54646011,  33.31061563,  32.2435567 ,  45.95790852,\n",
              "        32.2435567 ,  65.52565664,  21.56194789,  28.12605952,\n",
              "        28.64453036,  28.25411555,  26.6013067 ,  32.23110686,\n",
              "        26.3989159 ,  76.1007431 ,  27.73834946,  40.81575619,\n",
              "        42.69549245,  24.24700516,  55.46833431,  55.23770546,\n",
              "        29.5791655 ,  58.77451587,  42.60104118,  32.93604802,\n",
              "        46.42086671,  33.41767558,  32.68381137,  28.52913628,\n",
              "        26.6013067 ,  28.93125754,  19.7786785 ,  39.40494119,\n",
              "        54.85891069,  28.89568467,  47.09623682,  53.79410548,\n",
              "        42.69549245,  31.54646011,  33.41767558,  26.0217475 ,\n",
              "        32.23110686,  39.40494119,  40.73968123,  47.09623682,\n",
              "        33.71340046,  35.03589624,  24.24700516,  38.53483002,\n",
              "        42.69549245,  26.3989159 ,  26.3989159 ,  35.73864553,\n",
              "        29.37429729,  64.83480069,  40.73968123,  26.76838844,\n",
              "        31.54646011,  33.31061563,  42.6742816 ,  29.55696032,\n",
              "        29.18002367,  26.75368181,  29.37429729,  34.35496374,\n",
              "        53.45238697,  53.79410548,  76.1007431 ,  42.60104118,\n",
              "        48.39600428,  78.2539733 ,  32.93604802,  27.73834946,\n",
              "        23.73992226,  32.20489491,  41.07277945,  40.73968123,\n",
              "        57.10883408,  58.30872495,  32.23110686,  24.24700516,\n",
              "        29.66801158,  32.74535924,  27.18282964,  64.83480069,\n",
              "        29.37429729,  25.08019292,  48.39600428,  32.68381137,\n",
              "        31.54646011,  39.52718298,  38.08048138,  55.46833431,\n",
              "        35.03589624,  50.65696269,  31.54646011,  23.73992226,\n",
              "        31.54646011,  33.31061563,  35.23258571,  34.35496374,\n",
              "        29.5791655 ,  40.73968123,  28.89568467,  78.2539733 ,\n",
              "        29.42467677,  35.23258571,  64.83480069,  33.41767558,\n",
              "        34.62181188,  29.40827947,  53.55835786,  39.52718298,\n",
              "        55.23770546,  64.83480069,  31.54646011,  88.25926525,\n",
              "        15.53231486,  26.76838844,  25.08019292,  45.95790852,\n",
              "        33.31061563,  58.98050108,  44.92059302,  32.23110686,\n",
              "        24.74260831,  25.08019292,  41.11582271,  26.85565499,\n",
              "        38.08048138,  45.95790852,  55.46833431,  50.65696269,\n",
              "        28.25411555,  38.53483002,  62.67926393,  50.65696269,\n",
              "        54.85891069,  45.95790852,  41.07277945,  64.83480069,\n",
              "        31.0444294 ,  46.79830778,  66.68259103,  55.30852615,\n",
              "        47.2966526 ,  27.18282964,  62.67926393,  30.15472353,\n",
              "        26.36216764,  25.78202778,  42.60104118,  33.71340046,\n",
              "        32.23110686,  32.23110686,  26.75368181,  29.66801158,\n",
              "        26.81344715,  32.68381137,  33.59530617,  26.6013067 ,\n",
              "        34.35496374,  53.02519252,  33.41767558,  33.59530617,\n",
              "        19.7786785 ,  55.46833431,  44.92059302,  38.53483002,\n",
              "        24.24700516,  24.74260831,  37.41296573,  50.65696269,\n",
              "        62.67926393,  53.55835786,  55.23770546,  31.54646011,\n",
              "        34.5017856 ,  33.22123683,  19.7786785 ,  62.67926393,\n",
              "        38.53483002,  45.95790852,  32.23110686,  21.56194789,\n",
              "        45.47106349,  19.7786785 ,  41.11582271,  31.54646011,\n",
              "        54.85891069,  25.08019292,  42.38610845,  50.44966373,\n",
              "        38.32907207,  50.65696269,  46.28251984,  32.23110686,\n",
              "        24.24700516,  51.64566355,  42.60104118,  29.66801158,\n",
              "        15.53231486,  33.31061563,  23.73992226,  33.59530617,\n",
              "        55.23770546,  34.5017856 ,  28.64453036,  53.55835786,\n",
              "        34.5017856 ,  33.59530617,  35.03589624,  37.61998146,\n",
              "        55.46833431,  24.24700516,  33.59530617,  51.29144977,\n",
              "        21.56194789,  26.76838844,  44.92059302,  38.32907207,\n",
              "        62.67926393,  42.60104118,  58.30872495,  26.81344715,\n",
              "        32.23110686,  29.55696032,  35.03589624,  26.0217475 ,\n",
              "        31.54646011,  35.23258571,  26.6013067 ,  34.5017856 ,\n",
              "        29.40827947,  38.9673707 ,  38.32907207,  28.25411555,\n",
              "        24.74260831,  62.67926393,  62.67926393,  33.31061563,\n",
              "        24.74260831,  26.75368181,  35.23258571,  23.60089153,\n",
              "        42.69549245,  41.07277945,  53.55835786,  29.66801158,\n",
              "        26.3989159 ,  35.73864553,  32.74535924,  38.32907207,\n",
              "        62.67926393,  38.08048138,  35.23258571,  42.60104118,\n",
              "        39.51546429,  32.93604802,  48.91472337,  54.97775667,\n",
              "        55.30852615,  55.23770546,  38.53483002,  58.30872495,\n",
              "        34.5017856 ,  32.20489491,  29.40827947,  27.9609973 ,\n",
              "        38.08048138,  55.46833431,  40.81575619,  29.37429729,\n",
              "        25.08019292,  32.09233081,  33.71340046,  32.74535924,\n",
              "        25.1210007 ,  28.89568467,  58.30872495,  45.95790852,\n",
              "        48.39600428,  38.25747695,  55.30852615,  38.53483002,\n",
              "        66.68259103,  42.69549245,  65.52565664,  41.07277945,\n",
              "        26.3989159 ,  34.35496374,  29.42467677,  50.65696269,\n",
              "        26.75368181,  33.31061563,  29.66801158,  54.85891069,\n",
              "        35.03589624,  28.52913628,  29.37429729,  65.52565664,\n",
              "        66.15822622,  26.75368181])"
            ]
          },
          "metadata": {},
          "execution_count": 687
        }
      ]
    },
    {
      "cell_type": "markdown",
      "source": [
        "**6) Modell evaluieren**"
      ],
      "metadata": {
        "id": "1dKRr9cfCCO8"
      },
      "id": "1dKRr9cfCCO8"
    },
    {
      "cell_type": "code",
      "source": [
        "sklearn.metrics.mean_absolute_error(y_test, y_pred)"
      ],
      "metadata": {
        "id": "DpG7Na7DCEdy",
        "colab": {
          "base_uri": "https://localhost:8080/"
        },
        "outputId": "4158abaf-1308-4249-d6ac-2b2e0ae6d697"
      },
      "id": "DpG7Na7DCEdy",
      "execution_count": 688,
      "outputs": [
        {
          "output_type": "execute_result",
          "data": {
            "text/plain": [
              "14.278323500458702"
            ]
          },
          "metadata": {},
          "execution_count": 688
        }
      ]
    },
    {
      "cell_type": "code",
      "source": [
        "sklearn.metrics.mean_absolute_percentage_error(y_test, y_pred)"
      ],
      "metadata": {
        "colab": {
          "base_uri": "https://localhost:8080/"
        },
        "id": "w2533-nnS-hh",
        "outputId": "67a2e1ba-1f89-443c-d276-904f0b887b66"
      },
      "id": "w2533-nnS-hh",
      "execution_count": 689,
      "outputs": [
        {
          "output_type": "execute_result",
          "data": {
            "text/plain": [
              "0.3640656742033761"
            ]
          },
          "metadata": {},
          "execution_count": 689
        }
      ]
    },
    {
      "cell_type": "code",
      "source": [
        "df.head()"
      ],
      "metadata": {
        "colab": {
          "base_uri": "https://localhost:8080/",
          "height": 204
        },
        "id": "CxXaULwiTgy4",
        "outputId": "7a0e39a7-e3ba-45dc-da1f-5dfc422e48c3"
      },
      "id": "CxXaULwiTgy4",
      "execution_count": 690,
      "outputs": [
        {
          "output_type": "execute_result",
          "data": {
            "text/plain": [
              "       EventName      EventLocation          VesselName  Time2Arrival  \\\n",
              "0   Loading Ship    Hafen Rotterdam         NYK ROMULUS           125   \n",
              "10  Loading Ship  Hafen Bremerhaven  CHARLESTON EXPRESS           129   \n",
              "20  Loading Ship  Hafen Bremerhaven  CHARLESTON EXPRESS            66   \n",
              "26  Loading Ship  Hafen Bremerhaven  CHARLESTON EXPRESS            53   \n",
              "33  Loading Ship  Hafen Bremerhaven    YORKTOWN EXPRESS            53   \n",
              "\n",
              "   EventTimeMonth EventTimeDay  \n",
              "0            July    Wednesday  \n",
              "10           July    Wednesday  \n",
              "20           July    Wednesday  \n",
              "26           July    Wednesday  \n",
              "33      September      Tuesday  "
            ],
            "text/html": [
              "\n",
              "  <div id=\"df-01805678-bb77-4de4-8e6a-6fad14edf6db\">\n",
              "    <div class=\"colab-df-container\">\n",
              "      <div>\n",
              "<style scoped>\n",
              "    .dataframe tbody tr th:only-of-type {\n",
              "        vertical-align: middle;\n",
              "    }\n",
              "\n",
              "    .dataframe tbody tr th {\n",
              "        vertical-align: top;\n",
              "    }\n",
              "\n",
              "    .dataframe thead th {\n",
              "        text-align: right;\n",
              "    }\n",
              "</style>\n",
              "<table border=\"1\" class=\"dataframe\">\n",
              "  <thead>\n",
              "    <tr style=\"text-align: right;\">\n",
              "      <th></th>\n",
              "      <th>EventName</th>\n",
              "      <th>EventLocation</th>\n",
              "      <th>VesselName</th>\n",
              "      <th>Time2Arrival</th>\n",
              "      <th>EventTimeMonth</th>\n",
              "      <th>EventTimeDay</th>\n",
              "    </tr>\n",
              "  </thead>\n",
              "  <tbody>\n",
              "    <tr>\n",
              "      <th>0</th>\n",
              "      <td>Loading Ship</td>\n",
              "      <td>Hafen Rotterdam</td>\n",
              "      <td>NYK ROMULUS</td>\n",
              "      <td>125</td>\n",
              "      <td>July</td>\n",
              "      <td>Wednesday</td>\n",
              "    </tr>\n",
              "    <tr>\n",
              "      <th>10</th>\n",
              "      <td>Loading Ship</td>\n",
              "      <td>Hafen Bremerhaven</td>\n",
              "      <td>CHARLESTON EXPRESS</td>\n",
              "      <td>129</td>\n",
              "      <td>July</td>\n",
              "      <td>Wednesday</td>\n",
              "    </tr>\n",
              "    <tr>\n",
              "      <th>20</th>\n",
              "      <td>Loading Ship</td>\n",
              "      <td>Hafen Bremerhaven</td>\n",
              "      <td>CHARLESTON EXPRESS</td>\n",
              "      <td>66</td>\n",
              "      <td>July</td>\n",
              "      <td>Wednesday</td>\n",
              "    </tr>\n",
              "    <tr>\n",
              "      <th>26</th>\n",
              "      <td>Loading Ship</td>\n",
              "      <td>Hafen Bremerhaven</td>\n",
              "      <td>CHARLESTON EXPRESS</td>\n",
              "      <td>53</td>\n",
              "      <td>July</td>\n",
              "      <td>Wednesday</td>\n",
              "    </tr>\n",
              "    <tr>\n",
              "      <th>33</th>\n",
              "      <td>Loading Ship</td>\n",
              "      <td>Hafen Bremerhaven</td>\n",
              "      <td>YORKTOWN EXPRESS</td>\n",
              "      <td>53</td>\n",
              "      <td>September</td>\n",
              "      <td>Tuesday</td>\n",
              "    </tr>\n",
              "  </tbody>\n",
              "</table>\n",
              "</div>\n",
              "      <button class=\"colab-df-convert\" onclick=\"convertToInteractive('df-01805678-bb77-4de4-8e6a-6fad14edf6db')\"\n",
              "              title=\"Convert this dataframe to an interactive table.\"\n",
              "              style=\"display:none;\">\n",
              "        \n",
              "  <svg xmlns=\"http://www.w3.org/2000/svg\" height=\"24px\"viewBox=\"0 0 24 24\"\n",
              "       width=\"24px\">\n",
              "    <path d=\"M0 0h24v24H0V0z\" fill=\"none\"/>\n",
              "    <path d=\"M18.56 5.44l.94 2.06.94-2.06 2.06-.94-2.06-.94-.94-2.06-.94 2.06-2.06.94zm-11 1L8.5 8.5l.94-2.06 2.06-.94-2.06-.94L8.5 2.5l-.94 2.06-2.06.94zm10 10l.94 2.06.94-2.06 2.06-.94-2.06-.94-.94-2.06-.94 2.06-2.06.94z\"/><path d=\"M17.41 7.96l-1.37-1.37c-.4-.4-.92-.59-1.43-.59-.52 0-1.04.2-1.43.59L10.3 9.45l-7.72 7.72c-.78.78-.78 2.05 0 2.83L4 21.41c.39.39.9.59 1.41.59.51 0 1.02-.2 1.41-.59l7.78-7.78 2.81-2.81c.8-.78.8-2.07 0-2.86zM5.41 20L4 18.59l7.72-7.72 1.47 1.35L5.41 20z\"/>\n",
              "  </svg>\n",
              "      </button>\n",
              "      \n",
              "  <style>\n",
              "    .colab-df-container {\n",
              "      display:flex;\n",
              "      flex-wrap:wrap;\n",
              "      gap: 12px;\n",
              "    }\n",
              "\n",
              "    .colab-df-convert {\n",
              "      background-color: #E8F0FE;\n",
              "      border: none;\n",
              "      border-radius: 50%;\n",
              "      cursor: pointer;\n",
              "      display: none;\n",
              "      fill: #1967D2;\n",
              "      height: 32px;\n",
              "      padding: 0 0 0 0;\n",
              "      width: 32px;\n",
              "    }\n",
              "\n",
              "    .colab-df-convert:hover {\n",
              "      background-color: #E2EBFA;\n",
              "      box-shadow: 0px 1px 2px rgba(60, 64, 67, 0.3), 0px 1px 3px 1px rgba(60, 64, 67, 0.15);\n",
              "      fill: #174EA6;\n",
              "    }\n",
              "\n",
              "    [theme=dark] .colab-df-convert {\n",
              "      background-color: #3B4455;\n",
              "      fill: #D2E3FC;\n",
              "    }\n",
              "\n",
              "    [theme=dark] .colab-df-convert:hover {\n",
              "      background-color: #434B5C;\n",
              "      box-shadow: 0px 1px 3px 1px rgba(0, 0, 0, 0.15);\n",
              "      filter: drop-shadow(0px 1px 2px rgba(0, 0, 0, 0.3));\n",
              "      fill: #FFFFFF;\n",
              "    }\n",
              "  </style>\n",
              "\n",
              "      <script>\n",
              "        const buttonEl =\n",
              "          document.querySelector('#df-01805678-bb77-4de4-8e6a-6fad14edf6db button.colab-df-convert');\n",
              "        buttonEl.style.display =\n",
              "          google.colab.kernel.accessAllowed ? 'block' : 'none';\n",
              "\n",
              "        async function convertToInteractive(key) {\n",
              "          const element = document.querySelector('#df-01805678-bb77-4de4-8e6a-6fad14edf6db');\n",
              "          const dataTable =\n",
              "            await google.colab.kernel.invokeFunction('convertToInteractive',\n",
              "                                                     [key], {});\n",
              "          if (!dataTable) return;\n",
              "\n",
              "          const docLinkHtml = 'Like what you see? Visit the ' +\n",
              "            '<a target=\"_blank\" href=https://colab.research.google.com/notebooks/data_table.ipynb>data table notebook</a>'\n",
              "            + ' to learn more about interactive tables.';\n",
              "          element.innerHTML = '';\n",
              "          dataTable['output_type'] = 'display_data';\n",
              "          await google.colab.output.renderOutput(dataTable, element);\n",
              "          const docLink = document.createElement('div');\n",
              "          docLink.innerHTML = docLinkHtml;\n",
              "          element.appendChild(docLink);\n",
              "        }\n",
              "      </script>\n",
              "    </div>\n",
              "  </div>\n",
              "  "
            ]
          },
          "metadata": {},
          "execution_count": 690
        }
      ]
    },
    {
      "cell_type": "markdown",
      "source": [
        "**7) Vorhersage machen**"
      ],
      "metadata": {
        "id": "nx-aSbpJXnWd"
      },
      "id": "nx-aSbpJXnWd"
    },
    {
      "cell_type": "markdown",
      "source": [
        "**Frage:** Welche weiteren Features könnten helfen, um die Prognose der Ankunftszeit zu verbessern?"
      ],
      "metadata": {
        "id": "Iag8V-iAD_qn"
      },
      "id": "Iag8V-iAD_qn"
    },
    {
      "cell_type": "code",
      "source": [
        ""
      ],
      "metadata": {
        "id": "JcgMaM85DUuv"
      },
      "id": "JcgMaM85DUuv",
      "execution_count": 690,
      "outputs": []
    },
    {
      "cell_type": "markdown",
      "source": [
        "## 4 Machine Learning für Klassifikationsprobleme <a class=\"anchor\" id=\"klassifikation\"></a>\n",
        "Im nachfolgenden Beispiel werden wir ein ML-Verfahren einsetzen, um anhand von Untersuchungsergebnissen vorherzusagen, ob ein Patient Diabetes hat. Es handelt sich dabei um eine Klassifikationsproblem (Diabetes/ keine Diabetes). Wir verwenden einen Datensatz mit folgenden Informationen:\n",
        "1. Anzahl Schwangerschaften\n",
        "1. Glukosekonzentration nach Glukosetoleranztest\n",
        "1. Blutdruck (mm Hg)\n",
        "1. Dicke der Trizepshautfalte (mm)\n",
        "1. Insulinwert (mu U/ml)\n",
        "1. Body mass index \n",
        "1. Diabetesvorbelastungsfunktion\n",
        "1. Alter (Jahre)\n",
        "1. Diabetes (0/1)\n",
        "\n",
        "Die relevanten Daten haben die folgende Form:"
      ],
      "metadata": {
        "id": "IcxdXVt-a4Ck"
      },
      "id": "IcxdXVt-a4Ck"
    },
    {
      "cell_type": "code",
      "source": [
        "data = pd.read_csv(\"/content/drive/MyDrive/KI_LOG_mit_PYTHON/diabetes_clean.txt\")\n",
        "data.head()"
      ],
      "metadata": {
        "id": "U_Xap0iDa8Xg",
        "colab": {
          "base_uri": "https://localhost:8080/",
          "height": 268
        },
        "outputId": "880d87cc-ef69-433b-e389-7cb84c547652"
      },
      "id": "U_Xap0iDa8Xg",
      "execution_count": 691,
      "outputs": [
        {
          "output_type": "execute_result",
          "data": {
            "text/plain": [
              "   schwangerschaften  glukose_konzentration  blutdruck  \\\n",
              "0                  6                    148         72   \n",
              "1                  1                     85         66   \n",
              "2                  8                    183         64   \n",
              "3                  1                     89         66   \n",
              "4                  0                    137         40   \n",
              "\n",
              "   dicke_trizepshautfalte  insulin_wert   bmi  diabetes_vorbelastung  alter  \\\n",
              "0                      35             0  33.6                  0.627     50   \n",
              "1                      29             0  26.6                  0.351     31   \n",
              "2                       0             0  23.3                  0.672     32   \n",
              "3                      23            94  28.1                  0.167     21   \n",
              "4                      35           168  43.1                  2.288     33   \n",
              "\n",
              "   diabetes  \n",
              "0         1  \n",
              "1         0  \n",
              "2         1  \n",
              "3         0  \n",
              "4         1  "
            ],
            "text/html": [
              "\n",
              "  <div id=\"df-64d002f4-4c5d-4796-b6a6-7551ddd97807\">\n",
              "    <div class=\"colab-df-container\">\n",
              "      <div>\n",
              "<style scoped>\n",
              "    .dataframe tbody tr th:only-of-type {\n",
              "        vertical-align: middle;\n",
              "    }\n",
              "\n",
              "    .dataframe tbody tr th {\n",
              "        vertical-align: top;\n",
              "    }\n",
              "\n",
              "    .dataframe thead th {\n",
              "        text-align: right;\n",
              "    }\n",
              "</style>\n",
              "<table border=\"1\" class=\"dataframe\">\n",
              "  <thead>\n",
              "    <tr style=\"text-align: right;\">\n",
              "      <th></th>\n",
              "      <th>schwangerschaften</th>\n",
              "      <th>glukose_konzentration</th>\n",
              "      <th>blutdruck</th>\n",
              "      <th>dicke_trizepshautfalte</th>\n",
              "      <th>insulin_wert</th>\n",
              "      <th>bmi</th>\n",
              "      <th>diabetes_vorbelastung</th>\n",
              "      <th>alter</th>\n",
              "      <th>diabetes</th>\n",
              "    </tr>\n",
              "  </thead>\n",
              "  <tbody>\n",
              "    <tr>\n",
              "      <th>0</th>\n",
              "      <td>6</td>\n",
              "      <td>148</td>\n",
              "      <td>72</td>\n",
              "      <td>35</td>\n",
              "      <td>0</td>\n",
              "      <td>33.6</td>\n",
              "      <td>0.627</td>\n",
              "      <td>50</td>\n",
              "      <td>1</td>\n",
              "    </tr>\n",
              "    <tr>\n",
              "      <th>1</th>\n",
              "      <td>1</td>\n",
              "      <td>85</td>\n",
              "      <td>66</td>\n",
              "      <td>29</td>\n",
              "      <td>0</td>\n",
              "      <td>26.6</td>\n",
              "      <td>0.351</td>\n",
              "      <td>31</td>\n",
              "      <td>0</td>\n",
              "    </tr>\n",
              "    <tr>\n",
              "      <th>2</th>\n",
              "      <td>8</td>\n",
              "      <td>183</td>\n",
              "      <td>64</td>\n",
              "      <td>0</td>\n",
              "      <td>0</td>\n",
              "      <td>23.3</td>\n",
              "      <td>0.672</td>\n",
              "      <td>32</td>\n",
              "      <td>1</td>\n",
              "    </tr>\n",
              "    <tr>\n",
              "      <th>3</th>\n",
              "      <td>1</td>\n",
              "      <td>89</td>\n",
              "      <td>66</td>\n",
              "      <td>23</td>\n",
              "      <td>94</td>\n",
              "      <td>28.1</td>\n",
              "      <td>0.167</td>\n",
              "      <td>21</td>\n",
              "      <td>0</td>\n",
              "    </tr>\n",
              "    <tr>\n",
              "      <th>4</th>\n",
              "      <td>0</td>\n",
              "      <td>137</td>\n",
              "      <td>40</td>\n",
              "      <td>35</td>\n",
              "      <td>168</td>\n",
              "      <td>43.1</td>\n",
              "      <td>2.288</td>\n",
              "      <td>33</td>\n",
              "      <td>1</td>\n",
              "    </tr>\n",
              "  </tbody>\n",
              "</table>\n",
              "</div>\n",
              "      <button class=\"colab-df-convert\" onclick=\"convertToInteractive('df-64d002f4-4c5d-4796-b6a6-7551ddd97807')\"\n",
              "              title=\"Convert this dataframe to an interactive table.\"\n",
              "              style=\"display:none;\">\n",
              "        \n",
              "  <svg xmlns=\"http://www.w3.org/2000/svg\" height=\"24px\"viewBox=\"0 0 24 24\"\n",
              "       width=\"24px\">\n",
              "    <path d=\"M0 0h24v24H0V0z\" fill=\"none\"/>\n",
              "    <path d=\"M18.56 5.44l.94 2.06.94-2.06 2.06-.94-2.06-.94-.94-2.06-.94 2.06-2.06.94zm-11 1L8.5 8.5l.94-2.06 2.06-.94-2.06-.94L8.5 2.5l-.94 2.06-2.06.94zm10 10l.94 2.06.94-2.06 2.06-.94-2.06-.94-.94-2.06-.94 2.06-2.06.94z\"/><path d=\"M17.41 7.96l-1.37-1.37c-.4-.4-.92-.59-1.43-.59-.52 0-1.04.2-1.43.59L10.3 9.45l-7.72 7.72c-.78.78-.78 2.05 0 2.83L4 21.41c.39.39.9.59 1.41.59.51 0 1.02-.2 1.41-.59l7.78-7.78 2.81-2.81c.8-.78.8-2.07 0-2.86zM5.41 20L4 18.59l7.72-7.72 1.47 1.35L5.41 20z\"/>\n",
              "  </svg>\n",
              "      </button>\n",
              "      \n",
              "  <style>\n",
              "    .colab-df-container {\n",
              "      display:flex;\n",
              "      flex-wrap:wrap;\n",
              "      gap: 12px;\n",
              "    }\n",
              "\n",
              "    .colab-df-convert {\n",
              "      background-color: #E8F0FE;\n",
              "      border: none;\n",
              "      border-radius: 50%;\n",
              "      cursor: pointer;\n",
              "      display: none;\n",
              "      fill: #1967D2;\n",
              "      height: 32px;\n",
              "      padding: 0 0 0 0;\n",
              "      width: 32px;\n",
              "    }\n",
              "\n",
              "    .colab-df-convert:hover {\n",
              "      background-color: #E2EBFA;\n",
              "      box-shadow: 0px 1px 2px rgba(60, 64, 67, 0.3), 0px 1px 3px 1px rgba(60, 64, 67, 0.15);\n",
              "      fill: #174EA6;\n",
              "    }\n",
              "\n",
              "    [theme=dark] .colab-df-convert {\n",
              "      background-color: #3B4455;\n",
              "      fill: #D2E3FC;\n",
              "    }\n",
              "\n",
              "    [theme=dark] .colab-df-convert:hover {\n",
              "      background-color: #434B5C;\n",
              "      box-shadow: 0px 1px 3px 1px rgba(0, 0, 0, 0.15);\n",
              "      filter: drop-shadow(0px 1px 2px rgba(0, 0, 0, 0.3));\n",
              "      fill: #FFFFFF;\n",
              "    }\n",
              "  </style>\n",
              "\n",
              "      <script>\n",
              "        const buttonEl =\n",
              "          document.querySelector('#df-64d002f4-4c5d-4796-b6a6-7551ddd97807 button.colab-df-convert');\n",
              "        buttonEl.style.display =\n",
              "          google.colab.kernel.accessAllowed ? 'block' : 'none';\n",
              "\n",
              "        async function convertToInteractive(key) {\n",
              "          const element = document.querySelector('#df-64d002f4-4c5d-4796-b6a6-7551ddd97807');\n",
              "          const dataTable =\n",
              "            await google.colab.kernel.invokeFunction('convertToInteractive',\n",
              "                                                     [key], {});\n",
              "          if (!dataTable) return;\n",
              "\n",
              "          const docLinkHtml = 'Like what you see? Visit the ' +\n",
              "            '<a target=\"_blank\" href=https://colab.research.google.com/notebooks/data_table.ipynb>data table notebook</a>'\n",
              "            + ' to learn more about interactive tables.';\n",
              "          element.innerHTML = '';\n",
              "          dataTable['output_type'] = 'display_data';\n",
              "          await google.colab.output.renderOutput(dataTable, element);\n",
              "          const docLink = document.createElement('div');\n",
              "          docLink.innerHTML = docLinkHtml;\n",
              "          element.appendChild(docLink);\n",
              "        }\n",
              "      </script>\n",
              "    </div>\n",
              "  </div>\n",
              "  "
            ]
          },
          "metadata": {},
          "execution_count": 691
        }
      ]
    },
    {
      "cell_type": "markdown",
      "source": [
        "### 4.1 Datensatz in Features und Target teilen\n",
        "\n",
        "Wie bereits zuvor müssen wir unterscheiden, was vorhergesagt werden soll (**Target**) und welche Merkmale dazu genutzt werden sollen (**Features**)."
      ],
      "metadata": {
        "id": "HsigSaVPCMeT"
      },
      "id": "HsigSaVPCMeT"
    },
    {
      "cell_type": "code",
      "source": [
        "# Features, d.h. womit lässt sich Diabetes prognostizeren!\n",
        "X = data.drop(columns=\"diabetes\")\n",
        "X.head()"
      ],
      "metadata": {
        "id": "z-uyIdD-d-eB",
        "colab": {
          "base_uri": "https://localhost:8080/",
          "height": 268
        },
        "outputId": "c3e52511-fd8f-4888-8668-ec6e3d86bf46"
      },
      "id": "z-uyIdD-d-eB",
      "execution_count": 692,
      "outputs": [
        {
          "output_type": "execute_result",
          "data": {
            "text/plain": [
              "   schwangerschaften  glukose_konzentration  blutdruck  \\\n",
              "0                  6                    148         72   \n",
              "1                  1                     85         66   \n",
              "2                  8                    183         64   \n",
              "3                  1                     89         66   \n",
              "4                  0                    137         40   \n",
              "\n",
              "   dicke_trizepshautfalte  insulin_wert   bmi  diabetes_vorbelastung  alter  \n",
              "0                      35             0  33.6                  0.627     50  \n",
              "1                      29             0  26.6                  0.351     31  \n",
              "2                       0             0  23.3                  0.672     32  \n",
              "3                      23            94  28.1                  0.167     21  \n",
              "4                      35           168  43.1                  2.288     33  "
            ],
            "text/html": [
              "\n",
              "  <div id=\"df-811d6d5e-3b93-4d90-ae11-b6053ffb101b\">\n",
              "    <div class=\"colab-df-container\">\n",
              "      <div>\n",
              "<style scoped>\n",
              "    .dataframe tbody tr th:only-of-type {\n",
              "        vertical-align: middle;\n",
              "    }\n",
              "\n",
              "    .dataframe tbody tr th {\n",
              "        vertical-align: top;\n",
              "    }\n",
              "\n",
              "    .dataframe thead th {\n",
              "        text-align: right;\n",
              "    }\n",
              "</style>\n",
              "<table border=\"1\" class=\"dataframe\">\n",
              "  <thead>\n",
              "    <tr style=\"text-align: right;\">\n",
              "      <th></th>\n",
              "      <th>schwangerschaften</th>\n",
              "      <th>glukose_konzentration</th>\n",
              "      <th>blutdruck</th>\n",
              "      <th>dicke_trizepshautfalte</th>\n",
              "      <th>insulin_wert</th>\n",
              "      <th>bmi</th>\n",
              "      <th>diabetes_vorbelastung</th>\n",
              "      <th>alter</th>\n",
              "    </tr>\n",
              "  </thead>\n",
              "  <tbody>\n",
              "    <tr>\n",
              "      <th>0</th>\n",
              "      <td>6</td>\n",
              "      <td>148</td>\n",
              "      <td>72</td>\n",
              "      <td>35</td>\n",
              "      <td>0</td>\n",
              "      <td>33.6</td>\n",
              "      <td>0.627</td>\n",
              "      <td>50</td>\n",
              "    </tr>\n",
              "    <tr>\n",
              "      <th>1</th>\n",
              "      <td>1</td>\n",
              "      <td>85</td>\n",
              "      <td>66</td>\n",
              "      <td>29</td>\n",
              "      <td>0</td>\n",
              "      <td>26.6</td>\n",
              "      <td>0.351</td>\n",
              "      <td>31</td>\n",
              "    </tr>\n",
              "    <tr>\n",
              "      <th>2</th>\n",
              "      <td>8</td>\n",
              "      <td>183</td>\n",
              "      <td>64</td>\n",
              "      <td>0</td>\n",
              "      <td>0</td>\n",
              "      <td>23.3</td>\n",
              "      <td>0.672</td>\n",
              "      <td>32</td>\n",
              "    </tr>\n",
              "    <tr>\n",
              "      <th>3</th>\n",
              "      <td>1</td>\n",
              "      <td>89</td>\n",
              "      <td>66</td>\n",
              "      <td>23</td>\n",
              "      <td>94</td>\n",
              "      <td>28.1</td>\n",
              "      <td>0.167</td>\n",
              "      <td>21</td>\n",
              "    </tr>\n",
              "    <tr>\n",
              "      <th>4</th>\n",
              "      <td>0</td>\n",
              "      <td>137</td>\n",
              "      <td>40</td>\n",
              "      <td>35</td>\n",
              "      <td>168</td>\n",
              "      <td>43.1</td>\n",
              "      <td>2.288</td>\n",
              "      <td>33</td>\n",
              "    </tr>\n",
              "  </tbody>\n",
              "</table>\n",
              "</div>\n",
              "      <button class=\"colab-df-convert\" onclick=\"convertToInteractive('df-811d6d5e-3b93-4d90-ae11-b6053ffb101b')\"\n",
              "              title=\"Convert this dataframe to an interactive table.\"\n",
              "              style=\"display:none;\">\n",
              "        \n",
              "  <svg xmlns=\"http://www.w3.org/2000/svg\" height=\"24px\"viewBox=\"0 0 24 24\"\n",
              "       width=\"24px\">\n",
              "    <path d=\"M0 0h24v24H0V0z\" fill=\"none\"/>\n",
              "    <path d=\"M18.56 5.44l.94 2.06.94-2.06 2.06-.94-2.06-.94-.94-2.06-.94 2.06-2.06.94zm-11 1L8.5 8.5l.94-2.06 2.06-.94-2.06-.94L8.5 2.5l-.94 2.06-2.06.94zm10 10l.94 2.06.94-2.06 2.06-.94-2.06-.94-.94-2.06-.94 2.06-2.06.94z\"/><path d=\"M17.41 7.96l-1.37-1.37c-.4-.4-.92-.59-1.43-.59-.52 0-1.04.2-1.43.59L10.3 9.45l-7.72 7.72c-.78.78-.78 2.05 0 2.83L4 21.41c.39.39.9.59 1.41.59.51 0 1.02-.2 1.41-.59l7.78-7.78 2.81-2.81c.8-.78.8-2.07 0-2.86zM5.41 20L4 18.59l7.72-7.72 1.47 1.35L5.41 20z\"/>\n",
              "  </svg>\n",
              "      </button>\n",
              "      \n",
              "  <style>\n",
              "    .colab-df-container {\n",
              "      display:flex;\n",
              "      flex-wrap:wrap;\n",
              "      gap: 12px;\n",
              "    }\n",
              "\n",
              "    .colab-df-convert {\n",
              "      background-color: #E8F0FE;\n",
              "      border: none;\n",
              "      border-radius: 50%;\n",
              "      cursor: pointer;\n",
              "      display: none;\n",
              "      fill: #1967D2;\n",
              "      height: 32px;\n",
              "      padding: 0 0 0 0;\n",
              "      width: 32px;\n",
              "    }\n",
              "\n",
              "    .colab-df-convert:hover {\n",
              "      background-color: #E2EBFA;\n",
              "      box-shadow: 0px 1px 2px rgba(60, 64, 67, 0.3), 0px 1px 3px 1px rgba(60, 64, 67, 0.15);\n",
              "      fill: #174EA6;\n",
              "    }\n",
              "\n",
              "    [theme=dark] .colab-df-convert {\n",
              "      background-color: #3B4455;\n",
              "      fill: #D2E3FC;\n",
              "    }\n",
              "\n",
              "    [theme=dark] .colab-df-convert:hover {\n",
              "      background-color: #434B5C;\n",
              "      box-shadow: 0px 1px 3px 1px rgba(0, 0, 0, 0.15);\n",
              "      filter: drop-shadow(0px 1px 2px rgba(0, 0, 0, 0.3));\n",
              "      fill: #FFFFFF;\n",
              "    }\n",
              "  </style>\n",
              "\n",
              "      <script>\n",
              "        const buttonEl =\n",
              "          document.querySelector('#df-811d6d5e-3b93-4d90-ae11-b6053ffb101b button.colab-df-convert');\n",
              "        buttonEl.style.display =\n",
              "          google.colab.kernel.accessAllowed ? 'block' : 'none';\n",
              "\n",
              "        async function convertToInteractive(key) {\n",
              "          const element = document.querySelector('#df-811d6d5e-3b93-4d90-ae11-b6053ffb101b');\n",
              "          const dataTable =\n",
              "            await google.colab.kernel.invokeFunction('convertToInteractive',\n",
              "                                                     [key], {});\n",
              "          if (!dataTable) return;\n",
              "\n",
              "          const docLinkHtml = 'Like what you see? Visit the ' +\n",
              "            '<a target=\"_blank\" href=https://colab.research.google.com/notebooks/data_table.ipynb>data table notebook</a>'\n",
              "            + ' to learn more about interactive tables.';\n",
              "          element.innerHTML = '';\n",
              "          dataTable['output_type'] = 'display_data';\n",
              "          await google.colab.output.renderOutput(dataTable, element);\n",
              "          const docLink = document.createElement('div');\n",
              "          docLink.innerHTML = docLinkHtml;\n",
              "          element.appendChild(docLink);\n",
              "        }\n",
              "      </script>\n",
              "    </div>\n",
              "  </div>\n",
              "  "
            ]
          },
          "metadata": {},
          "execution_count": 692
        }
      ]
    },
    {
      "cell_type": "code",
      "source": [
        "# Target, d.h. was soll prognostiziert werden!\n",
        "y = data[\"diabetes\"]\n",
        "y.head()"
      ],
      "metadata": {
        "id": "vmpeKoYICZUE",
        "colab": {
          "base_uri": "https://localhost:8080/"
        },
        "outputId": "8e0aa15a-6c2a-4bf2-c999-be69a4bce61d"
      },
      "id": "vmpeKoYICZUE",
      "execution_count": 693,
      "outputs": [
        {
          "output_type": "execute_result",
          "data": {
            "text/plain": [
              "0    1\n",
              "1    0\n",
              "2    1\n",
              "3    0\n",
              "4    1\n",
              "Name: diabetes, dtype: int64"
            ]
          },
          "metadata": {},
          "execution_count": 693
        }
      ]
    },
    {
      "cell_type": "markdown",
      "source": [
        "### 4.2 Datensatz in Trainings- und Testmenge aufteilen\n",
        "Erneut müssen wir die Daten aufteilen. Da wir ausschließlich mit numerischen Daten arbeiten, müssen wir keine Datenaufbereitung über `pd.get_dummies` vornehmen."
      ],
      "metadata": {
        "id": "l2eJRG5ICjbo"
      },
      "id": "l2eJRG5ICjbo"
    },
    {
      "cell_type": "code",
      "source": [
        "from sklearn.model_selection import train_test_split"
      ],
      "metadata": {
        "id": "DkUWgtB8DKCI"
      },
      "id": "DkUWgtB8DKCI",
      "execution_count": 694,
      "outputs": []
    },
    {
      "cell_type": "code",
      "source": [
        "# X und y werden in Trainings- und Testmenge aufgeteilt, so dass die Testmenge 20% der vorhandenen Daten hat\n",
        "X_train, X_test, y_train, y_test = train_test_split(X, y, test_size=0.2, random_state=3)"
      ],
      "metadata": {
        "id": "QVKROgWUCeP_"
      },
      "id": "QVKROgWUCeP_",
      "execution_count": 695,
      "outputs": []
    },
    {
      "cell_type": "code",
      "source": [
        "y_train.head()"
      ],
      "metadata": {
        "id": "ajWtX075CxNn",
        "colab": {
          "base_uri": "https://localhost:8080/"
        },
        "outputId": "c43d77a1-3b57-4733-e004-a2b396cffb52"
      },
      "id": "ajWtX075CxNn",
      "execution_count": 696,
      "outputs": [
        {
          "output_type": "execute_result",
          "data": {
            "text/plain": [
              "468    1\n",
              "478    0\n",
              "107    0\n",
              "304    0\n",
              "515    1\n",
              "Name: diabetes, dtype: int64"
            ]
          },
          "metadata": {},
          "execution_count": 696
        }
      ]
    },
    {
      "cell_type": "code",
      "source": [
        "X_train.head()"
      ],
      "metadata": {
        "id": "SApJDY4jDZJW",
        "colab": {
          "base_uri": "https://localhost:8080/",
          "height": 268
        },
        "outputId": "0f5e90e8-a7fe-47bb-b8ac-805df9814740"
      },
      "id": "SApJDY4jDZJW",
      "execution_count": 697,
      "outputs": [
        {
          "output_type": "execute_result",
          "data": {
            "text/plain": [
              "     schwangerschaften  glukose_konzentration  blutdruck  \\\n",
              "468                  8                    120          0   \n",
              "478                  8                    126         74   \n",
              "107                  4                    144         58   \n",
              "304                  3                    150         76   \n",
              "515                  3                    163         70   \n",
              "\n",
              "     dicke_trizepshautfalte  insulin_wert   bmi  diabetes_vorbelastung  alter  \n",
              "468                       0             0  30.0                  0.183     38  \n",
              "478                      38            75  25.9                  0.162     39  \n",
              "107                      28           140  29.5                  0.287     37  \n",
              "304                       0             0  21.0                  0.207     37  \n",
              "515                      18           105  31.6                  0.268     28  "
            ],
            "text/html": [
              "\n",
              "  <div id=\"df-39761cdf-0c60-41a7-aa66-186966891b2b\">\n",
              "    <div class=\"colab-df-container\">\n",
              "      <div>\n",
              "<style scoped>\n",
              "    .dataframe tbody tr th:only-of-type {\n",
              "        vertical-align: middle;\n",
              "    }\n",
              "\n",
              "    .dataframe tbody tr th {\n",
              "        vertical-align: top;\n",
              "    }\n",
              "\n",
              "    .dataframe thead th {\n",
              "        text-align: right;\n",
              "    }\n",
              "</style>\n",
              "<table border=\"1\" class=\"dataframe\">\n",
              "  <thead>\n",
              "    <tr style=\"text-align: right;\">\n",
              "      <th></th>\n",
              "      <th>schwangerschaften</th>\n",
              "      <th>glukose_konzentration</th>\n",
              "      <th>blutdruck</th>\n",
              "      <th>dicke_trizepshautfalte</th>\n",
              "      <th>insulin_wert</th>\n",
              "      <th>bmi</th>\n",
              "      <th>diabetes_vorbelastung</th>\n",
              "      <th>alter</th>\n",
              "    </tr>\n",
              "  </thead>\n",
              "  <tbody>\n",
              "    <tr>\n",
              "      <th>468</th>\n",
              "      <td>8</td>\n",
              "      <td>120</td>\n",
              "      <td>0</td>\n",
              "      <td>0</td>\n",
              "      <td>0</td>\n",
              "      <td>30.0</td>\n",
              "      <td>0.183</td>\n",
              "      <td>38</td>\n",
              "    </tr>\n",
              "    <tr>\n",
              "      <th>478</th>\n",
              "      <td>8</td>\n",
              "      <td>126</td>\n",
              "      <td>74</td>\n",
              "      <td>38</td>\n",
              "      <td>75</td>\n",
              "      <td>25.9</td>\n",
              "      <td>0.162</td>\n",
              "      <td>39</td>\n",
              "    </tr>\n",
              "    <tr>\n",
              "      <th>107</th>\n",
              "      <td>4</td>\n",
              "      <td>144</td>\n",
              "      <td>58</td>\n",
              "      <td>28</td>\n",
              "      <td>140</td>\n",
              "      <td>29.5</td>\n",
              "      <td>0.287</td>\n",
              "      <td>37</td>\n",
              "    </tr>\n",
              "    <tr>\n",
              "      <th>304</th>\n",
              "      <td>3</td>\n",
              "      <td>150</td>\n",
              "      <td>76</td>\n",
              "      <td>0</td>\n",
              "      <td>0</td>\n",
              "      <td>21.0</td>\n",
              "      <td>0.207</td>\n",
              "      <td>37</td>\n",
              "    </tr>\n",
              "    <tr>\n",
              "      <th>515</th>\n",
              "      <td>3</td>\n",
              "      <td>163</td>\n",
              "      <td>70</td>\n",
              "      <td>18</td>\n",
              "      <td>105</td>\n",
              "      <td>31.6</td>\n",
              "      <td>0.268</td>\n",
              "      <td>28</td>\n",
              "    </tr>\n",
              "  </tbody>\n",
              "</table>\n",
              "</div>\n",
              "      <button class=\"colab-df-convert\" onclick=\"convertToInteractive('df-39761cdf-0c60-41a7-aa66-186966891b2b')\"\n",
              "              title=\"Convert this dataframe to an interactive table.\"\n",
              "              style=\"display:none;\">\n",
              "        \n",
              "  <svg xmlns=\"http://www.w3.org/2000/svg\" height=\"24px\"viewBox=\"0 0 24 24\"\n",
              "       width=\"24px\">\n",
              "    <path d=\"M0 0h24v24H0V0z\" fill=\"none\"/>\n",
              "    <path d=\"M18.56 5.44l.94 2.06.94-2.06 2.06-.94-2.06-.94-.94-2.06-.94 2.06-2.06.94zm-11 1L8.5 8.5l.94-2.06 2.06-.94-2.06-.94L8.5 2.5l-.94 2.06-2.06.94zm10 10l.94 2.06.94-2.06 2.06-.94-2.06-.94-.94-2.06-.94 2.06-2.06.94z\"/><path d=\"M17.41 7.96l-1.37-1.37c-.4-.4-.92-.59-1.43-.59-.52 0-1.04.2-1.43.59L10.3 9.45l-7.72 7.72c-.78.78-.78 2.05 0 2.83L4 21.41c.39.39.9.59 1.41.59.51 0 1.02-.2 1.41-.59l7.78-7.78 2.81-2.81c.8-.78.8-2.07 0-2.86zM5.41 20L4 18.59l7.72-7.72 1.47 1.35L5.41 20z\"/>\n",
              "  </svg>\n",
              "      </button>\n",
              "      \n",
              "  <style>\n",
              "    .colab-df-container {\n",
              "      display:flex;\n",
              "      flex-wrap:wrap;\n",
              "      gap: 12px;\n",
              "    }\n",
              "\n",
              "    .colab-df-convert {\n",
              "      background-color: #E8F0FE;\n",
              "      border: none;\n",
              "      border-radius: 50%;\n",
              "      cursor: pointer;\n",
              "      display: none;\n",
              "      fill: #1967D2;\n",
              "      height: 32px;\n",
              "      padding: 0 0 0 0;\n",
              "      width: 32px;\n",
              "    }\n",
              "\n",
              "    .colab-df-convert:hover {\n",
              "      background-color: #E2EBFA;\n",
              "      box-shadow: 0px 1px 2px rgba(60, 64, 67, 0.3), 0px 1px 3px 1px rgba(60, 64, 67, 0.15);\n",
              "      fill: #174EA6;\n",
              "    }\n",
              "\n",
              "    [theme=dark] .colab-df-convert {\n",
              "      background-color: #3B4455;\n",
              "      fill: #D2E3FC;\n",
              "    }\n",
              "\n",
              "    [theme=dark] .colab-df-convert:hover {\n",
              "      background-color: #434B5C;\n",
              "      box-shadow: 0px 1px 3px 1px rgba(0, 0, 0, 0.15);\n",
              "      filter: drop-shadow(0px 1px 2px rgba(0, 0, 0, 0.3));\n",
              "      fill: #FFFFFF;\n",
              "    }\n",
              "  </style>\n",
              "\n",
              "      <script>\n",
              "        const buttonEl =\n",
              "          document.querySelector('#df-39761cdf-0c60-41a7-aa66-186966891b2b button.colab-df-convert');\n",
              "        buttonEl.style.display =\n",
              "          google.colab.kernel.accessAllowed ? 'block' : 'none';\n",
              "\n",
              "        async function convertToInteractive(key) {\n",
              "          const element = document.querySelector('#df-39761cdf-0c60-41a7-aa66-186966891b2b');\n",
              "          const dataTable =\n",
              "            await google.colab.kernel.invokeFunction('convertToInteractive',\n",
              "                                                     [key], {});\n",
              "          if (!dataTable) return;\n",
              "\n",
              "          const docLinkHtml = 'Like what you see? Visit the ' +\n",
              "            '<a target=\"_blank\" href=https://colab.research.google.com/notebooks/data_table.ipynb>data table notebook</a>'\n",
              "            + ' to learn more about interactive tables.';\n",
              "          element.innerHTML = '';\n",
              "          dataTable['output_type'] = 'display_data';\n",
              "          await google.colab.output.renderOutput(dataTable, element);\n",
              "          const docLink = document.createElement('div');\n",
              "          docLink.innerHTML = docLinkHtml;\n",
              "          element.appendChild(docLink);\n",
              "        }\n",
              "      </script>\n",
              "    </div>\n",
              "  </div>\n",
              "  "
            ]
          },
          "metadata": {},
          "execution_count": 697
        }
      ]
    },
    {
      "cell_type": "markdown",
      "source": [
        "### 4.3 Modell auswählen\n",
        "\n",
        "Erneut verwenden wir das Verfahren `Random Forest`. Sie müssen allerdings darauf achten, dass Sie einen Random Forest zur Klassifikation importieren. Aus diesem Grund verwenden wir das Verfahren `RandomForestClassifier`. Für die Regressionaufgabe hatten wir das Verfahren `RandomForestRegressor` genutzt. Achten Sie auf diesen wichtigen Unterschied!"
      ],
      "metadata": {
        "id": "DZH4B74CDepm"
      },
      "id": "DZH4B74CDepm"
    },
    {
      "cell_type": "code",
      "source": [
        "from sklearn.ensemble import RandomForestClassifier"
      ],
      "metadata": {
        "id": "hRJ3fQsFDXL_"
      },
      "id": "hRJ3fQsFDXL_",
      "execution_count": 698,
      "outputs": []
    },
    {
      "cell_type": "code",
      "source": [
        "model = RandomForestClassifier()"
      ],
      "metadata": {
        "id": "cKGnyxJRDqIY"
      },
      "id": "cKGnyxJRDqIY",
      "execution_count": 699,
      "outputs": []
    },
    {
      "cell_type": "markdown",
      "source": [
        "### 4.4 Modell trainieren\n",
        "\n",
        "Das Random Forest Verfahren versucht nun einen Zusammenhang zwischen den Features und dem Target zu lernen und minimiert dabei ein Fehlermaß. Letzteres misst den Grad der Fehlklassifikation. Beispiel für Fehlklassifikation: Das Modell prognostiziert Diabetes für einen Patienten, in der Realität liegt die Erkrankung aber nicht vor."
      ],
      "metadata": {
        "id": "LatzmZt2Dxj6"
      },
      "id": "LatzmZt2Dxj6"
    },
    {
      "cell_type": "code",
      "source": [
        "model.fit(X_train, y_train)"
      ],
      "metadata": {
        "id": "ioXqSKqaDslO",
        "colab": {
          "base_uri": "https://localhost:8080/"
        },
        "outputId": "d18ec035-5ccb-4ae2-9bff-60bb730b8a3f"
      },
      "id": "ioXqSKqaDslO",
      "execution_count": 700,
      "outputs": [
        {
          "output_type": "execute_result",
          "data": {
            "text/plain": [
              "RandomForestClassifier()"
            ]
          },
          "metadata": {},
          "execution_count": 700
        }
      ]
    },
    {
      "cell_type": "markdown",
      "source": [
        "### 4.5 Modell anwenden\n",
        "\n",
        "Das ML-Verfahren erhält die Daten `X_test`, d.h. die Untersuchungsergebnisse mit den relevanten Merkmalen und wendet die gelernten Zusammenhänge zur Prognose des Targets an, d.h. dem Vorhandensein von Diabetes (0/1)!"
      ],
      "metadata": {
        "id": "SnHwdqNWESSV"
      },
      "id": "SnHwdqNWESSV"
    },
    {
      "cell_type": "code",
      "source": [
        "X_test.head(2)"
      ],
      "metadata": {
        "colab": {
          "base_uri": "https://localhost:8080/",
          "height": 175
        },
        "id": "ugENEj5fWHjx",
        "outputId": "9af063d4-a38f-4a19-d8f8-a5b47e080049"
      },
      "id": "ugENEj5fWHjx",
      "execution_count": 701,
      "outputs": [
        {
          "output_type": "execute_result",
          "data": {
            "text/plain": [
              "     schwangerschaften  glukose_konzentration  blutdruck  \\\n",
              "51                   1                    101         50   \n",
              "378                  4                    156         75   \n",
              "\n",
              "     dicke_trizepshautfalte  insulin_wert   bmi  diabetes_vorbelastung  alter  \n",
              "51                       15            36  24.2                  0.526     26  \n",
              "378                       0             0  48.3                  0.238     32  "
            ],
            "text/html": [
              "\n",
              "  <div id=\"df-ae50cac7-8c67-4298-8cf0-2d95b74458e0\">\n",
              "    <div class=\"colab-df-container\">\n",
              "      <div>\n",
              "<style scoped>\n",
              "    .dataframe tbody tr th:only-of-type {\n",
              "        vertical-align: middle;\n",
              "    }\n",
              "\n",
              "    .dataframe tbody tr th {\n",
              "        vertical-align: top;\n",
              "    }\n",
              "\n",
              "    .dataframe thead th {\n",
              "        text-align: right;\n",
              "    }\n",
              "</style>\n",
              "<table border=\"1\" class=\"dataframe\">\n",
              "  <thead>\n",
              "    <tr style=\"text-align: right;\">\n",
              "      <th></th>\n",
              "      <th>schwangerschaften</th>\n",
              "      <th>glukose_konzentration</th>\n",
              "      <th>blutdruck</th>\n",
              "      <th>dicke_trizepshautfalte</th>\n",
              "      <th>insulin_wert</th>\n",
              "      <th>bmi</th>\n",
              "      <th>diabetes_vorbelastung</th>\n",
              "      <th>alter</th>\n",
              "    </tr>\n",
              "  </thead>\n",
              "  <tbody>\n",
              "    <tr>\n",
              "      <th>51</th>\n",
              "      <td>1</td>\n",
              "      <td>101</td>\n",
              "      <td>50</td>\n",
              "      <td>15</td>\n",
              "      <td>36</td>\n",
              "      <td>24.2</td>\n",
              "      <td>0.526</td>\n",
              "      <td>26</td>\n",
              "    </tr>\n",
              "    <tr>\n",
              "      <th>378</th>\n",
              "      <td>4</td>\n",
              "      <td>156</td>\n",
              "      <td>75</td>\n",
              "      <td>0</td>\n",
              "      <td>0</td>\n",
              "      <td>48.3</td>\n",
              "      <td>0.238</td>\n",
              "      <td>32</td>\n",
              "    </tr>\n",
              "  </tbody>\n",
              "</table>\n",
              "</div>\n",
              "      <button class=\"colab-df-convert\" onclick=\"convertToInteractive('df-ae50cac7-8c67-4298-8cf0-2d95b74458e0')\"\n",
              "              title=\"Convert this dataframe to an interactive table.\"\n",
              "              style=\"display:none;\">\n",
              "        \n",
              "  <svg xmlns=\"http://www.w3.org/2000/svg\" height=\"24px\"viewBox=\"0 0 24 24\"\n",
              "       width=\"24px\">\n",
              "    <path d=\"M0 0h24v24H0V0z\" fill=\"none\"/>\n",
              "    <path d=\"M18.56 5.44l.94 2.06.94-2.06 2.06-.94-2.06-.94-.94-2.06-.94 2.06-2.06.94zm-11 1L8.5 8.5l.94-2.06 2.06-.94-2.06-.94L8.5 2.5l-.94 2.06-2.06.94zm10 10l.94 2.06.94-2.06 2.06-.94-2.06-.94-.94-2.06-.94 2.06-2.06.94z\"/><path d=\"M17.41 7.96l-1.37-1.37c-.4-.4-.92-.59-1.43-.59-.52 0-1.04.2-1.43.59L10.3 9.45l-7.72 7.72c-.78.78-.78 2.05 0 2.83L4 21.41c.39.39.9.59 1.41.59.51 0 1.02-.2 1.41-.59l7.78-7.78 2.81-2.81c.8-.78.8-2.07 0-2.86zM5.41 20L4 18.59l7.72-7.72 1.47 1.35L5.41 20z\"/>\n",
              "  </svg>\n",
              "      </button>\n",
              "      \n",
              "  <style>\n",
              "    .colab-df-container {\n",
              "      display:flex;\n",
              "      flex-wrap:wrap;\n",
              "      gap: 12px;\n",
              "    }\n",
              "\n",
              "    .colab-df-convert {\n",
              "      background-color: #E8F0FE;\n",
              "      border: none;\n",
              "      border-radius: 50%;\n",
              "      cursor: pointer;\n",
              "      display: none;\n",
              "      fill: #1967D2;\n",
              "      height: 32px;\n",
              "      padding: 0 0 0 0;\n",
              "      width: 32px;\n",
              "    }\n",
              "\n",
              "    .colab-df-convert:hover {\n",
              "      background-color: #E2EBFA;\n",
              "      box-shadow: 0px 1px 2px rgba(60, 64, 67, 0.3), 0px 1px 3px 1px rgba(60, 64, 67, 0.15);\n",
              "      fill: #174EA6;\n",
              "    }\n",
              "\n",
              "    [theme=dark] .colab-df-convert {\n",
              "      background-color: #3B4455;\n",
              "      fill: #D2E3FC;\n",
              "    }\n",
              "\n",
              "    [theme=dark] .colab-df-convert:hover {\n",
              "      background-color: #434B5C;\n",
              "      box-shadow: 0px 1px 3px 1px rgba(0, 0, 0, 0.15);\n",
              "      filter: drop-shadow(0px 1px 2px rgba(0, 0, 0, 0.3));\n",
              "      fill: #FFFFFF;\n",
              "    }\n",
              "  </style>\n",
              "\n",
              "      <script>\n",
              "        const buttonEl =\n",
              "          document.querySelector('#df-ae50cac7-8c67-4298-8cf0-2d95b74458e0 button.colab-df-convert');\n",
              "        buttonEl.style.display =\n",
              "          google.colab.kernel.accessAllowed ? 'block' : 'none';\n",
              "\n",
              "        async function convertToInteractive(key) {\n",
              "          const element = document.querySelector('#df-ae50cac7-8c67-4298-8cf0-2d95b74458e0');\n",
              "          const dataTable =\n",
              "            await google.colab.kernel.invokeFunction('convertToInteractive',\n",
              "                                                     [key], {});\n",
              "          if (!dataTable) return;\n",
              "\n",
              "          const docLinkHtml = 'Like what you see? Visit the ' +\n",
              "            '<a target=\"_blank\" href=https://colab.research.google.com/notebooks/data_table.ipynb>data table notebook</a>'\n",
              "            + ' to learn more about interactive tables.';\n",
              "          element.innerHTML = '';\n",
              "          dataTable['output_type'] = 'display_data';\n",
              "          await google.colab.output.renderOutput(dataTable, element);\n",
              "          const docLink = document.createElement('div');\n",
              "          docLink.innerHTML = docLinkHtml;\n",
              "          element.appendChild(docLink);\n",
              "        }\n",
              "      </script>\n",
              "    </div>\n",
              "  </div>\n",
              "  "
            ]
          },
          "metadata": {},
          "execution_count": 701
        }
      ]
    },
    {
      "cell_type": "code",
      "source": [
        "y_test"
      ],
      "metadata": {
        "colab": {
          "base_uri": "https://localhost:8080/"
        },
        "id": "_j-mAPmJZxwk",
        "outputId": "b8e1b6c9-3674-41c8-e118-17639574056e"
      },
      "id": "_j-mAPmJZxwk",
      "execution_count": 702,
      "outputs": [
        {
          "output_type": "execute_result",
          "data": {
            "text/plain": [
              "51     0\n",
              "378    1\n",
              "27     0\n",
              "579    1\n",
              "86     0\n",
              "      ..\n",
              "301    1\n",
              "759    1\n",
              "233    0\n",
              "469    0\n",
              "576    0\n",
              "Name: diabetes, Length: 154, dtype: int64"
            ]
          },
          "metadata": {},
          "execution_count": 702
        }
      ]
    },
    {
      "cell_type": "code",
      "source": [
        "y_pred = model.predict(X_test)"
      ],
      "metadata": {
        "id": "Lw2VrYolEL1G"
      },
      "id": "Lw2VrYolEL1G",
      "execution_count": 703,
      "outputs": []
    },
    {
      "cell_type": "markdown",
      "source": [
        "### 4.6 Modell evaluieren\n",
        "\n",
        "Die Modellbewertung erfolgt bei der Klassifikation regelmäßg nach dem Kriterium der \"Accuracy\" (andere kommen aber auch zum Einsatz). Die Accuracy setzt die Anzahl der korrekten Klassifikation in das Verhältnis zur Anzahl aller Beobachtungen. Dementsprechend stellt sie den Anteil der korrekten Klassifikationen dar."
      ],
      "metadata": {
        "id": "2LtmLpD4EkIp"
      },
      "id": "2LtmLpD4EkIp"
    },
    {
      "cell_type": "code",
      "source": [
        "sklearn.metrics.accuracy_score(y_test, y_pred) * 100"
      ],
      "metadata": {
        "id": "QFRaMmh7Ef47",
        "colab": {
          "base_uri": "https://localhost:8080/"
        },
        "outputId": "831d693a-5393-4840-a93b-3c7d81bf03c8"
      },
      "id": "QFRaMmh7Ef47",
      "execution_count": 704,
      "outputs": [
        {
          "output_type": "execute_result",
          "data": {
            "text/plain": [
              "72.07792207792207"
            ]
          },
          "metadata": {},
          "execution_count": 704
        }
      ]
    },
    {
      "cell_type": "markdown",
      "source": [
        "Zur Veranschaulichung von Klassifikationsergebnissen hilft regelmäßig eine Konfusionsmatrix. Diese wird wie folgt erstellt:"
      ],
      "metadata": {
        "id": "G_zYj8rkOeuS"
      },
      "id": "G_zYj8rkOeuS"
    },
    {
      "cell_type": "code",
      "source": [
        "conf_matrix = sklearn.metrics.confusion_matrix(y_test, y_pred, labels=model.classes_)\n",
        "disp = sklearn.metrics.ConfusionMatrixDisplay(conf_matrix, display_labels=model.classes_)\n",
        "disp.plot()\n",
        "plt.show()"
      ],
      "metadata": {
        "id": "g_2GU6ppEvOP",
        "colab": {
          "base_uri": "https://localhost:8080/",
          "height": 279
        },
        "outputId": "091e6459-7d35-4c4c-cb70-e9b484db888d"
      },
      "id": "g_2GU6ppEvOP",
      "execution_count": 705,
      "outputs": [
        {
          "output_type": "display_data",
          "data": {
            "text/plain": [
              "<Figure size 432x288 with 2 Axes>"
            ],
            "image/png": "[encoded data removed]"
          },
          "metadata": {
            "needs_background": "light"
          }
        }
      ]
    },
    {
      "cell_type": "markdown",
      "source": [
        "### 4.7 Beispiel Vorhersage der Anzahl von Schwangerschaften"
      ],
      "metadata": {
        "id": "E02vjECMHydd"
      },
      "id": "E02vjECMHydd"
    },
    {
      "cell_type": "code",
      "source": [
        "# Modelltraining\n",
        "# 1. Datenaufteilung in X und y\n",
        "X = data.drop(columns=\"schwangerschaften\")\n",
        "y = data[\"schwangerschaften\"]\n",
        "# 2. Datenaufteilung in X_train, X_test, y_train, y_test\n",
        "X_train, X_test, y_train, y_test = train_test_split(X, y, test_size=0.2, random_state=3)\n",
        "# 3. Modell trainieren\n",
        "model = RandomForestClassifier()\n",
        "model.fit(X_train, y_train)"
      ],
      "metadata": {
        "colab": {
          "base_uri": "https://localhost:8080/"
        },
        "id": "uUOCSeTVH6Nd",
        "outputId": "06647ee2-c7ba-4714-aeaa-dbd4ad0b00aa"
      },
      "id": "uUOCSeTVH6Nd",
      "execution_count": 706,
      "outputs": [
        {
          "output_type": "execute_result",
          "data": {
            "text/plain": [
              "RandomForestClassifier()"
            ]
          },
          "metadata": {},
          "execution_count": 706
        }
      ]
    },
    {
      "cell_type": "code",
      "source": [
        "# Modellanwendung Person1\n",
        "person = data.head(1).drop(columns=\"schwangerschaften\").copy()\n",
        "person"
      ],
      "metadata": {
        "colab": {
          "base_uri": "https://localhost:8080/",
          "height": 144
        },
        "id": "wT2uNxBZIQ8N",
        "outputId": "8ae16cdf-76d0-4b57-89a9-58a5fa89816e"
      },
      "id": "wT2uNxBZIQ8N",
      "execution_count": 707,
      "outputs": [
        {
          "output_type": "execute_result",
          "data": {
            "text/plain": [
              "   glukose_konzentration  blutdruck  dicke_trizepshautfalte  insulin_wert  \\\n",
              "0                    148         72                      35             0   \n",
              "\n",
              "    bmi  diabetes_vorbelastung  alter  diabetes  \n",
              "0  33.6                  0.627     50         1  "
            ],
            "text/html": [
              "\n",
              "  <div id=\"df-69138450-6d39-4fea-bbd3-b8ed388bdc17\">\n",
              "    <div class=\"colab-df-container\">\n",
              "      <div>\n",
              "<style scoped>\n",
              "    .dataframe tbody tr th:only-of-type {\n",
              "        vertical-align: middle;\n",
              "    }\n",
              "\n",
              "    .dataframe tbody tr th {\n",
              "        vertical-align: top;\n",
              "    }\n",
              "\n",
              "    .dataframe thead th {\n",
              "        text-align: right;\n",
              "    }\n",
              "</style>\n",
              "<table border=\"1\" class=\"dataframe\">\n",
              "  <thead>\n",
              "    <tr style=\"text-align: right;\">\n",
              "      <th></th>\n",
              "      <th>glukose_konzentration</th>\n",
              "      <th>blutdruck</th>\n",
              "      <th>dicke_trizepshautfalte</th>\n",
              "      <th>insulin_wert</th>\n",
              "      <th>bmi</th>\n",
              "      <th>diabetes_vorbelastung</th>\n",
              "      <th>alter</th>\n",
              "      <th>diabetes</th>\n",
              "    </tr>\n",
              "  </thead>\n",
              "  <tbody>\n",
              "    <tr>\n",
              "      <th>0</th>\n",
              "      <td>148</td>\n",
              "      <td>72</td>\n",
              "      <td>35</td>\n",
              "      <td>0</td>\n",
              "      <td>33.6</td>\n",
              "      <td>0.627</td>\n",
              "      <td>50</td>\n",
              "      <td>1</td>\n",
              "    </tr>\n",
              "  </tbody>\n",
              "</table>\n",
              "</div>\n",
              "      <button class=\"colab-df-convert\" onclick=\"convertToInteractive('df-69138450-6d39-4fea-bbd3-b8ed388bdc17')\"\n",
              "              title=\"Convert this dataframe to an interactive table.\"\n",
              "              style=\"display:none;\">\n",
              "        \n",
              "  <svg xmlns=\"http://www.w3.org/2000/svg\" height=\"24px\"viewBox=\"0 0 24 24\"\n",
              "       width=\"24px\">\n",
              "    <path d=\"M0 0h24v24H0V0z\" fill=\"none\"/>\n",
              "    <path d=\"M18.56 5.44l.94 2.06.94-2.06 2.06-.94-2.06-.94-.94-2.06-.94 2.06-2.06.94zm-11 1L8.5 8.5l.94-2.06 2.06-.94-2.06-.94L8.5 2.5l-.94 2.06-2.06.94zm10 10l.94 2.06.94-2.06 2.06-.94-2.06-.94-.94-2.06-.94 2.06-2.06.94z\"/><path d=\"M17.41 7.96l-1.37-1.37c-.4-.4-.92-.59-1.43-.59-.52 0-1.04.2-1.43.59L10.3 9.45l-7.72 7.72c-.78.78-.78 2.05 0 2.83L4 21.41c.39.39.9.59 1.41.59.51 0 1.02-.2 1.41-.59l7.78-7.78 2.81-2.81c.8-.78.8-2.07 0-2.86zM5.41 20L4 18.59l7.72-7.72 1.47 1.35L5.41 20z\"/>\n",
              "  </svg>\n",
              "      </button>\n",
              "      \n",
              "  <style>\n",
              "    .colab-df-container {\n",
              "      display:flex;\n",
              "      flex-wrap:wrap;\n",
              "      gap: 12px;\n",
              "    }\n",
              "\n",
              "    .colab-df-convert {\n",
              "      background-color: #E8F0FE;\n",
              "      border: none;\n",
              "      border-radius: 50%;\n",
              "      cursor: pointer;\n",
              "      display: none;\n",
              "      fill: #1967D2;\n",
              "      height: 32px;\n",
              "      padding: 0 0 0 0;\n",
              "      width: 32px;\n",
              "    }\n",
              "\n",
              "    .colab-df-convert:hover {\n",
              "      background-color: #E2EBFA;\n",
              "      box-shadow: 0px 1px 2px rgba(60, 64, 67, 0.3), 0px 1px 3px 1px rgba(60, 64, 67, 0.15);\n",
              "      fill: #174EA6;\n",
              "    }\n",
              "\n",
              "    [theme=dark] .colab-df-convert {\n",
              "      background-color: #3B4455;\n",
              "      fill: #D2E3FC;\n",
              "    }\n",
              "\n",
              "    [theme=dark] .colab-df-convert:hover {\n",
              "      background-color: #434B5C;\n",
              "      box-shadow: 0px 1px 3px 1px rgba(0, 0, 0, 0.15);\n",
              "      filter: drop-shadow(0px 1px 2px rgba(0, 0, 0, 0.3));\n",
              "      fill: #FFFFFF;\n",
              "    }\n",
              "  </style>\n",
              "\n",
              "      <script>\n",
              "        const buttonEl =\n",
              "          document.querySelector('#df-69138450-6d39-4fea-bbd3-b8ed388bdc17 button.colab-df-convert');\n",
              "        buttonEl.style.display =\n",
              "          google.colab.kernel.accessAllowed ? 'block' : 'none';\n",
              "\n",
              "        async function convertToInteractive(key) {\n",
              "          const element = document.querySelector('#df-69138450-6d39-4fea-bbd3-b8ed388bdc17');\n",
              "          const dataTable =\n",
              "            await google.colab.kernel.invokeFunction('convertToInteractive',\n",
              "                                                     [key], {});\n",
              "          if (!dataTable) return;\n",
              "\n",
              "          const docLinkHtml = 'Like what you see? Visit the ' +\n",
              "            '<a target=\"_blank\" href=https://colab.research.google.com/notebooks/data_table.ipynb>data table notebook</a>'\n",
              "            + ' to learn more about interactive tables.';\n",
              "          element.innerHTML = '';\n",
              "          dataTable['output_type'] = 'display_data';\n",
              "          await google.colab.output.renderOutput(dataTable, element);\n",
              "          const docLink = document.createElement('div');\n",
              "          docLink.innerHTML = docLinkHtml;\n",
              "          element.appendChild(docLink);\n",
              "        }\n",
              "      </script>\n",
              "    </div>\n",
              "  </div>\n",
              "  "
            ]
          },
          "metadata": {},
          "execution_count": 707
        }
      ]
    },
    {
      "cell_type": "code",
      "source": [
        "model.predict(person)"
      ],
      "metadata": {
        "colab": {
          "base_uri": "https://localhost:8080/"
        },
        "id": "u86KU1_kJHyZ",
        "outputId": "d0080976-34ea-44c8-a31d-7744f134b343"
      },
      "id": "u86KU1_kJHyZ",
      "execution_count": 708,
      "outputs": [
        {
          "output_type": "execute_result",
          "data": {
            "text/plain": [
              "array([6])"
            ]
          },
          "metadata": {},
          "execution_count": 708
        }
      ]
    },
    {
      "cell_type": "code",
      "source": [
        "# Modellanwendung Person2\n",
        "person[\"bmi\"]=20\n",
        "person[\"diabetes\"]=0\n",
        "person[\"alter\"]=25"
      ],
      "metadata": {
        "id": "7d1FuHqbKEuH"
      },
      "id": "7d1FuHqbKEuH",
      "execution_count": 709,
      "outputs": []
    },
    {
      "cell_type": "code",
      "source": [
        "model.predict(person)"
      ],
      "metadata": {
        "colab": {
          "base_uri": "https://localhost:8080/"
        },
        "id": "GnBelnzIKEM2",
        "outputId": "260dd0ea-47fc-4328-f55f-3122d44be518"
      },
      "id": "GnBelnzIKEM2",
      "execution_count": 710,
      "outputs": [
        {
          "output_type": "execute_result",
          "data": {
            "text/plain": [
              "array([1])"
            ]
          },
          "metadata": {},
          "execution_count": 710
        }
      ]
    },
    {
      "cell_type": "markdown",
      "source": [
        "### Abschlussübung Machine Learning <a class=\"anchor\" id=\"final\"></a>\n",
        "Wir bleiben beim Datensatz zur Diabetes. Entwickeln Sie ein Machine Learning Modell, welches den BMI einer untersuchten Person auf Basis der Untersuchungsergebnisse (inkl. Diabetesbefund) vorhersagt!"
      ],
      "metadata": {
        "id": "lqGYeZEjOrwp"
      },
      "id": "lqGYeZEjOrwp"
    },
    {
      "cell_type": "code",
      "source": [
        "data.head()"
      ],
      "metadata": {
        "id": "83cyBO79F0q1",
        "colab": {
          "base_uri": "https://localhost:8080/",
          "height": 268
        },
        "outputId": "8b4bbe10-9747-4f24-b553-f247f50ba291"
      },
      "id": "83cyBO79F0q1",
      "execution_count": 711,
      "outputs": [
        {
          "output_type": "execute_result",
          "data": {
            "text/plain": [
              "   schwangerschaften  glukose_konzentration  blutdruck  \\\n",
              "0                  6                    148         72   \n",
              "1                  1                     85         66   \n",
              "2                  8                    183         64   \n",
              "3                  1                     89         66   \n",
              "4                  0                    137         40   \n",
              "\n",
              "   dicke_trizepshautfalte  insulin_wert   bmi  diabetes_vorbelastung  alter  \\\n",
              "0                      35             0  33.6                  0.627     50   \n",
              "1                      29             0  26.6                  0.351     31   \n",
              "2                       0             0  23.3                  0.672     32   \n",
              "3                      23            94  28.1                  0.167     21   \n",
              "4                      35           168  43.1                  2.288     33   \n",
              "\n",
              "   diabetes  \n",
              "0         1  \n",
              "1         0  \n",
              "2         1  \n",
              "3         0  \n",
              "4         1  "
            ],
            "text/html": [
              "\n",
              "  <div id=\"df-6d983359-5489-4436-8538-c49bf103c2c2\">\n",
              "    <div class=\"colab-df-container\">\n",
              "      <div>\n",
              "<style scoped>\n",
              "    .dataframe tbody tr th:only-of-type {\n",
              "        vertical-align: middle;\n",
              "    }\n",
              "\n",
              "    .dataframe tbody tr th {\n",
              "        vertical-align: top;\n",
              "    }\n",
              "\n",
              "    .dataframe thead th {\n",
              "        text-align: right;\n",
              "    }\n",
              "</style>\n",
              "<table border=\"1\" class=\"dataframe\">\n",
              "  <thead>\n",
              "    <tr style=\"text-align: right;\">\n",
              "      <th></th>\n",
              "      <th>schwangerschaften</th>\n",
              "      <th>glukose_konzentration</th>\n",
              "      <th>blutdruck</th>\n",
              "      <th>dicke_trizepshautfalte</th>\n",
              "      <th>insulin_wert</th>\n",
              "      <th>bmi</th>\n",
              "      <th>diabetes_vorbelastung</th>\n",
              "      <th>alter</th>\n",
              "      <th>diabetes</th>\n",
              "    </tr>\n",
              "  </thead>\n",
              "  <tbody>\n",
              "    <tr>\n",
              "      <th>0</th>\n",
              "      <td>6</td>\n",
              "      <td>148</td>\n",
              "      <td>72</td>\n",
              "      <td>35</td>\n",
              "      <td>0</td>\n",
              "      <td>33.6</td>\n",
              "      <td>0.627</td>\n",
              "      <td>50</td>\n",
              "      <td>1</td>\n",
              "    </tr>\n",
              "    <tr>\n",
              "      <th>1</th>\n",
              "      <td>1</td>\n",
              "      <td>85</td>\n",
              "      <td>66</td>\n",
              "      <td>29</td>\n",
              "      <td>0</td>\n",
              "      <td>26.6</td>\n",
              "      <td>0.351</td>\n",
              "      <td>31</td>\n",
              "      <td>0</td>\n",
              "    </tr>\n",
              "    <tr>\n",
              "      <th>2</th>\n",
              "      <td>8</td>\n",
              "      <td>183</td>\n",
              "      <td>64</td>\n",
              "      <td>0</td>\n",
              "      <td>0</td>\n",
              "      <td>23.3</td>\n",
              "      <td>0.672</td>\n",
              "      <td>32</td>\n",
              "      <td>1</td>\n",
              "    </tr>\n",
              "    <tr>\n",
              "      <th>3</th>\n",
              "      <td>1</td>\n",
              "      <td>89</td>\n",
              "      <td>66</td>\n",
              "      <td>23</td>\n",
              "      <td>94</td>\n",
              "      <td>28.1</td>\n",
              "      <td>0.167</td>\n",
              "      <td>21</td>\n",
              "      <td>0</td>\n",
              "    </tr>\n",
              "    <tr>\n",
              "      <th>4</th>\n",
              "      <td>0</td>\n",
              "      <td>137</td>\n",
              "      <td>40</td>\n",
              "      <td>35</td>\n",
              "      <td>168</td>\n",
              "      <td>43.1</td>\n",
              "      <td>2.288</td>\n",
              "      <td>33</td>\n",
              "      <td>1</td>\n",
              "    </tr>\n",
              "  </tbody>\n",
              "</table>\n",
              "</div>\n",
              "      <button class=\"colab-df-convert\" onclick=\"convertToInteractive('df-6d983359-5489-4436-8538-c49bf103c2c2')\"\n",
              "              title=\"Convert this dataframe to an interactive table.\"\n",
              "              style=\"display:none;\">\n",
              "        \n",
              "  <svg xmlns=\"http://www.w3.org/2000/svg\" height=\"24px\"viewBox=\"0 0 24 24\"\n",
              "       width=\"24px\">\n",
              "    <path d=\"M0 0h24v24H0V0z\" fill=\"none\"/>\n",
              "    <path d=\"M18.56 5.44l.94 2.06.94-2.06 2.06-.94-2.06-.94-.94-2.06-.94 2.06-2.06.94zm-11 1L8.5 8.5l.94-2.06 2.06-.94-2.06-.94L8.5 2.5l-.94 2.06-2.06.94zm10 10l.94 2.06.94-2.06 2.06-.94-2.06-.94-.94-2.06-.94 2.06-2.06.94z\"/><path d=\"M17.41 7.96l-1.37-1.37c-.4-.4-.92-.59-1.43-.59-.52 0-1.04.2-1.43.59L10.3 9.45l-7.72 7.72c-.78.78-.78 2.05 0 2.83L4 21.41c.39.39.9.59 1.41.59.51 0 1.02-.2 1.41-.59l7.78-7.78 2.81-2.81c.8-.78.8-2.07 0-2.86zM5.41 20L4 18.59l7.72-7.72 1.47 1.35L5.41 20z\"/>\n",
              "  </svg>\n",
              "      </button>\n",
              "      \n",
              "  <style>\n",
              "    .colab-df-container {\n",
              "      display:flex;\n",
              "      flex-wrap:wrap;\n",
              "      gap: 12px;\n",
              "    }\n",
              "\n",
              "    .colab-df-convert {\n",
              "      background-color: #E8F0FE;\n",
              "      border: none;\n",
              "      border-radius: 50%;\n",
              "      cursor: pointer;\n",
              "      display: none;\n",
              "      fill: #1967D2;\n",
              "      height: 32px;\n",
              "      padding: 0 0 0 0;\n",
              "      width: 32px;\n",
              "    }\n",
              "\n",
              "    .colab-df-convert:hover {\n",
              "      background-color: #E2EBFA;\n",
              "      box-shadow: 0px 1px 2px rgba(60, 64, 67, 0.3), 0px 1px 3px 1px rgba(60, 64, 67, 0.15);\n",
              "      fill: #174EA6;\n",
              "    }\n",
              "\n",
              "    [theme=dark] .colab-df-convert {\n",
              "      background-color: #3B4455;\n",
              "      fill: #D2E3FC;\n",
              "    }\n",
              "\n",
              "    [theme=dark] .colab-df-convert:hover {\n",
              "      background-color: #434B5C;\n",
              "      box-shadow: 0px 1px 3px 1px rgba(0, 0, 0, 0.15);\n",
              "      filter: drop-shadow(0px 1px 2px rgba(0, 0, 0, 0.3));\n",
              "      fill: #FFFFFF;\n",
              "    }\n",
              "  </style>\n",
              "\n",
              "      <script>\n",
              "        const buttonEl =\n",
              "          document.querySelector('#df-6d983359-5489-4436-8538-c49bf103c2c2 button.colab-df-convert');\n",
              "        buttonEl.style.display =\n",
              "          google.colab.kernel.accessAllowed ? 'block' : 'none';\n",
              "\n",
              "        async function convertToInteractive(key) {\n",
              "          const element = document.querySelector('#df-6d983359-5489-4436-8538-c49bf103c2c2');\n",
              "          const dataTable =\n",
              "            await google.colab.kernel.invokeFunction('convertToInteractive',\n",
              "                                                     [key], {});\n",
              "          if (!dataTable) return;\n",
              "\n",
              "          const docLinkHtml = 'Like what you see? Visit the ' +\n",
              "            '<a target=\"_blank\" href=https://colab.research.google.com/notebooks/data_table.ipynb>data table notebook</a>'\n",
              "            + ' to learn more about interactive tables.';\n",
              "          element.innerHTML = '';\n",
              "          dataTable['output_type'] = 'display_data';\n",
              "          await google.colab.output.renderOutput(dataTable, element);\n",
              "          const docLink = document.createElement('div');\n",
              "          docLink.innerHTML = docLinkHtml;\n",
              "          element.appendChild(docLink);\n",
              "        }\n",
              "      </script>\n",
              "    </div>\n",
              "  </div>\n",
              "  "
            ]
          },
          "metadata": {},
          "execution_count": 711
        }
      ]
    },
    {
      "cell_type": "code",
      "source": [
        "# Modelltraining\n",
        "# 1. Datenaufteilung in X und y\n",
        "X = data.drop(columns=\"alter\")\n",
        "y = data[\"alter\"]\n",
        "# 2. Datenaufteilung in X_train, X_test, y_train, y_test\n",
        "X_train, X_test, y_train, y_test = train_test_split(X, y, test_size=0.2, random_state=3)\n",
        "# 3. Modell trainieren\n",
        "model = RandomForestRegressor()\n",
        "model.fit(X_train, y_train)\n",
        "# 4. Modell evaulieren\n",
        "y_pred = model.predict(X_test)\n",
        "sklearn.metrics.mean_absolute_error(y_test,y_pred)"
      ],
      "metadata": {
        "colab": {
          "base_uri": "https://localhost:8080/"
        },
        "id": "zPGZAtY9dXSb",
        "outputId": "252d5d29-52cd-4240-ff07-aa5baf3417b7"
      },
      "id": "zPGZAtY9dXSb",
      "execution_count": 714,
      "outputs": [
        {
          "output_type": "execute_result",
          "data": {
            "text/plain": [
              "6.853441558441557"
            ]
          },
          "metadata": {},
          "execution_count": 714
        }
      ]
    },
    {
      "cell_type": "code",
      "source": [
        "y_test"
      ],
      "metadata": {
        "colab": {
          "base_uri": "https://localhost:8080/"
        },
        "id": "0vIRkvTsfdKU",
        "outputId": "df2fa7ed-380a-4871-9096-169a31127060"
      },
      "id": "0vIRkvTsfdKU",
      "execution_count": 716,
      "outputs": [
        {
          "output_type": "execute_result",
          "data": {
            "text/plain": [
              "51     26\n",
              "378    32\n",
              "27     22\n",
              "579    62\n",
              "86     45\n",
              "       ..\n",
              "301    25\n",
              "759    66\n",
              "233    29\n",
              "469    27\n",
              "576    35\n",
              "Name: alter, Length: 154, dtype: int64"
            ]
          },
          "metadata": {},
          "execution_count": 716
        }
      ]
    },
    {
      "cell_type": "code",
      "source": [
        "y_pred"
      ],
      "metadata": {
        "colab": {
          "base_uri": "https://localhost:8080/"
        },
        "id": "wQoDDfW-eh5l",
        "outputId": "931981b3-7824-4638-a11d-ebb524c0e292"
      },
      "id": "wQoDDfW-eh5l",
      "execution_count": 715,
      "outputs": [
        {
          "output_type": "execute_result",
          "data": {
            "text/plain": [
              "array([22.59, 38.18, 24.81, 31.02, 49.85, 31.95, 39.72, 24.21, 38.53,\n",
              "       31.81, 34.97, 51.79, 28.34, 31.51, 44.13, 23.69, 23.93, 24.09,\n",
              "       40.95, 38.16, 38.28, 22.4 , 26.3 , 26.43, 25.35, 34.44, 23.19,\n",
              "       25.77, 38.99, 28.29, 29.8 , 41.18, 29.17, 22.57, 45.7 , 27.89,\n",
              "       33.49, 48.01, 41.22, 40.86, 46.06, 23.13, 40.57, 24.91, 42.66,\n",
              "       41.08, 31.56, 44.06, 29.72, 25.35, 32.6 , 30.28, 27.08, 43.86,\n",
              "       30.57, 27.68, 32.3 , 43.52, 33.43, 36.22, 26.44, 23.52, 48.27,\n",
              "       41.08, 35.7 , 43.89, 41.7 , 34.85, 26.93, 27.73, 43.83, 28.21,\n",
              "       25.13, 34.64, 39.9 , 31.4 , 26.98, 23.63, 25.51, 25.46, 28.48,\n",
              "       44.93, 24.41, 30.99, 37.69, 24.73, 51.31, 40.17, 26.63, 31.6 ,\n",
              "       50.52, 47.02, 42.18, 33.45, 38.67, 31.34, 30.27, 38.68, 44.19,\n",
              "       23.16, 23.33, 46.26, 28.6 , 41.26, 41.2 , 27.7 , 51.66, 38.73,\n",
              "       30.33, 38.3 , 34.26, 34.5 , 30.41, 51.42, 34.07, 29.13, 36.19,\n",
              "       28.45, 42.47, 28.42, 24.28, 30.39, 24.06, 27.95, 24.48, 30.92,\n",
              "       36.77, 26.01, 27.83, 44.45, 31.35, 45.12, 44.63, 31.78, 40.87,\n",
              "       44.42, 32.81, 49.42, 23.51, 22.04, 27.99, 24.12, 24.15, 30.36,\n",
              "       38.98, 26.65, 38.19, 43.83, 23.55, 27.93, 44.23, 28.48, 40.29,\n",
              "       32.22])"
            ]
          },
          "metadata": {},
          "execution_count": 715
        }
      ]
    },
    {
      "cell_type": "code",
      "source": [
        ""
      ],
      "metadata": {
        "id": "yv_LUkVVfbX2"
      },
      "id": "yv_LUkVVfbX2",
      "execution_count": null,
      "outputs": []
    }
  ],
  "metadata": {
    "kernelspec": {
      "display_name": "Python 3 (ipykernel)",
      "language": "python",
      "name": "python3"
    },
    "language_info": {
      "codemirror_mode": {
        "name": "ipython",
        "version": 3
      },
      "file_extension": ".py",
      "mimetype": "text/x-python",
      "name": "python",
      "nbconvert_exporter": "python",
      "pygments_lexer": "ipython3",
      "version": "3.8.5"
    },
    "colab": {
      "name": "G2 Machine Learning.ipynb",
      "provenance": [],
      "collapsed_sections": [],
      "toc_visible": true,
      "include_colab_link": true
    }
  },
  "nbformat": 4,
  "nbformat_minor": 5
}