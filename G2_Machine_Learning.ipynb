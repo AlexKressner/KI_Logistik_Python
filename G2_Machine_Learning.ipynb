{
  "cells": [
    {
      "cell_type": "markdown",
      "metadata": {
        "id": "view-in-github",
        "colab_type": "text"
      },
      "source": [
        "<a href=\"https://colab.research.google.com/github/AlexKressner/KI_Logistik_Python/blob/main/G2_Machine_Learning.ipynb\" target=\"_parent\"><img src=\"https://colab.research.google.com/assets/colab-badge.svg\" alt=\"Open In Colab\"/></a>"
      ]
    },
    {
      "cell_type": "markdown",
      "id": "64b0765e-bc90-46b8-8c66-0123b137bf19",
      "metadata": {
        "jp-MarkdownHeadingCollapsed": true,
        "tags": [],
        "id": "64b0765e-bc90-46b8-8c66-0123b137bf19"
      },
      "source": [
        "# Übersicht\n",
        "1. [Problem/ Business Understanding](#problem)\n",
        "1. [Data Understanding & Data Exploration](#data)\n",
        "  1. [Erster Überblick](#overview)\n",
        "  1. [Target](#target)\n",
        "  1. [Features](#feature)"
      ]
    },
    {
      "cell_type": "markdown",
      "id": "4568c8d2-8df2-406b-9dd1-a3420d979671",
      "metadata": {
        "id": "4568c8d2-8df2-406b-9dd1-a3420d979671"
      },
      "source": [
        "# Übungsaufgaben\n",
        "- [Data Exploration - Weindaten](#wine_eda)"
      ]
    },
    {
      "cell_type": "markdown",
      "source": [
        "## 1 Problem/ Business Understanding <a class=\"anchor\" id=\"problem\"></a>\n",
        "Sie kennen bereits die Daten zu den Fussballweltmeisterschaften von 1930 bis 2014. In diesen ist jedes einzelne Weltmeisterschaftsspiel dokumentiert - von der Zuschauerzahl bis zum Endergebnis. \n",
        "\n",
        "Wir werden nun versuchen, die Anzahl der in einem Spiel geschossenen Tore nach Abschluss der ersten Halbzeit vorherzusagen. Durch die Nutzung von maschinellen Lernverfahren versuchen wir aus den zur Halbzeit vorliegenden Daten Muster zu erkennen, die eine zuverlässige Vorhersage der geschossenen Tore erlaubt. \n",
        "\n",
        "Zunächst überlegen wir uns, welche Daten (Features) einen Einfluss auf die Anzahl der geschossenen Tore haben. Mit Sicherheit ist in diesem Zusammenhang die Anzahl der zur Halbzeit geschossenen Tore eine wichtige Information. Zusätzlich kann man sich aber auch die folgenden Fragen stellen:\n",
        "- Hat die Spielpaarung einen Einfluss auf die Anzahl der Tore?\n",
        "- Hat die Anzahl der Zuschauer einen Einfluss auf die Anzahl der geschossenen Tore?\n",
        "- Fallen mehr Tore in einem Vorrundenspiel im Vergleich zu einem Halbfinale?\n",
        "- ...\n",
        "\n",
        "Sicherlich finden wir auf jede einzelne Frage auch ohne maschinelle Lernverfahren durch eine tiefergehende Datenanalse erste Antworten. Die Bewertung der Einflüsse in ihrer Kombination ist aber schon äußerst schwierig.\n",
        "\n",
        "Maschinelle Lernverfahren helfen hier enorm. Wir müssen lediglich die Daten in geeigneter Weise aufbereiten, einen passenden Algorithmus auf diese anwenden und erhalten anschließend Prognosen zur interessierten Zielgröße oder Aussagen über die Bedeutung einzelner Features."
      ],
      "metadata": {
        "id": "MoVOHMi014E3"
      },
      "id": "MoVOHMi014E3"
    },
    {
      "cell_type": "markdown",
      "source": [
        "**Frage:** Welchem Teilgebiet des maschinellen Lernens ist die oben beschriebene Problemstellung zuzuordnen? Supervised oder Unsupervised Learning?"
      ],
      "metadata": {
        "id": "bKCLGPXZXjl2"
      },
      "id": "bKCLGPXZXjl2"
    },
    {
      "cell_type": "code",
      "source": [
        ""
      ],
      "metadata": {
        "id": "mYYdkl0dZSD5"
      },
      "id": "mYYdkl0dZSD5",
      "execution_count": null,
      "outputs": []
    },
    {
      "cell_type": "markdown",
      "source": [
        "**Frage:** Handelt es sich um ein Regressions- oder Klassifikationsproblem?"
      ],
      "metadata": {
        "id": "jfqfGQAZZTbG"
      },
      "id": "jfqfGQAZZTbG"
    },
    {
      "cell_type": "code",
      "source": [
        ""
      ],
      "metadata": {
        "id": "L3PLvd_iZdQq"
      },
      "id": "L3PLvd_iZdQq",
      "execution_count": null,
      "outputs": []
    },
    {
      "cell_type": "markdown",
      "source": [
        "## 2 Data Understanding & Exploration <a class=\"anchor\" id=\"data\"></a>\n",
        "In einem ersten Schritt ist es wichtig, dass Sie sich einen Überblick zu den vorhandenen Daten verschaffen, d.h.:\n",
        "- Wie groß ist der Datensatz (Zeilen/Spalten)\n",
        "- Was bedeuten die einzelnen Werte in den Spalten (Features)?\n",
        "- Wie sind die Werte der einzelnen Features verteilt?\n",
        "- Gibt es fehlende Werte, die Sie bereinigen müssen?\n",
        "- Wie sin die Zusammenhänge zwischen den Features?\n",
        "- ...\n",
        "\n",
        "Besonders hilfreich sind an dieser Stelle Visualisierung, die Ihnen einen Überblick zu den Daten geben und bereits etwaige Zusammenhänge zwischen Features und/oder Target aufzeigen!"
      ],
      "metadata": {
        "id": "mstNne1_1OrN"
      },
      "id": "mstNne1_1OrN"
    },
    {
      "cell_type": "code",
      "source": [
        "import pandas as pd # zur Datenanalyse\n",
        "import matplotlib.pyplot as plt # zur Datenvisualisierug\n",
        "import numpy as np"
      ],
      "metadata": {
        "id": "sUGf06iS1arF"
      },
      "id": "sUGf06iS1arF",
      "execution_count": null,
      "outputs": []
    },
    {
      "cell_type": "code",
      "source": [
        "# Google-Drive einbinden\n",
        "from google.colab import drive\n",
        "drive.mount('/content/drive')"
      ],
      "metadata": {
        "id": "I-5QslQG1kr3"
      },
      "id": "I-5QslQG1kr3",
      "execution_count": null,
      "outputs": []
    },
    {
      "cell_type": "code",
      "source": [
        "# Daten laden\n",
        "data = pd.read_csv(\"/content/drive/MyDrive/WorldCupMatches.txt\")\n",
        "data = data.astype({\"Datetime\": \"M\", \"RoundID\": \"O\", \"MatchID\": \"O\"}, errors='raise') \n",
        "data.dropna(inplace=True)\n",
        "data.replace(' ', np.nan, inplace=True)\n",
        "data.head()"
      ],
      "metadata": {
        "id": "9GLKqz311sMC"
      },
      "id": "9GLKqz311sMC",
      "execution_count": null,
      "outputs": []
    },
    {
      "cell_type": "markdown",
      "source": [
        "### 2.1 Erster Überblick zum Datensatz <a class=\"anchor\" id=\"overview\"></a>"
      ],
      "metadata": {
        "id": "KkHlMAifQF9l"
      },
      "id": "KkHlMAifQF9l"
    },
    {
      "cell_type": "code",
      "source": [
        "# Größe des Datensatzes\n",
        "data.shape"
      ],
      "metadata": {
        "id": "qofiApAiQEuA"
      },
      "id": "qofiApAiQEuA",
      "execution_count": null,
      "outputs": []
    },
    {
      "cell_type": "code",
      "source": [
        "# Fehlende Werte\n",
        "data.isna().any()"
      ],
      "metadata": {
        "id": "aaMFljHmQSY7"
      },
      "id": "aaMFljHmQSY7",
      "execution_count": null,
      "outputs": []
    },
    {
      "cell_type": "markdown",
      "source": [
        "### 2.2 Target <a class=\"anchor\" id=\"target\"></a>\n",
        "Bei dem Target handelt es sich um die Zielgröße, welche wir prognostizieren wollen. In diesem Fall die Anzahl der geschossenen Tore in der regulären Spielzeit plus etwaiger Verlängerung!"
      ],
      "metadata": {
        "id": "gHe7yez1cvd0"
      },
      "id": "gHe7yez1cvd0"
    },
    {
      "cell_type": "code",
      "source": [
        "# Berechnung neue Spalte\n",
        "data[\"Total Goals\"] = data[\"Home Team Goals\"] + data[\"Away Team Goals\"]"
      ],
      "metadata": {
        "id": "dsgH-wDDcy3P"
      },
      "id": "dsgH-wDDcy3P",
      "execution_count": null,
      "outputs": []
    },
    {
      "cell_type": "code",
      "source": [
        "data[\"Total Goals\"].plot(\n",
        "    kind=\"hist\", \n",
        "    title= \"Histogramm Total Goals\",\n",
        "    figsize=(8,4),\n",
        "    color=\"c\",\n",
        "    edgecolor='k',\n",
        "    density=True,\n",
        "    alpha=0.8\n",
        "    )\n",
        "plt.plot()"
      ],
      "metadata": {
        "id": "dDX0eDzSEJE1"
      },
      "id": "dDX0eDzSEJE1",
      "execution_count": null,
      "outputs": []
    },
    {
      "cell_type": "markdown",
      "source": [
        "**Frage:** Warum ist es unabdingbar die folgenden Spalten zu löschen?"
      ],
      "metadata": {
        "id": "n8spg3_3V4jg"
      },
      "id": "n8spg3_3V4jg"
    },
    {
      "cell_type": "code",
      "source": [
        "data.drop(columns=[\"Home Team Goals\", \"Away Team Goals\"], inplace=True)"
      ],
      "metadata": {
        "id": "_A1fb49Dzfj7"
      },
      "id": "_A1fb49Dzfj7",
      "execution_count": null,
      "outputs": []
    },
    {
      "cell_type": "markdown",
      "source": [
        "### 2.3 Features <a class=\"feature\" id=\"overview\"></a>\n",
        "Bei den Features handelt es sich um die Variablen, die zur Vorhersage des Targets verwendet werden - in diesem Fall die Anzahl der geschossenen Tore. \n",
        "\n",
        "Zum einen müssen Sie zunächst überlegen, welche der ursprünglichen Features einen Beitrag zur Erklärung des Target leisten können und ob diese noch anzupassen sind. \n",
        "\n",
        "Zum anderen leitet man regelmäßig aus den ursprünglichen Features weitere Features ab - in der Annahme, dass diese einen Beitrag zur Vorhersage des Target leisten."
      ],
      "metadata": {
        "id": "615_jEIAckP6"
      },
      "id": "615_jEIAckP6"
    },
    {
      "cell_type": "markdown",
      "source": [
        "**Relevante Features**"
      ],
      "metadata": {
        "id": "_QJIYMHSYNO-"
      },
      "id": "_QJIYMHSYNO-"
    },
    {
      "cell_type": "code",
      "source": [
        "irrelevant = []"
      ],
      "metadata": {
        "id": "N-Soo-VLjben"
      },
      "id": "N-Soo-VLjben",
      "execution_count": null,
      "outputs": []
    },
    {
      "cell_type": "code",
      "source": [
        "data.drop(columns=irrelevant, inplace=True)\n",
        "data.head()"
      ],
      "metadata": {
        "id": "tuJugYtYkFxu"
      },
      "id": "tuJugYtYkFxu",
      "execution_count": null,
      "outputs": []
    },
    {
      "cell_type": "markdown",
      "source": [
        "**Features zu den zur Halbzeit geschossenen Toren**"
      ],
      "metadata": {
        "id": "azZiBAnmYWQ7"
      },
      "id": "azZiBAnmYWQ7"
    },
    {
      "cell_type": "code",
      "source": [
        "data[\"Half-time Goals\"] = data[\"Half-time Home Goals\"] + data[\"Half-time Away Goals\"]\n",
        "data[\"Half-time Goals Difference\"] = abs(data[\"Half-time Home Goals\"] - data[\"Half-time Away Goals\"])"
      ],
      "metadata": {
        "id": "2EcKxGXSa6kB"
      },
      "id": "2EcKxGXSa6kB",
      "execution_count": null,
      "outputs": []
    },
    {
      "cell_type": "code",
      "source": [
        "data[\"Half-time Goals Difference\"].unique()"
      ],
      "metadata": {
        "id": "m0rHvOSWgNn-"
      },
      "id": "m0rHvOSWgNn-",
      "execution_count": null,
      "outputs": []
    },
    {
      "cell_type": "code",
      "source": [
        "data[\"Half-time Goals Difference\"].value_counts(normalize=True)"
      ],
      "metadata": {
        "id": "POwMS5lJWpdI"
      },
      "id": "POwMS5lJWpdI",
      "execution_count": null,
      "outputs": []
    },
    {
      "cell_type": "code",
      "source": [
        "#data.drop(columns=[\"Half-time Home Goals\", \"Half-time Away Goals\"], inplace=True)"
      ],
      "metadata": {
        "id": "VcT7cQ2xlYy5"
      },
      "id": "VcT7cQ2xlYy5",
      "execution_count": null,
      "outputs": []
    },
    {
      "cell_type": "markdown",
      "source": [
        "**Features zur Spielzeit**"
      ],
      "metadata": {
        "id": "q9Do4bKCYnN3"
      },
      "id": "q9Do4bKCYnN3"
    },
    {
      "cell_type": "markdown",
      "source": [
        "**Frage:** Ist die Verwendung der Spalte `Datetime` mit den aktuellen Werten sinnvoll für die Prognose des Targets? Welche Informationen lassen sich aus dem genauen Spieldatum inkl. Uhrzeit ableiten, die ggf. für die Vorhersage des Targets relevant sind?"
      ],
      "metadata": {
        "id": "XKeaKS-PY8iN"
      },
      "id": "XKeaKS-PY8iN"
    },
    {
      "cell_type": "code",
      "source": [
        ""
      ],
      "metadata": {
        "id": "S1f5WMwxZTxp"
      },
      "id": "S1f5WMwxZTxp",
      "execution_count": null,
      "outputs": []
    },
    {
      "cell_type": "markdown",
      "source": [
        "**`Datetime`-Objekte in Python**\n",
        "\n",
        "Die Werte in der Spalte `Datetime` sind vom Typ `Datetime` und stellen ein besonderes Objekt zur Codierung von Datum und Uhrzeit dar. Für `Datetime`-Objekte stehen wiederum spezielle Methoden zur Verfügung, die wir nachfolgend anwenden werden. Eine Übersicht zu den Methoden finden Sie z.B. [hier](https://towardsdatascience.com/working-with-datetime-in-pandas-dataframe-663f7af6c587)."
      ],
      "metadata": {
        "id": "4l0nEvw1jJix"
      },
      "id": "4l0nEvw1jJix"
    },
    {
      "cell_type": "code",
      "source": [
        "# Ableitung der Spielzeit (Stunde)\n",
        "data[\"Datetime\"].dt.hour.value_counts()"
      ],
      "metadata": {
        "id": "AmATvQ8W3fWz"
      },
      "id": "AmATvQ8W3fWz",
      "execution_count": null,
      "outputs": []
    },
    {
      "cell_type": "code",
      "source": [
        "data[\"Hour\"] = data[\"Datetime\"].dt.hour"
      ],
      "metadata": {
        "id": "JyJ3WzMCdN5u"
      },
      "id": "JyJ3WzMCdN5u",
      "execution_count": null,
      "outputs": []
    },
    {
      "cell_type": "code",
      "source": [
        "# Ableitung des Spieltags (Wochentag)\n",
        "data[\"Datetime\"].dt.day_name().value_counts()"
      ],
      "metadata": {
        "id": "U-mSqSzhdV0X"
      },
      "id": "U-mSqSzhdV0X",
      "execution_count": null,
      "outputs": []
    },
    {
      "cell_type": "code",
      "source": [
        "data[\"Weekday\"] = data[\"Datetime\"].dt.day_name()"
      ],
      "metadata": {
        "id": "QYMN_Cgm5XMT"
      },
      "id": "QYMN_Cgm5XMT",
      "execution_count": null,
      "outputs": []
    },
    {
      "cell_type": "code",
      "source": [
        "data.drop(columns=\"Datetime\", inplace=True)"
      ],
      "metadata": {
        "id": "2gugwZc_ohV1"
      },
      "id": "2gugwZc_ohV1",
      "execution_count": null,
      "outputs": []
    },
    {
      "cell_type": "markdown",
      "source": [
        "**Feature zur Spielrunde**"
      ],
      "metadata": {
        "id": "clmQI4G7ZbWZ"
      },
      "id": "clmQI4G7ZbWZ"
    },
    {
      "cell_type": "code",
      "source": [
        "# Spielrunde\n",
        "data.Stage.unique()"
      ],
      "metadata": {
        "id": "pq8paYA8faHw"
      },
      "id": "pq8paYA8faHw",
      "execution_count": null,
      "outputs": []
    },
    {
      "cell_type": "markdown",
      "source": [
        "Die Verarbeitung von Strings ist ein eigenes Kapitel für sich, welches wir nicht in der Vorlesung vertiefen und mit dem Sie sich auch in der Fallstudie nicht detailliert auseinandersetzen müssen. Beispielhaft sei hier die Aufbereitung der Werte in der Spalte `Stage` behandelt."
      ],
      "metadata": {
        "id": "9DDXfiE7ZlEz"
      },
      "id": "9DDXfiE7ZlEz"
    },
    {
      "cell_type": "code",
      "source": [
        "data.Stage.replace(r'Group(.*)', 'Group', regex=True, inplace=True)"
      ],
      "metadata": {
        "id": "RjI7mQI23jeO"
      },
      "id": "RjI7mQI23jeO",
      "execution_count": null,
      "outputs": []
    },
    {
      "cell_type": "code",
      "source": [
        "data.Stage.replace('First round', 'Group', inplace=True)"
      ],
      "metadata": {
        "id": "W0DhEDuNfw36"
      },
      "id": "W0DhEDuNfw36",
      "execution_count": null,
      "outputs": []
    },
    {
      "cell_type": "code",
      "source": [
        "data.Stage.replace('Preliminary round', 'Group', inplace=True)"
      ],
      "metadata": {
        "id": "_J5ZRfmHinlG"
      },
      "id": "_J5ZRfmHinlG",
      "execution_count": null,
      "outputs": []
    },
    {
      "cell_type": "code",
      "source": [
        "data.Stage.replace(r'.+third.+', 'Third place', regex=True, inplace=True)"
      ],
      "metadata": {
        "id": "qgamLOD7hWRh"
      },
      "id": "qgamLOD7hWRh",
      "execution_count": null,
      "outputs": []
    },
    {
      "cell_type": "code",
      "source": [
        "data.Stage.value_counts()"
      ],
      "metadata": {
        "id": "iZeHg2_CivOO"
      },
      "id": "iZeHg2_CivOO",
      "execution_count": null,
      "outputs": []
    },
    {
      "cell_type": "markdown",
      "source": [
        "Nach den vorausgegangenen Datenmanipulationen erhalten wir nun den folgenden Dataframe (Target + Features), mit dem wir bei der Anwendung maschineller Lernverfahren weiterarbeiten werden."
      ],
      "metadata": {
        "id": "MLTSw41JkZQP"
      },
      "id": "MLTSw41JkZQP"
    },
    {
      "cell_type": "code",
      "source": [
        "data.head()"
      ],
      "metadata": {
        "id": "A0mRlGDvliHt"
      },
      "id": "A0mRlGDvliHt",
      "execution_count": null,
      "outputs": []
    },
    {
      "cell_type": "markdown",
      "source": [
        "### 2.4 Korrelationen <a class=\"feature\" id=\"corr\"></a>\n",
        "Sie erhalten einen ersten sehr guten Eindruck von Zusammenhängen zwischen Features und/ oder Target, wenn Sie Korrelationskoeffizienten berechnen. Mithilfe von `pandas` gelingt dies mühelos.\n"
      ],
      "metadata": {
        "id": "HreQTaeJaI34"
      },
      "id": "HreQTaeJaI34"
    },
    {
      "cell_type": "code",
      "source": [
        "correlation_matrix = data.corr()"
      ],
      "metadata": {
        "id": "Mq2rVXYgl0tq"
      },
      "id": "Mq2rVXYgl0tq",
      "execution_count": null,
      "outputs": []
    },
    {
      "cell_type": "markdown",
      "source": [
        "**Korrelationskoeffizient**\n",
        "\n",
        "Mit der `pandas`-Funktion `.corr()` berechnen Sie den [Korrelationskoeffizienten nach Pearson](https://de.wikipedia.org/wiki/Korrelationskoeffizient). Dieser misst den \"linearen\" Zusammenhang zwischen zwei stetigen Merkmalen. Der Koeffizient reicht von 1 bis -1. Für den Fall, dass er nahe 1 liegt, bedeutet dies, dass eine starke positive Korrelation besteht, d.h. \"wenn Werte des Merkmals `x` steigen, steigen auch solche des Merkmals `y`\"! Der umgekehrte Fall gilt für Koeffizienten, die nahe -1 liegen. Bitte behalten Sie in Erinnerung, dass der Korrelationskoeffizient nach Pearson nur lineare Zusammenhänge erfasst. Regelmäßig finden Sie aber auch nicht-lineare Korrelationen, die dann nicht erfasst werden ([Beispiel](https://de.wikipedia.org/wiki/Korrelationskoeffizient#/media/Datei:Correlation_examples.png))."
      ],
      "metadata": {
        "id": "z7_h_k2ba1Hz"
      },
      "id": "z7_h_k2ba1Hz"
    },
    {
      "cell_type": "code",
      "source": [
        "correlation_matrix[\"Total Goals\"].sort_values(ascending=False)"
      ],
      "metadata": {
        "id": "pjRo2lnnazcD"
      },
      "id": "pjRo2lnnazcD",
      "execution_count": null,
      "outputs": []
    },
    {
      "cell_type": "markdown",
      "source": [
        "Neben Korrelationskoeffizienten können Sie Zusammenhänge zwischen Merkmalen auch immer visuell analysieren. Dazu bieten sich insbesondere Streudiagramme an (englisch: Scatter Plot)."
      ],
      "metadata": {
        "id": "jkaSf8oYgqtf"
      },
      "id": "jkaSf8oYgqtf"
    },
    {
      "cell_type": "code",
      "source": [
        "data.plot(kind=\"scatter\", x=\"Half-time Goals\", y=\"Total Goals\", alpha=0.1)\n",
        "plt.show()"
      ],
      "metadata": {
        "id": "bBGTxhNClU2X"
      },
      "id": "bBGTxhNClU2X",
      "execution_count": null,
      "outputs": []
    },
    {
      "cell_type": "code",
      "source": [
        "pd.plotting.scatter_matrix(data[[\"Total Goals\", \"Half-time Goals\", \"Half-time Goals Difference\"]], figsize=(12,8))\n",
        "plt.show()"
      ],
      "metadata": {
        "id": "Tc6LllTAzyfo"
      },
      "id": "Tc6LllTAzyfo",
      "execution_count": null,
      "outputs": []
    },
    {
      "cell_type": "markdown",
      "source": [
        "**Kreuztabellen und Heatmaps**"
      ],
      "metadata": {
        "id": "nKl9Rbn5mozr"
      },
      "id": "nKl9Rbn5mozr"
    },
    {
      "cell_type": "code",
      "source": [
        "data.groupby(\"Weekday\")[\"Total Goals\"].mean().sort_values(ascending=False)"
      ],
      "metadata": {
        "id": "RgjTkcdftuaI"
      },
      "id": "RgjTkcdftuaI",
      "execution_count": null,
      "outputs": []
    },
    {
      "cell_type": "code",
      "source": [
        "pd.crosstab(index=data[\"Weekday\"], columns=data[\"Total Goals\"])"
      ],
      "metadata": {
        "id": "sjTGgSe0hB1S"
      },
      "id": "sjTGgSe0hB1S",
      "execution_count": null,
      "outputs": []
    },
    {
      "cell_type": "markdown",
      "source": [
        "Das Package `seaborn` ist eine Erweiterung der Standardfunktionalitäten von `matplotlib`, welches wir bisher verwendet haben. Mit `seaborn` lassen sich optisch sehr ansprechende Visualisierung auf recht einfache Art und Weise erstellen. Immer wieder gerne genutzt wird die Visualisierungsform einer **Heatmap**, die sehr intuituve den Zusammenhang zwischen Variablen wiedergibt. Detaillierte Hinweise zur Erstellung von Heatmaps finden Sie [hier](https://seaborn.pydata.org/generated/seaborn.heatmap.html)."
      ],
      "metadata": {
        "id": "9Fo7GwtqnVEy"
      },
      "id": "9Fo7GwtqnVEy"
    },
    {
      "cell_type": "code",
      "source": [
        "import seaborn as sns"
      ],
      "metadata": {
        "id": "LLej052_ioTL"
      },
      "id": "LLej052_ioTL",
      "execution_count": null,
      "outputs": []
    },
    {
      "cell_type": "code",
      "source": [
        "crosstab = pd.crosstab(index=data[\"Weekday\"], columns=data[\"Total Goals\"], normalize=True)"
      ],
      "metadata": {
        "id": "KnA19jiclAFR"
      },
      "id": "KnA19jiclAFR",
      "execution_count": null,
      "outputs": []
    },
    {
      "cell_type": "code",
      "source": [
        "ax = sns.heatmap(crosstab, linewidths=.5, cmap=\"bwr\")\n"
      ],
      "metadata": {
        "id": "KhvMAZjpisD-"
      },
      "id": "KhvMAZjpisD-",
      "execution_count": null,
      "outputs": []
    },
    {
      "cell_type": "markdown",
      "source": [
        "Über das Argument `cmap` steuern Sie die farbliche Darstellung der Heatmap. Sämtliche Farbpaletten finden Sie [hier](https://matplotlib.org/stable/tutorials/colors/colormaps.html)."
      ],
      "metadata": {
        "id": "NoRXjq7xojZd"
      },
      "id": "NoRXjq7xojZd"
    },
    {
      "cell_type": "markdown",
      "source": [
        "**Frage:** Wie erstellen Sie eine Heatmap, die den Zusammenhang zwischen Anzahl geschossener Tore (`Total Goals`) und der Spielrunde (`Stage`) darstellt?"
      ],
      "metadata": {
        "id": "_jEt4vDfnDGP"
      },
      "id": "_jEt4vDfnDGP"
    },
    {
      "cell_type": "code",
      "source": [
        ""
      ],
      "metadata": {
        "id": "ayMp8MiInRv4"
      },
      "id": "ayMp8MiInRv4",
      "execution_count": null,
      "outputs": []
    },
    {
      "cell_type": "markdown",
      "source": [
        "### Übung EDA Wine Data Set <a class=\"anchor\" id=\"wine_eda\"></a>\n",
        "**Problem Statement**\n",
        "\n",
        "Sie haben sich dazu entschlossen einen e-Commerce Shop für Weinspezialitäten zu eröffnen. Ein wesentlicher Erfolgsfaktor ihres Geschäftsmodells besteht darin, Weine günstig einzukaufen und anschließend zu einem deutlich höheren Preis zu verkaufen. Zu den Einkaufspreisen diverser Weine verschaffen Sie sich regelmäßig bei verschiedenen Herstellern einen Überblick. Um den potentiellen Verkaufspreis eines neuen Weins zu ermitteln, vergleichen Sie diesen mit Verkaufspreisen ähnlicher Weine und leiten ihren Angebotspreis ab. Dazu steht Ihnen der folgende Datensatz zur Verfügung"
      ],
      "metadata": {
        "id": "GcDczFUf0bWf"
      },
      "id": "GcDczFUf0bWf"
    },
    {
      "cell_type": "code",
      "source": [
        "df = pd.read_csv(\"/content/drive/MyDrive/KI_LOG_mit_PYTHON/wine.txt\", index_col=0)\n",
        "df.head()"
      ],
      "metadata": {
        "id": "RK6PYPMK0TfF"
      },
      "id": "RK6PYPMK0TfF",
      "execution_count": null,
      "outputs": []
    },
    {
      "cell_type": "markdown",
      "source": [
        "Das oben kurz skizzierte Vorgehen ist sehr aufwendig und Sie haben das Gefühl, dass dieses auch nicht ganz gut funktioniert. Aus diesem Grund beschließen Sie ein Machine Learning Modell zu verwenden, welches die Zusammenhänge zwischen den am Markt angebotetnen Preisen eines Weins und ausgewählten Eigenschaften (Herkunft, Punkte, etc.) lernt. Das Modell möchten Sie anschlißend zu Berechnung realsitischer Angebotspreise verwenden. Auf diese Weise können Sie ohne großen Aufwand besonders margenträchtige (Einkaufspreis beim Produzenten minus prognostizierter Verkaufspreis) Weine identifizieren."
      ],
      "metadata": {
        "id": "ZnKjNyMnDAbT"
      },
      "id": "ZnKjNyMnDAbT"
    },
    {
      "cell_type": "markdown",
      "source": [
        "**Data Exploration**\n",
        "\n",
        "Nehmen Sie sich die vorherigen Ausführungen als Ausgangsbeispiel und führen Sie eine Datenexploration als Grundlage für die Anwendung eines Machine Learning Verfahrens durch. Untersuchen Sie beispielsweise die Größe des Datensatzes, den Wertebereich des Targets und der Features, Korrelationen zwischen den Variablen, etc. Nutzen Sie dazu auch geeignete Grafiken!"
      ],
      "metadata": {
        "id": "nYhzeVriELkj"
      },
      "id": "nYhzeVriELkj"
    },
    {
      "cell_type": "code",
      "source": [
        ""
      ],
      "metadata": {
        "id": "6RbdgP-kFKfq"
      },
      "id": "6RbdgP-kFKfq",
      "execution_count": null,
      "outputs": []
    }
  ],
  "metadata": {
    "kernelspec": {
      "display_name": "Python 3 (ipykernel)",
      "language": "python",
      "name": "python3"
    },
    "language_info": {
      "codemirror_mode": {
        "name": "ipython",
        "version": 3
      },
      "file_extension": ".py",
      "mimetype": "text/x-python",
      "name": "python",
      "nbconvert_exporter": "python",
      "pygments_lexer": "ipython3",
      "version": "3.8.5"
    },
    "colab": {
      "name": "G2 Machine Learning.ipynb",
      "provenance": [],
      "collapsed_sections": [],
      "toc_visible": true,
      "include_colab_link": true
    }
  },
  "nbformat": 4,
  "nbformat_minor": 5
}