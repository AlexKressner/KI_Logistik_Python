{
  "cells": [
    {
      "cell_type": "markdown",
      "metadata": {
        "id": "view-in-github",
        "colab_type": "text"
      },
      "source": [
        "<a href=\"https://colab.research.google.com/github/AlexKressner/KI_Logistik_Python/blob/main/L%C3%B6sung_G1_Data_Visualization.ipynb\" target=\"_parent\"><img src=\"https://colab.research.google.com/assets/colab-badge.svg\" alt=\"Open In Colab\"/></a>"
      ]
    },
    {
      "cell_type": "markdown",
      "id": "64b0765e-bc90-46b8-8c66-0123b137bf19",
      "metadata": {
        "jp-MarkdownHeadingCollapsed": true,
        "tags": [],
        "id": "64b0765e-bc90-46b8-8c66-0123b137bf19"
      },
      "source": [
        "# Übersicht\n",
        "1. [Erste Visualisierungsformen](#erste_visualisierungen)\n",
        "  1. [Histogramm](#einführung_hist)\n",
        "  1. [Säulendiagramm](#einführung_bar)\n",
        "  1. [Liniendiagramm](#einführung_line)\n",
        "1. [Weitere nützliche Funktionen](#weitere_funktionen)"
      ]
    },
    {
      "cell_type": "markdown",
      "id": "4568c8d2-8df2-406b-9dd1-a3420d979671",
      "metadata": {
        "id": "4568c8d2-8df2-406b-9dd1-a3420d979671"
      },
      "source": [
        "# Übungsaufgaben\n",
        "- [Visualisierung - Verkaufszahlen Walmart](#walmart)"
      ]
    },
    {
      "cell_type": "markdown",
      "source": [
        "# Setup\n",
        "Für die Visualisierung nutzen wir das Package `matplotlib` und die Funktionalitäten rundum `pyplot`. Dazu importieren wir zunächst das Package (ggf. müssen Sie dieses noch mithilfe von `pip3 install matplotlib` installieren). Es ist üblich `matplotlib.pyplot` als `plt` zu importieren."
      ],
      "metadata": {
        "id": "ZYwFfQxaggM3"
      },
      "id": "ZYwFfQxaggM3"
    },
    {
      "cell_type": "code",
      "execution_count": null,
      "id": "95b4bd1d-6f68-486e-b2b7-5da11515bc34",
      "metadata": {
        "id": "95b4bd1d-6f68-486e-b2b7-5da11515bc34"
      },
      "outputs": [],
      "source": [
        "import matplotlib.pyplot as plt"
      ]
    },
    {
      "cell_type": "markdown",
      "source": [
        "Zusätzlich müssen wir erneut das Package `pandas` laden."
      ],
      "metadata": {
        "id": "O7M2J2GtJD_c"
      },
      "id": "O7M2J2GtJD_c"
    },
    {
      "cell_type": "code",
      "source": [
        "import pandas as pd"
      ],
      "metadata": {
        "id": "zS1ciLqKJKTG"
      },
      "id": "zS1ciLqKJKTG",
      "execution_count": null,
      "outputs": []
    },
    {
      "cell_type": "markdown",
      "id": "da1dc354-6526-4501-afae-7311f7019df2",
      "metadata": {
        "id": "da1dc354-6526-4501-afae-7311f7019df2"
      },
      "source": [
        "## 1 Erste Visualisierungsformen <a class=\"anchor\" id=\"erste_visualisierungen\"></a>\n",
        "Wir laden erneut den [Fifa World Cup](https://www.kaggle.com/datasets/abecklas/fifa-world-cup) Datensatzes aus einer csv-Datei. Anschließend wenden wir die `.plot()` Methode auf diesen DataFrame an. Über das Argument `kind` kann z.B. gesteuert werden, welche Art von Diagramm erzeugt wird. "
      ]
    },
    {
      "cell_type": "code",
      "source": [
        "from google.colab import drive\n",
        "drive.mount('/content/drive')"
      ],
      "metadata": {
        "id": "ZrxynS7sW_4i",
        "outputId": "57da97d1-e715-49a5-9728-f793d839277f",
        "colab": {
          "base_uri": "https://localhost:8080/"
        }
      },
      "id": "ZrxynS7sW_4i",
      "execution_count": null,
      "outputs": [
        {
          "output_type": "stream",
          "name": "stdout",
          "text": [
            "Mounted at /content/drive\n"
          ]
        }
      ]
    },
    {
      "cell_type": "code",
      "execution_count": null,
      "id": "a4fb76f1-6255-4751-9075-bfbcc4bb0b0e",
      "metadata": {
        "id": "a4fb76f1-6255-4751-9075-bfbcc4bb0b0e"
      },
      "outputs": [],
      "source": [
        "data = pd.read_csv(\"/content/drive/MyDrive/WorldCupMatches.txt\")\n",
        "data = data.astype({\"Datetime\": \"M\", \"RoundID\": \"O\", \"MatchID\": \"O\"}, errors='raise') \n",
        "data.dropna(inplace=True)"
      ]
    },
    {
      "cell_type": "code",
      "execution_count": null,
      "id": "7f1b6c37-56b1-4353-bdd9-b7c8906635c3",
      "metadata": {
        "id": "7f1b6c37-56b1-4353-bdd9-b7c8906635c3",
        "outputId": "5ff71736-9fba-40bc-bbf7-53b10a41ebec",
        "colab": {
          "base_uri": "https://localhost:8080/",
          "height": 489
        }
      },
      "outputs": [
        {
          "output_type": "execute_result",
          "data": {
            "text/plain": [
              "     Year            Datetime    Stage         Stadium         City  \\\n",
              "0  1930.0 1930-07-13 15:00:00  Group 1         Pocitos  Montevideo    \n",
              "1  1930.0 1930-07-13 15:00:00  Group 4  Parque Central  Montevideo    \n",
              "2  1930.0 1930-07-14 12:45:00  Group 2  Parque Central  Montevideo    \n",
              "3  1930.0 1930-07-14 14:50:00  Group 3         Pocitos  Montevideo    \n",
              "4  1930.0 1930-07-15 16:00:00  Group 1  Parque Central  Montevideo    \n",
              "\n",
              "  Home Team Name  Home Team Goals  Away Team Goals Away Team Name  \\\n",
              "0         France              4.0              1.0         Mexico   \n",
              "1            USA              3.0              0.0        Belgium   \n",
              "2     Yugoslavia              2.0              1.0         Brazil   \n",
              "3        Romania              3.0              1.0           Peru   \n",
              "4      Argentina              1.0              0.0         France   \n",
              "\n",
              "  Win conditions  Attendance  Half-time Home Goals  Half-time Away Goals  \\\n",
              "0                     4444.0                   3.0                   0.0   \n",
              "1                    18346.0                   2.0                   0.0   \n",
              "2                    24059.0                   2.0                   0.0   \n",
              "3                     2549.0                   1.0                   0.0   \n",
              "4                    23409.0                   0.0                   0.0   \n",
              "\n",
              "                  Referee               Assistant 1  \\\n",
              "0  LOMBARDI Domingo (URU)     CRISTOPHE Henry (BEL)   \n",
              "1       MACIAS Jose (ARG)  MATEUCCI Francisco (URU)   \n",
              "2     TEJADA Anibal (URU)   VALLARINO Ricardo (URU)   \n",
              "3   WARNKEN Alberto (CHI)       LANGENUS Jean (BEL)   \n",
              "4     REGO Gilberto (BRA)      SAUCEDO Ulises (BOL)   \n",
              "\n",
              "                  Assistant 2 RoundID MatchID Home Team Initials  \\\n",
              "0         REGO Gilberto (BRA)   201.0  1096.0                FRA   \n",
              "1       WARNKEN Alberto (CHI)   201.0  1090.0                USA   \n",
              "2         BALWAY Thomas (FRA)   201.0  1093.0                YUG   \n",
              "3    MATEUCCI Francisco (URU)   201.0  1098.0                ROU   \n",
              "4  RADULESCU Constantin (ROU)   201.0  1085.0                ARG   \n",
              "\n",
              "  Away Team Initials  \n",
              "0                MEX  \n",
              "1                BEL  \n",
              "2                BRA  \n",
              "3                PER  \n",
              "4                FRA  "
            ],
            "text/html": [
              "\n",
              "  <div id=\"df-058e47a1-31a9-4353-97fb-9968269864cb\">\n",
              "    <div class=\"colab-df-container\">\n",
              "      <div>\n",
              "<style scoped>\n",
              "    .dataframe tbody tr th:only-of-type {\n",
              "        vertical-align: middle;\n",
              "    }\n",
              "\n",
              "    .dataframe tbody tr th {\n",
              "        vertical-align: top;\n",
              "    }\n",
              "\n",
              "    .dataframe thead th {\n",
              "        text-align: right;\n",
              "    }\n",
              "</style>\n",
              "<table border=\"1\" class=\"dataframe\">\n",
              "  <thead>\n",
              "    <tr style=\"text-align: right;\">\n",
              "      <th></th>\n",
              "      <th>Year</th>\n",
              "      <th>Datetime</th>\n",
              "      <th>Stage</th>\n",
              "      <th>Stadium</th>\n",
              "      <th>City</th>\n",
              "      <th>Home Team Name</th>\n",
              "      <th>Home Team Goals</th>\n",
              "      <th>Away Team Goals</th>\n",
              "      <th>Away Team Name</th>\n",
              "      <th>Win conditions</th>\n",
              "      <th>Attendance</th>\n",
              "      <th>Half-time Home Goals</th>\n",
              "      <th>Half-time Away Goals</th>\n",
              "      <th>Referee</th>\n",
              "      <th>Assistant 1</th>\n",
              "      <th>Assistant 2</th>\n",
              "      <th>RoundID</th>\n",
              "      <th>MatchID</th>\n",
              "      <th>Home Team Initials</th>\n",
              "      <th>Away Team Initials</th>\n",
              "    </tr>\n",
              "  </thead>\n",
              "  <tbody>\n",
              "    <tr>\n",
              "      <th>0</th>\n",
              "      <td>1930.0</td>\n",
              "      <td>1930-07-13 15:00:00</td>\n",
              "      <td>Group 1</td>\n",
              "      <td>Pocitos</td>\n",
              "      <td>Montevideo</td>\n",
              "      <td>France</td>\n",
              "      <td>4.0</td>\n",
              "      <td>1.0</td>\n",
              "      <td>Mexico</td>\n",
              "      <td></td>\n",
              "      <td>4444.0</td>\n",
              "      <td>3.0</td>\n",
              "      <td>0.0</td>\n",
              "      <td>LOMBARDI Domingo (URU)</td>\n",
              "      <td>CRISTOPHE Henry (BEL)</td>\n",
              "      <td>REGO Gilberto (BRA)</td>\n",
              "      <td>201.0</td>\n",
              "      <td>1096.0</td>\n",
              "      <td>FRA</td>\n",
              "      <td>MEX</td>\n",
              "    </tr>\n",
              "    <tr>\n",
              "      <th>1</th>\n",
              "      <td>1930.0</td>\n",
              "      <td>1930-07-13 15:00:00</td>\n",
              "      <td>Group 4</td>\n",
              "      <td>Parque Central</td>\n",
              "      <td>Montevideo</td>\n",
              "      <td>USA</td>\n",
              "      <td>3.0</td>\n",
              "      <td>0.0</td>\n",
              "      <td>Belgium</td>\n",
              "      <td></td>\n",
              "      <td>18346.0</td>\n",
              "      <td>2.0</td>\n",
              "      <td>0.0</td>\n",
              "      <td>MACIAS Jose (ARG)</td>\n",
              "      <td>MATEUCCI Francisco (URU)</td>\n",
              "      <td>WARNKEN Alberto (CHI)</td>\n",
              "      <td>201.0</td>\n",
              "      <td>1090.0</td>\n",
              "      <td>USA</td>\n",
              "      <td>BEL</td>\n",
              "    </tr>\n",
              "    <tr>\n",
              "      <th>2</th>\n",
              "      <td>1930.0</td>\n",
              "      <td>1930-07-14 12:45:00</td>\n",
              "      <td>Group 2</td>\n",
              "      <td>Parque Central</td>\n",
              "      <td>Montevideo</td>\n",
              "      <td>Yugoslavia</td>\n",
              "      <td>2.0</td>\n",
              "      <td>1.0</td>\n",
              "      <td>Brazil</td>\n",
              "      <td></td>\n",
              "      <td>24059.0</td>\n",
              "      <td>2.0</td>\n",
              "      <td>0.0</td>\n",
              "      <td>TEJADA Anibal (URU)</td>\n",
              "      <td>VALLARINO Ricardo (URU)</td>\n",
              "      <td>BALWAY Thomas (FRA)</td>\n",
              "      <td>201.0</td>\n",
              "      <td>1093.0</td>\n",
              "      <td>YUG</td>\n",
              "      <td>BRA</td>\n",
              "    </tr>\n",
              "    <tr>\n",
              "      <th>3</th>\n",
              "      <td>1930.0</td>\n",
              "      <td>1930-07-14 14:50:00</td>\n",
              "      <td>Group 3</td>\n",
              "      <td>Pocitos</td>\n",
              "      <td>Montevideo</td>\n",
              "      <td>Romania</td>\n",
              "      <td>3.0</td>\n",
              "      <td>1.0</td>\n",
              "      <td>Peru</td>\n",
              "      <td></td>\n",
              "      <td>2549.0</td>\n",
              "      <td>1.0</td>\n",
              "      <td>0.0</td>\n",
              "      <td>WARNKEN Alberto (CHI)</td>\n",
              "      <td>LANGENUS Jean (BEL)</td>\n",
              "      <td>MATEUCCI Francisco (URU)</td>\n",
              "      <td>201.0</td>\n",
              "      <td>1098.0</td>\n",
              "      <td>ROU</td>\n",
              "      <td>PER</td>\n",
              "    </tr>\n",
              "    <tr>\n",
              "      <th>4</th>\n",
              "      <td>1930.0</td>\n",
              "      <td>1930-07-15 16:00:00</td>\n",
              "      <td>Group 1</td>\n",
              "      <td>Parque Central</td>\n",
              "      <td>Montevideo</td>\n",
              "      <td>Argentina</td>\n",
              "      <td>1.0</td>\n",
              "      <td>0.0</td>\n",
              "      <td>France</td>\n",
              "      <td></td>\n",
              "      <td>23409.0</td>\n",
              "      <td>0.0</td>\n",
              "      <td>0.0</td>\n",
              "      <td>REGO Gilberto (BRA)</td>\n",
              "      <td>SAUCEDO Ulises (BOL)</td>\n",
              "      <td>RADULESCU Constantin (ROU)</td>\n",
              "      <td>201.0</td>\n",
              "      <td>1085.0</td>\n",
              "      <td>ARG</td>\n",
              "      <td>FRA</td>\n",
              "    </tr>\n",
              "  </tbody>\n",
              "</table>\n",
              "</div>\n",
              "      <button class=\"colab-df-convert\" onclick=\"convertToInteractive('df-058e47a1-31a9-4353-97fb-9968269864cb')\"\n",
              "              title=\"Convert this dataframe to an interactive table.\"\n",
              "              style=\"display:none;\">\n",
              "        \n",
              "  <svg xmlns=\"http://www.w3.org/2000/svg\" height=\"24px\"viewBox=\"0 0 24 24\"\n",
              "       width=\"24px\">\n",
              "    <path d=\"M0 0h24v24H0V0z\" fill=\"none\"/>\n",
              "    <path d=\"M18.56 5.44l.94 2.06.94-2.06 2.06-.94-2.06-.94-.94-2.06-.94 2.06-2.06.94zm-11 1L8.5 8.5l.94-2.06 2.06-.94-2.06-.94L8.5 2.5l-.94 2.06-2.06.94zm10 10l.94 2.06.94-2.06 2.06-.94-2.06-.94-.94-2.06-.94 2.06-2.06.94z\"/><path d=\"M17.41 7.96l-1.37-1.37c-.4-.4-.92-.59-1.43-.59-.52 0-1.04.2-1.43.59L10.3 9.45l-7.72 7.72c-.78.78-.78 2.05 0 2.83L4 21.41c.39.39.9.59 1.41.59.51 0 1.02-.2 1.41-.59l7.78-7.78 2.81-2.81c.8-.78.8-2.07 0-2.86zM5.41 20L4 18.59l7.72-7.72 1.47 1.35L5.41 20z\"/>\n",
              "  </svg>\n",
              "      </button>\n",
              "      \n",
              "  <style>\n",
              "    .colab-df-container {\n",
              "      display:flex;\n",
              "      flex-wrap:wrap;\n",
              "      gap: 12px;\n",
              "    }\n",
              "\n",
              "    .colab-df-convert {\n",
              "      background-color: #E8F0FE;\n",
              "      border: none;\n",
              "      border-radius: 50%;\n",
              "      cursor: pointer;\n",
              "      display: none;\n",
              "      fill: #1967D2;\n",
              "      height: 32px;\n",
              "      padding: 0 0 0 0;\n",
              "      width: 32px;\n",
              "    }\n",
              "\n",
              "    .colab-df-convert:hover {\n",
              "      background-color: #E2EBFA;\n",
              "      box-shadow: 0px 1px 2px rgba(60, 64, 67, 0.3), 0px 1px 3px 1px rgba(60, 64, 67, 0.15);\n",
              "      fill: #174EA6;\n",
              "    }\n",
              "\n",
              "    [theme=dark] .colab-df-convert {\n",
              "      background-color: #3B4455;\n",
              "      fill: #D2E3FC;\n",
              "    }\n",
              "\n",
              "    [theme=dark] .colab-df-convert:hover {\n",
              "      background-color: #434B5C;\n",
              "      box-shadow: 0px 1px 3px 1px rgba(0, 0, 0, 0.15);\n",
              "      filter: drop-shadow(0px 1px 2px rgba(0, 0, 0, 0.3));\n",
              "      fill: #FFFFFF;\n",
              "    }\n",
              "  </style>\n",
              "\n",
              "      <script>\n",
              "        const buttonEl =\n",
              "          document.querySelector('#df-058e47a1-31a9-4353-97fb-9968269864cb button.colab-df-convert');\n",
              "        buttonEl.style.display =\n",
              "          google.colab.kernel.accessAllowed ? 'block' : 'none';\n",
              "\n",
              "        async function convertToInteractive(key) {\n",
              "          const element = document.querySelector('#df-058e47a1-31a9-4353-97fb-9968269864cb');\n",
              "          const dataTable =\n",
              "            await google.colab.kernel.invokeFunction('convertToInteractive',\n",
              "                                                     [key], {});\n",
              "          if (!dataTable) return;\n",
              "\n",
              "          const docLinkHtml = 'Like what you see? Visit the ' +\n",
              "            '<a target=\"_blank\" href=https://colab.research.google.com/notebooks/data_table.ipynb>data table notebook</a>'\n",
              "            + ' to learn more about interactive tables.';\n",
              "          element.innerHTML = '';\n",
              "          dataTable['output_type'] = 'display_data';\n",
              "          await google.colab.output.renderOutput(dataTable, element);\n",
              "          const docLink = document.createElement('div');\n",
              "          docLink.innerHTML = docLinkHtml;\n",
              "          element.appendChild(docLink);\n",
              "        }\n",
              "      </script>\n",
              "    </div>\n",
              "  </div>\n",
              "  "
            ]
          },
          "metadata": {},
          "execution_count": 5
        }
      ],
      "source": [
        "data.head()"
      ]
    },
    {
      "cell_type": "markdown",
      "id": "bbfbd80a-ded7-41f7-8e5e-30f175950bc6",
      "metadata": {
        "id": "bbfbd80a-ded7-41f7-8e5e-30f175950bc6"
      },
      "source": [
        "### 1.1 Histogramm <a class=\"anchor\" id=\"einführung_hist\"></a>\n",
        "Ein Histogramm ist eine grafische Darstellung der Häufigkeitsverteilung kardinal skalierter Merkmale. Es erfordert die Einteilung der Daten in Klassen (englisch bins), die eine konstante oder variable Breite haben können. Es werden direkt nebeneinanderliegende Rechtecke von der Breite der jeweiligen Klasse gezeichnet, deren Flächeninhalte die (relativen oder absoluten) Klassenhäufigkeiten darstellen. Die Höhe jedes Rechtecks stellt dann die (relative oder absolute) Häufigkeitsdichte dar, also die (relative oder absolute) Häufigkeit dividiert durch die Breite der entsprechenden Klasse. (Quelle: Wikipedia)"
      ]
    },
    {
      "cell_type": "code",
      "execution_count": null,
      "id": "2fce6814-c635-4d53-b432-830d91858bf0",
      "metadata": {
        "id": "2fce6814-c635-4d53-b432-830d91858bf0",
        "outputId": "f8854495-836b-41d6-8592-fe732b1f9c61",
        "colab": {
          "base_uri": "https://localhost:8080/",
          "height": 267
        }
      },
      "outputs": [
        {
          "output_type": "display_data",
          "data": {
            "text/plain": [
              "<Figure size 432x288 with 1 Axes>"
            ],
            "image/png": "[encoded data removed]"
          },
          "metadata": {
            "needs_background": "light"
          }
        }
      ],
      "source": [
        "# Muster\n",
        "# 1. Schritt: Welche Daten sollen abgebildet werden --> Anzahl der Zuschauer --> [\"Attendance\"]\n",
        "# 2. Schritt: Wie soll abgebildet werden --> plot(kind=\"hist\")\n",
        "data[\"Attendance\"].plot(kind=\"hist\")\n",
        "plt.show()"
      ]
    },
    {
      "cell_type": "markdown",
      "id": "7ccf7487-2a04-4991-a9f1-cd2bd583ae94",
      "metadata": {
        "id": "7ccf7487-2a04-4991-a9f1-cd2bd583ae94"
      },
      "source": [
        "Mit dem Argument `bins` geben Sie an, in wie viele verschiedene Klassen die Daten eingeteilt werden. **Frage:** Was ist der Default-Wert für `bins`, d.h. wenn kein Argument beim Aufruf der Methode `.plot()` übergeben wird?"
      ]
    },
    {
      "cell_type": "code",
      "execution_count": null,
      "id": "12c42cb3-6a4b-4661-8871-fe2d2bc13857",
      "metadata": {
        "id": "12c42cb3-6a4b-4661-8871-fe2d2bc13857",
        "outputId": "e92e4418-36ab-47b5-de6f-8bb64746d010",
        "colab": {
          "base_uri": "https://localhost:8080/",
          "height": 265
        }
      },
      "outputs": [
        {
          "output_type": "display_data",
          "data": {
            "text/plain": [
              "<Figure size 432x288 with 1 Axes>"
            ],
            "image/png": "[encoded data removed]"
          },
          "metadata": {
            "needs_background": "light"
          }
        }
      ],
      "source": [
        "data[\"Attendance\"].plot(kind=\"hist\", bins=30)\n",
        "plt.show()"
      ]
    },
    {
      "cell_type": "markdown",
      "source": [
        "Über Argumente wie `color` oder `edgecolor` lässt sich die farbliche Darstellung einer Grafik steuern. Eine Übersicht zu den verfügbaren Grafiken finden Sie [hier](https://matplotlib.org/stable/gallery/color/named_colors.html)."
      ],
      "metadata": {
        "id": "L5PQpe3D9WmJ"
      },
      "id": "L5PQpe3D9WmJ"
    },
    {
      "cell_type": "code",
      "source": [
        "data[\"Attendance\"].plot(kind=\"hist\", \n",
        "                        bins=20,\n",
        "                        color=\"plum\",\n",
        "                        edgecolor='k',\n",
        "                        )\n",
        "plt.show()"
      ],
      "metadata": {
        "id": "7EiVULKM8ASV",
        "outputId": "7593cf48-d965-4b32-d447-a5bada328063",
        "colab": {
          "base_uri": "https://localhost:8080/",
          "height": 265
        }
      },
      "id": "7EiVULKM8ASV",
      "execution_count": null,
      "outputs": [
        {
          "output_type": "display_data",
          "data": {
            "text/plain": [
              "<Figure size 432x288 with 1 Axes>"
            ],
            "image/png": "[encoded data removed]"
          },
          "metadata": {
            "needs_background": "light"
          }
        }
      ]
    },
    {
      "cell_type": "markdown",
      "source": [
        "Ein Übersicht zu den Standardargumenten zur Übergabe an die Funktion `plot()` finden Sie in der Online-Dokumentation von `pandas` unter folgendem [Link](https://pandas.pydata.org/docs/reference/api/pandas.DataFrame.plot.html)."
      ],
      "metadata": {
        "id": "jtOneBENdkyq"
      },
      "id": "jtOneBENdkyq"
    },
    {
      "cell_type": "markdown",
      "source": [
        "Das folgende Beispiel zeigt, wie Sie mehrere Histogramm für einzelne Spalten gleichzeitig erstellen. Zunächst wählen Sie die relevanten Spalten des DataFrames `data` aus, d.h. `[[\"Half-time Home Goals\", \"Half-time Away Goals\"]]` und rufen im Anschluss direkt die Funktion zur Erstellung eines Histogramms auf `hist()`. Zu letzterer finden Sie die Dokumentation [hier](https://pandas.pydata.org/docs/reference/api/pandas.DataFrame.hist.html)."
      ],
      "metadata": {
        "id": "k4f5n1jWd6x5"
      },
      "id": "k4f5n1jWd6x5"
    },
    {
      "cell_type": "code",
      "source": [
        "data[[\"Half-time Home Goals\", \"Half-time Away Goals\"]].hist(bins=10, color=\"r\", edgecolor=\"k\")\n",
        "plt.show()"
      ],
      "metadata": {
        "id": "Lv0EbNfjc4N2",
        "outputId": "df25d5e2-2235-4f0c-b66c-f7ade7e3af29",
        "colab": {
          "base_uri": "https://localhost:8080/",
          "height": 281
        }
      },
      "id": "Lv0EbNfjc4N2",
      "execution_count": null,
      "outputs": [
        {
          "output_type": "display_data",
          "data": {
            "text/plain": [
              "<Figure size 432x288 with 2 Axes>"
            ],
            "image/png": "[encoded data removed]"
          },
          "metadata": {
            "needs_background": "light"
          }
        }
      ]
    },
    {
      "cell_type": "markdown",
      "id": "5e10e98f-4ecb-4a03-8c45-76b567c7cb24",
      "metadata": {
        "id": "5e10e98f-4ecb-4a03-8c45-76b567c7cb24"
      },
      "source": [
        "### 1.2 Säulendiagramm <a class=\"anchor\" id=\"einführung_bar\"></a>\n",
        "Das Säulendiagramm, bei schmalen Säulen auch Stabdiagramm genannt, ist ein Diagramm zur vergleichenden Darstellung, das durch auf der x-Achse senkrecht stehende, nicht aneinandergrenzende Säulen (Rechtecke mit bedeutungsloser Breite) die Häufigkeitsverteilung einer diskreten (Zufalls-)Variablen veranschaulicht. Das Säulendiagramm eignet sich besonders, um wenige Ausprägungen (bis ca. 15) zu veranschaulichen.(Quelle: Wikipedia)"
      ]
    },
    {
      "cell_type": "code",
      "execution_count": null,
      "id": "79a0082e-8f2c-4889-85a5-8bb41b2ae2b5",
      "metadata": {
        "id": "79a0082e-8f2c-4889-85a5-8bb41b2ae2b5",
        "outputId": "bde227ad-b9ea-40bc-c516-8756bf5bfcb7",
        "colab": {
          "base_uri": "https://localhost:8080/"
        }
      },
      "outputs": [
        {
          "output_type": "execute_result",
          "data": {
            "text/plain": [
              "Year\n",
              "1930.0    32808.277778\n",
              "1934.0    21352.941176\n",
              "1938.0    20872.222222\n",
              "1950.0    47511.181818\n",
              "1954.0    29561.807692\n",
              "1958.0    23423.142857\n",
              "1962.0    27911.625000\n",
              "1966.0    48847.968750\n",
              "1970.0    50124.218750\n",
              "1974.0    49098.763158\n",
              "1978.0    40678.710526\n",
              "1982.0    40571.596154\n",
              "1986.0    46039.057692\n",
              "1990.0    48388.750000\n",
              "1994.0    68991.115385\n",
              "1998.0    43517.187500\n",
              "2002.0    42268.703125\n",
              "2006.0    52491.234375\n",
              "2010.0    49669.625000\n",
              "2014.0    55374.910256\n",
              "Name: Attendance, dtype: float64"
            ]
          },
          "metadata": {},
          "execution_count": 18
        }
      ],
      "source": [
        "mean_attendance_by_year = data.groupby(\"Year\")[\"Attendance\"].mean()\n",
        "mean_attendance_by_year"
      ]
    },
    {
      "cell_type": "code",
      "execution_count": null,
      "id": "fc7eae65-5fb7-49a1-ab50-77b71c619953",
      "metadata": {
        "id": "fc7eae65-5fb7-49a1-ab50-77b71c619953",
        "outputId": "4ba3d4c9-4623-4d67-cb35-4bdf0bab871a",
        "colab": {
          "base_uri": "https://localhost:8080/",
          "height": 304
        }
      },
      "outputs": [
        {
          "output_type": "display_data",
          "data": {
            "text/plain": [
              "<Figure size 432x288 with 1 Axes>"
            ],
            "image/png": "[encoded data removed]"
          },
          "metadata": {
            "needs_background": "light"
          }
        }
      ],
      "source": [
        "mean_attendance_by_year.plot(kind=\"bar\", grid=True, color=\"plum\", edgecolor=\"r\")\n",
        "plt.show()"
      ]
    },
    {
      "cell_type": "code",
      "execution_count": null,
      "id": "8bc525c7-9c3d-4598-8a48-3a768bb7347a",
      "metadata": {
        "id": "8bc525c7-9c3d-4598-8a48-3a768bb7347a",
        "outputId": "a034481f-a09a-4af4-b31c-f8aa15d72fa6",
        "colab": {
          "base_uri": "https://localhost:8080/",
          "height": 320
        }
      },
      "outputs": [
        {
          "output_type": "display_data",
          "data": {
            "text/plain": [
              "<Figure size 432x288 with 1 Axes>"
            ],
            "image/png": "[encoded data removed]"
          },
          "metadata": {
            "needs_background": "light"
          }
        }
      ],
      "source": [
        "mean_attendance_by_year.plot(kind=\"bar\", \n",
        "                             title=\"Mittlere Anzahl von Zuschauern\",\n",
        "                             xlabel=\"Jahr\",\n",
        "                             ylabel=\"Mittlere Anzahl von Zuschauern\",\n",
        "                             grid=False\n",
        "                            )\n",
        "plt.show()"
      ]
    },
    {
      "cell_type": "markdown",
      "id": "2cd2fd58-3fbf-4ce3-b277-35a2e939589b",
      "metadata": {
        "id": "2cd2fd58-3fbf-4ce3-b277-35a2e939589b"
      },
      "source": [
        "### 1.3 Liniendiagramm <a class=\"anchor\" id=\"einführung_line\"></a>\n",
        "Ein Liniendiagramm, auch Kurvendiagramm, ist die graphische Darstellung des funktionellen Zusammenhangs zweier (bei zweidimensionaler Darstellung) oder dreier (bei dreidimensionaler Darstellung) Merkmale als Diagramm in Linienform, wodurch Veränderungen bzw. Entwicklungen (etwa innerhalb eines bestimmten Zeitabschnitts) dargestellt werden können. (Quelle: Wikipedia)"
      ]
    },
    {
      "cell_type": "markdown",
      "source": [
        "**Frage:** Wie ist das Ergebnis der nachfolgenden Code-Zelle zu verstehen?"
      ],
      "metadata": {
        "id": "Y-mmzEK32i5G"
      },
      "id": "Y-mmzEK32i5G"
    },
    {
      "cell_type": "code",
      "source": [
        "spiele = data.groupby(\"Year\").size()\n",
        "spiele"
      ],
      "metadata": {
        "id": "SSSkJzhV2wFf",
        "outputId": "a0b1d464-c985-457c-a61f-3cc78a86cde1",
        "colab": {
          "base_uri": "https://localhost:8080/"
        }
      },
      "id": "SSSkJzhV2wFf",
      "execution_count": null,
      "outputs": [
        {
          "output_type": "execute_result",
          "data": {
            "text/plain": [
              "Year\n",
              "1930.0    18\n",
              "1934.0    17\n",
              "1938.0    18\n",
              "1950.0    22\n",
              "1954.0    26\n",
              "1958.0    35\n",
              "1962.0    32\n",
              "1966.0    32\n",
              "1970.0    32\n",
              "1974.0    38\n",
              "1978.0    38\n",
              "1982.0    52\n",
              "1986.0    52\n",
              "1990.0    52\n",
              "1994.0    52\n",
              "1998.0    64\n",
              "2002.0    64\n",
              "2006.0    64\n",
              "2010.0    64\n",
              "2014.0    78\n",
              "dtype: int64"
            ]
          },
          "metadata": {},
          "execution_count": 27
        }
      ]
    },
    {
      "cell_type": "code",
      "execution_count": null,
      "id": "da16f94d-66f3-4cb5-bd8e-7112cf6ab752",
      "metadata": {
        "id": "da16f94d-66f3-4cb5-bd8e-7112cf6ab752",
        "outputId": "20d5385d-a477-48c2-ad16-fc1fbfc540ba",
        "colab": {
          "base_uri": "https://localhost:8080/",
          "height": 280
        }
      },
      "outputs": [
        {
          "output_type": "display_data",
          "data": {
            "text/plain": [
              "<Figure size 432x288 with 1 Axes>"
            ],
            "image/png": "[encoded data removed]"
          },
          "metadata": {
            "needs_background": "light"
          }
        }
      ],
      "source": [
        "spiele.plot(kind=\"line\",\n",
        "            xlabel=\"Jahr\",\n",
        "            ylabel=\"Spiele\"\n",
        "            )\n",
        "plt.show()"
      ]
    },
    {
      "cell_type": "markdown",
      "id": "c27559ea-8e1f-47b4-b2b2-381b00e9edec",
      "metadata": {
        "id": "c27559ea-8e1f-47b4-b2b2-381b00e9edec"
      },
      "source": [
        "Liniendiagramm mit Rotation der x-Achse um 45 Grad (`rot=45`) und Anzeige sämtlicher Jahre, in denen Weltmeisterschaften gespielt wurden. Für letzteres nutzen Sie den Parameter `xticks`. Dieser erwartet eine Liste, die alle auf der x-Achse anzuzeigenden Elemente enthält. Mit dem Aufruf `data.Year.unique()` erhalten wir genau eine Liste, die alle Jahre an denen Weltmeisterschaften gespielt wurde."
      ]
    },
    {
      "cell_type": "code",
      "source": [
        "data.Year.unique()"
      ],
      "metadata": {
        "id": "EQ5vFuePfqm8",
        "outputId": "bc9d12cd-2b58-4d56-f8ba-261fe4e08553",
        "colab": {
          "base_uri": "https://localhost:8080/"
        }
      },
      "id": "EQ5vFuePfqm8",
      "execution_count": null,
      "outputs": [
        {
          "output_type": "execute_result",
          "data": {
            "text/plain": [
              "array([1930., 1934., 1938., 1950., 1954., 1958., 1962., 1966., 1970.,\n",
              "       1974., 1978., 1982., 1986., 1990., 1994., 1998., 2002., 2006.,\n",
              "       2010., 2014.])"
            ]
          },
          "metadata": {},
          "execution_count": 35
        }
      ]
    },
    {
      "cell_type": "code",
      "execution_count": null,
      "id": "70541249-4edb-4c71-9c39-634b9c3c8bef",
      "metadata": {
        "id": "70541249-4edb-4c71-9c39-634b9c3c8bef",
        "outputId": "9c54e4b2-2862-46e3-d387-9386e82d93d5",
        "colab": {
          "base_uri": "https://localhost:8080/",
          "height": 295
        }
      },
      "outputs": [
        {
          "output_type": "display_data",
          "data": {
            "text/plain": [
              "<Figure size 432x288 with 1 Axes>"
            ],
            "image/png": "[encoded data removed]"
          },
          "metadata": {
            "needs_background": "light"
          }
        }
      ],
      "source": [
        "spiele.plot(kind=\"line\",\n",
        "            xlabel=\"Jahr\",\n",
        "            ylabel=\"Anzahl Spiele\",\n",
        "            rot=45,\n",
        "            xticks=data.Year.unique(),\n",
        "            legend=False,\n",
        "            )\n",
        "plt.show()"
      ]
    },
    {
      "cell_type": "markdown",
      "source": [
        "Weitere hilfreiche Argumente zur Steuerung der Darstellung finden Sie in der nachfolgenden Code-Zeile. Übersicht zu [Markern](https://matplotlib.org/stable/api/markers_api.html) und [Linestyles](\n",
        "https://matplotlib.org/stable/gallery/lines_bars_and_markers/linestyles.html)"
      ],
      "metadata": {
        "id": "8YZaSSJDBUME"
      },
      "id": "8YZaSSJDBUME"
    },
    {
      "cell_type": "code",
      "source": [
        "spiele.plot(kind=\"line\",\n",
        "            title=\"Mittlere Anzahl von Spielen einer WM von 1930 bis 2014\",\n",
        "            xlabel=\"Jahr\",\n",
        "            ylabel=\"Spiele\",\n",
        "            rot=50,\n",
        "            xticks=data.Year.unique(),\n",
        "            legend=False,\n",
        "            grid=False,\n",
        "            color=\"r\",\n",
        "            linestyle=\"solid\",\n",
        "            linewidth=0.5,\n",
        "            marker=\"*\"\n",
        "            )\n",
        "plt.show()"
      ],
      "metadata": {
        "id": "HLET3lQoAIaj",
        "outputId": "37445d30-53d2-4ead-a033-681e45f03bac",
        "colab": {
          "base_uri": "https://localhost:8080/",
          "height": 311
        }
      },
      "id": "HLET3lQoAIaj",
      "execution_count": null,
      "outputs": [
        {
          "output_type": "display_data",
          "data": {
            "text/plain": [
              "<Figure size 432x288 with 1 Axes>"
            ],
            "image/png": "[encoded data removed]"
          },
          "metadata": {
            "needs_background": "light"
          }
        }
      ]
    },
    {
      "cell_type": "markdown",
      "id": "d956b0ee-ae22-40c8-83e5-51cc9c8a0692",
      "metadata": {
        "id": "d956b0ee-ae22-40c8-83e5-51cc9c8a0692"
      },
      "source": [
        "## 2 Weitere nützliche Funktionalitäten <a class=\"anchor\" id=\"weitere_funktionen\"></a>\n",
        "\n"
      ]
    },
    {
      "cell_type": "code",
      "execution_count": null,
      "id": "6dc1ab95-c238-4999-a439-a4412195b923",
      "metadata": {
        "id": "6dc1ab95-c238-4999-a439-a4412195b923",
        "outputId": "f5247d04-7d58-4e54-9489-f12d39a88310",
        "colab": {
          "base_uri": "https://localhost:8080/",
          "height": 265
        }
      },
      "outputs": [
        {
          "output_type": "display_data",
          "data": {
            "text/plain": [
              "<Figure size 432x288 with 1 Axes>"
            ],
            "image/png": "[encoded data removed]"
          },
          "metadata": {
            "needs_background": "light"
          }
        }
      ],
      "source": [
        "# Mehrere Grafikelemente in einer Abbildung\n",
        "# 1. Grafikelemet\n",
        "data[data.Year==2014][\"Attendance\"].plot(kind=\"hist\")\n",
        "# 2. Grafikelement\n",
        "data[data.Year==2010][\"Attendance\"].plot(kind=\"hist\")\n",
        "\n",
        "plt.legend([\"Zuschauer 2014\",\"Zuschauer 2010\"])\n",
        "plt.show()"
      ]
    },
    {
      "cell_type": "code",
      "execution_count": null,
      "id": "f4cfdbfa-c577-4497-b20e-f5adc4292f4f",
      "metadata": {
        "id": "f4cfdbfa-c577-4497-b20e-f5adc4292f4f",
        "outputId": "268892df-2c08-4a35-d1cd-b706b92c9c9e",
        "colab": {
          "base_uri": "https://localhost:8080/",
          "height": 265
        }
      },
      "outputs": [
        {
          "output_type": "display_data",
          "data": {
            "text/plain": [
              "<Figure size 432x288 with 1 Axes>"
            ],
            "image/png": "[encoded data removed]"
          },
          "metadata": {
            "needs_background": "light"
          }
        }
      ],
      "source": [
        "# Transparenz\n",
        "data[data.Year==2014][\"Attendance\"].plot(kind=\"hist\", alpha=1, bins=20, edgecolor=\"k\")\n",
        "data[data.Year==2010][\"Attendance\"].plot(kind=\"hist\", alpha=1, bins=20, edgecolor=\"k\")\n",
        "plt.legend([\"Zuschauer 2014\",\"Zuschauer 2010\"])\n",
        "plt.show()"
      ]
    },
    {
      "cell_type": "code",
      "execution_count": null,
      "id": "b7ac1402-56f1-42ac-8360-edd108d654e7",
      "metadata": {
        "id": "b7ac1402-56f1-42ac-8360-edd108d654e7",
        "outputId": "ab4a4805-8a75-4a1b-908e-de2a5017ef4f",
        "colab": {
          "base_uri": "https://localhost:8080/",
          "height": 320
        }
      },
      "outputs": [
        {
          "output_type": "display_data",
          "data": {
            "text/plain": [
              "<Figure size 432x360 with 1 Axes>"
            ],
            "image/png": "[encoded data removed]"
          },
          "metadata": {
            "needs_background": "light"
          }
        }
      ],
      "source": [
        "# Veränderung der Diagrammgröße\n",
        "data[data.Year==2014][\"Attendance\"].plot(kind=\"hist\", \n",
        "                                         figsize=(6,5),\n",
        "                                         color=\"c\",\n",
        "                                         edgecolor=\"k\",\n",
        "                                         )\n",
        "plt.show()"
      ]
    },
    {
      "cell_type": "markdown",
      "id": "434c4391-ea4b-4b1d-ad78-1689c5211ba4",
      "metadata": {
        "id": "434c4391-ea4b-4b1d-ad78-1689c5211ba4"
      },
      "source": [
        "### Aufgabe: Visualisierungen - Verkaufszahlen Walmart <a class=\"anchor\" id=\"walmart\"></a>"
      ]
    },
    {
      "cell_type": "markdown",
      "id": "2df678b6-1213-454d-b6e6-7387b15d3132",
      "metadata": {
        "id": "2df678b6-1213-454d-b6e6-7387b15d3132"
      },
      "source": [
        "Sie erhalten einen Datensatz der Einzelhandelskette Walmart (Auszug aus diesem [Datensatz](https://www.kaggle.com/competitions/walmart-recruiting-store-sales-forecasting/data)). Dieser enthält Verkaufszahlen für jeden Laden (`store`) mit seinen verschiedenen Kategorien (`department`), z.B. Gemüse oder Tiefkühlware. Die wöchentlichen Verkaufszahlen (`weekly_sales`) sind in Dollar angegeben. Der jeweilige Freitag einer Woche ist über die Spalte `date` gekennzeichnet. Die Spalten `is_holiday`, `temperature_c`, `fuel_price_usd_per_l`und `unemployment` enthalten weitere Informationen, die für diese Woche aufgenommen wurden und vermutlich einen Einfluss auf die Verkaufszahlen haben. Wir laden zunächst wieder die Daten:"
      ]
    },
    {
      "cell_type": "code",
      "execution_count": null,
      "id": "6d69773b-1ef9-4acf-9aa9-7a29eba91e0f",
      "metadata": {
        "id": "6d69773b-1ef9-4acf-9aa9-7a29eba91e0f",
        "outputId": "7cab2e5a-c6cd-4b70-e82e-1bd458961488",
        "colab": {
          "base_uri": "https://localhost:8080/",
          "height": 204
        }
      },
      "outputs": [
        {
          "output_type": "execute_result",
          "data": {
            "text/plain": [
              "  store department       date  weekly_sales  is_holiday  temperature_c  \\\n",
              "0     1          1 2010-02-05      24924.50       False       5.727778   \n",
              "1     1          1 2010-03-05      21827.90       False       8.055556   \n",
              "2     1          1 2010-04-02      57258.43       False      16.816667   \n",
              "3     1          1 2010-05-07      17413.94       False      22.527778   \n",
              "4     1          1 2010-06-04      17558.09       False      27.050000   \n",
              "\n",
              "   fuel_price_usd_per_l  unemployment  \n",
              "0              0.679451         8.106  \n",
              "1              0.693452         8.106  \n",
              "2              0.718284         7.808  \n",
              "3              0.748928         7.808  \n",
              "4              0.714586         7.808  "
            ],
            "text/html": [
              "\n",
              "  <div id=\"df-ec32df33-3a4a-4683-9c0c-60ea4f56b1e3\">\n",
              "    <div class=\"colab-df-container\">\n",
              "      <div>\n",
              "<style scoped>\n",
              "    .dataframe tbody tr th:only-of-type {\n",
              "        vertical-align: middle;\n",
              "    }\n",
              "\n",
              "    .dataframe tbody tr th {\n",
              "        vertical-align: top;\n",
              "    }\n",
              "\n",
              "    .dataframe thead th {\n",
              "        text-align: right;\n",
              "    }\n",
              "</style>\n",
              "<table border=\"1\" class=\"dataframe\">\n",
              "  <thead>\n",
              "    <tr style=\"text-align: right;\">\n",
              "      <th></th>\n",
              "      <th>store</th>\n",
              "      <th>department</th>\n",
              "      <th>date</th>\n",
              "      <th>weekly_sales</th>\n",
              "      <th>is_holiday</th>\n",
              "      <th>temperature_c</th>\n",
              "      <th>fuel_price_usd_per_l</th>\n",
              "      <th>unemployment</th>\n",
              "    </tr>\n",
              "  </thead>\n",
              "  <tbody>\n",
              "    <tr>\n",
              "      <th>0</th>\n",
              "      <td>1</td>\n",
              "      <td>1</td>\n",
              "      <td>2010-02-05</td>\n",
              "      <td>24924.50</td>\n",
              "      <td>False</td>\n",
              "      <td>5.727778</td>\n",
              "      <td>0.679451</td>\n",
              "      <td>8.106</td>\n",
              "    </tr>\n",
              "    <tr>\n",
              "      <th>1</th>\n",
              "      <td>1</td>\n",
              "      <td>1</td>\n",
              "      <td>2010-03-05</td>\n",
              "      <td>21827.90</td>\n",
              "      <td>False</td>\n",
              "      <td>8.055556</td>\n",
              "      <td>0.693452</td>\n",
              "      <td>8.106</td>\n",
              "    </tr>\n",
              "    <tr>\n",
              "      <th>2</th>\n",
              "      <td>1</td>\n",
              "      <td>1</td>\n",
              "      <td>2010-04-02</td>\n",
              "      <td>57258.43</td>\n",
              "      <td>False</td>\n",
              "      <td>16.816667</td>\n",
              "      <td>0.718284</td>\n",
              "      <td>7.808</td>\n",
              "    </tr>\n",
              "    <tr>\n",
              "      <th>3</th>\n",
              "      <td>1</td>\n",
              "      <td>1</td>\n",
              "      <td>2010-05-07</td>\n",
              "      <td>17413.94</td>\n",
              "      <td>False</td>\n",
              "      <td>22.527778</td>\n",
              "      <td>0.748928</td>\n",
              "      <td>7.808</td>\n",
              "    </tr>\n",
              "    <tr>\n",
              "      <th>4</th>\n",
              "      <td>1</td>\n",
              "      <td>1</td>\n",
              "      <td>2010-06-04</td>\n",
              "      <td>17558.09</td>\n",
              "      <td>False</td>\n",
              "      <td>27.050000</td>\n",
              "      <td>0.714586</td>\n",
              "      <td>7.808</td>\n",
              "    </tr>\n",
              "  </tbody>\n",
              "</table>\n",
              "</div>\n",
              "      <button class=\"colab-df-convert\" onclick=\"convertToInteractive('df-ec32df33-3a4a-4683-9c0c-60ea4f56b1e3')\"\n",
              "              title=\"Convert this dataframe to an interactive table.\"\n",
              "              style=\"display:none;\">\n",
              "        \n",
              "  <svg xmlns=\"http://www.w3.org/2000/svg\" height=\"24px\"viewBox=\"0 0 24 24\"\n",
              "       width=\"24px\">\n",
              "    <path d=\"M0 0h24v24H0V0z\" fill=\"none\"/>\n",
              "    <path d=\"M18.56 5.44l.94 2.06.94-2.06 2.06-.94-2.06-.94-.94-2.06-.94 2.06-2.06.94zm-11 1L8.5 8.5l.94-2.06 2.06-.94-2.06-.94L8.5 2.5l-.94 2.06-2.06.94zm10 10l.94 2.06.94-2.06 2.06-.94-2.06-.94-.94-2.06-.94 2.06-2.06.94z\"/><path d=\"M17.41 7.96l-1.37-1.37c-.4-.4-.92-.59-1.43-.59-.52 0-1.04.2-1.43.59L10.3 9.45l-7.72 7.72c-.78.78-.78 2.05 0 2.83L4 21.41c.39.39.9.59 1.41.59.51 0 1.02-.2 1.41-.59l7.78-7.78 2.81-2.81c.8-.78.8-2.07 0-2.86zM5.41 20L4 18.59l7.72-7.72 1.47 1.35L5.41 20z\"/>\n",
              "  </svg>\n",
              "      </button>\n",
              "      \n",
              "  <style>\n",
              "    .colab-df-container {\n",
              "      display:flex;\n",
              "      flex-wrap:wrap;\n",
              "      gap: 12px;\n",
              "    }\n",
              "\n",
              "    .colab-df-convert {\n",
              "      background-color: #E8F0FE;\n",
              "      border: none;\n",
              "      border-radius: 50%;\n",
              "      cursor: pointer;\n",
              "      display: none;\n",
              "      fill: #1967D2;\n",
              "      height: 32px;\n",
              "      padding: 0 0 0 0;\n",
              "      width: 32px;\n",
              "    }\n",
              "\n",
              "    .colab-df-convert:hover {\n",
              "      background-color: #E2EBFA;\n",
              "      box-shadow: 0px 1px 2px rgba(60, 64, 67, 0.3), 0px 1px 3px 1px rgba(60, 64, 67, 0.15);\n",
              "      fill: #174EA6;\n",
              "    }\n",
              "\n",
              "    [theme=dark] .colab-df-convert {\n",
              "      background-color: #3B4455;\n",
              "      fill: #D2E3FC;\n",
              "    }\n",
              "\n",
              "    [theme=dark] .colab-df-convert:hover {\n",
              "      background-color: #434B5C;\n",
              "      box-shadow: 0px 1px 3px 1px rgba(0, 0, 0, 0.15);\n",
              "      filter: drop-shadow(0px 1px 2px rgba(0, 0, 0, 0.3));\n",
              "      fill: #FFFFFF;\n",
              "    }\n",
              "  </style>\n",
              "\n",
              "      <script>\n",
              "        const buttonEl =\n",
              "          document.querySelector('#df-ec32df33-3a4a-4683-9c0c-60ea4f56b1e3 button.colab-df-convert');\n",
              "        buttonEl.style.display =\n",
              "          google.colab.kernel.accessAllowed ? 'block' : 'none';\n",
              "\n",
              "        async function convertToInteractive(key) {\n",
              "          const element = document.querySelector('#df-ec32df33-3a4a-4683-9c0c-60ea4f56b1e3');\n",
              "          const dataTable =\n",
              "            await google.colab.kernel.invokeFunction('convertToInteractive',\n",
              "                                                     [key], {});\n",
              "          if (!dataTable) return;\n",
              "\n",
              "          const docLinkHtml = 'Like what you see? Visit the ' +\n",
              "            '<a target=\"_blank\" href=https://colab.research.google.com/notebooks/data_table.ipynb>data table notebook</a>'\n",
              "            + ' to learn more about interactive tables.';\n",
              "          element.innerHTML = '';\n",
              "          dataTable['output_type'] = 'display_data';\n",
              "          await google.colab.output.renderOutput(dataTable, element);\n",
              "          const docLink = document.createElement('div');\n",
              "          docLink.innerHTML = docLinkHtml;\n",
              "          element.appendChild(docLink);\n",
              "        }\n",
              "      </script>\n",
              "    </div>\n",
              "  </div>\n",
              "  "
            ]
          },
          "metadata": {},
          "execution_count": 56
        }
      ],
      "source": [
        "df = pd.read_csv(\"/content/drive/MyDrive/KI_LOG_mit_PYTHON/sales_data.txt\", index_col=0)\n",
        "# Löschen der Spalte \"type\". \"inplace=True\" ist gleichbedeutend mit \"df = df.drop(columns=[\"type\"])\"\n",
        "df.drop(columns=[\"type\"], inplace=True)\n",
        "# Transformation der Datentypen\n",
        "df = df.astype({\"store\":\"O\", \"department\":\"O\", \"date\":\"M\"})\n",
        "df.head()"
      ]
    },
    {
      "cell_type": "markdown",
      "id": "8a2d61cd-b5ba-413a-91ec-ce2b8a94cc92",
      "metadata": {
        "id": "8a2d61cd-b5ba-413a-91ec-ce2b8a94cc92"
      },
      "source": [
        "Bitte berarbeiten Sie nun die folgenden Aufgaben:\n",
        "1. Erstellen Sie ein Histogramm, welches die gesamten wöchentlichen Verkaufszahlen zeigt!\n",
        "1. In den Daten sehen Sie auch den Kraftstoffpreis (Dollar/l). Dieser wird individuell je Store und Woche berechnet und ergibt sich aus den Kraftstoffpreise naheliegender Tankstellen. Ermitteln Sie den durchschnittlichen wöchentlichen Kraftstoffpreis (Dollar/l) über alle Stores und tragen Sie diesen in einem Liniendiagramm ab (x-Achse: Wochen mit aufsteigender Sortierung, y-Achse: Kraftstoffpreis). Sie müssen dazu auf die Methode `groupby()` zurückgreifen. Schauen Sie sich bitte auch nochmals die Verwendung der `reset_index()` Methode an, die wir bei der Erstellung von [Liniendiagrammen](#einführung_line) benutzt haben.\n",
        "1. Vergleichen Sie die wöchentlichen Verkaufszahlen von Store 14 und 19 mit zwei Histogrammen. Passen Sie bitte die Größe des Diagramm für eine bessere Lesbarkeit an!\n",
        "1. Welcher Store hatte im Betrachtungszeitraum die besten Verkaufszahlen?\n",
        "1. Stellen Sie für diesen Store die durchschnittlichen Verkaufzahlen für die 10 umsatzstärksten Abteilungen (`department`) in einem Säulendiagramm dar!"
      ]
    },
    {
      "cell_type": "code",
      "source": [
        "# Aufgabe1\n",
        "df[\"weekly_sales\"].plot(\n",
        "    kind=\"hist\",\n",
        "    figsize=(8,6),\n",
        "    color=\"lightsalmon\",\n",
        "    edgecolor=\"green\",\n",
        "    title=\"Histogramm Weekly Sales\"\n",
        ")\n",
        "plt.show()"
      ],
      "metadata": {
        "id": "ppBSn1H0cKzh",
        "outputId": "fad54f6e-e040-4160-8a90-5ac5e38a3e29",
        "colab": {
          "base_uri": "https://localhost:8080/",
          "height": 390
        }
      },
      "id": "ppBSn1H0cKzh",
      "execution_count": null,
      "outputs": [
        {
          "output_type": "display_data",
          "data": {
            "text/plain": [
              "<Figure size 576x432 with 1 Axes>"
            ],
            "image/png": "[encoded data removed]"
          },
          "metadata": {
            "needs_background": "light"
          }
        }
      ]
    },
    {
      "cell_type": "code",
      "source": [
        "# Aufgabe2\n",
        "spritpreise = df.groupby(\"date\")[\"fuel_price_usd_per_l\"].mean()\n",
        "spritpreise.plot(\n",
        "            kind=\"line\",\n",
        "            title=\"durchschnittlicher Spritpreis pro Woche\",\n",
        "            xlabel=\"Wochen\",\n",
        "            ylabel=\"Spritpreis\",\n",
        "            rot=50,\n",
        "            legend=False,\n",
        "            grid=False,\n",
        "            color=\"r\",\n",
        "            linestyle=\"solid\",\n",
        "            linewidth=0.5,\n",
        "            marker=\"*\",\n",
        "            figsize=(10,8)\n",
        "            )\n",
        "plt.show()"
      ],
      "metadata": {
        "id": "UREROkFGnFBl",
        "outputId": "1bbdd58b-0c21-4c9e-8007-132beee0970e",
        "colab": {
          "base_uri": "https://localhost:8080/",
          "height": 498
        }
      },
      "id": "UREROkFGnFBl",
      "execution_count": null,
      "outputs": [
        {
          "output_type": "display_data",
          "data": {
            "text/plain": [
              "<Figure size 720x576 with 1 Axes>"
            ],
            "image/png": "[encoded data removed]"
          },
          "metadata": {
            "needs_background": "light"
          }
        }
      ]
    },
    {
      "cell_type": "code",
      "source": [
        "# Aufgabe3\n",
        "df[df.store==14][\"weekly_sales\"].plot(\n",
        "    kind=\"hist\", \n",
        "    figsize=(8,6),\n",
        "    alpha=0.5\n",
        "    )\n",
        "df[df.store==19][\"weekly_sales\"].plot(\n",
        "    kind=\"hist\",\n",
        "    figsize=(8,6),\n",
        "    alpha=0.5\n",
        "    )\n",
        "plt.legend([\"Store14\",\"Store19\"])\n",
        "plt.show()"
      ],
      "metadata": {
        "id": "mDNiq2tpoDtV",
        "outputId": "6b76546d-50df-4598-e89c-1b9a09ae40ae",
        "colab": {
          "base_uri": "https://localhost:8080/",
          "height": 374
        }
      },
      "id": "mDNiq2tpoDtV",
      "execution_count": null,
      "outputs": [
        {
          "output_type": "display_data",
          "data": {
            "text/plain": [
              "<Figure size 576x432 with 1 Axes>"
            ],
            "image/png": "[encoded data removed]"
          },
          "metadata": {
            "needs_background": "light"
          }
        }
      ]
    },
    {
      "cell_type": "code",
      "source": [
        "# Aufgabe4\n",
        "df.groupby(\"store\")[\"weekly_sales\"].sum().sort_values(ascending=False).head(1)"
      ],
      "metadata": {
        "id": "d2e73jLSqkzc",
        "outputId": "8e090220-b0db-43ef-ac5f-dec196fe9f96",
        "colab": {
          "base_uri": "https://localhost:8080/"
        }
      },
      "id": "d2e73jLSqkzc",
      "execution_count": null,
      "outputs": [
        {
          "output_type": "execute_result",
          "data": {
            "text/plain": [
              "store\n",
              "14    26889842.67\n",
              "Name: weekly_sales, dtype: float64"
            ]
          },
          "metadata": {},
          "execution_count": 73
        }
      ]
    },
    {
      "cell_type": "code",
      "source": [
        "# Aufgabe5\n",
        "top10 = df[df.store==14].groupby(\"department\")[\"weekly_sales\"].mean().sort_values(ascending=False).head(10)\n",
        "top10.plot(\n",
        "    kind=\"bar\", \n",
        "    figsize=(10,6)\n",
        "    )\n",
        "plt.show()"
      ],
      "metadata": {
        "id": "JHtsaeMfrRR_",
        "outputId": "7fc91f18-dd70-4eda-81d1-a3352d40a36c",
        "colab": {
          "base_uri": "https://localhost:8080/",
          "height": 391
        }
      },
      "id": "JHtsaeMfrRR_",
      "execution_count": null,
      "outputs": [
        {
          "output_type": "display_data",
          "data": {
            "text/plain": [
              "<Figure size 720x432 with 1 Axes>"
            ],
            "image/png": "[encoded data removed]"
          },
          "metadata": {
            "needs_background": "light"
          }
        }
      ]
    },
    {
      "cell_type": "code",
      "source": [
        ""
      ],
      "metadata": {
        "id": "kmIs9aPytJD1"
      },
      "id": "kmIs9aPytJD1",
      "execution_count": null,
      "outputs": []
    }
  ],
  "metadata": {
    "kernelspec": {
      "display_name": "Python 3 (ipykernel)",
      "language": "python",
      "name": "python3"
    },
    "language_info": {
      "codemirror_mode": {
        "name": "ipython",
        "version": 3
      },
      "file_extension": ".py",
      "mimetype": "text/x-python",
      "name": "python",
      "nbconvert_exporter": "python",
      "pygments_lexer": "ipython3",
      "version": "3.8.5"
    },
    "colab": {
      "name": "Lösung G1 Data_Visualization.ipynb",
      "provenance": [],
      "collapsed_sections": [],
      "toc_visible": true,
      "include_colab_link": true
    }
  },
  "nbformat": 4,
  "nbformat_minor": 5
}